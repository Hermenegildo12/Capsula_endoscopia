{
 "cells": [
  {
   "cell_type": "code",
   "execution_count": 294,
   "metadata": {},
   "outputs": [],
   "source": [
    "import pandas as pd\n",
    "import numpy as np\n",
    "import operator"
   ]
  },
  {
   "cell_type": "markdown",
   "metadata": {},
   "source": [
    "Importo la base de datos de los pacientes, recogida en SPSS y pasada posteriormente a documento csv. Para su analisis"
   ]
  },
  {
   "cell_type": "code",
   "execution_count": 295,
   "metadata": {},
   "outputs": [],
   "source": [
    "datos=pd.read_csv(\"Analisis_ano.csv\",sep=\";\")"
   ]
  },
  {
   "cell_type": "code",
   "execution_count": 296,
   "metadata": {},
   "outputs": [
    {
     "data": {
      "text/html": [
       "<div>\n",
       "<style scoped>\n",
       "    .dataframe tbody tr th:only-of-type {\n",
       "        vertical-align: middle;\n",
       "    }\n",
       "\n",
       "    .dataframe tbody tr th {\n",
       "        vertical-align: top;\n",
       "    }\n",
       "\n",
       "    .dataframe thead th {\n",
       "        text-align: right;\n",
       "    }\n",
       "</style>\n",
       "<table border=\"1\" class=\"dataframe\">\n",
       "  <thead>\n",
       "    <tr style=\"text-align: right;\">\n",
       "      <th></th>\n",
       "      <th>Médico</th>\n",
       "      <th>Tipo_cápsula</th>\n",
       "      <th>Fecha_procedimiento</th>\n",
       "      <th>ID</th>\n",
       "      <th>Sexo</th>\n",
       "      <th>Nacimiento</th>\n",
       "      <th>Edad</th>\n",
       "      <th>Cintura</th>\n",
       "      <th>IMC</th>\n",
       "      <th>Tiempo_estudio</th>\n",
       "      <th>...</th>\n",
       "      <th>Patency</th>\n",
       "      <th>No_aporta_previo</th>\n",
       "      <th>Eco_abdominal</th>\n",
       "      <th>Rx_abdomen</th>\n",
       "      <th>Entero_TAC</th>\n",
       "      <th>Entero_RM</th>\n",
       "      <th>Tránsito_intes</th>\n",
       "      <th>Endoscopia_previa</th>\n",
       "      <th>Intro_cápsula</th>\n",
       "      <th>Complicaciones</th>\n",
       "    </tr>\n",
       "  </thead>\n",
       "  <tbody>\n",
       "    <tr>\n",
       "      <th>0</th>\n",
       "      <td>1</td>\n",
       "      <td>1</td>\n",
       "      <td>5/14/2012</td>\n",
       "      <td>1</td>\n",
       "      <td>1</td>\n",
       "      <td>6/24/1925</td>\n",
       "      <td>86</td>\n",
       "      <td></td>\n",
       "      <td></td>\n",
       "      <td></td>\n",
       "      <td>...</td>\n",
       "      <td>0</td>\n",
       "      <td>1</td>\n",
       "      <td>0</td>\n",
       "      <td>0</td>\n",
       "      <td>0</td>\n",
       "      <td>0</td>\n",
       "      <td>0</td>\n",
       "      <td>0</td>\n",
       "      <td>0</td>\n",
       "      <td>0</td>\n",
       "    </tr>\n",
       "    <tr>\n",
       "      <th>1</th>\n",
       "      <td>1</td>\n",
       "      <td>1</td>\n",
       "      <td>9/5/2012</td>\n",
       "      <td>2</td>\n",
       "      <td>1</td>\n",
       "      <td>1/12/1953</td>\n",
       "      <td>59</td>\n",
       "      <td></td>\n",
       "      <td></td>\n",
       "      <td></td>\n",
       "      <td>...</td>\n",
       "      <td>0</td>\n",
       "      <td>1</td>\n",
       "      <td>0</td>\n",
       "      <td>0</td>\n",
       "      <td>0</td>\n",
       "      <td>0</td>\n",
       "      <td>0</td>\n",
       "      <td>0</td>\n",
       "      <td>0</td>\n",
       "      <td>0</td>\n",
       "    </tr>\n",
       "    <tr>\n",
       "      <th>2</th>\n",
       "      <td>1</td>\n",
       "      <td>1</td>\n",
       "      <td>10/17/2012</td>\n",
       "      <td>3</td>\n",
       "      <td>1</td>\n",
       "      <td>2/21/1951</td>\n",
       "      <td>61</td>\n",
       "      <td></td>\n",
       "      <td></td>\n",
       "      <td></td>\n",
       "      <td>...</td>\n",
       "      <td>0</td>\n",
       "      <td>1</td>\n",
       "      <td>0</td>\n",
       "      <td>0</td>\n",
       "      <td>0</td>\n",
       "      <td>0</td>\n",
       "      <td>0</td>\n",
       "      <td>0</td>\n",
       "      <td>0</td>\n",
       "      <td>0</td>\n",
       "    </tr>\n",
       "    <tr>\n",
       "      <th>3</th>\n",
       "      <td>1</td>\n",
       "      <td>1</td>\n",
       "      <td>12/14/2013</td>\n",
       "      <td>4</td>\n",
       "      <td>1</td>\n",
       "      <td>10/1/1950</td>\n",
       "      <td>63</td>\n",
       "      <td></td>\n",
       "      <td></td>\n",
       "      <td></td>\n",
       "      <td>...</td>\n",
       "      <td>0</td>\n",
       "      <td>1</td>\n",
       "      <td>0</td>\n",
       "      <td>0</td>\n",
       "      <td>0</td>\n",
       "      <td>0</td>\n",
       "      <td>0</td>\n",
       "      <td>0</td>\n",
       "      <td>0</td>\n",
       "      <td>0</td>\n",
       "    </tr>\n",
       "    <tr>\n",
       "      <th>4</th>\n",
       "      <td>1</td>\n",
       "      <td>1</td>\n",
       "      <td>10/25/2013</td>\n",
       "      <td>5</td>\n",
       "      <td>0</td>\n",
       "      <td>7/4/1935</td>\n",
       "      <td>78</td>\n",
       "      <td></td>\n",
       "      <td></td>\n",
       "      <td></td>\n",
       "      <td>...</td>\n",
       "      <td>0</td>\n",
       "      <td>1</td>\n",
       "      <td>0</td>\n",
       "      <td>0</td>\n",
       "      <td>0</td>\n",
       "      <td>0</td>\n",
       "      <td>0</td>\n",
       "      <td>2</td>\n",
       "      <td>0</td>\n",
       "      <td>0</td>\n",
       "    </tr>\n",
       "  </tbody>\n",
       "</table>\n",
       "<p>5 rows × 150 columns</p>\n",
       "</div>"
      ],
      "text/plain": [
       "   Médico  Tipo_cápsula Fecha_procedimiento  ID  Sexo Nacimiento Edad Cintura  \\\n",
       "0       1             1           5/14/2012   1     1  6/24/1925   86           \n",
       "1       1             1            9/5/2012   2     1  1/12/1953   59           \n",
       "2       1             1          10/17/2012   3     1  2/21/1951   61           \n",
       "3       1             1          12/14/2013   4     1  10/1/1950   63           \n",
       "4       1             1          10/25/2013   5     0   7/4/1935   78           \n",
       "\n",
       "  IMC Tiempo_estudio  ... Patency No_aporta_previo Eco_abdominal Rx_abdomen  \\\n",
       "0                     ...       0                1             0          0   \n",
       "1                     ...       0                1             0          0   \n",
       "2                     ...       0                1             0          0   \n",
       "3                     ...       0                1             0          0   \n",
       "4                     ...       0                1             0          0   \n",
       "\n",
       "  Entero_TAC  Entero_RM  Tránsito_intes  Endoscopia_previa  Intro_cápsula  \\\n",
       "0          0          0               0                  0              0   \n",
       "1          0          0               0                  0              0   \n",
       "2          0          0               0                  0              0   \n",
       "3          0          0               0                  0              0   \n",
       "4          0          0               0                  2              0   \n",
       "\n",
       "   Complicaciones  \n",
       "0               0  \n",
       "1               0  \n",
       "2               0  \n",
       "3               0  \n",
       "4               0  \n",
       "\n",
       "[5 rows x 150 columns]"
      ]
     },
     "execution_count": 296,
     "metadata": {},
     "output_type": "execute_result"
    }
   ],
   "source": [
    "datos.head()"
   ]
  },
  {
   "cell_type": "code",
   "execution_count": 297,
   "metadata": {},
   "outputs": [
    {
     "data": {
      "text/plain": [
       "(251, 150)"
      ]
     },
     "execution_count": 297,
     "metadata": {},
     "output_type": "execute_result"
    }
   ],
   "source": [
    "datos.shape"
   ]
  },
  {
   "cell_type": "code",
   "execution_count": 298,
   "metadata": {},
   "outputs": [
    {
     "data": {
      "text/plain": [
       "Médico                  int64\n",
       "Tipo_cápsula            int64\n",
       "Fecha_procedimiento    object\n",
       "ID                      int64\n",
       "Sexo                    int64\n",
       "                        ...  \n",
       "Entero_RM               int64\n",
       "Tránsito_intes          int64\n",
       "Endoscopia_previa      object\n",
       "Intro_cápsula           int64\n",
       "Complicaciones         object\n",
       "Length: 150, dtype: object"
      ]
     },
     "execution_count": 298,
     "metadata": {},
     "output_type": "execute_result"
    }
   ],
   "source": [
    "datos.dtypes[:]"
   ]
  },
  {
   "cell_type": "code",
   "execution_count": 299,
   "metadata": {},
   "outputs": [],
   "source": [
    "columnas=datos.columns"
   ]
  },
  {
   "cell_type": "code",
   "execution_count": 300,
   "metadata": {},
   "outputs": [
    {
     "name": "stdout",
     "output_type": "stream",
     "text": [
      "[]\n"
     ]
    }
   ],
   "source": [
    "incompletas=[]\n",
    "for e in columnas:\n",
    "    if datos[e].isnull().sum()>=1:\n",
    "        incompletas.append(e)\n",
    "print(incompletas)"
   ]
  },
  {
   "cell_type": "markdown",
   "metadata": {},
   "source": [
    "Como se ve no hay ninguna variable, con valores nulos en toda la base de datos"
   ]
  },
  {
   "cell_type": "code",
   "execution_count": 301,
   "metadata": {},
   "outputs": [
    {
     "data": {
      "text/plain": [
       "['Médico',\n",
       " 'Tipo_cápsula',\n",
       " 'Fecha_procedimiento',\n",
       " 'ID',\n",
       " 'Sexo',\n",
       " 'Nacimiento',\n",
       " 'Edad',\n",
       " 'Cintura',\n",
       " 'IMC',\n",
       " 'Tiempo_estudio',\n",
       " 'T_estómago',\n",
       " 'T_ID_total',\n",
       " 'T_colon_total',\n",
       " 'T_expulsión',\n",
       " 'Expulsa_cápsula',\n",
       " 'HDOO_oculta',\n",
       " 'HDOO_mani',\n",
       " 'Crohn',\n",
       " 'Alt_tránsito',\n",
       " 'Anemia',\n",
       " 'Dolor_abd',\n",
       " 'Estreñimiento',\n",
       " 'Diarrea',\n",
       " 'Vómitos',\n",
       " 'Pérdida_peso',\n",
       " 'EII',\n",
       " 'Colono_imcp',\n",
       " 'Cribado',\n",
       " 'Revisión',\n",
       " 'Otros_indica',\n",
       " 'Hernia_hiato_esof',\n",
       " 'RGE_esof',\n",
       " 'Trast_tránsito_esof',\n",
       " 'Erosiones_esof',\n",
       " 'Barret_esof',\n",
       " 'Esof_eosinofilica_esof',\n",
       " 'Estenosis_extr_esof',\n",
       " 'No_evaluable_esof',\n",
       " 'No_informado_esof',\n",
       " 'Normal_esof',\n",
       " 'Normal_estom',\n",
       " 'No_informado_estom',\n",
       " 'No_evaluable_estom',\n",
       " 'Hernia_hiato_estom',\n",
       " 'Trast_motilidad_estom',\n",
       " 'Erosiones_estom',\n",
       " 'Gastritis_estom',\n",
       " 'Pólipo_estom',\n",
       " 'Otros_estom',\n",
       " 'No_informado_del',\n",
       " 'No_evaluable_del',\n",
       " 'Normal_del',\n",
       " 'Hz_yeyuno',\n",
       " 'Yeyunitis',\n",
       " 'Erosiones_yey',\n",
       " 'Telangiectasias_yey',\n",
       " 'Linfagiectasias_yey',\n",
       " 'Pólipo_yey',\n",
       " 'Hz_íleon',\n",
       " 'Ileitis',\n",
       " 'Diverticulo_íleon',\n",
       " 'Erosiones_íleon',\n",
       " 'Pólipo_íleon',\n",
       " 'Erosiones_del',\n",
       " 'Diverticulo_del',\n",
       " 'Enteritis_del',\n",
       " 'Pólipo_del',\n",
       " 'Otros_del',\n",
       " 'No_informado_col',\n",
       " 'No_evaluable_col',\n",
       " 'Normal_col',\n",
       " 'Hemorroides',\n",
       " 'Diverticulo_col',\n",
       " 'Diverticulo_C_drch',\n",
       " 'Diverticulo_sig',\n",
       " 'Diverticulo_C_izq',\n",
       " 'Sigmoiditis',\n",
       " 'Proctitis',\n",
       " 'Erosiones_col',\n",
       " 'Angiodisplasia_col',\n",
       " 'Pólipo_col',\n",
       " 'Pólipo_C_drch',\n",
       " 'Pólipo_C_asce',\n",
       " 'Pólipo_C_trans',\n",
       " 'Pólipo_C_izq',\n",
       " 'Pólipo_C_desc',\n",
       " 'Pólipo_ciego',\n",
       " 'Pólipo_sig',\n",
       " 'Pólipo_recto',\n",
       " 'Dianocitos',\n",
       " 'Melanosis',\n",
       " 'Otras_col',\n",
       " 'Linea_Z',\n",
       " 'Ampolla_vater',\n",
       " 'Válvula_ileocecal',\n",
       " 'Orificio_apendicular',\n",
       " 'Flexura_hepática',\n",
       " 'Flexura_esplénica',\n",
       " 'Recto',\n",
       " 'Dieta',\n",
       " 'Limpieza_colon',\n",
       " 'Medicación_preparación',\n",
       " 'Refuerzo',\n",
       " 'Calidad_preparación',\n",
       " 'Burbujas',\n",
       " 'Modifica_tto',\n",
       " 'No_conocida_comor',\n",
       " 'No_presenta_comor',\n",
       " 'Oncologica',\n",
       " 'Enf_dig',\n",
       " 'Enf_dig_leve',\n",
       " 'Enf_CV',\n",
       " 'Enf_Rsp',\n",
       " 'Enf_endocrino',\n",
       " 'Enf_renal',\n",
       " 'Trast_psiq',\n",
       " 'Enf_neuro',\n",
       " 'QX_abdominal',\n",
       " 'Otras_QX',\n",
       " 'Enf_trauma',\n",
       " 'DM',\n",
       " 'Otras_comor',\n",
       " 'Obesidad',\n",
       " 'No_toma_med',\n",
       " 'No_conocido_med',\n",
       " 'Laxantes',\n",
       " 'Antidiabético',\n",
       " 'AINE',\n",
       " 'Antiagregante',\n",
       " 'Anticoagulante',\n",
       " 'Benzodiacepina',\n",
       " 'ARAII',\n",
       " 'IBP',\n",
       " 'Inmunosupresores',\n",
       " 'Diurético',\n",
       " 'Antiemético',\n",
       " 'Vitaminas',\n",
       " 'Antimicrobiano',\n",
       " 'Otros_med',\n",
       " 'Cirugía_previa',\n",
       " 'Patency',\n",
       " 'No_aporta_previo',\n",
       " 'Eco_abdominal',\n",
       " 'Rx_abdomen',\n",
       " 'Entero_TAC',\n",
       " 'Entero_RM',\n",
       " 'Tránsito_intes',\n",
       " 'Endoscopia_previa',\n",
       " 'Intro_cápsula',\n",
       " 'Complicaciones']"
      ]
     },
     "execution_count": 301,
     "metadata": {},
     "output_type": "execute_result"
    }
   ],
   "source": [
    "columnas=datos.columns\n",
    "columnas.tolist()"
   ]
  },
  {
   "cell_type": "code",
   "execution_count": 302,
   "metadata": {},
   "outputs": [],
   "source": [
    "#Borro la variable Dianoscitos porque sería un hallazgo compatible con la normalidad.\n",
    "datos.drop(columns=['Dianocitos'],axis=0, inplace=True)"
   ]
  },
  {
   "cell_type": "markdown",
   "metadata": {},
   "source": [
    "Uno en una única variable las hernias de hiato de esófago y estomago. Al ser el mismo diagnostico, simplemente puesto\n",
    "en esófago o estomago según el momento de la cápsula en el que se diagnosticaba. Quedando unificada en la variable \"Hernia_hiato_total\""
   ]
  },
  {
   "cell_type": "code",
   "execution_count": 303,
   "metadata": {},
   "outputs": [],
   "source": [
    "def hernia(fila):\n",
    "    a='Hernia_hiato_esof'\n",
    "    b='Hernia_hiato_estom'\n",
    "    if fila[a]==fila[b]:\n",
    "        return fila[a]\n",
    "    elif fila[a]<fila[b]:\n",
    "        return fila[b]\n",
    "    else:\n",
    "        return fila[a]"
   ]
  },
  {
   "cell_type": "code",
   "execution_count": 304,
   "metadata": {},
   "outputs": [],
   "source": [
    "datos[\"Hernia_hiato_total\"]=datos.apply(lambda fila: hernia(fila),axis=1)"
   ]
  },
  {
   "cell_type": "markdown",
   "metadata": {},
   "source": [
    "Compruebo que la reoorganización se ha realizado correctamente"
   ]
  },
  {
   "cell_type": "code",
   "execution_count": 305,
   "metadata": {},
   "outputs": [
    {
     "data": {
      "text/plain": [
       "(     Hernia_hiato_esof  Hernia_hiato_estom  Hernia_hiato_total\n",
       " 0                    0                   0                   0\n",
       " 150                  0                   0                   0\n",
       " 151                  0                   0                   0\n",
       " 152                  0                   0                   0\n",
       " 153                  0                   0                   0\n",
       " ..                 ...                 ...                 ...\n",
       " 84                   0                   1                   1\n",
       " 212                  0                   1                   1\n",
       " 210                  1                   0                   1\n",
       " 188                  0                   1                   1\n",
       " 125                  1                   0                   1\n",
       " \n",
       " [251 rows x 3 columns],)"
      ]
     },
     "execution_count": 305,
     "metadata": {},
     "output_type": "execute_result"
    }
   ],
   "source": [
    "comp=datos[['Hernia_hiato_esof','Hernia_hiato_estom',\"Hernia_hiato_total\"]].sort_values(by=\"Hernia_hiato_total\"),\n",
    "ascending=True\n",
    "comp"
   ]
  },
  {
   "cell_type": "markdown",
   "metadata": {},
   "source": [
    "Tras asegurarme, elimino las dos variables sobrantes"
   ]
  },
  {
   "cell_type": "code",
   "execution_count": 306,
   "metadata": {},
   "outputs": [],
   "source": [
    "datos.drop(columns=['Hernia_hiato_esof','Hernia_hiato_estom'],axis=0, inplace=True)"
   ]
  },
  {
   "cell_type": "code",
   "execution_count": null,
   "metadata": {},
   "outputs": [],
   "source": []
  },
  {
   "cell_type": "markdown",
   "metadata": {},
   "source": [
    "# 1) Porcentaje de pacientes que vinieron con síntomas de dolor abdominal y tuvieron hallazgos en la cápsula. Diferenciando entre el centro en el que fue realizada la prueba."
   ]
  },
  {
   "cell_type": "markdown",
   "metadata": {},
   "source": [
    "Para ello, agrupo primero todas las varibles que representan hallazgos en la cápsula endoscopica. Los agrupo en dos \n",
    "tipos:\n",
    "- Hallazgos que permiten tratamiento sin la necesidad de pruebas complementarias\n",
    "- Hallazgos que harían necesaria la realización de pruebas complementaris para el diagnostico completo."
   ]
  },
  {
   "cell_type": "code",
   "execution_count": 307,
   "metadata": {},
   "outputs": [],
   "source": [
    "hz_Tta=[\"Hernia_hiato_total\",\n",
    " 'RGE_esof',\n",
    " 'Erosiones_esof',\n",
    " 'Erosiones_estom',\n",
    " 'Pólipo_estom',\n",
    " 'Telangiectasias_yey',\n",
    " 'Linfagiectasias_yey',\n",
    " 'Pólipo_yey',\n",
    " 'Diverticulo_íleon',\n",
    "'Erosiones_del',\n",
    " 'Diverticulo_del',\n",
    " 'Enteritis_del',\n",
    " 'Pólipo_del',\n",
    " 'Otros_del',\n",
    " 'Hemorroides',\n",
    " 'Diverticulo_col',\n",
    " 'Diverticulo_C_drch',\n",
    " 'Diverticulo_sig',\n",
    " 'Diverticulo_C_izq',\n",
    " 'Sigmoiditis',\n",
    " 'Proctitis',\n",
    " 'Angiodisplasia_col',\n",
    " 'Pólipo_col',\n",
    " 'Pólipo_C_drch',\n",
    " 'Pólipo_C_asce',\n",
    " 'Pólipo_C_trans',\n",
    " 'Pólipo_C_izq',\n",
    " 'Pólipo_C_desc',\n",
    " 'Pólipo_ciego',\n",
    " 'Pólipo_sig',\n",
    " 'Pólipo_recto',\n",
    " 'Melanosis',\n",
    " 'Otras_col']"
   ]
  },
  {
   "cell_type": "code",
   "execution_count": 308,
   "metadata": {},
   "outputs": [],
   "source": [
    "hz_prueba=['Trast_tránsito_esof',  'Barret_esof',  'Esof_eosinofilica_esof',  'Estenosis_extr_esof',  \n",
    "           'Trast_motilidad_estom','Gastritis_estom',  'Yeyunitis',  'Erosiones_yey',  'Ileitis', \n",
    "           'Erosiones_íleon',  'Pólipo_íleon',  'Erosiones_col', 'Otros_estom',]"
   ]
  },
  {
   "cell_type": "markdown",
   "metadata": {},
   "source": [
    "En cuanto a las variables otros hallazgos de estómago, delgado y colon decido incluirlas en hz_Tta porque en su\n",
    "mayoria son de este tipo, aunque según resultados posteriores decidire si sacarlas, en base a posibles alteraciones \n",
    "en el analisis final."
   ]
  },
  {
   "cell_type": "code",
   "execution_count": 309,
   "metadata": {},
   "outputs": [],
   "source": [
    "cidma_dolor = datos[(datos['Médico']==0) & \n",
    "                (datos['Dolor_abd']==1)]"
   ]
  },
  {
   "cell_type": "code",
   "execution_count": 328,
   "metadata": {},
   "outputs": [
    {
     "data": {
      "text/plain": [
       "(53, 149)"
      ]
     },
     "execution_count": 328,
     "metadata": {},
     "output_type": "execute_result"
    }
   ],
   "source": [
    "cidma_dolor.shape #Número de pacientes con dolor abdominal del centro CIDMA"
   ]
  },
  {
   "cell_type": "code",
   "execution_count": 311,
   "metadata": {},
   "outputs": [
    {
     "data": {
      "text/plain": [
       "53"
      ]
     },
     "execution_count": 311,
     "metadata": {},
     "output_type": "execute_result"
    }
   ],
   "source": [
    "cidma_dolor[\"Hz_Tta\"] = cidma_dolor[hz_Tta].sum(axis=1)"
   ]
  },
  {
   "cell_type": "code",
   "execution_count": 332,
   "metadata": {},
   "outputs": [
    {
     "data": {
      "text/plain": [
       "39"
      ]
     },
     "execution_count": 332,
     "metadata": {},
     "output_type": "execute_result"
    }
   ],
   "source": [
    "len(cidma_dolor[cidma_dolor[\"Hz_Tta\"]>=1])#Número de pacientes con hallazgos para futuras terapías"
   ]
  },
  {
   "cell_type": "code",
   "execution_count": 329,
   "metadata": {},
   "outputs": [
    {
     "name": "stderr",
     "output_type": "stream",
     "text": [
      "/usr/local/Cellar/ipython/7.7.0/libexec/vendor/lib/python3.7/site-packages/ipykernel_launcher.py:1: SettingWithCopyWarning: \n",
      "A value is trying to be set on a copy of a slice from a DataFrame.\n",
      "Try using .loc[row_indexer,col_indexer] = value instead\n",
      "\n",
      "See the caveats in the documentation: http://pandas.pydata.org/pandas-docs/stable/user_guide/indexing.html#returning-a-view-versus-a-copy\n",
      "  \"\"\"Entry point for launching an IPython kernel.\n"
     ]
    }
   ],
   "source": [
    "cidma_dolor[\"Hz_Prueba\"] = cidma_dolor[hz_prueba].sum(axis=1) "
   ]
  },
  {
   "cell_type": "code",
   "execution_count": 330,
   "metadata": {},
   "outputs": [
    {
     "data": {
      "text/plain": [
       "33"
      ]
     },
     "execution_count": 330,
     "metadata": {},
     "output_type": "execute_result"
    }
   ],
   "source": [
    "len(cidma_dolor[cidma_dolor[\"Hz_Prueba\"]>=1]) #Número de pacientes con hallazgos para futuros estudios"
   ]
  },
  {
   "cell_type": "code",
   "execution_count": 340,
   "metadata": {},
   "outputs": [
    {
     "data": {
      "text/plain": [
       "6"
      ]
     },
     "execution_count": 340,
     "metadata": {},
     "output_type": "execute_result"
    }
   ],
   "source": [
    "pct_normal=cidma_dolor[(cidma_dolor[\"Hz_Tta\"]==0)&\n",
    "(cidma_dolor[\"Hz_Prueba\"]==0)]                     #Número de pacientes con hallazgos compatibles con la normalidad\n",
    "len(pct_normal)"
   ]
  },
  {
   "cell_type": "code",
   "execution_count": 341,
   "metadata": {},
   "outputs": [],
   "source": [
    "no_evaluable=['No_evaluable_esof','No_evaluable_estom','No_evaluable_del','No_evaluable_col']"
   ]
  },
  {
   "cell_type": "code",
   "execution_count": 365,
   "metadata": {},
   "outputs": [
    {
     "data": {
      "text/plain": [
       "11"
      ]
     },
     "execution_count": 365,
     "metadata": {},
     "output_type": "execute_result"
    }
   ],
   "source": [
    "no_eva=[]\n",
    "for e in no_evaluable:\n",
    "    no_eva=cidma_dolor[cidma_dolor[e].isin([1])]\n",
    "len(no_eva)"
   ]
  },
  {
   "cell_type": "code",
   "execution_count": 370,
   "metadata": {},
   "outputs": [
    {
     "name": "stdout",
     "output_type": "stream",
     "text": [
      "154\n"
     ]
    }
   ],
   "source": [
    "for e in no_eva.index:\n",
    "    for i in pct_normal.index:\n",
    "        if e==i:\n",
    "            print(e)"
   ]
  },
  {
   "cell_type": "code",
   "execution_count": 372,
   "metadata": {},
   "outputs": [
    {
     "data": {
      "text/plain": [
       "No_evaluable_esof     0\n",
       "No_evaluable_estom    0\n",
       "No_evaluable_del      0\n",
       "No_evaluable_col      1\n",
       "Name: 154, dtype: int64"
      ]
     },
     "execution_count": 372,
     "metadata": {},
     "output_type": "execute_result"
    }
   ],
   "source": [
    "no_eva[no_evaluable].loc[154]"
   ]
  },
  {
   "cell_type": "code",
   "execution_count": null,
   "metadata": {},
   "outputs": [],
   "source": []
  },
  {
   "cell_type": "code",
   "execution_count": null,
   "metadata": {},
   "outputs": [],
   "source": []
  },
  {
   "cell_type": "markdown",
   "metadata": {},
   "source": [
    "Ahora vere cuales son los pricipales hallazgos de dichos pacientes"
   ]
  },
  {
   "cell_type": "code",
   "execution_count": 178,
   "metadata": {},
   "outputs": [],
   "source": [
    "dic={}\n",
    "for e in hz_Tta:\n",
    "    b=cidma_dolor[e].value_counts()\n",
    "    dic[e]=b\n",
    "    "
   ]
  },
  {
   "cell_type": "code",
   "execution_count": null,
   "metadata": {},
   "outputs": [],
   "source": [
    "cidma_dolor[\"Hernia_hiato_total\"].value_counts()"
   ]
  },
  {
   "cell_type": "code",
   "execution_count": 205,
   "metadata": {},
   "outputs": [],
   "source": [
    "dic[\"Hernia_hiato_total\"]=pd.Series([29,14],index=[0,1])\n"
   ]
  },
  {
   "cell_type": "code",
   "execution_count": 225,
   "metadata": {},
   "outputs": [],
   "source": [
    "hz_Tta_frec={}\n",
    "for e in hz_Tta:\n",
    "    if len(dic[e])>1:\n",
    "        hz_Tta_frec[e]=dic[e][1]"
   ]
  },
  {
   "cell_type": "code",
   "execution_count": 230,
   "metadata": {},
   "outputs": [
    {
     "data": {
      "text/plain": [
       "[('Diverticulo_col', 16),\n",
       " ('Hernia_hiato_total', 14),\n",
       " ('Hemorroides', 14),\n",
       " ('RGE_esof', 9),\n",
       " ('Otras_col', 8),\n",
       " ('Diverticulo_C_izq', 7),\n",
       " ('Diverticulo_sig', 6),\n",
       " ('Erosiones_estom', 5),\n",
       " ('Pólipo_estom', 5),\n",
       " ('Pólipo_col', 5),\n",
       " ('Otros_del', 4),\n",
       " ('Diverticulo_C_drch', 4),\n",
       " ('Linfagiectasias_yey', 3),\n",
       " ('Erosiones_del', 3),\n",
       " ('Enteritis_del', 3),\n",
       " ('Melanosis', 3),\n",
       " ('Angiodisplasia_col', 2),\n",
       " ('Erosiones_esof', 1),\n",
       " ('Diverticulo_íleon', 1),\n",
       " ('Pólipo_C_drch', 1),\n",
       " ('Pólipo_C_izq', 1),\n",
       " ('Pólipo_ciego', 1),\n",
       " ('Pólipo_sig', 1),\n",
       " ('Pólipo_recto', 1)]"
      ]
     },
     "execution_count": 230,
     "metadata": {},
     "output_type": "execute_result"
    }
   ],
   "source": [
    "sorted(hz_Tta_frec.items(), key=operator.itemgetter(1),reverse=True)"
   ]
  },
  {
   "cell_type": "code",
   "execution_count": null,
   "metadata": {},
   "outputs": [],
   "source": []
  },
  {
   "cell_type": "code",
   "execution_count": 110,
   "metadata": {},
   "outputs": [],
   "source": [
    "uruguay_dolor = datos[(datos['Médico']==1) & \n",
    "                (datos['Dolor_abd']==1)]"
   ]
  },
  {
   "cell_type": "code",
   "execution_count": 111,
   "metadata": {},
   "outputs": [
    {
     "data": {
      "text/plain": [
       "8"
      ]
     },
     "execution_count": 111,
     "metadata": {},
     "output_type": "execute_result"
    }
   ],
   "source": [
    "len(uruguay_dolor[\"Médico\"]) #Número de pacientes con dolor abdominal en el hospital Italiano"
   ]
  },
  {
   "cell_type": "code",
   "execution_count": 112,
   "metadata": {},
   "outputs": [
    {
     "data": {
      "text/plain": [
       "Int64Index([45, 65, 66, 99, 152, 164, 173, 250], dtype='int64')"
      ]
     },
     "execution_count": 112,
     "metadata": {},
     "output_type": "execute_result"
    }
   ],
   "source": [
    "uruguay_dolor[uruguay_dolor[hz_Tta]==1].index"
   ]
  },
  {
   "cell_type": "code",
   "execution_count": 113,
   "metadata": {},
   "outputs": [
    {
     "data": {
      "text/plain": [
       "Int64Index([45, 65, 66, 99, 152, 164, 173, 250], dtype='int64')"
      ]
     },
     "execution_count": 113,
     "metadata": {},
     "output_type": "execute_result"
    }
   ],
   "source": [
    "uruguay_dolor[uruguay_dolor[hz_prueba]==1].index"
   ]
  },
  {
   "cell_type": "code",
   "execution_count": 114,
   "metadata": {},
   "outputs": [
    {
     "data": {
      "text/html": [
       "<div>\n",
       "<style scoped>\n",
       "    .dataframe tbody tr th:only-of-type {\n",
       "        vertical-align: middle;\n",
       "    }\n",
       "\n",
       "    .dataframe tbody tr th {\n",
       "        vertical-align: top;\n",
       "    }\n",
       "\n",
       "    .dataframe thead th {\n",
       "        text-align: right;\n",
       "    }\n",
       "</style>\n",
       "<table border=\"1\" class=\"dataframe\">\n",
       "  <thead>\n",
       "    <tr style=\"text-align: right;\">\n",
       "      <th></th>\n",
       "      <th>Pacientes</th>\n",
       "      <th>Normal</th>\n",
       "      <th>Hz Pruebas</th>\n",
       "      <th>Hz Tratamiento</th>\n",
       "    </tr>\n",
       "  </thead>\n",
       "  <tbody>\n",
       "    <tr>\n",
       "      <th>Cidma</th>\n",
       "      <td>53</td>\n",
       "      <td>0</td>\n",
       "      <td>53</td>\n",
       "      <td>53</td>\n",
       "    </tr>\n",
       "    <tr>\n",
       "      <th>Uruguay</th>\n",
       "      <td>8</td>\n",
       "      <td>0</td>\n",
       "      <td>8</td>\n",
       "      <td>8</td>\n",
       "    </tr>\n",
       "  </tbody>\n",
       "</table>\n",
       "</div>"
      ],
      "text/plain": [
       "         Pacientes  Normal  Hz Pruebas  Hz Tratamiento\n",
       "Cidma           53       0          53              53\n",
       "Uruguay          8       0           8               8"
      ]
     },
     "execution_count": 114,
     "metadata": {},
     "output_type": "execute_result"
    }
   ],
   "source": [
    "pregunta_1=pd.DataFrame({\"Pacientes\":[53,8],\"Normal\":[6,0],\n",
    "                       \"Hz Pruebas\":[33,],\"Hz Tratamiento\":[39,],\"No evaluable\":[11,]},index=[\"Cidma\",\"Uruguay\"])\n",
    "pregunta_1"
   ]
  },
  {
   "cell_type": "code",
   "execution_count": null,
   "metadata": {},
   "outputs": [],
   "source": []
  },
  {
   "cell_type": "code",
   "execution_count": null,
   "metadata": {},
   "outputs": [],
   "source": []
  },
  {
   "cell_type": "code",
   "execution_count": null,
   "metadata": {},
   "outputs": [],
   "source": []
  }
 ],
 "metadata": {
  "kernelspec": {
   "display_name": "Python 3",
   "language": "python",
   "name": "python3"
  },
  "language_info": {
   "codemirror_mode": {
    "name": "ipython",
    "version": 3
   },
   "file_extension": ".py",
   "mimetype": "text/x-python",
   "name": "python",
   "nbconvert_exporter": "python",
   "pygments_lexer": "ipython3",
   "version": "3.7.4"
  }
 },
 "nbformat": 4,
 "nbformat_minor": 2
}
