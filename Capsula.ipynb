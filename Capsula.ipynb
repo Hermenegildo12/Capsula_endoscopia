{
 "cells": [
  {
   "cell_type": "code",
   "execution_count": 243,
   "metadata": {},
   "outputs": [
    {
     "data": {
      "text/html": [
       "\n",
       "    <div class=\"bk-root\">\n",
       "        <a href=\"https://bokeh.pydata.org\" target=\"_blank\" class=\"bk-logo bk-logo-small bk-logo-notebook\"></a>\n",
       "        <span id=\"1001\">Loading BokehJS ...</span>\n",
       "    </div>"
      ]
     },
     "metadata": {},
     "output_type": "display_data"
    },
    {
     "data": {
      "application/javascript": [
       "\n",
       "(function(root) {\n",
       "  function now() {\n",
       "    return new Date();\n",
       "  }\n",
       "\n",
       "  var force = true;\n",
       "\n",
       "  if (typeof root._bokeh_onload_callbacks === \"undefined\" || force === true) {\n",
       "    root._bokeh_onload_callbacks = [];\n",
       "    root._bokeh_is_loading = undefined;\n",
       "  }\n",
       "\n",
       "  var JS_MIME_TYPE = 'application/javascript';\n",
       "  var HTML_MIME_TYPE = 'text/html';\n",
       "  var EXEC_MIME_TYPE = 'application/vnd.bokehjs_exec.v0+json';\n",
       "  var CLASS_NAME = 'output_bokeh rendered_html';\n",
       "\n",
       "  /**\n",
       "   * Render data to the DOM node\n",
       "   */\n",
       "  function render(props, node) {\n",
       "    var script = document.createElement(\"script\");\n",
       "    node.appendChild(script);\n",
       "  }\n",
       "\n",
       "  /**\n",
       "   * Handle when an output is cleared or removed\n",
       "   */\n",
       "  function handleClearOutput(event, handle) {\n",
       "    var cell = handle.cell;\n",
       "\n",
       "    var id = cell.output_area._bokeh_element_id;\n",
       "    var server_id = cell.output_area._bokeh_server_id;\n",
       "    // Clean up Bokeh references\n",
       "    if (id != null && id in Bokeh.index) {\n",
       "      Bokeh.index[id].model.document.clear();\n",
       "      delete Bokeh.index[id];\n",
       "    }\n",
       "\n",
       "    if (server_id !== undefined) {\n",
       "      // Clean up Bokeh references\n",
       "      var cmd = \"from bokeh.io.state import curstate; print(curstate().uuid_to_server['\" + server_id + \"'].get_sessions()[0].document.roots[0]._id)\";\n",
       "      cell.notebook.kernel.execute(cmd, {\n",
       "        iopub: {\n",
       "          output: function(msg) {\n",
       "            var id = msg.content.text.trim();\n",
       "            if (id in Bokeh.index) {\n",
       "              Bokeh.index[id].model.document.clear();\n",
       "              delete Bokeh.index[id];\n",
       "            }\n",
       "          }\n",
       "        }\n",
       "      });\n",
       "      // Destroy server and session\n",
       "      var cmd = \"import bokeh.io.notebook as ion; ion.destroy_server('\" + server_id + \"')\";\n",
       "      cell.notebook.kernel.execute(cmd);\n",
       "    }\n",
       "  }\n",
       "\n",
       "  /**\n",
       "   * Handle when a new output is added\n",
       "   */\n",
       "  function handleAddOutput(event, handle) {\n",
       "    var output_area = handle.output_area;\n",
       "    var output = handle.output;\n",
       "\n",
       "    // limit handleAddOutput to display_data with EXEC_MIME_TYPE content only\n",
       "    if ((output.output_type != \"display_data\") || (!output.data.hasOwnProperty(EXEC_MIME_TYPE))) {\n",
       "      return\n",
       "    }\n",
       "\n",
       "    var toinsert = output_area.element.find(\".\" + CLASS_NAME.split(' ')[0]);\n",
       "\n",
       "    if (output.metadata[EXEC_MIME_TYPE][\"id\"] !== undefined) {\n",
       "      toinsert[toinsert.length - 1].firstChild.textContent = output.data[JS_MIME_TYPE];\n",
       "      // store reference to embed id on output_area\n",
       "      output_area._bokeh_element_id = output.metadata[EXEC_MIME_TYPE][\"id\"];\n",
       "    }\n",
       "    if (output.metadata[EXEC_MIME_TYPE][\"server_id\"] !== undefined) {\n",
       "      var bk_div = document.createElement(\"div\");\n",
       "      bk_div.innerHTML = output.data[HTML_MIME_TYPE];\n",
       "      var script_attrs = bk_div.children[0].attributes;\n",
       "      for (var i = 0; i < script_attrs.length; i++) {\n",
       "        toinsert[toinsert.length - 1].firstChild.setAttribute(script_attrs[i].name, script_attrs[i].value);\n",
       "      }\n",
       "      // store reference to server id on output_area\n",
       "      output_area._bokeh_server_id = output.metadata[EXEC_MIME_TYPE][\"server_id\"];\n",
       "    }\n",
       "  }\n",
       "\n",
       "  function register_renderer(events, OutputArea) {\n",
       "\n",
       "    function append_mime(data, metadata, element) {\n",
       "      // create a DOM node to render to\n",
       "      var toinsert = this.create_output_subarea(\n",
       "        metadata,\n",
       "        CLASS_NAME,\n",
       "        EXEC_MIME_TYPE\n",
       "      );\n",
       "      this.keyboard_manager.register_events(toinsert);\n",
       "      // Render to node\n",
       "      var props = {data: data, metadata: metadata[EXEC_MIME_TYPE]};\n",
       "      render(props, toinsert[toinsert.length - 1]);\n",
       "      element.append(toinsert);\n",
       "      return toinsert\n",
       "    }\n",
       "\n",
       "    /* Handle when an output is cleared or removed */\n",
       "    events.on('clear_output.CodeCell', handleClearOutput);\n",
       "    events.on('delete.Cell', handleClearOutput);\n",
       "\n",
       "    /* Handle when a new output is added */\n",
       "    events.on('output_added.OutputArea', handleAddOutput);\n",
       "\n",
       "    /**\n",
       "     * Register the mime type and append_mime function with output_area\n",
       "     */\n",
       "    OutputArea.prototype.register_mime_type(EXEC_MIME_TYPE, append_mime, {\n",
       "      /* Is output safe? */\n",
       "      safe: true,\n",
       "      /* Index of renderer in `output_area.display_order` */\n",
       "      index: 0\n",
       "    });\n",
       "  }\n",
       "\n",
       "  // register the mime type if in Jupyter Notebook environment and previously unregistered\n",
       "  if (root.Jupyter !== undefined) {\n",
       "    var events = require('base/js/events');\n",
       "    var OutputArea = require('notebook/js/outputarea').OutputArea;\n",
       "\n",
       "    if (OutputArea.prototype.mime_types().indexOf(EXEC_MIME_TYPE) == -1) {\n",
       "      register_renderer(events, OutputArea);\n",
       "    }\n",
       "  }\n",
       "\n",
       "  \n",
       "  if (typeof (root._bokeh_timeout) === \"undefined\" || force === true) {\n",
       "    root._bokeh_timeout = Date.now() + 5000;\n",
       "    root._bokeh_failed_load = false;\n",
       "  }\n",
       "\n",
       "  var NB_LOAD_WARNING = {'data': {'text/html':\n",
       "     \"<div style='background-color: #fdd'>\\n\"+\n",
       "     \"<p>\\n\"+\n",
       "     \"BokehJS does not appear to have successfully loaded. If loading BokehJS from CDN, this \\n\"+\n",
       "     \"may be due to a slow or bad network connection. Possible fixes:\\n\"+\n",
       "     \"</p>\\n\"+\n",
       "     \"<ul>\\n\"+\n",
       "     \"<li>re-rerun `output_notebook()` to attempt to load from CDN again, or</li>\\n\"+\n",
       "     \"<li>use INLINE resources instead, as so:</li>\\n\"+\n",
       "     \"</ul>\\n\"+\n",
       "     \"<code>\\n\"+\n",
       "     \"from bokeh.resources import INLINE\\n\"+\n",
       "     \"output_notebook(resources=INLINE)\\n\"+\n",
       "     \"</code>\\n\"+\n",
       "     \"</div>\"}};\n",
       "\n",
       "  function display_loaded() {\n",
       "    var el = document.getElementById(\"1001\");\n",
       "    if (el != null) {\n",
       "      el.textContent = \"BokehJS is loading...\";\n",
       "    }\n",
       "    if (root.Bokeh !== undefined) {\n",
       "      if (el != null) {\n",
       "        el.textContent = \"BokehJS \" + root.Bokeh.version + \" successfully loaded.\";\n",
       "      }\n",
       "    } else if (Date.now() < root._bokeh_timeout) {\n",
       "      setTimeout(display_loaded, 100)\n",
       "    }\n",
       "  }\n",
       "\n",
       "\n",
       "  function run_callbacks() {\n",
       "    try {\n",
       "      root._bokeh_onload_callbacks.forEach(function(callback) {\n",
       "        if (callback != null)\n",
       "          callback();\n",
       "      });\n",
       "    } finally {\n",
       "      delete root._bokeh_onload_callbacks\n",
       "    }\n",
       "    console.debug(\"Bokeh: all callbacks have finished\");\n",
       "  }\n",
       "\n",
       "  function load_libs(css_urls, js_urls, callback) {\n",
       "    if (css_urls == null) css_urls = [];\n",
       "    if (js_urls == null) js_urls = [];\n",
       "\n",
       "    root._bokeh_onload_callbacks.push(callback);\n",
       "    if (root._bokeh_is_loading > 0) {\n",
       "      console.debug(\"Bokeh: BokehJS is being loaded, scheduling callback at\", now());\n",
       "      return null;\n",
       "    }\n",
       "    if (js_urls == null || js_urls.length === 0) {\n",
       "      run_callbacks();\n",
       "      return null;\n",
       "    }\n",
       "    console.debug(\"Bokeh: BokehJS not loaded, scheduling load and callback at\", now());\n",
       "    root._bokeh_is_loading = css_urls.length + js_urls.length;\n",
       "\n",
       "    function on_load() {\n",
       "      root._bokeh_is_loading--;\n",
       "      if (root._bokeh_is_loading === 0) {\n",
       "        console.debug(\"Bokeh: all BokehJS libraries/stylesheets loaded\");\n",
       "        run_callbacks()\n",
       "      }\n",
       "    }\n",
       "\n",
       "    function on_error() {\n",
       "      console.error(\"failed to load \" + url);\n",
       "    }\n",
       "\n",
       "    for (var i = 0; i < css_urls.length; i++) {\n",
       "      var url = css_urls[i];\n",
       "      const element = document.createElement(\"link\");\n",
       "      element.onload = on_load;\n",
       "      element.onerror = on_error;\n",
       "      element.rel = \"stylesheet\";\n",
       "      element.type = \"text/css\";\n",
       "      element.href = url;\n",
       "      console.debug(\"Bokeh: injecting link tag for BokehJS stylesheet: \", url);\n",
       "      document.body.appendChild(element);\n",
       "    }\n",
       "\n",
       "    for (var i = 0; i < js_urls.length; i++) {\n",
       "      var url = js_urls[i];\n",
       "      var element = document.createElement('script');\n",
       "      element.onload = on_load;\n",
       "      element.onerror = on_error;\n",
       "      element.async = false;\n",
       "      element.src = url;\n",
       "      console.debug(\"Bokeh: injecting script tag for BokehJS library: \", url);\n",
       "      document.head.appendChild(element);\n",
       "    }\n",
       "  };var element = document.getElementById(\"1001\");\n",
       "  if (element == null) {\n",
       "    console.error(\"Bokeh: ERROR: autoload.js configured with elementid '1001' but no matching script tag was found. \")\n",
       "    return false;\n",
       "  }\n",
       "\n",
       "  function inject_raw_css(css) {\n",
       "    const element = document.createElement(\"style\");\n",
       "    element.appendChild(document.createTextNode(css));\n",
       "    document.body.appendChild(element);\n",
       "  }\n",
       "\n",
       "  var js_urls = [\"https://cdn.pydata.org/bokeh/release/bokeh-1.3.4.min.js\", \"https://cdn.pydata.org/bokeh/release/bokeh-widgets-1.3.4.min.js\", \"https://cdn.pydata.org/bokeh/release/bokeh-tables-1.3.4.min.js\", \"https://cdn.pydata.org/bokeh/release/bokeh-gl-1.3.4.min.js\"];\n",
       "  var css_urls = [];\n",
       "\n",
       "  var inline_js = [\n",
       "    function(Bokeh) {\n",
       "      Bokeh.set_log_level(\"info\");\n",
       "    },\n",
       "    \n",
       "    function(Bokeh) {\n",
       "      \n",
       "    },\n",
       "    function(Bokeh) {} // ensure no trailing comma for IE\n",
       "  ];\n",
       "\n",
       "  function run_inline_js() {\n",
       "    \n",
       "    if ((root.Bokeh !== undefined) || (force === true)) {\n",
       "      for (var i = 0; i < inline_js.length; i++) {\n",
       "        inline_js[i].call(root, root.Bokeh);\n",
       "      }if (force === true) {\n",
       "        display_loaded();\n",
       "      }} else if (Date.now() < root._bokeh_timeout) {\n",
       "      setTimeout(run_inline_js, 100);\n",
       "    } else if (!root._bokeh_failed_load) {\n",
       "      console.log(\"Bokeh: BokehJS failed to load within specified timeout.\");\n",
       "      root._bokeh_failed_load = true;\n",
       "    } else if (force !== true) {\n",
       "      var cell = $(document.getElementById(\"1001\")).parents('.cell').data().cell;\n",
       "      cell.output_area.append_execute_result(NB_LOAD_WARNING)\n",
       "    }\n",
       "\n",
       "  }\n",
       "\n",
       "  if (root._bokeh_is_loading === 0) {\n",
       "    console.debug(\"Bokeh: BokehJS loaded, going straight to plotting\");\n",
       "    run_inline_js();\n",
       "  } else {\n",
       "    load_libs(css_urls, js_urls, function() {\n",
       "      console.debug(\"Bokeh: BokehJS plotting callback run at\", now());\n",
       "      run_inline_js();\n",
       "    });\n",
       "  }\n",
       "}(window));"
      ],
      "application/vnd.bokehjs_load.v0+json": "\n(function(root) {\n  function now() {\n    return new Date();\n  }\n\n  var force = true;\n\n  if (typeof root._bokeh_onload_callbacks === \"undefined\" || force === true) {\n    root._bokeh_onload_callbacks = [];\n    root._bokeh_is_loading = undefined;\n  }\n\n  \n\n  \n  if (typeof (root._bokeh_timeout) === \"undefined\" || force === true) {\n    root._bokeh_timeout = Date.now() + 5000;\n    root._bokeh_failed_load = false;\n  }\n\n  var NB_LOAD_WARNING = {'data': {'text/html':\n     \"<div style='background-color: #fdd'>\\n\"+\n     \"<p>\\n\"+\n     \"BokehJS does not appear to have successfully loaded. If loading BokehJS from CDN, this \\n\"+\n     \"may be due to a slow or bad network connection. Possible fixes:\\n\"+\n     \"</p>\\n\"+\n     \"<ul>\\n\"+\n     \"<li>re-rerun `output_notebook()` to attempt to load from CDN again, or</li>\\n\"+\n     \"<li>use INLINE resources instead, as so:</li>\\n\"+\n     \"</ul>\\n\"+\n     \"<code>\\n\"+\n     \"from bokeh.resources import INLINE\\n\"+\n     \"output_notebook(resources=INLINE)\\n\"+\n     \"</code>\\n\"+\n     \"</div>\"}};\n\n  function display_loaded() {\n    var el = document.getElementById(\"1001\");\n    if (el != null) {\n      el.textContent = \"BokehJS is loading...\";\n    }\n    if (root.Bokeh !== undefined) {\n      if (el != null) {\n        el.textContent = \"BokehJS \" + root.Bokeh.version + \" successfully loaded.\";\n      }\n    } else if (Date.now() < root._bokeh_timeout) {\n      setTimeout(display_loaded, 100)\n    }\n  }\n\n\n  function run_callbacks() {\n    try {\n      root._bokeh_onload_callbacks.forEach(function(callback) {\n        if (callback != null)\n          callback();\n      });\n    } finally {\n      delete root._bokeh_onload_callbacks\n    }\n    console.debug(\"Bokeh: all callbacks have finished\");\n  }\n\n  function load_libs(css_urls, js_urls, callback) {\n    if (css_urls == null) css_urls = [];\n    if (js_urls == null) js_urls = [];\n\n    root._bokeh_onload_callbacks.push(callback);\n    if (root._bokeh_is_loading > 0) {\n      console.debug(\"Bokeh: BokehJS is being loaded, scheduling callback at\", now());\n      return null;\n    }\n    if (js_urls == null || js_urls.length === 0) {\n      run_callbacks();\n      return null;\n    }\n    console.debug(\"Bokeh: BokehJS not loaded, scheduling load and callback at\", now());\n    root._bokeh_is_loading = css_urls.length + js_urls.length;\n\n    function on_load() {\n      root._bokeh_is_loading--;\n      if (root._bokeh_is_loading === 0) {\n        console.debug(\"Bokeh: all BokehJS libraries/stylesheets loaded\");\n        run_callbacks()\n      }\n    }\n\n    function on_error() {\n      console.error(\"failed to load \" + url);\n    }\n\n    for (var i = 0; i < css_urls.length; i++) {\n      var url = css_urls[i];\n      const element = document.createElement(\"link\");\n      element.onload = on_load;\n      element.onerror = on_error;\n      element.rel = \"stylesheet\";\n      element.type = \"text/css\";\n      element.href = url;\n      console.debug(\"Bokeh: injecting link tag for BokehJS stylesheet: \", url);\n      document.body.appendChild(element);\n    }\n\n    for (var i = 0; i < js_urls.length; i++) {\n      var url = js_urls[i];\n      var element = document.createElement('script');\n      element.onload = on_load;\n      element.onerror = on_error;\n      element.async = false;\n      element.src = url;\n      console.debug(\"Bokeh: injecting script tag for BokehJS library: \", url);\n      document.head.appendChild(element);\n    }\n  };var element = document.getElementById(\"1001\");\n  if (element == null) {\n    console.error(\"Bokeh: ERROR: autoload.js configured with elementid '1001' but no matching script tag was found. \")\n    return false;\n  }\n\n  function inject_raw_css(css) {\n    const element = document.createElement(\"style\");\n    element.appendChild(document.createTextNode(css));\n    document.body.appendChild(element);\n  }\n\n  var js_urls = [\"https://cdn.pydata.org/bokeh/release/bokeh-1.3.4.min.js\", \"https://cdn.pydata.org/bokeh/release/bokeh-widgets-1.3.4.min.js\", \"https://cdn.pydata.org/bokeh/release/bokeh-tables-1.3.4.min.js\", \"https://cdn.pydata.org/bokeh/release/bokeh-gl-1.3.4.min.js\"];\n  var css_urls = [];\n\n  var inline_js = [\n    function(Bokeh) {\n      Bokeh.set_log_level(\"info\");\n    },\n    \n    function(Bokeh) {\n      \n    },\n    function(Bokeh) {} // ensure no trailing comma for IE\n  ];\n\n  function run_inline_js() {\n    \n    if ((root.Bokeh !== undefined) || (force === true)) {\n      for (var i = 0; i < inline_js.length; i++) {\n        inline_js[i].call(root, root.Bokeh);\n      }if (force === true) {\n        display_loaded();\n      }} else if (Date.now() < root._bokeh_timeout) {\n      setTimeout(run_inline_js, 100);\n    } else if (!root._bokeh_failed_load) {\n      console.log(\"Bokeh: BokehJS failed to load within specified timeout.\");\n      root._bokeh_failed_load = true;\n    } else if (force !== true) {\n      var cell = $(document.getElementById(\"1001\")).parents('.cell').data().cell;\n      cell.output_area.append_execute_result(NB_LOAD_WARNING)\n    }\n\n  }\n\n  if (root._bokeh_is_loading === 0) {\n    console.debug(\"Bokeh: BokehJS loaded, going straight to plotting\");\n    run_inline_js();\n  } else {\n    load_libs(css_urls, js_urls, function() {\n      console.debug(\"Bokeh: BokehJS plotting callback run at\", now());\n      run_inline_js();\n    });\n  }\n}(window));"
     },
     "metadata": {},
     "output_type": "display_data"
    }
   ],
   "source": [
    "import pandas as pd\n",
    "import numpy as np\n",
    "import operator\n",
    "import matplotlib.pyplot as plt\n",
    "import seaborn as sns\n",
    "import math\n",
    "%matplotlib inline"
   ]
  },
  {
   "cell_type": "markdown",
   "metadata": {},
   "source": [
    "Importo la base de datos de los pacientes, recogida en SPSS y pasada posteriormente a documento csv. Para su analisis"
   ]
  },
  {
   "cell_type": "code",
   "execution_count": 2,
   "metadata": {},
   "outputs": [],
   "source": [
    "datos=pd.read_csv(\"Analisis_ano.csv\",sep=\";\")"
   ]
  },
  {
   "cell_type": "code",
   "execution_count": 3,
   "metadata": {},
   "outputs": [
    {
     "data": {
      "text/html": [
       "<div>\n",
       "<style scoped>\n",
       "    .dataframe tbody tr th:only-of-type {\n",
       "        vertical-align: middle;\n",
       "    }\n",
       "\n",
       "    .dataframe tbody tr th {\n",
       "        vertical-align: top;\n",
       "    }\n",
       "\n",
       "    .dataframe thead th {\n",
       "        text-align: right;\n",
       "    }\n",
       "</style>\n",
       "<table border=\"1\" class=\"dataframe\">\n",
       "  <thead>\n",
       "    <tr style=\"text-align: right;\">\n",
       "      <th></th>\n",
       "      <th>Médico</th>\n",
       "      <th>Tipo_cápsula</th>\n",
       "      <th>Fecha_procedimiento</th>\n",
       "      <th>ID</th>\n",
       "      <th>Sexo</th>\n",
       "      <th>Nacimiento</th>\n",
       "      <th>Edad</th>\n",
       "      <th>Cintura</th>\n",
       "      <th>IMC</th>\n",
       "      <th>Tiempo_estudio</th>\n",
       "      <th>...</th>\n",
       "      <th>Patency</th>\n",
       "      <th>No_aporta_previo</th>\n",
       "      <th>Eco_abdominal</th>\n",
       "      <th>Rx_abdomen</th>\n",
       "      <th>Entero_TAC</th>\n",
       "      <th>Entero_RM</th>\n",
       "      <th>Tránsito_intes</th>\n",
       "      <th>Endoscopia_previa</th>\n",
       "      <th>Intro_cápsula</th>\n",
       "      <th>Complicaciones</th>\n",
       "    </tr>\n",
       "  </thead>\n",
       "  <tbody>\n",
       "    <tr>\n",
       "      <th>0</th>\n",
       "      <td>1</td>\n",
       "      <td>1</td>\n",
       "      <td>5/14/2012</td>\n",
       "      <td>1</td>\n",
       "      <td>1</td>\n",
       "      <td>6/24/1925</td>\n",
       "      <td>86</td>\n",
       "      <td></td>\n",
       "      <td></td>\n",
       "      <td></td>\n",
       "      <td>...</td>\n",
       "      <td>0</td>\n",
       "      <td>1</td>\n",
       "      <td>0</td>\n",
       "      <td>0</td>\n",
       "      <td>0</td>\n",
       "      <td>0</td>\n",
       "      <td>0</td>\n",
       "      <td>0</td>\n",
       "      <td>0</td>\n",
       "      <td>0</td>\n",
       "    </tr>\n",
       "    <tr>\n",
       "      <th>1</th>\n",
       "      <td>1</td>\n",
       "      <td>1</td>\n",
       "      <td>9/5/2012</td>\n",
       "      <td>2</td>\n",
       "      <td>1</td>\n",
       "      <td>1/12/1953</td>\n",
       "      <td>59</td>\n",
       "      <td></td>\n",
       "      <td></td>\n",
       "      <td></td>\n",
       "      <td>...</td>\n",
       "      <td>0</td>\n",
       "      <td>1</td>\n",
       "      <td>0</td>\n",
       "      <td>0</td>\n",
       "      <td>0</td>\n",
       "      <td>0</td>\n",
       "      <td>0</td>\n",
       "      <td>0</td>\n",
       "      <td>0</td>\n",
       "      <td>0</td>\n",
       "    </tr>\n",
       "    <tr>\n",
       "      <th>2</th>\n",
       "      <td>1</td>\n",
       "      <td>1</td>\n",
       "      <td>10/17/2012</td>\n",
       "      <td>3</td>\n",
       "      <td>1</td>\n",
       "      <td>2/21/1951</td>\n",
       "      <td>61</td>\n",
       "      <td></td>\n",
       "      <td></td>\n",
       "      <td></td>\n",
       "      <td>...</td>\n",
       "      <td>0</td>\n",
       "      <td>1</td>\n",
       "      <td>0</td>\n",
       "      <td>0</td>\n",
       "      <td>0</td>\n",
       "      <td>0</td>\n",
       "      <td>0</td>\n",
       "      <td>0</td>\n",
       "      <td>0</td>\n",
       "      <td>0</td>\n",
       "    </tr>\n",
       "    <tr>\n",
       "      <th>3</th>\n",
       "      <td>1</td>\n",
       "      <td>1</td>\n",
       "      <td>12/14/2013</td>\n",
       "      <td>4</td>\n",
       "      <td>1</td>\n",
       "      <td>10/1/1950</td>\n",
       "      <td>63</td>\n",
       "      <td></td>\n",
       "      <td></td>\n",
       "      <td></td>\n",
       "      <td>...</td>\n",
       "      <td>0</td>\n",
       "      <td>1</td>\n",
       "      <td>0</td>\n",
       "      <td>0</td>\n",
       "      <td>0</td>\n",
       "      <td>0</td>\n",
       "      <td>0</td>\n",
       "      <td>0</td>\n",
       "      <td>0</td>\n",
       "      <td>0</td>\n",
       "    </tr>\n",
       "    <tr>\n",
       "      <th>4</th>\n",
       "      <td>1</td>\n",
       "      <td>1</td>\n",
       "      <td>10/25/2013</td>\n",
       "      <td>5</td>\n",
       "      <td>0</td>\n",
       "      <td>7/4/1935</td>\n",
       "      <td>78</td>\n",
       "      <td></td>\n",
       "      <td></td>\n",
       "      <td></td>\n",
       "      <td>...</td>\n",
       "      <td>0</td>\n",
       "      <td>1</td>\n",
       "      <td>0</td>\n",
       "      <td>0</td>\n",
       "      <td>0</td>\n",
       "      <td>0</td>\n",
       "      <td>0</td>\n",
       "      <td>2</td>\n",
       "      <td>0</td>\n",
       "      <td>0</td>\n",
       "    </tr>\n",
       "  </tbody>\n",
       "</table>\n",
       "<p>5 rows × 150 columns</p>\n",
       "</div>"
      ],
      "text/plain": [
       "   Médico  Tipo_cápsula Fecha_procedimiento  ID  Sexo Nacimiento Edad Cintura  \\\n",
       "0       1             1           5/14/2012   1     1  6/24/1925   86           \n",
       "1       1             1            9/5/2012   2     1  1/12/1953   59           \n",
       "2       1             1          10/17/2012   3     1  2/21/1951   61           \n",
       "3       1             1          12/14/2013   4     1  10/1/1950   63           \n",
       "4       1             1          10/25/2013   5     0   7/4/1935   78           \n",
       "\n",
       "  IMC Tiempo_estudio  ... Patency No_aporta_previo Eco_abdominal Rx_abdomen  \\\n",
       "0                     ...       0                1             0          0   \n",
       "1                     ...       0                1             0          0   \n",
       "2                     ...       0                1             0          0   \n",
       "3                     ...       0                1             0          0   \n",
       "4                     ...       0                1             0          0   \n",
       "\n",
       "  Entero_TAC  Entero_RM  Tránsito_intes  Endoscopia_previa  Intro_cápsula  \\\n",
       "0          0          0               0                  0              0   \n",
       "1          0          0               0                  0              0   \n",
       "2          0          0               0                  0              0   \n",
       "3          0          0               0                  0              0   \n",
       "4          0          0               0                  2              0   \n",
       "\n",
       "   Complicaciones  \n",
       "0               0  \n",
       "1               0  \n",
       "2               0  \n",
       "3               0  \n",
       "4               0  \n",
       "\n",
       "[5 rows x 150 columns]"
      ]
     },
     "execution_count": 3,
     "metadata": {},
     "output_type": "execute_result"
    }
   ],
   "source": [
    "datos.head()"
   ]
  },
  {
   "cell_type": "code",
   "execution_count": 4,
   "metadata": {},
   "outputs": [
    {
     "data": {
      "text/plain": [
       "(251, 150)"
      ]
     },
     "execution_count": 4,
     "metadata": {},
     "output_type": "execute_result"
    }
   ],
   "source": [
    "datos.shape"
   ]
  },
  {
   "cell_type": "code",
   "execution_count": 5,
   "metadata": {},
   "outputs": [
    {
     "data": {
      "text/plain": [
       "Médico                  int64\n",
       "Tipo_cápsula            int64\n",
       "Fecha_procedimiento    object\n",
       "ID                      int64\n",
       "Sexo                    int64\n",
       "                        ...  \n",
       "Entero_RM               int64\n",
       "Tránsito_intes          int64\n",
       "Endoscopia_previa      object\n",
       "Intro_cápsula           int64\n",
       "Complicaciones         object\n",
       "Length: 150, dtype: object"
      ]
     },
     "execution_count": 5,
     "metadata": {},
     "output_type": "execute_result"
    }
   ],
   "source": [
    "datos.dtypes[:]"
   ]
  },
  {
   "cell_type": "code",
   "execution_count": 6,
   "metadata": {},
   "outputs": [],
   "source": [
    "columnas=datos.columns"
   ]
  },
  {
   "cell_type": "code",
   "execution_count": 7,
   "metadata": {},
   "outputs": [
    {
     "name": "stdout",
     "output_type": "stream",
     "text": [
      "[]\n"
     ]
    }
   ],
   "source": [
    "incompletas=[]\n",
    "for e in columnas:\n",
    "    if datos[e].isnull().sum()>=1:\n",
    "        incompletas.append(e)\n",
    "print(incompletas)"
   ]
  },
  {
   "cell_type": "markdown",
   "metadata": {},
   "source": [
    "Como se ve no hay ninguna variable, con valores nulos en toda la base de datos"
   ]
  },
  {
   "cell_type": "code",
   "execution_count": 8,
   "metadata": {},
   "outputs": [
    {
     "data": {
      "text/plain": [
       "['Médico',\n",
       " 'Tipo_cápsula',\n",
       " 'Fecha_procedimiento',\n",
       " 'ID',\n",
       " 'Sexo',\n",
       " 'Nacimiento',\n",
       " 'Edad',\n",
       " 'Cintura',\n",
       " 'IMC',\n",
       " 'Tiempo_estudio',\n",
       " 'T_estómago',\n",
       " 'T_ID_total',\n",
       " 'T_colon_total',\n",
       " 'T_expulsión',\n",
       " 'Expulsa_cápsula',\n",
       " 'HDOO_oculta',\n",
       " 'HDOO_mani',\n",
       " 'Crohn',\n",
       " 'Alt_tránsito',\n",
       " 'Anemia',\n",
       " 'Dolor_abd',\n",
       " 'Estreñimiento',\n",
       " 'Diarrea',\n",
       " 'Vómitos',\n",
       " 'Pérdida_peso',\n",
       " 'EII',\n",
       " 'Colono_imcp',\n",
       " 'Cribado',\n",
       " 'Revisión',\n",
       " 'Otros_indica',\n",
       " 'Hernia_hiato_esof',\n",
       " 'RGE_esof',\n",
       " 'Trast_tránsito_esof',\n",
       " 'Erosiones_esof',\n",
       " 'Barret_esof',\n",
       " 'Esof_eosinofilica_esof',\n",
       " 'Estenosis_extr_esof',\n",
       " 'No_evaluable_esof',\n",
       " 'No_informado_esof',\n",
       " 'Normal_esof',\n",
       " 'Normal_estom',\n",
       " 'No_informado_estom',\n",
       " 'No_evaluable_estom',\n",
       " 'Hernia_hiato_estom',\n",
       " 'Trast_motilidad_estom',\n",
       " 'Erosiones_estom',\n",
       " 'Gastritis_estom',\n",
       " 'Pólipo_estom',\n",
       " 'Otros_estom',\n",
       " 'No_informado_del',\n",
       " 'No_evaluable_del',\n",
       " 'Normal_del',\n",
       " 'Hz_yeyuno',\n",
       " 'Yeyunitis',\n",
       " 'Erosiones_yey',\n",
       " 'Telangiectasias_yey',\n",
       " 'Linfagiectasias_yey',\n",
       " 'Pólipo_yey',\n",
       " 'Hz_íleon',\n",
       " 'Ileitis',\n",
       " 'Diverticulo_íleon',\n",
       " 'Erosiones_íleon',\n",
       " 'Pólipo_íleon',\n",
       " 'Erosiones_del',\n",
       " 'Diverticulo_del',\n",
       " 'Enteritis_del',\n",
       " 'Pólipo_del',\n",
       " 'Otros_del',\n",
       " 'No_informado_col',\n",
       " 'No_evaluable_col',\n",
       " 'Normal_col',\n",
       " 'Hemorroides',\n",
       " 'Diverticulo_col',\n",
       " 'Diverticulo_C_drch',\n",
       " 'Diverticulo_sig',\n",
       " 'Diverticulo_C_izq',\n",
       " 'Sigmoiditis',\n",
       " 'Proctitis',\n",
       " 'Erosiones_col',\n",
       " 'Angiodisplasia_col',\n",
       " 'Pólipo_col',\n",
       " 'Pólipo_C_drch',\n",
       " 'Pólipo_C_asce',\n",
       " 'Pólipo_C_trans',\n",
       " 'Pólipo_C_izq',\n",
       " 'Pólipo_C_desc',\n",
       " 'Pólipo_ciego',\n",
       " 'Pólipo_sig',\n",
       " 'Pólipo_recto',\n",
       " 'Dianocitos',\n",
       " 'Melanosis',\n",
       " 'Otras_col',\n",
       " 'Linea_Z',\n",
       " 'Ampolla_vater',\n",
       " 'Válvula_ileocecal',\n",
       " 'Orificio_apendicular',\n",
       " 'Flexura_hepática',\n",
       " 'Flexura_esplénica',\n",
       " 'Recto',\n",
       " 'Dieta',\n",
       " 'Limpieza_colon',\n",
       " 'Medicación_preparación',\n",
       " 'Refuerzo',\n",
       " 'Calidad_preparación',\n",
       " 'Burbujas',\n",
       " 'Modifica_tto',\n",
       " 'No_conocida_comor',\n",
       " 'No_presenta_comor',\n",
       " 'Oncologica',\n",
       " 'Enf_dig',\n",
       " 'Enf_dig_leve',\n",
       " 'Enf_CV',\n",
       " 'Enf_Rsp',\n",
       " 'Enf_endocrino',\n",
       " 'Enf_renal',\n",
       " 'Trast_psiq',\n",
       " 'Enf_neuro',\n",
       " 'QX_abdominal',\n",
       " 'Otras_QX',\n",
       " 'Enf_trauma',\n",
       " 'DM',\n",
       " 'Otras_comor',\n",
       " 'Obesidad',\n",
       " 'No_toma_med',\n",
       " 'No_conocido_med',\n",
       " 'Laxantes',\n",
       " 'Antidiabético',\n",
       " 'AINE',\n",
       " 'Antiagregante',\n",
       " 'Anticoagulante',\n",
       " 'Benzodiacepina',\n",
       " 'ARAII',\n",
       " 'IBP',\n",
       " 'Inmunosupresores',\n",
       " 'Diurético',\n",
       " 'Antiemético',\n",
       " 'Vitaminas',\n",
       " 'Antimicrobiano',\n",
       " 'Otros_med',\n",
       " 'Cirugía_previa',\n",
       " 'Patency',\n",
       " 'No_aporta_previo',\n",
       " 'Eco_abdominal',\n",
       " 'Rx_abdomen',\n",
       " 'Entero_TAC',\n",
       " 'Entero_RM',\n",
       " 'Tránsito_intes',\n",
       " 'Endoscopia_previa',\n",
       " 'Intro_cápsula',\n",
       " 'Complicaciones']"
      ]
     },
     "execution_count": 8,
     "metadata": {},
     "output_type": "execute_result"
    }
   ],
   "source": [
    "columnas=datos.columns\n",
    "columnas.tolist()"
   ]
  },
  {
   "cell_type": "code",
   "execution_count": 9,
   "metadata": {},
   "outputs": [],
   "source": [
    "#Borro la variable Dianoscitos porque sería un hallazgo compatible con la normalidad.\n",
    "datos.drop(columns=['Dianocitos'],axis=0, inplace=True)"
   ]
  },
  {
   "cell_type": "markdown",
   "metadata": {},
   "source": [
    "Uno en una única variable las hernias de hiato de esófago y estomago. Al ser el mismo diagnostico, simplemente puesto\n",
    "en esófago o estomago según el momento de la cápsula en el que se diagnosticaba. Quedando unificada en la variable \"Hernia_hiato_total\""
   ]
  },
  {
   "cell_type": "code",
   "execution_count": 10,
   "metadata": {},
   "outputs": [],
   "source": [
    "def hernia(fila):\n",
    "    a='Hernia_hiato_esof'\n",
    "    b='Hernia_hiato_estom'\n",
    "    if fila[a]==fila[b]:\n",
    "        return fila[a]\n",
    "    elif fila[a]<fila[b]:\n",
    "        return fila[b]\n",
    "    else:\n",
    "        return fila[a]"
   ]
  },
  {
   "cell_type": "code",
   "execution_count": 11,
   "metadata": {},
   "outputs": [],
   "source": [
    "datos[\"Hernia_hiato_total\"]=datos.apply(lambda fila: hernia(fila),axis=1)"
   ]
  },
  {
   "cell_type": "markdown",
   "metadata": {},
   "source": [
    "Compruebo que la reoorganización se ha realizado correctamente"
   ]
  },
  {
   "cell_type": "code",
   "execution_count": 12,
   "metadata": {
    "scrolled": true
   },
   "outputs": [
    {
     "data": {
      "text/plain": [
       "(     Hernia_hiato_esof  Hernia_hiato_estom  Hernia_hiato_total\n",
       " 0                    0                   0                   0\n",
       " 150                  0                   0                   0\n",
       " 151                  0                   0                   0\n",
       " 152                  0                   0                   0\n",
       " 153                  0                   0                   0\n",
       " ..                 ...                 ...                 ...\n",
       " 84                   0                   1                   1\n",
       " 212                  0                   1                   1\n",
       " 210                  1                   0                   1\n",
       " 188                  0                   1                   1\n",
       " 125                  1                   0                   1\n",
       " \n",
       " [251 rows x 3 columns],)"
      ]
     },
     "execution_count": 12,
     "metadata": {},
     "output_type": "execute_result"
    }
   ],
   "source": [
    "comp=datos[['Hernia_hiato_esof','Hernia_hiato_estom',\"Hernia_hiato_total\"]].sort_values(by=\"Hernia_hiato_total\"),\n",
    "ascending=True\n",
    "comp"
   ]
  },
  {
   "cell_type": "markdown",
   "metadata": {},
   "source": [
    "Tras asegurarme, elimino las dos variables sobrantes"
   ]
  },
  {
   "cell_type": "code",
   "execution_count": 13,
   "metadata": {},
   "outputs": [],
   "source": [
    "datos.drop(columns=['Hernia_hiato_esof','Hernia_hiato_estom'],axis=0, inplace=True)"
   ]
  },
  {
   "cell_type": "markdown",
   "metadata": {},
   "source": [
    "Decido unir en una única variable las columnas \"EEI\" y \"Crohn\" ya que son pocos valores y tienen cierta relación\n",
    "que permitiria su analisis en conjunto sin modificar resultados. Quedando unidas en la variable \"Enf_II\""
   ]
  },
  {
   "cell_type": "code",
   "execution_count": 14,
   "metadata": {},
   "outputs": [
    {
     "data": {
      "text/plain": [
       "0    242\n",
       "1      9\n",
       "Name: Enf_II, dtype: int64"
      ]
     },
     "execution_count": 14,
     "metadata": {},
     "output_type": "execute_result"
    }
   ],
   "source": [
    "def EII(fila):\n",
    "    a='EII'\n",
    "    b='Crohn'\n",
    "    if fila[a]==fila[b]:\n",
    "        return fila[a]\n",
    "    elif fila[a]<fila[b]:\n",
    "        return fila[b]\n",
    "    else:\n",
    "        return fila[a]\n",
    "datos[\"Enf_II\"]=datos.apply(lambda fila: EII(fila),axis=1)\n",
    "datos[\"Enf_II\"].value_counts()"
   ]
  },
  {
   "cell_type": "markdown",
   "metadata": {},
   "source": [
    "# Número de pacientes por centro, por sexo y por edad"
   ]
  },
  {
   "cell_type": "code",
   "execution_count": 15,
   "metadata": {},
   "outputs": [
    {
     "data": {
      "text/plain": [
       "(251, 149)"
      ]
     },
     "execution_count": 15,
     "metadata": {},
     "output_type": "execute_result"
    }
   ],
   "source": [
    "#Número de pacientes total: 251\n",
    "datos.shape "
   ]
  },
  {
   "cell_type": "code",
   "execution_count": 16,
   "metadata": {},
   "outputs": [
    {
     "name": "stdout",
     "output_type": "stream",
     "text": [
      "Número de pacientes pertenecientes a CIDMA 108 pacientes\n",
      "Número de pacientes pertenecientes al hospital Italiano 143 pacientes\n"
     ]
    }
   ],
   "source": [
    "print(\"Número de pacientes pertenecientes a CIDMA {}\".format(len(datos[datos[\"Médico\"]==0]))+\" pacientes\")\n",
    "print(\"Número de pacientes pertenecientes al hospital Italiano {}\".format(len(datos[datos[\"Médico\"]==1]))+\" pacientes\")"
   ]
  },
  {
   "cell_type": "code",
   "execution_count": 17,
   "metadata": {},
   "outputs": [
    {
     "name": "stdout",
     "output_type": "stream",
     "text": [
      "Número de mujeres totales 135\n",
      "Número de varónes totales 116\n"
     ]
    }
   ],
   "source": [
    "print(\"Número de mujeres totales {}\".format(len(datos[datos[\"Sexo\"]==0])))\n",
    "print(\"Número de varónes totales {}\".format(len(datos[datos[\"Sexo\"]==1])))"
   ]
  },
  {
   "cell_type": "code",
   "execution_count": 18,
   "metadata": {},
   "outputs": [
    {
     "name": "stdout",
     "output_type": "stream",
     "text": [
      "Número de mujeres en Cidma 65\n",
      "Número de mujeres en hospital Italiano 70\n"
     ]
    }
   ],
   "source": [
    "print(\"Número de mujeres en Cidma {}\".format(len(datos[(datos[\"Médico\"]==0) & (datos[\"Sexo\"]==0)])))\n",
    "print(\"Número de mujeres en hospital Italiano {}\".format(len(datos[(datos[\"Médico\"]==1) & (datos[\"Sexo\"]==0)])))\n"
   ]
  },
  {
   "cell_type": "code",
   "execution_count": 19,
   "metadata": {},
   "outputs": [
    {
     "name": "stdout",
     "output_type": "stream",
     "text": [
      "Número de varones en Cidma 43\n",
      "Número de varones en hospital Italiano 73\n"
     ]
    }
   ],
   "source": [
    "print(\"Número de varones en Cidma {}\".format(len(datos[(datos[\"Médico\"]==0) & (datos[\"Sexo\"]==1)])))\n",
    "print(\"Número de varones en hospital Italiano {}\".format(len(datos[(datos[\"Médico\"]==1) & (datos[\"Sexo\"]==1)])))"
   ]
  },
  {
   "cell_type": "code",
   "execution_count": 20,
   "metadata": {},
   "outputs": [
    {
     "data": {
      "text/plain": [
       "dtype('O')"
      ]
     },
     "execution_count": 20,
     "metadata": {},
     "output_type": "execute_result"
    }
   ],
   "source": [
    "#Para calcular la edad media y poder dividir dicha variable en distintos tramos de edad. Evaluo la columna\n",
    "#Viendo que se considera string por ello decido arreglar los valores mal asignados para poder transformalo a int\n",
    "datos[\"Edad\"].dtype\n"
   ]
  },
  {
   "cell_type": "code",
   "execution_count": 21,
   "metadata": {},
   "outputs": [
    {
     "data": {
      "text/plain": [
       "64    11\n",
       "66    10\n",
       "62     9\n",
       "65     9\n",
       "74     7\n",
       "81     6\n",
       "55     6\n",
       "59     6\n",
       "69     6\n",
       "57     5\n",
       "Name: Edad, dtype: int64"
      ]
     },
     "execution_count": 21,
     "metadata": {},
     "output_type": "execute_result"
    }
   ],
   "source": [
    "#Miro los valores que coge la variable edad\n",
    "datos[\"Edad\"].value_counts()[0:10]"
   ]
  },
  {
   "cell_type": "code",
   "execution_count": 22,
   "metadata": {},
   "outputs": [
    {
     "data": {
      "text/html": [
       "<div>\n",
       "<style scoped>\n",
       "    .dataframe tbody tr th:only-of-type {\n",
       "        vertical-align: middle;\n",
       "    }\n",
       "\n",
       "    .dataframe tbody tr th {\n",
       "        vertical-align: top;\n",
       "    }\n",
       "\n",
       "    .dataframe thead th {\n",
       "        text-align: right;\n",
       "    }\n",
       "</style>\n",
       "<table border=\"1\" class=\"dataframe\">\n",
       "  <thead>\n",
       "    <tr style=\"text-align: right;\">\n",
       "      <th></th>\n",
       "      <th>Médico</th>\n",
       "      <th>Tipo_cápsula</th>\n",
       "      <th>Fecha_procedimiento</th>\n",
       "      <th>ID</th>\n",
       "      <th>Sexo</th>\n",
       "      <th>Nacimiento</th>\n",
       "      <th>Edad</th>\n",
       "      <th>Cintura</th>\n",
       "      <th>IMC</th>\n",
       "      <th>Tiempo_estudio</th>\n",
       "      <th>...</th>\n",
       "      <th>Eco_abdominal</th>\n",
       "      <th>Rx_abdomen</th>\n",
       "      <th>Entero_TAC</th>\n",
       "      <th>Entero_RM</th>\n",
       "      <th>Tránsito_intes</th>\n",
       "      <th>Endoscopia_previa</th>\n",
       "      <th>Intro_cápsula</th>\n",
       "      <th>Complicaciones</th>\n",
       "      <th>Hernia_hiato_total</th>\n",
       "      <th>Enf_II</th>\n",
       "    </tr>\n",
       "  </thead>\n",
       "  <tbody>\n",
       "    <tr>\n",
       "      <th>8</th>\n",
       "      <td>1</td>\n",
       "      <td>1</td>\n",
       "      <td></td>\n",
       "      <td>9</td>\n",
       "      <td>0</td>\n",
       "      <td>4/4/1953</td>\n",
       "      <td></td>\n",
       "      <td></td>\n",
       "      <td></td>\n",
       "      <td></td>\n",
       "      <td>...</td>\n",
       "      <td>0</td>\n",
       "      <td>0</td>\n",
       "      <td>0</td>\n",
       "      <td>0</td>\n",
       "      <td>0</td>\n",
       "      <td>0</td>\n",
       "      <td>0</td>\n",
       "      <td>0</td>\n",
       "      <td>0</td>\n",
       "      <td>0</td>\n",
       "    </tr>\n",
       "    <tr>\n",
       "      <th>72</th>\n",
       "      <td>1</td>\n",
       "      <td>1</td>\n",
       "      <td></td>\n",
       "      <td>73</td>\n",
       "      <td>0</td>\n",
       "      <td>8/9/1932</td>\n",
       "      <td></td>\n",
       "      <td></td>\n",
       "      <td></td>\n",
       "      <td></td>\n",
       "      <td>...</td>\n",
       "      <td>0</td>\n",
       "      <td>0</td>\n",
       "      <td>0</td>\n",
       "      <td>0</td>\n",
       "      <td>0</td>\n",
       "      <td>0</td>\n",
       "      <td>0</td>\n",
       "      <td>0</td>\n",
       "      <td>0</td>\n",
       "      <td>0</td>\n",
       "    </tr>\n",
       "  </tbody>\n",
       "</table>\n",
       "<p>2 rows × 149 columns</p>\n",
       "</div>"
      ],
      "text/plain": [
       "    Médico  Tipo_cápsula Fecha_procedimiento  ID  Sexo Nacimiento Edad  \\\n",
       "8        1             1                       9     0   4/4/1953        \n",
       "72       1             1                      73     0   8/9/1932        \n",
       "\n",
       "   Cintura IMC Tiempo_estudio  ... Eco_abdominal Rx_abdomen Entero_TAC  \\\n",
       "8                              ...             0          0          0   \n",
       "72                             ...             0          0          0   \n",
       "\n",
       "   Entero_RM Tránsito_intes  Endoscopia_previa  Intro_cápsula  Complicaciones  \\\n",
       "8          0              0                  0              0               0   \n",
       "72         0              0                  0              0               0   \n",
       "\n",
       "    Hernia_hiato_total  Enf_II  \n",
       "8                    0       0  \n",
       "72                   0       0  \n",
       "\n",
       "[2 rows x 149 columns]"
      ]
     },
     "execution_count": 22,
     "metadata": {},
     "output_type": "execute_result"
    }
   ],
   "source": [
    "#Veo que hay datos no cogidos. Que impiden que pueda pasar a int la variable\n",
    "datos[datos['Edad']==\" \"]"
   ]
  },
  {
   "cell_type": "markdown",
   "metadata": {},
   "source": [
    "Como se ve arriba el problema esta en los pacientes 8 y 72, que sus edades se han cogido erronamente. Pero como veo que tienen la fecha de nacimiento hare una aproximación de edad en base a la fecha del procedimiento de los pacientes mas cercanos. Ya que no tendría sentido calcular la edad a fecha actual"
   ]
  },
  {
   "cell_type": "code",
   "execution_count": 23,
   "metadata": {},
   "outputs": [
    {
     "name": "stdout",
     "output_type": "stream",
     "text": [
      "8/8/2013\n"
     ]
    },
    {
     "data": {
      "text/plain": [
       "60"
      ]
     },
     "execution_count": 23,
     "metadata": {},
     "output_type": "execute_result"
    }
   ],
   "source": [
    "print(datos[\"Fecha_procedimiento\"].loc[7])\n",
    "2013-1953"
   ]
  },
  {
   "cell_type": "code",
   "execution_count": 24,
   "metadata": {},
   "outputs": [
    {
     "name": "stdout",
     "output_type": "stream",
     "text": [
      "1/20/2016\n"
     ]
    },
    {
     "data": {
      "text/plain": [
       "84"
      ]
     },
     "execution_count": 24,
     "metadata": {},
     "output_type": "execute_result"
    }
   ],
   "source": [
    "print(datos[\"Fecha_procedimiento\"].loc[73])\n",
    "2016-1932"
   ]
  },
  {
   "cell_type": "code",
   "execution_count": 25,
   "metadata": {},
   "outputs": [
    {
     "name": "stderr",
     "output_type": "stream",
     "text": [
      "/usr/local/lib/python3.7/site-packages/pandas/core/indexing.py:202: SettingWithCopyWarning: \n",
      "A value is trying to be set on a copy of a slice from a DataFrame\n",
      "\n",
      "See the caveats in the documentation: http://pandas.pydata.org/pandas-docs/stable/user_guide/indexing.html#returning-a-view-versus-a-copy\n",
      "  self._setitem_with_indexer(indexer, value)\n"
     ]
    }
   ],
   "source": [
    "#Una vez que se la edad aproximada de estos pacientes la modifico en su lugar correspondiente. \n",
    "datos[\"Edad\"].loc[8]=60\n",
    "datos[\"Edad\"].loc[72]=84"
   ]
  },
  {
   "cell_type": "code",
   "execution_count": 26,
   "metadata": {},
   "outputs": [
    {
     "data": {
      "text/plain": [
       "dtype('int64')"
      ]
     },
     "execution_count": 26,
     "metadata": {},
     "output_type": "execute_result"
    }
   ],
   "source": [
    "datos['Edad'] = datos['Edad'].astype('int64')\n",
    "datos[\"Edad\"].dtype"
   ]
  },
  {
   "cell_type": "code",
   "execution_count": 27,
   "metadata": {},
   "outputs": [
    {
     "name": "stdout",
     "output_type": "stream",
     "text": [
      "count    251.000000\n",
      "mean      58.466135\n",
      "std       20.141148\n",
      "min       13.000000\n",
      "25%       46.000000\n",
      "50%       62.000000\n",
      "75%       72.500000\n",
      "max      115.000000\n",
      "Name: Edad, dtype: float64\n"
     ]
    },
    {
     "data": {
      "text/plain": [
       "0.3444925511152738"
      ]
     },
     "execution_count": 27,
     "metadata": {},
     "output_type": "execute_result"
    }
   ],
   "source": [
    "#Ahora sí miro como se comporta la edad en la muestra de pacientes\n",
    "print(datos[\"Edad\"].describe())\n",
    "\n",
    "#Calculo el coeficiente de variación de Pearson para saber la dispersión de la variable edad, de cara a agruparla\n",
    "#de la mejor forma posible.\n",
    "CV=20.141148/abs(58.466135)\n",
    "CV"
   ]
  },
  {
   "cell_type": "code",
   "execution_count": 28,
   "metadata": {},
   "outputs": [
    {
     "data": {
      "text/plain": [
       "<matplotlib.axes._subplots.AxesSubplot at 0x10356dc10>"
      ]
     },
     "execution_count": 28,
     "metadata": {},
     "output_type": "execute_result"
    },
    {
     "data": {
      "image/png": "[encoded data removed]",
      "text/plain": [
       "<Figure size 432x288 with 1 Axes>"
      ]
     },
     "metadata": {
      "needs_background": "light"
     },
     "output_type": "display_data"
    }
   ],
   "source": [
    "#Distribución de la edad según la frecuencia\n",
    "sns.violinplot(\"Edad\", hue=\"Sexo\", data=datos, split=True)"
   ]
  },
  {
   "cell_type": "code",
   "execution_count": 287,
   "metadata": {},
   "outputs": [],
   "source": [
    "d=datos[datos[\"Médico\"]==0]\n",
    "c=datos[datos[\"Médico\"]==1]"
   ]
  },
  {
   "cell_type": "code",
   "execution_count": 288,
   "metadata": {},
   "outputs": [
    {
     "data": {
      "text/plain": [
       "Text(100, 100, 'Italiano')"
      ]
     },
     "execution_count": 288,
     "metadata": {},
     "output_type": "execute_result"
    },
    {
     "data": {
      "image/png": "[encoded data removed]",
      "text/plain": [
       "<Figure size 576x576 with 1 Axes>"
      ]
     },
     "metadata": {},
     "output_type": "display_data"
    }
   ],
   "source": [
    "f, ax = plt.subplots(figsize=(8, 8))\n",
    "ax.set_aspect(\"equal\")\n",
    "ax = sns.kdeplot(c.Edad, c.Edad,\n",
    "                 cmap=\"Reds\", shade=True, shade_lowest=False)\n",
    "ax = sns.kdeplot(d.Edad, d.Edad,\n",
    "                 cmap=\"Blues\", shade=False, shade_lowest=False)\n",
    "\n",
    "# Add labels to the plot\n",
    "red = sns.color_palette(\"Reds\")[-2]\n",
    "blue = sns.color_palette(\"Blues\")[-2]\n",
    "ax.text(2.5, 50, \"CIDMA\", size=16, color=blue)\n",
    "ax.text(100, 100, \"Italiano\", size=16, color=red)\n"
   ]
  },
  {
   "cell_type": "markdown",
   "metadata": {},
   "source": [
    "Decido dividir las edades en base a posibles patologias y comorbilidades quedando así en 5 intervalos.\n",
    "Para ello creo una función que recibe como parametros;\n",
    "- El centro al que calcular la edad\n",
    "- Limiti inferior/superior\n",
    "- Simbolo para indicar si es (<,>,entre, etc...)"
   ]
  },
  {
   "cell_type": "code",
   "execution_count": 29,
   "metadata": {},
   "outputs": [],
   "source": [
    "def edades (cent,limi_inf,simbolo,limi_sup=0):\n",
    "    centro=datos[datos[\"Médico\"]==cent]\n",
    "    if simbolo==\"<\":\n",
    "        numero=len(centro[centro[\"Edad\"]<limi_inf])\n",
    "        return numero\n",
    "    elif simbolo==\"entre\":\n",
    "        numero=len(centro[(centro[\"Edad\"]>=limi_inf) & (centro[\"Edad\"]<=limi_sup)])\n",
    "        return numero\n",
    "    elif simbolo==\"entre_no\":\n",
    "        numero=len(centro[(datos[\"Edad\"]>limi_inf) & (centro[\"Edad\"]<=limi_sup)])\n",
    "        return numero\n",
    "    elif simbolo==\">\":\n",
    "        numero=len(centro[(centro[\"Edad\"]>limi_inf)])\n",
    "        return numero"
   ]
  },
  {
   "cell_type": "code",
   "execution_count": 30,
   "metadata": {},
   "outputs": [
    {
     "name": "stderr",
     "output_type": "stream",
     "text": [
      "/usr/local/Cellar/ipython/7.7.0/libexec/vendor/lib/python3.7/site-packages/ipykernel_launcher.py:10: UserWarning: Boolean Series key will be reindexed to match DataFrame index.\n",
      "  # Remove the CWD from sys.path while we load stuff.\n"
     ]
    },
    {
     "data": {
      "text/plain": [
       "108"
      ]
     },
     "execution_count": 30,
     "metadata": {},
     "output_type": "execute_result"
    }
   ],
   "source": [
    "#Calculo los porcentajes de edad para CIDMA\n",
    "cidma_30=(edades(0,30,\"<\"))\n",
    "cidma_30_45=edades(0,30,\"entre\",45)\n",
    "cidma_45_65=edades(0,45,\"entre_no\",65)\n",
    "cidma_65_80=edades(0,65,\"entre_no\",80)\n",
    "cidma_80=(edades(0,80,\">\"))\n",
    "#Compruebo que es correcta\n",
    "cidma_30+cidma_30_45+cidma_45_65+cidma_65_80+cidma_80"
   ]
  },
  {
   "cell_type": "code",
   "execution_count": 31,
   "metadata": {},
   "outputs": [
    {
     "name": "stderr",
     "output_type": "stream",
     "text": [
      "/usr/local/Cellar/ipython/7.7.0/libexec/vendor/lib/python3.7/site-packages/ipykernel_launcher.py:10: UserWarning: Boolean Series key will be reindexed to match DataFrame index.\n",
      "  # Remove the CWD from sys.path while we load stuff.\n"
     ]
    },
    {
     "data": {
      "text/plain": [
       "143"
      ]
     },
     "execution_count": 31,
     "metadata": {},
     "output_type": "execute_result"
    }
   ],
   "source": [
    "#Calculo los porcentajes de edad para el hospital Italiano\n",
    "u_30=(edades(1,30,\"<\"))\n",
    "u_30_45=edades(1,30,\"entre\",45)\n",
    "u_45_65=edades(1,45,\"entre_no\",65)\n",
    "u_65_80=edades(1,65,\"entre_no\",80)\n",
    "u_80=(edades(1,80,\">\"))\n",
    "#Compruebo que es correcta\n",
    "u_30+u_30_45+u_45_65+u_65_80+u_80"
   ]
  },
  {
   "cell_type": "markdown",
   "metadata": {},
   "source": [
    "Así quedaria la represntación de la base de datos"
   ]
  },
  {
   "cell_type": "code",
   "execution_count": 32,
   "metadata": {},
   "outputs": [
    {
     "data": {
      "text/html": [
       "<div>\n",
       "<style scoped>\n",
       "    .dataframe tbody tr th:only-of-type {\n",
       "        vertical-align: middle;\n",
       "    }\n",
       "\n",
       "    .dataframe tbody tr th {\n",
       "        vertical-align: top;\n",
       "    }\n",
       "\n",
       "    .dataframe thead th {\n",
       "        text-align: right;\n",
       "    }\n",
       "</style>\n",
       "<table border=\"1\" class=\"dataframe\">\n",
       "  <thead>\n",
       "    <tr style=\"text-align: right;\">\n",
       "      <th></th>\n",
       "      <th>Pacientes</th>\n",
       "      <th>Mujeres</th>\n",
       "      <th>Varones</th>\n",
       "      <th>Edad (&lt;30 años)</th>\n",
       "      <th>Edad [30-45 años]</th>\n",
       "      <th>Edad (45-65 años]</th>\n",
       "      <th>Edad (65-80 años]</th>\n",
       "      <th>Edad (&gt;80 años)</th>\n",
       "    </tr>\n",
       "  </thead>\n",
       "  <tbody>\n",
       "    <tr>\n",
       "      <th>CIDMA</th>\n",
       "      <td>[108, 43.03 %]</td>\n",
       "      <td>[65, 60.19 %]</td>\n",
       "      <td>[43, 39.81 %]</td>\n",
       "      <td>[27, 25.0 %]</td>\n",
       "      <td>[19, 17.59 %]</td>\n",
       "      <td>[30, 27.78 %]</td>\n",
       "      <td>[25, 23.15 %]</td>\n",
       "      <td>[7, 6.48 %]</td>\n",
       "    </tr>\n",
       "    <tr>\n",
       "      <th>Uruguay</th>\n",
       "      <td>[143, 56.97 %]</td>\n",
       "      <td>[70, 48.95 %]</td>\n",
       "      <td>[73, 51.05 %]</td>\n",
       "      <td>[5, 3.5 %]</td>\n",
       "      <td>[9, 6.29 %]</td>\n",
       "      <td>[60, 41.96 %]</td>\n",
       "      <td>[46, 32.17 %]</td>\n",
       "      <td>[23, 16.08 %]</td>\n",
       "    </tr>\n",
       "    <tr>\n",
       "      <th>Total</th>\n",
       "      <td>251</td>\n",
       "      <td>[135, 53.78 %]</td>\n",
       "      <td>[116, 46.22 %]</td>\n",
       "      <td>[32, 12.75 %]</td>\n",
       "      <td>[28, 11.16 %]</td>\n",
       "      <td>[90, 35.86 %]</td>\n",
       "      <td>[71, 28.29 %]</td>\n",
       "      <td>[30, 11.95 %]</td>\n",
       "    </tr>\n",
       "  </tbody>\n",
       "</table>\n",
       "</div>"
      ],
      "text/plain": [
       "              Pacientes         Mujeres         Varones Edad (<30 años)  \\\n",
       "CIDMA    [108, 43.03 %]   [65, 60.19 %]   [43, 39.81 %]    [27, 25.0 %]   \n",
       "Uruguay  [143, 56.97 %]   [70, 48.95 %]   [73, 51.05 %]      [5, 3.5 %]   \n",
       "Total               251  [135, 53.78 %]  [116, 46.22 %]   [32, 12.75 %]   \n",
       "\n",
       "        Edad [30-45 años] Edad (45-65 años] Edad (65-80 años] Edad (>80 años)  \n",
       "CIDMA       [19, 17.59 %]     [30, 27.78 %]     [25, 23.15 %]     [7, 6.48 %]  \n",
       "Uruguay       [9, 6.29 %]     [60, 41.96 %]     [46, 32.17 %]   [23, 16.08 %]  \n",
       "Total       [28, 11.16 %]     [90, 35.86 %]     [71, 28.29 %]   [30, 11.95 %]  "
      ]
     },
     "execution_count": 32,
     "metadata": {},
     "output_type": "execute_result"
    }
   ],
   "source": [
    "partida=pd.DataFrame({\"Pacientes\":[[108,str(round((108*100/251),2))+\" %\"],[143,str(round((143*100/251),2))+\" %\"],251],\n",
    "                     \"Mujeres\":[[65,str(round((65*100/108),2))+\" %\"],[70,str(round((70*100/143),2))+\" %\"],[135,str(round((135*100/251),2))+\" %\"]],\n",
    "                     \"Varones\":[[43,str(round((43*100/108),2))+\" %\"],[73,str(round((73*100/143),2))+\" %\"],[116,str(round((116*100/251),2))+\" %\"]],\n",
    "                     \"Edad (<30 años)\":[[cidma_30,str(round((cidma_30*100/108),2))+\" %\"],[u_30,str(round((u_30*100/143),2))+\" %\"],[32,str(round((32*100/251),2))+\" %\"]],\n",
    "                     \"Edad [30-45 años]\":[[cidma_30_45,str(round((cidma_30_45*100/108),2))+\" %\"],[u_30_45,str(round((u_30_45*100/143),2))+\" %\"],[28,str(round((28*100/251),2))+\" %\"]],\n",
    "                     \"Edad (45-65 años]\":[[cidma_45_65,str(round((cidma_45_65*100/108),2))+\" %\"],[u_45_65,str(round((u_45_65*100/143),2))+\" %\"],[90,str(round((90*100/251),2))+\" %\"]],\n",
    "                     \"Edad (65-80 años]\":[[cidma_65_80,str(round((cidma_65_80*100/108),2))+\" %\"],[u_65_80,str(round((u_65_80*100/143),2))+\" %\"],[71,str(round((71*100/251),2))+\" %\"]],\n",
    "                     \"Edad (>80 años)\":[[cidma_80,str(round((cidma_80*100/108),2))+\" %\"],[u_80,str(round((u_80*100/143),2))+\" %\"],[30,str(round((30*100/251),2))+\" %\"]]}\n",
    "                     ,index=[\"CIDMA\",\"Uruguay\",\"Total\"])\n",
    "partida"
   ]
  },
  {
   "cell_type": "code",
   "execution_count": 33,
   "metadata": {},
   "outputs": [],
   "source": [
    "# Función que crea una nueva variable con los intervalos de edad, para futuras comparaciones\n",
    "def intervalos (e):\n",
    "    if e<30:\n",
    "        return 0\n",
    "    elif 30<=e<=45:\n",
    "        return 1\n",
    "    elif 45<e<=65:\n",
    "        return 2\n",
    "    elif 65<e<=80:\n",
    "        return 3\n",
    "    else:\n",
    "        return 4\n",
    "        "
   ]
  },
  {
   "cell_type": "code",
   "execution_count": 34,
   "metadata": {},
   "outputs": [],
   "source": [
    "datos[\"Edad_inter\"]=datos[\"Edad\"].apply(intervalos)"
   ]
  },
  {
   "cell_type": "code",
   "execution_count": 35,
   "metadata": {},
   "outputs": [
    {
     "data": {
      "text/plain": [
       "2    90\n",
       "3    71\n",
       "0    32\n",
       "4    30\n",
       "1    28\n",
       "Name: Edad_inter, dtype: int64"
      ]
     },
     "execution_count": 35,
     "metadata": {},
     "output_type": "execute_result"
    }
   ],
   "source": [
    "datos[\"Edad_inter\"].value_counts()"
   ]
  },
  {
   "cell_type": "code",
   "execution_count": 36,
   "metadata": {},
   "outputs": [],
   "source": [
    "#La paso a excel para usar en la presentación\n",
    "partida.to_excel(\"datos_base.xlsx\")"
   ]
  },
  {
   "cell_type": "markdown",
   "metadata": {},
   "source": [
    "# Pacientes que no expulsan la cápsula"
   ]
  },
  {
   "cell_type": "code",
   "execution_count": 37,
   "metadata": {},
   "outputs": [],
   "source": [
    "no_evaluable=['No_evaluable_esof','No_evaluable_estom','No_evaluable_del','No_evaluable_col']"
   ]
  },
  {
   "cell_type": "code",
   "execution_count": 38,
   "metadata": {},
   "outputs": [
    {
     "data": {
      "text/plain": [
       "1    179\n",
       "0     71\n",
       "       1\n",
       "Name: Expulsa_cápsula, dtype: int64"
      ]
     },
     "execution_count": 38,
     "metadata": {},
     "output_type": "execute_result"
    }
   ],
   "source": [
    "datos['Expulsa_cápsula'].value_counts()"
   ]
  },
  {
   "cell_type": "code",
   "execution_count": 39,
   "metadata": {},
   "outputs": [],
   "source": [
    "#Al ver que hay un valor no recogido y tras analizarlo.Veo que la paciente no llego a expulsar la cápsula y por ello\n",
    "#lo pongo correctamente\n",
    "datos[datos['Expulsa_cápsula']==\" \"]\n",
    "datos['Expulsa_cápsula'].loc[79]=0"
   ]
  },
  {
   "cell_type": "code",
   "execution_count": 40,
   "metadata": {},
   "outputs": [],
   "source": [
    "#La convierto en int la columna\n",
    "datos['Expulsa_cápsula'] = datos['Expulsa_cápsula'].astype('int64')"
   ]
  },
  {
   "cell_type": "code",
   "execution_count": 41,
   "metadata": {},
   "outputs": [],
   "source": [
    "cidma_no_ex=datos[(datos['Médico']==0) & (datos['Expulsa_cápsula']==0)]\n",
    "u_no_ex=datos[(datos['Médico']==1) & (datos['Expulsa_cápsula']==0)]"
   ]
  },
  {
   "cell_type": "code",
   "execution_count": 42,
   "metadata": {},
   "outputs": [],
   "source": [
    "no_ex_total=len(cidma_no_ex)+len(u_no_ex)"
   ]
  },
  {
   "cell_type": "markdown",
   "metadata": {},
   "source": [
    "De los 251 pacientes, no llegan a expulsar la cápsula:\n",
    "    - CIDMA: 39 pacientes\n",
    "    - Hospital Italiano: 33 pacientes\n",
    "    - Total: 73 pacientes\n",
    "\n",
    "Ahora voy a ver en que parte del tracto digestivo la cápsula se quedo retenida, sin bateria etc...  "
   ]
  },
  {
   "cell_type": "code",
   "execution_count": 43,
   "metadata": {},
   "outputs": [],
   "source": [
    "#Para ello agrupo las variables de los tiempos de tránsito\n",
    "tiempos=['T_estómago',\n",
    " 'T_ID_total',\n",
    " 'T_colon_total',\n",
    " 'T_expulsión']"
   ]
  },
  {
   "cell_type": "code",
   "execution_count": 44,
   "metadata": {},
   "outputs": [
    {
     "data": {
      "text/html": [
       "<div>\n",
       "<style scoped>\n",
       "    .dataframe tbody tr th:only-of-type {\n",
       "        vertical-align: middle;\n",
       "    }\n",
       "\n",
       "    .dataframe tbody tr th {\n",
       "        vertical-align: top;\n",
       "    }\n",
       "\n",
       "    .dataframe thead th {\n",
       "        text-align: right;\n",
       "    }\n",
       "</style>\n",
       "<table border=\"1\" class=\"dataframe\">\n",
       "  <thead>\n",
       "    <tr style=\"text-align: right;\">\n",
       "      <th></th>\n",
       "      <th>T_estómago</th>\n",
       "      <th>T_ID_total</th>\n",
       "      <th>T_colon_total</th>\n",
       "      <th>T_expulsión</th>\n",
       "    </tr>\n",
       "  </thead>\n",
       "  <tbody>\n",
       "    <tr>\n",
       "      <th>1</th>\n",
       "      <td>126</td>\n",
       "      <td>41</td>\n",
       "      <td>500</td>\n",
       "      <td>0</td>\n",
       "    </tr>\n",
       "    <tr>\n",
       "      <th>3</th>\n",
       "      <td>660</td>\n",
       "      <td>0</td>\n",
       "      <td>0</td>\n",
       "      <td>0</td>\n",
       "    </tr>\n",
       "    <tr>\n",
       "      <th>6</th>\n",
       "      <td>81</td>\n",
       "      <td>8</td>\n",
       "      <td>509</td>\n",
       "      <td>0</td>\n",
       "    </tr>\n",
       "    <tr>\n",
       "      <th>9</th>\n",
       "      <td>124</td>\n",
       "      <td>53</td>\n",
       "      <td>559</td>\n",
       "      <td></td>\n",
       "    </tr>\n",
       "    <tr>\n",
       "      <th>11</th>\n",
       "      <td>40</td>\n",
       "      <td>82</td>\n",
       "      <td></td>\n",
       "      <td>0</td>\n",
       "    </tr>\n",
       "    <tr>\n",
       "      <th>13</th>\n",
       "      <td></td>\n",
       "      <td></td>\n",
       "      <td></td>\n",
       "      <td>0</td>\n",
       "    </tr>\n",
       "    <tr>\n",
       "      <th>20</th>\n",
       "      <td>33</td>\n",
       "      <td>57</td>\n",
       "      <td></td>\n",
       "      <td>0</td>\n",
       "    </tr>\n",
       "    <tr>\n",
       "      <th>22</th>\n",
       "      <td>36</td>\n",
       "      <td>87</td>\n",
       "      <td>509</td>\n",
       "      <td>0</td>\n",
       "    </tr>\n",
       "    <tr>\n",
       "      <th>26</th>\n",
       "      <td>221</td>\n",
       "      <td>108</td>\n",
       "      <td></td>\n",
       "      <td>0</td>\n",
       "    </tr>\n",
       "    <tr>\n",
       "      <th>27</th>\n",
       "      <td>76</td>\n",
       "      <td></td>\n",
       "      <td>0</td>\n",
       "      <td>0</td>\n",
       "    </tr>\n",
       "    <tr>\n",
       "      <th>28</th>\n",
       "      <td></td>\n",
       "      <td></td>\n",
       "      <td>0</td>\n",
       "      <td>0</td>\n",
       "    </tr>\n",
       "    <tr>\n",
       "      <th>32</th>\n",
       "      <td>34</td>\n",
       "      <td>57</td>\n",
       "      <td></td>\n",
       "      <td>0</td>\n",
       "    </tr>\n",
       "    <tr>\n",
       "      <th>36</th>\n",
       "      <td>22</td>\n",
       "      <td>29</td>\n",
       "      <td>609</td>\n",
       "      <td>0</td>\n",
       "    </tr>\n",
       "    <tr>\n",
       "      <th>42</th>\n",
       "      <td>40</td>\n",
       "      <td>290</td>\n",
       "      <td></td>\n",
       "      <td>0</td>\n",
       "    </tr>\n",
       "    <tr>\n",
       "      <th>43</th>\n",
       "      <td>660</td>\n",
       "      <td>0</td>\n",
       "      <td>0</td>\n",
       "      <td>0</td>\n",
       "    </tr>\n",
       "    <tr>\n",
       "      <th>45</th>\n",
       "      <td></td>\n",
       "      <td>124</td>\n",
       "      <td></td>\n",
       "      <td>0</td>\n",
       "    </tr>\n",
       "    <tr>\n",
       "      <th>59</th>\n",
       "      <td>662</td>\n",
       "      <td>0</td>\n",
       "      <td>0</td>\n",
       "      <td>0</td>\n",
       "    </tr>\n",
       "    <tr>\n",
       "      <th>64</th>\n",
       "      <td>193</td>\n",
       "      <td>40</td>\n",
       "      <td>372</td>\n",
       "      <td>0</td>\n",
       "    </tr>\n",
       "    <tr>\n",
       "      <th>65</th>\n",
       "      <td>87</td>\n",
       "      <td>145</td>\n",
       "      <td></td>\n",
       "      <td>0</td>\n",
       "    </tr>\n",
       "    <tr>\n",
       "      <th>70</th>\n",
       "      <td>2</td>\n",
       "      <td>58</td>\n",
       "      <td></td>\n",
       "      <td>0</td>\n",
       "    </tr>\n",
       "    <tr>\n",
       "      <th>72</th>\n",
       "      <td>48</td>\n",
       "      <td>316</td>\n",
       "      <td></td>\n",
       "      <td>0</td>\n",
       "    </tr>\n",
       "    <tr>\n",
       "      <th>83</th>\n",
       "      <td>63</td>\n",
       "      <td>40</td>\n",
       "      <td>960</td>\n",
       "      <td>0</td>\n",
       "    </tr>\n",
       "    <tr>\n",
       "      <th>95</th>\n",
       "      <td></td>\n",
       "      <td>0</td>\n",
       "      <td>0</td>\n",
       "      <td>0</td>\n",
       "    </tr>\n",
       "    <tr>\n",
       "      <th>98</th>\n",
       "      <td>49</td>\n",
       "      <td>52</td>\n",
       "      <td></td>\n",
       "      <td>0</td>\n",
       "    </tr>\n",
       "    <tr>\n",
       "      <th>109</th>\n",
       "      <td>53</td>\n",
       "      <td>110</td>\n",
       "      <td></td>\n",
       "      <td>0</td>\n",
       "    </tr>\n",
       "    <tr>\n",
       "      <th>117</th>\n",
       "      <td>38</td>\n",
       "      <td>76</td>\n",
       "      <td></td>\n",
       "      <td>0</td>\n",
       "    </tr>\n",
       "    <tr>\n",
       "      <th>149</th>\n",
       "      <td>1</td>\n",
       "      <td>336</td>\n",
       "      <td></td>\n",
       "      <td>0</td>\n",
       "    </tr>\n",
       "    <tr>\n",
       "      <th>159</th>\n",
       "      <td>57</td>\n",
       "      <td></td>\n",
       "      <td></td>\n",
       "      <td>0</td>\n",
       "    </tr>\n",
       "    <tr>\n",
       "      <th>224</th>\n",
       "      <td>98</td>\n",
       "      <td>47</td>\n",
       "      <td></td>\n",
       "      <td>0</td>\n",
       "    </tr>\n",
       "    <tr>\n",
       "      <th>225</th>\n",
       "      <td>264</td>\n",
       "      <td>105</td>\n",
       "      <td>366</td>\n",
       "      <td>0</td>\n",
       "    </tr>\n",
       "    <tr>\n",
       "      <th>231</th>\n",
       "      <td>42</td>\n",
       "      <td>102</td>\n",
       "      <td>566</td>\n",
       "      <td>0</td>\n",
       "    </tr>\n",
       "    <tr>\n",
       "      <th>236</th>\n",
       "      <td></td>\n",
       "      <td></td>\n",
       "      <td></td>\n",
       "      <td>0</td>\n",
       "    </tr>\n",
       "    <tr>\n",
       "      <th>247</th>\n",
       "      <td>53</td>\n",
       "      <td></td>\n",
       "      <td></td>\n",
       "      <td>0</td>\n",
       "    </tr>\n",
       "  </tbody>\n",
       "</table>\n",
       "</div>"
      ],
      "text/plain": [
       "    T_estómago T_ID_total T_colon_total T_expulsión\n",
       "1          126         41           500           0\n",
       "3          660          0             0           0\n",
       "6           81          8           509           0\n",
       "9          124         53           559            \n",
       "11          40         82                         0\n",
       "13                                                0\n",
       "20          33         57                         0\n",
       "22          36         87           509           0\n",
       "26         221        108                         0\n",
       "27          76                        0           0\n",
       "28                                    0           0\n",
       "32          34         57                         0\n",
       "36          22         29           609           0\n",
       "42          40        290                         0\n",
       "43         660          0             0           0\n",
       "45                    124                         0\n",
       "59         662          0             0           0\n",
       "64         193         40           372           0\n",
       "65          87        145                         0\n",
       "70           2         58                         0\n",
       "72          48        316                         0\n",
       "83          63         40           960           0\n",
       "95                      0             0           0\n",
       "98          49         52                         0\n",
       "109         53        110                         0\n",
       "117         38         76                         0\n",
       "149          1        336                         0\n",
       "159         57                                    0\n",
       "224         98         47                         0\n",
       "225        264        105           366           0\n",
       "231         42        102           566           0\n",
       "236                                               0\n",
       "247         53                                    0"
      ]
     },
     "execution_count": 44,
     "metadata": {},
     "output_type": "execute_result"
    }
   ],
   "source": [
    "#Al ser pocos datos y no haber un criterio unificador de los tiempos, decido analizar las columnas y contarlo\n",
    "#manualmente\n",
    "cidma_no_ex[tiempos]\n",
    "u_no_ex[tiempos]"
   ]
  },
  {
   "cell_type": "code",
   "execution_count": 45,
   "metadata": {},
   "outputs": [],
   "source": [
    "cidma_colon=34\n",
    "cidma_no_colon=5\n",
    "u_colon=24\n",
    "u_no_colon=9"
   ]
  },
  {
   "cell_type": "markdown",
   "metadata": {},
   "source": [
    "Creo dos variables para hacer tablas resúmenes"
   ]
  },
  {
   "cell_type": "code",
   "execution_count": 46,
   "metadata": {},
   "outputs": [],
   "source": [
    "#Función para calcular el porcentaje, recibe dos parámetros:\n",
    "# a(Es el valor que equilvadría al 100%) + b(La submuestra que queremos concer su %)\n",
    "def por(a,b):\n",
    "    x=round((b*100/a),2)\n",
    "    return x\n",
    "    "
   ]
  },
  {
   "cell_type": "code",
   "execution_count": 47,
   "metadata": {},
   "outputs": [],
   "source": [
    "#Función para hacer un cuadro para presentar los datos:\n",
    "# c_t: CIDMA total // u_t: Uruguay total // primera: nombre 1º columna // c_p: CIDMA primer valor // u_p: Uruguay primer valor\n",
    "# segunda: (c_s, u_s) // tercera: (c_ter, u_ter)\n",
    "def cuadro(tema,c_t,u_t,primera,c_p,u_p,segunda,c_s,u_s,tercera=0,c_ter=0,u_ter=0):\n",
    "    x=pd.DataFrame({tema:[c_t,u_t],\n",
    "                    primera:[[c_p,por(c_t,c_p)],[u_p,por(u_t,u_p)]], \n",
    "                         segunda:[[c_s,por(c_t,c_s)],[u_s,por(u_t,u_s)]],\n",
    "                       tercera:[[c_ter,por(c_t,c_ter)],[u_ter,por(u_t,u_ter)]],}\n",
    "                        ,index=[\"Cidma\",\"Uruguay\"])\n",
    "    return x"
   ]
  },
  {
   "cell_type": "code",
   "execution_count": 48,
   "metadata": {},
   "outputs": [],
   "source": [
    "#Número de pacientes en los que no se llega a ver el recto\n",
    "c_no_recto=len(cidma_no_ex[cidma_no_ex[\"Recto\"]==0])"
   ]
  },
  {
   "cell_type": "code",
   "execution_count": 49,
   "metadata": {},
   "outputs": [],
   "source": [
    "u_no_recto=len(u_no_ex[u_no_ex[\"Recto\"]==0])"
   ]
  },
  {
   "cell_type": "code",
   "execution_count": 50,
   "metadata": {},
   "outputs": [
    {
     "data": {
      "text/html": [
       "<div>\n",
       "<style scoped>\n",
       "    .dataframe tbody tr th:only-of-type {\n",
       "        vertical-align: middle;\n",
       "    }\n",
       "\n",
       "    .dataframe tbody tr th {\n",
       "        vertical-align: top;\n",
       "    }\n",
       "\n",
       "    .dataframe thead th {\n",
       "        text-align: right;\n",
       "    }\n",
       "</style>\n",
       "<table border=\"1\" class=\"dataframe\">\n",
       "  <thead>\n",
       "    <tr style=\"text-align: right;\">\n",
       "      <th></th>\n",
       "      <th>No expulsadas</th>\n",
       "      <th>Retención en colon</th>\n",
       "      <th>No llega al colon</th>\n",
       "      <th>No visión recto</th>\n",
       "    </tr>\n",
       "  </thead>\n",
       "  <tbody>\n",
       "    <tr>\n",
       "      <th>Cidma</th>\n",
       "      <td>39</td>\n",
       "      <td>[34, 87.18]</td>\n",
       "      <td>[5, 12.82]</td>\n",
       "      <td>[21, 53.85]</td>\n",
       "    </tr>\n",
       "    <tr>\n",
       "      <th>Uruguay</th>\n",
       "      <td>33</td>\n",
       "      <td>[24, 72.73]</td>\n",
       "      <td>[9, 27.27]</td>\n",
       "      <td>[30, 90.91]</td>\n",
       "    </tr>\n",
       "  </tbody>\n",
       "</table>\n",
       "</div>"
      ],
      "text/plain": [
       "         No expulsadas Retención en colon No llega al colon No visión recto\n",
       "Cidma               39        [34, 87.18]        [5, 12.82]     [21, 53.85]\n",
       "Uruguay             33        [24, 72.73]        [9, 27.27]     [30, 90.91]"
      ]
     },
     "execution_count": 50,
     "metadata": {},
     "output_type": "execute_result"
    }
   ],
   "source": [
    "cuadro(\"No expulsadas\",len(cidma_no_ex),len(u_no_ex),\"Retención en colon\",cidma_colon,u_colon,\"No llega al colon\",cidma_no_colon,u_no_colon,\n",
    "      \"No visión recto\",c_no_recto,u_no_recto)"
   ]
  },
  {
   "cell_type": "code",
   "execution_count": 51,
   "metadata": {},
   "outputs": [
    {
     "name": "stdout",
     "output_type": "stream",
     "text": [
      "Edad media de los pacientes que no expulsaron la cápsula en CIDMA 50.69230769230769\n",
      "Edad media de los pacientes que no expulsaron la cápsula en Uruguay 66.60606060606061\n"
     ]
    }
   ],
   "source": [
    "print(\"Edad media de los pacientes que no expulsaron la cápsula en CIDMA {}\".format(cidma_no_ex[\"Edad\"].mean()))\n",
    "print(\"Edad media de los pacientes que no expulsaron la cápsula en Uruguay {}\".format(u_no_ex[\"Edad\"].mean()))"
   ]
  },
  {
   "cell_type": "code",
   "execution_count": 52,
   "metadata": {},
   "outputs": [
    {
     "data": {
      "text/plain": [
       "3    11\n",
       "0    11\n",
       "2     9\n",
       "1     5\n",
       "4     3\n",
       "Name: Edad_inter, dtype: int64"
      ]
     },
     "execution_count": 52,
     "metadata": {},
     "output_type": "execute_result"
    }
   ],
   "source": [
    "#Miro los distintos intervalos de edades\n",
    "cidma_no_ex[\"Edad_inter\"].value_counts()"
   ]
  },
  {
   "cell_type": "code",
   "execution_count": 53,
   "metadata": {},
   "outputs": [
    {
     "data": {
      "text/plain": [
       "Médico                     0.000000\n",
       "Tipo_cápsula               0.909091\n",
       "ID                       162.727273\n",
       "Sexo                       0.363636\n",
       "Edad                      22.272727\n",
       "                          ...      \n",
       "Intro_cápsula              0.000000\n",
       "Complicaciones        909090.909091\n",
       "Hernia_hiato_total         0.181818\n",
       "Enf_II                     0.000000\n",
       "Edad_inter                 0.000000\n",
       "Length: 143, dtype: float64"
      ]
     },
     "execution_count": 53,
     "metadata": {},
     "output_type": "execute_result"
    }
   ],
   "source": [
    "cidma_no_ex[cidma_no_ex[\"Edad_inter\"]==0].mean()"
   ]
  },
  {
   "cell_type": "code",
   "execution_count": 54,
   "metadata": {},
   "outputs": [
    {
     "data": {
      "text/plain": [
       "2    16\n",
       "3    12\n",
       "4     4\n",
       "1     1\n",
       "Name: Edad_inter, dtype: int64"
      ]
     },
     "execution_count": 54,
     "metadata": {},
     "output_type": "execute_result"
    }
   ],
   "source": [
    "u_no_ex[\"Edad_inter\"].value_counts()"
   ]
  },
  {
   "cell_type": "code",
   "execution_count": 55,
   "metadata": {},
   "outputs": [
    {
     "data": {
      "text/plain": [
       "7"
      ]
     },
     "execution_count": 55,
     "metadata": {},
     "output_type": "execute_result"
    }
   ],
   "source": [
    "#Pacientes menores de 30 años de cidma con calidad de preparación inferior a excelente\n",
    "len(cidma_no_ex[((cidma_no_ex['Calidad_preparación']==0) | (cidma_no_ex['Calidad_preparación']==1) \n",
    "                 |(cidma_no_ex['Calidad_preparación']==2))\n",
    "                   & (cidma_no_ex['Edad_inter']==0) ])"
   ]
  },
  {
   "cell_type": "code",
   "execution_count": 56,
   "metadata": {},
   "outputs": [],
   "source": [
    "#Agrupo las columnas medicamento en una única variable para su mejor análisis\n",
    "medicacion=['Laxantes'\n",
    "    ,'Antidiabético',\n",
    " 'AINE',\n",
    " 'Antiagregante',\n",
    " 'Anticoagulante',\n",
    " 'Benzodiacepina',\n",
    " 'ARAII',\n",
    " 'IBP',\n",
    " 'Inmunosupresores',\n",
    " 'Diurético',\n",
    " 'Antiemético',\n",
    " 'Vitaminas',\n",
    " 'Antimicrobiano',\n",
    " 'Otros_med']"
   ]
  },
  {
   "cell_type": "code",
   "execution_count": 57,
   "metadata": {},
   "outputs": [
    {
     "data": {
      "text/html": [
       "<div>\n",
       "<style scoped>\n",
       "    .dataframe tbody tr th:only-of-type {\n",
       "        vertical-align: middle;\n",
       "    }\n",
       "\n",
       "    .dataframe tbody tr th {\n",
       "        vertical-align: top;\n",
       "    }\n",
       "\n",
       "    .dataframe thead th {\n",
       "        text-align: right;\n",
       "    }\n",
       "</style>\n",
       "<table border=\"1\" class=\"dataframe\">\n",
       "  <thead>\n",
       "    <tr style=\"text-align: right;\">\n",
       "      <th></th>\n",
       "      <th>Laxantes</th>\n",
       "      <th>Antidiabético</th>\n",
       "      <th>AINE</th>\n",
       "      <th>Antiagregante</th>\n",
       "      <th>Anticoagulante</th>\n",
       "      <th>Benzodiacepina</th>\n",
       "      <th>ARAII</th>\n",
       "      <th>IBP</th>\n",
       "      <th>Inmunosupresores</th>\n",
       "      <th>Diurético</th>\n",
       "      <th>Antiemético</th>\n",
       "      <th>Vitaminas</th>\n",
       "      <th>Antimicrobiano</th>\n",
       "      <th>Otros_med</th>\n",
       "    </tr>\n",
       "  </thead>\n",
       "  <tbody>\n",
       "    <tr>\n",
       "      <th>63</th>\n",
       "      <td>0</td>\n",
       "      <td>0</td>\n",
       "      <td>0</td>\n",
       "      <td>0</td>\n",
       "      <td>1</td>\n",
       "      <td>0</td>\n",
       "      <td>0</td>\n",
       "      <td>1</td>\n",
       "      <td>0</td>\n",
       "      <td>0</td>\n",
       "      <td>0</td>\n",
       "      <td>0</td>\n",
       "      <td>0</td>\n",
       "      <td>1</td>\n",
       "    </tr>\n",
       "    <tr>\n",
       "      <th>106</th>\n",
       "      <td>0</td>\n",
       "      <td>0</td>\n",
       "      <td>0</td>\n",
       "      <td>0</td>\n",
       "      <td>0</td>\n",
       "      <td>0</td>\n",
       "      <td>0</td>\n",
       "      <td>0</td>\n",
       "      <td>0</td>\n",
       "      <td>0</td>\n",
       "      <td>0</td>\n",
       "      <td>0</td>\n",
       "      <td>0</td>\n",
       "      <td>0</td>\n",
       "    </tr>\n",
       "    <tr>\n",
       "      <th>154</th>\n",
       "      <td>0</td>\n",
       "      <td>0</td>\n",
       "      <td>1</td>\n",
       "      <td>0</td>\n",
       "      <td>0</td>\n",
       "      <td>0</td>\n",
       "      <td>0</td>\n",
       "      <td>0</td>\n",
       "      <td>0</td>\n",
       "      <td>0</td>\n",
       "      <td>0</td>\n",
       "      <td>0</td>\n",
       "      <td>0</td>\n",
       "      <td>0</td>\n",
       "    </tr>\n",
       "    <tr>\n",
       "      <th>160</th>\n",
       "      <td>0</td>\n",
       "      <td>0</td>\n",
       "      <td>0</td>\n",
       "      <td>0</td>\n",
       "      <td>0</td>\n",
       "      <td>0</td>\n",
       "      <td>0</td>\n",
       "      <td>0</td>\n",
       "      <td>0</td>\n",
       "      <td>0</td>\n",
       "      <td>0</td>\n",
       "      <td>0</td>\n",
       "      <td>0</td>\n",
       "      <td>0</td>\n",
       "    </tr>\n",
       "    <tr>\n",
       "      <th>161</th>\n",
       "      <td>0</td>\n",
       "      <td>0</td>\n",
       "      <td>0</td>\n",
       "      <td>0</td>\n",
       "      <td>0</td>\n",
       "      <td>0</td>\n",
       "      <td>0</td>\n",
       "      <td>1</td>\n",
       "      <td>0</td>\n",
       "      <td>0</td>\n",
       "      <td>1</td>\n",
       "      <td>0</td>\n",
       "      <td>0</td>\n",
       "      <td>0</td>\n",
       "    </tr>\n",
       "    <tr>\n",
       "      <th>163</th>\n",
       "      <td>0</td>\n",
       "      <td>0</td>\n",
       "      <td>0</td>\n",
       "      <td>0</td>\n",
       "      <td>0</td>\n",
       "      <td>0</td>\n",
       "      <td>0</td>\n",
       "      <td>0</td>\n",
       "      <td>0</td>\n",
       "      <td>0</td>\n",
       "      <td>0</td>\n",
       "      <td>0</td>\n",
       "      <td>0</td>\n",
       "      <td>1</td>\n",
       "    </tr>\n",
       "    <tr>\n",
       "      <th>165</th>\n",
       "      <td>0</td>\n",
       "      <td>0</td>\n",
       "      <td>0</td>\n",
       "      <td>0</td>\n",
       "      <td>0</td>\n",
       "      <td>0</td>\n",
       "      <td>0</td>\n",
       "      <td>0</td>\n",
       "      <td>0</td>\n",
       "      <td>0</td>\n",
       "      <td>0</td>\n",
       "      <td>0</td>\n",
       "      <td>0</td>\n",
       "      <td>0</td>\n",
       "    </tr>\n",
       "    <tr>\n",
       "      <th>194</th>\n",
       "      <td>0</td>\n",
       "      <td>0</td>\n",
       "      <td>0</td>\n",
       "      <td>0</td>\n",
       "      <td>0</td>\n",
       "      <td>0</td>\n",
       "      <td>0</td>\n",
       "      <td>0</td>\n",
       "      <td>0</td>\n",
       "      <td>0</td>\n",
       "      <td>0</td>\n",
       "      <td>0</td>\n",
       "      <td>0</td>\n",
       "      <td>0</td>\n",
       "    </tr>\n",
       "    <tr>\n",
       "      <th>197</th>\n",
       "      <td>0</td>\n",
       "      <td>0</td>\n",
       "      <td>0</td>\n",
       "      <td>0</td>\n",
       "      <td>0</td>\n",
       "      <td>0</td>\n",
       "      <td>0</td>\n",
       "      <td>0</td>\n",
       "      <td>0</td>\n",
       "      <td>0</td>\n",
       "      <td>0</td>\n",
       "      <td>0</td>\n",
       "      <td>0</td>\n",
       "      <td>0</td>\n",
       "    </tr>\n",
       "    <tr>\n",
       "      <th>207</th>\n",
       "      <td>0</td>\n",
       "      <td>0</td>\n",
       "      <td>0</td>\n",
       "      <td>0</td>\n",
       "      <td>0</td>\n",
       "      <td>0</td>\n",
       "      <td>0</td>\n",
       "      <td>0</td>\n",
       "      <td>0</td>\n",
       "      <td>0</td>\n",
       "      <td>0</td>\n",
       "      <td>0</td>\n",
       "      <td>0</td>\n",
       "      <td>0</td>\n",
       "    </tr>\n",
       "    <tr>\n",
       "      <th>209</th>\n",
       "      <td>0</td>\n",
       "      <td>0</td>\n",
       "      <td>0</td>\n",
       "      <td>0</td>\n",
       "      <td>0</td>\n",
       "      <td>0</td>\n",
       "      <td>0</td>\n",
       "      <td>0</td>\n",
       "      <td>0</td>\n",
       "      <td>0</td>\n",
       "      <td>0</td>\n",
       "      <td>0</td>\n",
       "      <td>0</td>\n",
       "      <td>0</td>\n",
       "    </tr>\n",
       "  </tbody>\n",
       "</table>\n",
       "</div>"
      ],
      "text/plain": [
       "     Laxantes  Antidiabético  AINE  Antiagregante  Anticoagulante  \\\n",
       "63          0              0     0              0               1   \n",
       "106         0              0     0              0               0   \n",
       "154         0              0     1              0               0   \n",
       "160         0              0     0              0               0   \n",
       "161         0              0     0              0               0   \n",
       "163         0              0     0              0               0   \n",
       "165         0              0     0              0               0   \n",
       "194         0              0     0              0               0   \n",
       "197         0              0     0              0               0   \n",
       "207         0              0     0              0               0   \n",
       "209         0              0     0              0               0   \n",
       "\n",
       "     Benzodiacepina  ARAII  IBP  Inmunosupresores  Diurético  Antiemético  \\\n",
       "63                0      0    1                 0          0            0   \n",
       "106               0      0    0                 0          0            0   \n",
       "154               0      0    0                 0          0            0   \n",
       "160               0      0    0                 0          0            0   \n",
       "161               0      0    1                 0          0            1   \n",
       "163               0      0    0                 0          0            0   \n",
       "165               0      0    0                 0          0            0   \n",
       "194               0      0    0                 0          0            0   \n",
       "197               0      0    0                 0          0            0   \n",
       "207               0      0    0                 0          0            0   \n",
       "209               0      0    0                 0          0            0   \n",
       "\n",
       "     Vitaminas  Antimicrobiano  Otros_med  \n",
       "63           0               0          1  \n",
       "106          0               0          0  \n",
       "154          0               0          0  \n",
       "160          0               0          0  \n",
       "161          0               0          0  \n",
       "163          0               0          1  \n",
       "165          0               0          0  \n",
       "194          0               0          0  \n",
       "197          0               0          0  \n",
       "207          0               0          0  \n",
       "209          0               0          0  "
      ]
     },
     "execution_count": 57,
     "metadata": {},
     "output_type": "execute_result"
    }
   ],
   "source": [
    "#Analizo la medicación que toman los pacientes del intervalo de edad 0\n",
    "cidma_no_ex[cidma_no_ex['Edad_inter']==0][medicacion]"
   ]
  },
  {
   "cell_type": "markdown",
   "metadata": {},
   "source": [
    "# <font color='blue'>Expulsión cápsula</font>\n",
    "\n",
    "Como se observa 73 cápsulas no han sido expulsadas, suponiendo el 29% del total de los pacientes. Destacando la elevada retención de ellas en el colon el 79,4%, las cuales llegan a distintas alturas del colon. \n",
    "Llama la antención que el 69,8% no llega a visionar el recto. \n",
    "En cuanto a la edad media de los pacientes, que no llegaron a expulsar es de 50 y 65 años, en CIDMA y el hospital italiano respectivamente. Lo que nos indica que puede exitir un sesgo importante, al equivaler la población en dicho rango de edad al 63% del tamaño muestral. Por ello decido analizar los diferentes rangos de edad. \n",
    "\n",
    "Observandose que efectivamente el hospital italiano tiene tan solo 5 cápsulas fuera del intervalo 45-80 años. Sin embargo la distribución de la edad en CIDMA es mas rica, teniendo dos picos de 11 pacientes cada uno, el primero por debajo de 30 años y el otro entre 65-80 años. \n",
    "\n",
    "Lo que llama la atención es que prácticamente la mitad de los pacientes de menos de 30 años de cidma, no hayan llegado a expulsar las cápsulas. a diferencia con los pacientes menores de 30 del hospital italiano, donde todos llegaron expulsarla. \n",
    "\n",
    "Buscando posibles causas, evaluo las indicaciones de estos pacientes (No expulsa + <30 años) 8 de ellos vienen por dolor abdominal. Ninguno tuvo cirugía previa y solo 2 tomaban algún tipo de medicación previa destacable. Por lo que el motivo principal puede ser la calidad de la preparación, donde se ve que 7 tienen un calidad entre pobre y buena, de los cuales 2 no llegaron a hacer una limpieza de colon adecuada.\n",
    "\n",
    "Esto podría explicarse por la corta edad de los pacientes, con una edad media de 22 años."
   ]
  },
  {
   "cell_type": "markdown",
   "metadata": {},
   "source": [
    "# Porcentaje de pacientes que vinieron con síntomas de dolor abdominal y tuvieron hallazgos en la cápsula. Diferenciando entre el centro en el que fue realizada la prueba."
   ]
  },
  {
   "cell_type": "markdown",
   "metadata": {},
   "source": [
    "Para ello, agrupo primero todas las varibles que representan hallazgos en la cápsula endoscopica. Los agrupo en dos \n",
    "tipos:\n",
    "- Hallazgos que permiten tratamiento sin la necesidad de pruebas complementarias\n",
    "- Hallazgos que harían necesaria la realización de pruebas complementaris para el diagnostico completo.\n",
    "\n",
    "También defino otros conceptos:\n",
    "- Normal: Paciente sin hallazgos patológicos\n",
    "- No evaluable: Por diversos motivos, no se pudo estudiar algun trazo del tracto gastrointestinal completamente."
   ]
  },
  {
   "cell_type": "code",
   "execution_count": 58,
   "metadata": {},
   "outputs": [],
   "source": [
    "hz_Tta=[\"Hernia_hiato_total\",\n",
    " 'RGE_esof',\n",
    " 'Erosiones_esof',\n",
    " 'Erosiones_estom',\n",
    " 'Pólipo_estom',\n",
    " 'Telangiectasias_yey',\n",
    " 'Linfagiectasias_yey',\n",
    " 'Pólipo_yey',\n",
    " 'Diverticulo_íleon',\n",
    "'Erosiones_del',\n",
    " 'Diverticulo_del',\n",
    " 'Enteritis_del',\n",
    " 'Pólipo_del',\n",
    " 'Otros_del',\n",
    " 'Hemorroides',\n",
    " 'Diverticulo_col',\n",
    " 'Diverticulo_C_drch',\n",
    " 'Diverticulo_sig',\n",
    " 'Diverticulo_C_izq',\n",
    " 'Sigmoiditis',\n",
    " 'Proctitis',\n",
    " 'Angiodisplasia_col',\n",
    " 'Pólipo_col',\n",
    " 'Pólipo_C_drch',\n",
    " 'Pólipo_C_asce',\n",
    " 'Pólipo_C_trans',\n",
    " 'Pólipo_C_izq',\n",
    " 'Pólipo_C_desc',\n",
    " 'Pólipo_ciego',\n",
    " 'Pólipo_sig',\n",
    " 'Pólipo_recto',\n",
    " 'Melanosis',\n",
    " 'Otras_col']"
   ]
  },
  {
   "cell_type": "code",
   "execution_count": 59,
   "metadata": {},
   "outputs": [],
   "source": [
    "hz_prueba=['Trast_tránsito_esof',  'Barret_esof',  'Esof_eosinofilica_esof',  'Estenosis_extr_esof',  \n",
    "           'Trast_motilidad_estom','Gastritis_estom',  'Yeyunitis',  'Erosiones_yey',  'Ileitis', \n",
    "           'Erosiones_íleon',  'Pólipo_íleon',  'Erosiones_col', 'Otros_estom',]"
   ]
  },
  {
   "cell_type": "markdown",
   "metadata": {},
   "source": [
    "En cuanto a las variables otros hallazgos de estómago, delgado y colon decido incluirlas en hz_Tta porque en su\n",
    "mayoria son de este tipo, aunque según resultados posteriores decidire si sacarlas, en base a posibles alteraciones \n",
    "en el analisis final."
   ]
  },
  {
   "cell_type": "code",
   "execution_count": 60,
   "metadata": {},
   "outputs": [],
   "source": [
    "cidma_dolor = datos[(datos['Médico']==0) & \n",
    "                (datos['Dolor_abd']==1)]"
   ]
  },
  {
   "cell_type": "code",
   "execution_count": 61,
   "metadata": {},
   "outputs": [
    {
     "data": {
      "text/plain": [
       "(53, 150)"
      ]
     },
     "execution_count": 61,
     "metadata": {},
     "output_type": "execute_result"
    }
   ],
   "source": [
    "#Número de pacientes con dolor abdominal del centro CIDMA\n",
    "cidma_dolor.shape "
   ]
  },
  {
   "cell_type": "code",
   "execution_count": 62,
   "metadata": {},
   "outputs": [
    {
     "name": "stderr",
     "output_type": "stream",
     "text": [
      "/usr/local/Cellar/ipython/7.7.0/libexec/vendor/lib/python3.7/site-packages/ipykernel_launcher.py:1: SettingWithCopyWarning: \n",
      "A value is trying to be set on a copy of a slice from a DataFrame.\n",
      "Try using .loc[row_indexer,col_indexer] = value instead\n",
      "\n",
      "See the caveats in the documentation: http://pandas.pydata.org/pandas-docs/stable/user_guide/indexing.html#returning-a-view-versus-a-copy\n",
      "  \"\"\"Entry point for launching an IPython kernel.\n"
     ]
    }
   ],
   "source": [
    "cidma_dolor[\"Hz_Tta\"] = cidma_dolor[hz_Tta].sum(axis=1)"
   ]
  },
  {
   "cell_type": "code",
   "execution_count": 63,
   "metadata": {},
   "outputs": [
    {
     "data": {
      "text/plain": [
       "39"
      ]
     },
     "execution_count": 63,
     "metadata": {},
     "output_type": "execute_result"
    }
   ],
   "source": [
    "#Número de pacientes con hallazgos para futuras terapías\n",
    "len(cidma_dolor[cidma_dolor[\"Hz_Tta\"]>=1])"
   ]
  },
  {
   "cell_type": "code",
   "execution_count": 64,
   "metadata": {},
   "outputs": [
    {
     "name": "stderr",
     "output_type": "stream",
     "text": [
      "/usr/local/Cellar/ipython/7.7.0/libexec/vendor/lib/python3.7/site-packages/ipykernel_launcher.py:1: SettingWithCopyWarning: \n",
      "A value is trying to be set on a copy of a slice from a DataFrame.\n",
      "Try using .loc[row_indexer,col_indexer] = value instead\n",
      "\n",
      "See the caveats in the documentation: http://pandas.pydata.org/pandas-docs/stable/user_guide/indexing.html#returning-a-view-versus-a-copy\n",
      "  \"\"\"Entry point for launching an IPython kernel.\n"
     ]
    }
   ],
   "source": [
    "cidma_dolor[\"Hz_Prueba\"] = cidma_dolor[hz_prueba].sum(axis=1) "
   ]
  },
  {
   "cell_type": "code",
   "execution_count": 65,
   "metadata": {},
   "outputs": [
    {
     "data": {
      "text/plain": [
       "33"
      ]
     },
     "execution_count": 65,
     "metadata": {},
     "output_type": "execute_result"
    }
   ],
   "source": [
    "#Número de pacientes con hallazgos para futuros estudios\n",
    "len(cidma_dolor[cidma_dolor[\"Hz_Prueba\"]>=1]) "
   ]
  },
  {
   "cell_type": "code",
   "execution_count": 66,
   "metadata": {},
   "outputs": [
    {
     "data": {
      "text/plain": [
       "6"
      ]
     },
     "execution_count": 66,
     "metadata": {},
     "output_type": "execute_result"
    }
   ],
   "source": [
    "#Número de pacientes con hallazgos compatibles con la normalidad\n",
    "pct_normal=cidma_dolor[(cidma_dolor[\"Hz_Tta\"]==0)&\n",
    "(cidma_dolor[\"Hz_Prueba\"]==0)]                     \n",
    "len(pct_normal)"
   ]
  },
  {
   "cell_type": "code",
   "execution_count": 67,
   "metadata": {},
   "outputs": [],
   "source": [
    "no_evaluable=['No_evaluable_esof','No_evaluable_estom','No_evaluable_del','No_evaluable_col']"
   ]
  },
  {
   "cell_type": "code",
   "execution_count": 68,
   "metadata": {},
   "outputs": [
    {
     "data": {
      "text/plain": [
       "15"
      ]
     },
     "execution_count": 68,
     "metadata": {},
     "output_type": "execute_result"
    }
   ],
   "source": [
    "#Número de pacientes con zonas del tracto GI sin posible evaluación\n",
    "no_visi=[]\n",
    "No_visi=[]\n",
    "for e in no_evaluable:\n",
    "    a=cidma_dolor[e].isin([1])\n",
    "    for i in a:\n",
    "        if i==1:\n",
    "            b=cidma_dolor[e][a].index\n",
    "            no_visi.append(b)\n",
    "        elif len(no_visi)>=1:\n",
    "            for j in no_visi:\n",
    "                for x in j:\n",
    "                    No_visi.append(x)\n",
    "        elif len(no_visi)==0:\n",
    "            No_visi=[]\n",
    "\n",
    "NO_VISIBLE=set(No_visi)\n",
    "len(NO_VISIBLE)"
   ]
  },
  {
   "cell_type": "code",
   "execution_count": 69,
   "metadata": {},
   "outputs": [
    {
     "name": "stdout",
     "output_type": "stream",
     "text": [
      "153\n",
      "154\n"
     ]
    }
   ],
   "source": [
    "#Pacientes sin hallazgos patologicos con zonas del tracto gigestivo no evaluables\n",
    "for e in NO_VISIBLE:\n",
    "    for i in pct_normal.index:\n",
    "        if e==i:\n",
    "            print(e)"
   ]
  },
  {
   "cell_type": "code",
   "execution_count": 70,
   "metadata": {},
   "outputs": [
    {
     "data": {
      "text/html": [
       "<div>\n",
       "<style scoped>\n",
       "    .dataframe tbody tr th:only-of-type {\n",
       "        vertical-align: middle;\n",
       "    }\n",
       "\n",
       "    .dataframe tbody tr th {\n",
       "        vertical-align: top;\n",
       "    }\n",
       "\n",
       "    .dataframe thead th {\n",
       "        text-align: right;\n",
       "    }\n",
       "</style>\n",
       "<table border=\"1\" class=\"dataframe\">\n",
       "  <thead>\n",
       "    <tr style=\"text-align: right;\">\n",
       "      <th></th>\n",
       "      <th>No_evaluable_esof</th>\n",
       "      <th>No_evaluable_estom</th>\n",
       "      <th>No_evaluable_del</th>\n",
       "      <th>No_evaluable_col</th>\n",
       "    </tr>\n",
       "  </thead>\n",
       "  <tbody>\n",
       "    <tr>\n",
       "      <th>153</th>\n",
       "      <td>0</td>\n",
       "      <td>0</td>\n",
       "      <td>1</td>\n",
       "      <td>0</td>\n",
       "    </tr>\n",
       "    <tr>\n",
       "      <th>154</th>\n",
       "      <td>0</td>\n",
       "      <td>0</td>\n",
       "      <td>0</td>\n",
       "      <td>1</td>\n",
       "    </tr>\n",
       "  </tbody>\n",
       "</table>\n",
       "</div>"
      ],
      "text/plain": [
       "     No_evaluable_esof  No_evaluable_estom  No_evaluable_del  No_evaluable_col\n",
       "153                  0                   0                 1                 0\n",
       "154                  0                   0                 0                 1"
      ]
     },
     "execution_count": 70,
     "metadata": {},
     "output_type": "execute_result"
    }
   ],
   "source": [
    "cidma_dolor[no_evaluable].loc[153:154]"
   ]
  },
  {
   "cell_type": "code",
   "execution_count": 71,
   "metadata": {},
   "outputs": [
    {
     "data": {
      "text/html": [
       "<div>\n",
       "<style scoped>\n",
       "    .dataframe tbody tr th:only-of-type {\n",
       "        vertical-align: middle;\n",
       "    }\n",
       "\n",
       "    .dataframe tbody tr th {\n",
       "        vertical-align: top;\n",
       "    }\n",
       "\n",
       "    .dataframe thead th {\n",
       "        text-align: right;\n",
       "    }\n",
       "</style>\n",
       "<table border=\"1\" class=\"dataframe\">\n",
       "  <thead>\n",
       "    <tr style=\"text-align: right;\">\n",
       "      <th></th>\n",
       "      <th>No_evaluable_esof</th>\n",
       "      <th>No_evaluable_estom</th>\n",
       "      <th>No_evaluable_del</th>\n",
       "      <th>No_evaluable_col</th>\n",
       "    </tr>\n",
       "  </thead>\n",
       "  <tbody>\n",
       "    <tr>\n",
       "      <th>105</th>\n",
       "      <td>0</td>\n",
       "      <td>0</td>\n",
       "      <td>0</td>\n",
       "      <td>1</td>\n",
       "    </tr>\n",
       "    <tr>\n",
       "      <th>114</th>\n",
       "      <td>0</td>\n",
       "      <td>0</td>\n",
       "      <td>0</td>\n",
       "      <td>1</td>\n",
       "    </tr>\n",
       "    <tr>\n",
       "      <th>130</th>\n",
       "      <td>0</td>\n",
       "      <td>0</td>\n",
       "      <td>0</td>\n",
       "      <td>1</td>\n",
       "    </tr>\n",
       "    <tr>\n",
       "      <th>153</th>\n",
       "      <td>0</td>\n",
       "      <td>0</td>\n",
       "      <td>1</td>\n",
       "      <td>0</td>\n",
       "    </tr>\n",
       "    <tr>\n",
       "      <th>154</th>\n",
       "      <td>0</td>\n",
       "      <td>0</td>\n",
       "      <td>0</td>\n",
       "      <td>1</td>\n",
       "    </tr>\n",
       "    <tr>\n",
       "      <th>156</th>\n",
       "      <td>0</td>\n",
       "      <td>0</td>\n",
       "      <td>0</td>\n",
       "      <td>1</td>\n",
       "    </tr>\n",
       "    <tr>\n",
       "      <th>160</th>\n",
       "      <td>0</td>\n",
       "      <td>0</td>\n",
       "      <td>0</td>\n",
       "      <td>1</td>\n",
       "    </tr>\n",
       "    <tr>\n",
       "      <th>165</th>\n",
       "      <td>0</td>\n",
       "      <td>0</td>\n",
       "      <td>0</td>\n",
       "      <td>1</td>\n",
       "    </tr>\n",
       "    <tr>\n",
       "      <th>166</th>\n",
       "      <td>0</td>\n",
       "      <td>1</td>\n",
       "      <td>0</td>\n",
       "      <td>0</td>\n",
       "    </tr>\n",
       "    <tr>\n",
       "      <th>180</th>\n",
       "      <td>0</td>\n",
       "      <td>0</td>\n",
       "      <td>1</td>\n",
       "      <td>1</td>\n",
       "    </tr>\n",
       "    <tr>\n",
       "      <th>201</th>\n",
       "      <td>0</td>\n",
       "      <td>0</td>\n",
       "      <td>1</td>\n",
       "      <td>0</td>\n",
       "    </tr>\n",
       "    <tr>\n",
       "      <th>202</th>\n",
       "      <td>1</td>\n",
       "      <td>1</td>\n",
       "      <td>0</td>\n",
       "      <td>0</td>\n",
       "    </tr>\n",
       "    <tr>\n",
       "      <th>203</th>\n",
       "      <td>1</td>\n",
       "      <td>1</td>\n",
       "      <td>0</td>\n",
       "      <td>1</td>\n",
       "    </tr>\n",
       "    <tr>\n",
       "      <th>209</th>\n",
       "      <td>0</td>\n",
       "      <td>0</td>\n",
       "      <td>0</td>\n",
       "      <td>1</td>\n",
       "    </tr>\n",
       "    <tr>\n",
       "      <th>211</th>\n",
       "      <td>0</td>\n",
       "      <td>0</td>\n",
       "      <td>1</td>\n",
       "      <td>1</td>\n",
       "    </tr>\n",
       "  </tbody>\n",
       "</table>\n",
       "</div>"
      ],
      "text/plain": [
       "     No_evaluable_esof  No_evaluable_estom  No_evaluable_del  No_evaluable_col\n",
       "105                  0                   0                 0                 1\n",
       "114                  0                   0                 0                 1\n",
       "130                  0                   0                 0                 1\n",
       "153                  0                   0                 1                 0\n",
       "154                  0                   0                 0                 1\n",
       "156                  0                   0                 0                 1\n",
       "160                  0                   0                 0                 1\n",
       "165                  0                   0                 0                 1\n",
       "166                  0                   1                 0                 0\n",
       "180                  0                   0                 1                 1\n",
       "201                  0                   0                 1                 0\n",
       "202                  1                   1                 0                 0\n",
       "203                  1                   1                 0                 1\n",
       "209                  0                   0                 0                 1\n",
       "211                  0                   0                 1                 1"
      ]
     },
     "execution_count": 71,
     "metadata": {},
     "output_type": "execute_result"
    }
   ],
   "source": [
    "#Todos los pacientes con zonas no evaluables\n",
    "cidma_dolor[(cidma_dolor['No_evaluable_esof']==1) | (cidma_dolor[\"No_evaluable_estom\"]==1)\n",
    "       | (cidma_dolor['No_evaluable_del']==1) | (cidma_dolor['No_evaluable_col']==1)][no_evaluable]"
   ]
  },
  {
   "cell_type": "markdown",
   "metadata": {},
   "source": [
    "Como se ve solo dos pacientes no presentarian hallazgos patológicos y tendrían alguna zona del tracto digestivo sin poder evaluar (delgado, colon). En cuanto al resto de pacientes con zonas no evaluables, destacar la zona colónica como la principal área no evaluada con hasta 11 pacientes."
   ]
  },
  {
   "cell_type": "markdown",
   "metadata": {},
   "source": [
    "Ahora veré cuales son los pricipales hallazgos de dichos pacientes.\n",
    "En primer lugar los hallazgos para tratamiento"
   ]
  },
  {
   "cell_type": "code",
   "execution_count": 72,
   "metadata": {},
   "outputs": [],
   "source": [
    "dic={}\n",
    "for e in hz_Tta:\n",
    "    b=cidma_dolor[e].value_counts()\n",
    "    dic[e]=b\n",
    "    "
   ]
  },
  {
   "cell_type": "code",
   "execution_count": 73,
   "metadata": {},
   "outputs": [],
   "source": [
    "hz_Tta_frec={}\n",
    "for e in hz_Tta:\n",
    "    if len(dic[e])>1:\n",
    "        hz_Tta_frec[e]=dic[e][1]"
   ]
  },
  {
   "cell_type": "code",
   "execution_count": 74,
   "metadata": {},
   "outputs": [
    {
     "data": {
      "text/plain": [
       "[('Diverticulo_col', 16),\n",
       " ('Hernia_hiato_total', 14),\n",
       " ('Hemorroides', 14),\n",
       " ('RGE_esof', 9),\n",
       " ('Otras_col', 8),\n",
       " ('Diverticulo_C_izq', 7),\n",
       " ('Diverticulo_sig', 6),\n",
       " ('Erosiones_estom', 5),\n",
       " ('Pólipo_estom', 5),\n",
       " ('Pólipo_col', 5),\n",
       " ('Otros_del', 4),\n",
       " ('Diverticulo_C_drch', 4),\n",
       " ('Linfagiectasias_yey', 3),\n",
       " ('Erosiones_del', 3),\n",
       " ('Enteritis_del', 3),\n",
       " ('Melanosis', 3),\n",
       " ('Angiodisplasia_col', 2),\n",
       " ('Erosiones_esof', 1),\n",
       " ('Diverticulo_íleon', 1),\n",
       " ('Pólipo_C_drch', 1),\n",
       " ('Pólipo_C_izq', 1),\n",
       " ('Pólipo_ciego', 1),\n",
       " ('Pólipo_sig', 1),\n",
       " ('Pólipo_recto', 1)]"
      ]
     },
     "execution_count": 74,
     "metadata": {},
     "output_type": "execute_result"
    }
   ],
   "source": [
    "sorted(hz_Tta_frec.items(), key=operator.itemgetter(1),reverse=True)"
   ]
  },
  {
   "cell_type": "markdown",
   "metadata": {},
   "source": [
    "Como se observa los tres hallazgos principales son:\n",
    "- Diverticulos en colon\n",
    "- Hernia de hiato\n",
    "- Hemorroides"
   ]
  },
  {
   "cell_type": "markdown",
   "metadata": {},
   "source": [
    "En cuanto a los hallazgos para completar estudio"
   ]
  },
  {
   "cell_type": "code",
   "execution_count": 75,
   "metadata": {},
   "outputs": [],
   "source": [
    "dic={}\n",
    "for e in hz_prueba:\n",
    "    b=cidma_dolor[e].value_counts()\n",
    "    dic[e]=b\n",
    "    \n",
    "hz_prueba_frec={}\n",
    "for e in hz_prueba:\n",
    "    if len(dic[e])>1:\n",
    "        hz_prueba_frec[e]=dic[e][1]"
   ]
  },
  {
   "cell_type": "code",
   "execution_count": 76,
   "metadata": {},
   "outputs": [
    {
     "data": {
      "text/plain": [
       "[('Gastritis_estom', 15),\n",
       " ('Yeyunitis', 5),\n",
       " ('Trast_tránsito_esof', 3),\n",
       " ('Erosiones_col', 3),\n",
       " ('Otros_estom', 3),\n",
       " ('Trast_motilidad_estom', 2),\n",
       " ('Erosiones_yey', 2),\n",
       " ('Ileitis', 2),\n",
       " ('Erosiones_íleon', 2),\n",
       " ('Barret_esof', 1),\n",
       " ('Esof_eosinofilica_esof', 1),\n",
       " ('Pólipo_íleon', 1)]"
      ]
     },
     "execution_count": 76,
     "metadata": {},
     "output_type": "execute_result"
    }
   ],
   "source": [
    "sorted(hz_prueba_frec.items(), key=operator.itemgetter(1),reverse=True)"
   ]
  },
  {
   "cell_type": "markdown",
   "metadata": {},
   "source": [
    "Principales hallazgos que necesitaran nuevas pruebas, destacan:\n",
    "- Gastritis (Este triplica la frecuencia del segundo)\n",
    "- Yeyunitis\n",
    "- Trastornos del tránsito esofágico"
   ]
  },
  {
   "cell_type": "markdown",
   "metadata": {},
   "source": [
    "Ahora analizaré las mismas variables en el hospital Italiano"
   ]
  },
  {
   "cell_type": "code",
   "execution_count": 77,
   "metadata": {},
   "outputs": [],
   "source": [
    "uruguay_dolor = datos[(datos['Médico']==1) & \n",
    "                (datos['Dolor_abd']==1)]"
   ]
  },
  {
   "cell_type": "code",
   "execution_count": 78,
   "metadata": {},
   "outputs": [
    {
     "data": {
      "text/plain": [
       "8"
      ]
     },
     "execution_count": 78,
     "metadata": {},
     "output_type": "execute_result"
    }
   ],
   "source": [
    "#Número de pacientes con dolor abdominal en el hospital Italiano\n",
    "len(uruguay_dolor[\"Médico\"])"
   ]
  },
  {
   "cell_type": "code",
   "execution_count": 79,
   "metadata": {
    "scrolled": true
   },
   "outputs": [
    {
     "data": {
      "text/html": [
       "<div>\n",
       "<style scoped>\n",
       "    .dataframe tbody tr th:only-of-type {\n",
       "        vertical-align: middle;\n",
       "    }\n",
       "\n",
       "    .dataframe tbody tr th {\n",
       "        vertical-align: top;\n",
       "    }\n",
       "\n",
       "    .dataframe thead th {\n",
       "        text-align: right;\n",
       "    }\n",
       "</style>\n",
       "<table border=\"1\" class=\"dataframe\">\n",
       "  <thead>\n",
       "    <tr style=\"text-align: right;\">\n",
       "      <th></th>\n",
       "      <th>Hernia_hiato_total</th>\n",
       "      <th>RGE_esof</th>\n",
       "      <th>Erosiones_esof</th>\n",
       "      <th>Erosiones_estom</th>\n",
       "      <th>Pólipo_estom</th>\n",
       "      <th>Telangiectasias_yey</th>\n",
       "      <th>Linfagiectasias_yey</th>\n",
       "      <th>Pólipo_yey</th>\n",
       "      <th>Diverticulo_íleon</th>\n",
       "      <th>Erosiones_del</th>\n",
       "      <th>Diverticulo_del</th>\n",
       "      <th>Enteritis_del</th>\n",
       "      <th>Pólipo_del</th>\n",
       "      <th>Otros_del</th>\n",
       "      <th>Hemorroides</th>\n",
       "      <th>Diverticulo_col</th>\n",
       "      <th>Diverticulo_C_drch</th>\n",
       "      <th>Diverticulo_sig</th>\n",
       "      <th>Diverticulo_C_izq</th>\n",
       "      <th>Sigmoiditis</th>\n",
       "    </tr>\n",
       "  </thead>\n",
       "  <tbody>\n",
       "    <tr>\n",
       "      <th>45</th>\n",
       "      <td>0</td>\n",
       "      <td>0</td>\n",
       "      <td>0</td>\n",
       "      <td>0</td>\n",
       "      <td>0</td>\n",
       "      <td>0</td>\n",
       "      <td>0</td>\n",
       "      <td>0</td>\n",
       "      <td>0</td>\n",
       "      <td>0</td>\n",
       "      <td>0</td>\n",
       "      <td>0</td>\n",
       "      <td>0</td>\n",
       "      <td>0</td>\n",
       "      <td>0</td>\n",
       "      <td>0</td>\n",
       "      <td>0</td>\n",
       "      <td>0</td>\n",
       "      <td>0</td>\n",
       "      <td>0</td>\n",
       "    </tr>\n",
       "    <tr>\n",
       "      <th>65</th>\n",
       "      <td>0</td>\n",
       "      <td>0</td>\n",
       "      <td>0</td>\n",
       "      <td>0</td>\n",
       "      <td>0</td>\n",
       "      <td>0</td>\n",
       "      <td>0</td>\n",
       "      <td>0</td>\n",
       "      <td>0</td>\n",
       "      <td>0</td>\n",
       "      <td>0</td>\n",
       "      <td>0</td>\n",
       "      <td>0</td>\n",
       "      <td>0</td>\n",
       "      <td>0</td>\n",
       "      <td>0</td>\n",
       "      <td>0</td>\n",
       "      <td>0</td>\n",
       "      <td>0</td>\n",
       "      <td>0</td>\n",
       "    </tr>\n",
       "    <tr>\n",
       "      <th>66</th>\n",
       "      <td>0</td>\n",
       "      <td>0</td>\n",
       "      <td>0</td>\n",
       "      <td>0</td>\n",
       "      <td>0</td>\n",
       "      <td>0</td>\n",
       "      <td>0</td>\n",
       "      <td>0</td>\n",
       "      <td>0</td>\n",
       "      <td>0</td>\n",
       "      <td>0</td>\n",
       "      <td>0</td>\n",
       "      <td>0</td>\n",
       "      <td>0</td>\n",
       "      <td>0</td>\n",
       "      <td>0</td>\n",
       "      <td>0</td>\n",
       "      <td>0</td>\n",
       "      <td>0</td>\n",
       "      <td>1</td>\n",
       "    </tr>\n",
       "    <tr>\n",
       "      <th>99</th>\n",
       "      <td>0</td>\n",
       "      <td>0</td>\n",
       "      <td>0</td>\n",
       "      <td>0</td>\n",
       "      <td>0</td>\n",
       "      <td>0</td>\n",
       "      <td>0</td>\n",
       "      <td>0</td>\n",
       "      <td>0</td>\n",
       "      <td>0</td>\n",
       "      <td>0</td>\n",
       "      <td>0</td>\n",
       "      <td>0</td>\n",
       "      <td>0</td>\n",
       "      <td>0</td>\n",
       "      <td>0</td>\n",
       "      <td>0</td>\n",
       "      <td>0</td>\n",
       "      <td>0</td>\n",
       "      <td>0</td>\n",
       "    </tr>\n",
       "    <tr>\n",
       "      <th>152</th>\n",
       "      <td>0</td>\n",
       "      <td>0</td>\n",
       "      <td>0</td>\n",
       "      <td>0</td>\n",
       "      <td>0</td>\n",
       "      <td>0</td>\n",
       "      <td>0</td>\n",
       "      <td>0</td>\n",
       "      <td>0</td>\n",
       "      <td>0</td>\n",
       "      <td>0</td>\n",
       "      <td>0</td>\n",
       "      <td>0</td>\n",
       "      <td>0</td>\n",
       "      <td>0</td>\n",
       "      <td>0</td>\n",
       "      <td>0</td>\n",
       "      <td>0</td>\n",
       "      <td>0</td>\n",
       "      <td>1</td>\n",
       "    </tr>\n",
       "    <tr>\n",
       "      <th>164</th>\n",
       "      <td>0</td>\n",
       "      <td>0</td>\n",
       "      <td>0</td>\n",
       "      <td>0</td>\n",
       "      <td>0</td>\n",
       "      <td>0</td>\n",
       "      <td>0</td>\n",
       "      <td>0</td>\n",
       "      <td>0</td>\n",
       "      <td>0</td>\n",
       "      <td>0</td>\n",
       "      <td>0</td>\n",
       "      <td>0</td>\n",
       "      <td>0</td>\n",
       "      <td>0</td>\n",
       "      <td>0</td>\n",
       "      <td>0</td>\n",
       "      <td>0</td>\n",
       "      <td>0</td>\n",
       "      <td>0</td>\n",
       "    </tr>\n",
       "    <tr>\n",
       "      <th>173</th>\n",
       "      <td>0</td>\n",
       "      <td>0</td>\n",
       "      <td>0</td>\n",
       "      <td>0</td>\n",
       "      <td>0</td>\n",
       "      <td>0</td>\n",
       "      <td>0</td>\n",
       "      <td>0</td>\n",
       "      <td>0</td>\n",
       "      <td>0</td>\n",
       "      <td>0</td>\n",
       "      <td>0</td>\n",
       "      <td>0</td>\n",
       "      <td>0</td>\n",
       "      <td>0</td>\n",
       "      <td>0</td>\n",
       "      <td>0</td>\n",
       "      <td>0</td>\n",
       "      <td>0</td>\n",
       "      <td>0</td>\n",
       "    </tr>\n",
       "    <tr>\n",
       "      <th>250</th>\n",
       "      <td>0</td>\n",
       "      <td>0</td>\n",
       "      <td>0</td>\n",
       "      <td>0</td>\n",
       "      <td>0</td>\n",
       "      <td>0</td>\n",
       "      <td>0</td>\n",
       "      <td>0</td>\n",
       "      <td>0</td>\n",
       "      <td>0</td>\n",
       "      <td>0</td>\n",
       "      <td>0</td>\n",
       "      <td>0</td>\n",
       "      <td>0</td>\n",
       "      <td>0</td>\n",
       "      <td>1</td>\n",
       "      <td>0</td>\n",
       "      <td>1</td>\n",
       "      <td>0</td>\n",
       "      <td>0</td>\n",
       "    </tr>\n",
       "  </tbody>\n",
       "</table>\n",
       "</div>"
      ],
      "text/plain": [
       "     Hernia_hiato_total  RGE_esof  Erosiones_esof  Erosiones_estom  \\\n",
       "45                    0         0               0                0   \n",
       "65                    0         0               0                0   \n",
       "66                    0         0               0                0   \n",
       "99                    0         0               0                0   \n",
       "152                   0         0               0                0   \n",
       "164                   0         0               0                0   \n",
       "173                   0         0               0                0   \n",
       "250                   0         0               0                0   \n",
       "\n",
       "     Pólipo_estom  Telangiectasias_yey  Linfagiectasias_yey  Pólipo_yey  \\\n",
       "45              0                    0                    0           0   \n",
       "65              0                    0                    0           0   \n",
       "66              0                    0                    0           0   \n",
       "99              0                    0                    0           0   \n",
       "152             0                    0                    0           0   \n",
       "164             0                    0                    0           0   \n",
       "173             0                    0                    0           0   \n",
       "250             0                    0                    0           0   \n",
       "\n",
       "     Diverticulo_íleon  Erosiones_del  Diverticulo_del  Enteritis_del  \\\n",
       "45                   0              0                0              0   \n",
       "65                   0              0                0              0   \n",
       "66                   0              0                0              0   \n",
       "99                   0              0                0              0   \n",
       "152                  0              0                0              0   \n",
       "164                  0              0                0              0   \n",
       "173                  0              0                0              0   \n",
       "250                  0              0                0              0   \n",
       "\n",
       "     Pólipo_del  Otros_del  Hemorroides  Diverticulo_col  Diverticulo_C_drch  \\\n",
       "45            0          0            0                0                   0   \n",
       "65            0          0            0                0                   0   \n",
       "66            0          0            0                0                   0   \n",
       "99            0          0            0                0                   0   \n",
       "152           0          0            0                0                   0   \n",
       "164           0          0            0                0                   0   \n",
       "173           0          0            0                0                   0   \n",
       "250           0          0            0                1                   0   \n",
       "\n",
       "    Diverticulo_sig  Diverticulo_C_izq  Sigmoiditis  \n",
       "45                0                  0            0  \n",
       "65                0                  0            0  \n",
       "66                0                  0            1  \n",
       "99                0                  0            0  \n",
       "152               0                  0            1  \n",
       "164               0                  0            0  \n",
       "173               0                  0            0  \n",
       "250               1                  0            0  "
      ]
     },
     "execution_count": 79,
     "metadata": {},
     "output_type": "execute_result"
    }
   ],
   "source": [
    "uruguay_dolor[hz_Tta].iloc[:,:20]"
   ]
  },
  {
   "cell_type": "code",
   "execution_count": 80,
   "metadata": {},
   "outputs": [
    {
     "name": "stderr",
     "output_type": "stream",
     "text": [
      "/usr/local/Cellar/ipython/7.7.0/libexec/vendor/lib/python3.7/site-packages/ipykernel_launcher.py:1: SettingWithCopyWarning: \n",
      "A value is trying to be set on a copy of a slice from a DataFrame.\n",
      "Try using .loc[row_indexer,col_indexer] = value instead\n",
      "\n",
      "See the caveats in the documentation: http://pandas.pydata.org/pandas-docs/stable/user_guide/indexing.html#returning-a-view-versus-a-copy\n",
      "  \"\"\"Entry point for launching an IPython kernel.\n"
     ]
    }
   ],
   "source": [
    "uruguay_dolor[\"Hz_Tta\"] = uruguay_dolor[hz_Tta].sum(axis=1)"
   ]
  },
  {
   "cell_type": "code",
   "execution_count": 81,
   "metadata": {},
   "outputs": [
    {
     "data": {
      "text/plain": [
       "5"
      ]
     },
     "execution_count": 81,
     "metadata": {},
     "output_type": "execute_result"
    }
   ],
   "source": [
    "#Número de pacientes con hallazgos para futuras terapías\n",
    "len(uruguay_dolor[uruguay_dolor[\"Hz_Tta\"]>=1])"
   ]
  },
  {
   "cell_type": "code",
   "execution_count": 82,
   "metadata": {},
   "outputs": [
    {
     "name": "stderr",
     "output_type": "stream",
     "text": [
      "/usr/local/Cellar/ipython/7.7.0/libexec/vendor/lib/python3.7/site-packages/ipykernel_launcher.py:1: SettingWithCopyWarning: \n",
      "A value is trying to be set on a copy of a slice from a DataFrame.\n",
      "Try using .loc[row_indexer,col_indexer] = value instead\n",
      "\n",
      "See the caveats in the documentation: http://pandas.pydata.org/pandas-docs/stable/user_guide/indexing.html#returning-a-view-versus-a-copy\n",
      "  \"\"\"Entry point for launching an IPython kernel.\n"
     ]
    }
   ],
   "source": [
    "uruguay_dolor[\"Hz_Prueba\"] = uruguay_dolor[hz_prueba].sum(axis=1)"
   ]
  },
  {
   "cell_type": "code",
   "execution_count": 83,
   "metadata": {},
   "outputs": [
    {
     "data": {
      "text/plain": [
       "3"
      ]
     },
     "execution_count": 83,
     "metadata": {},
     "output_type": "execute_result"
    }
   ],
   "source": [
    "#Número de pacientes con hallazgos para estudios complementarios\n",
    "len(uruguay_dolor[uruguay_dolor[\"Hz_Prueba\"]>=1])"
   ]
  },
  {
   "cell_type": "code",
   "execution_count": 84,
   "metadata": {},
   "outputs": [
    {
     "data": {
      "text/plain": [
       "3"
      ]
     },
     "execution_count": 84,
     "metadata": {},
     "output_type": "execute_result"
    }
   ],
   "source": [
    "#Número de pacientes con hallazgos compatibles con la normalidad\n",
    "pct_normal_uru=uruguay_dolor[(uruguay_dolor[\"Hz_Tta\"]==0)&\n",
    "(uruguay_dolor[\"Hz_Prueba\"]==0)]                    \n",
    "len(pct_normal_uru)"
   ]
  },
  {
   "cell_type": "code",
   "execution_count": 85,
   "metadata": {
    "scrolled": true
   },
   "outputs": [
    {
     "data": {
      "text/html": [
       "<div>\n",
       "<style scoped>\n",
       "    .dataframe tbody tr th:only-of-type {\n",
       "        vertical-align: middle;\n",
       "    }\n",
       "\n",
       "    .dataframe tbody tr th {\n",
       "        vertical-align: top;\n",
       "    }\n",
       "\n",
       "    .dataframe thead th {\n",
       "        text-align: right;\n",
       "    }\n",
       "</style>\n",
       "<table border=\"1\" class=\"dataframe\">\n",
       "  <thead>\n",
       "    <tr style=\"text-align: right;\">\n",
       "      <th></th>\n",
       "      <th>No_evaluable_esof</th>\n",
       "      <th>No_evaluable_estom</th>\n",
       "      <th>No_evaluable_del</th>\n",
       "      <th>No_evaluable_col</th>\n",
       "    </tr>\n",
       "  </thead>\n",
       "  <tbody>\n",
       "    <tr>\n",
       "      <th>45</th>\n",
       "      <td>0</td>\n",
       "      <td>0</td>\n",
       "      <td>0</td>\n",
       "      <td>0</td>\n",
       "    </tr>\n",
       "    <tr>\n",
       "      <th>65</th>\n",
       "      <td>1</td>\n",
       "      <td>1</td>\n",
       "      <td>0</td>\n",
       "      <td>0</td>\n",
       "    </tr>\n",
       "    <tr>\n",
       "      <th>66</th>\n",
       "      <td>0</td>\n",
       "      <td>0</td>\n",
       "      <td>0</td>\n",
       "      <td>0</td>\n",
       "    </tr>\n",
       "    <tr>\n",
       "      <th>99</th>\n",
       "      <td>0</td>\n",
       "      <td>0</td>\n",
       "      <td>0</td>\n",
       "      <td>0</td>\n",
       "    </tr>\n",
       "    <tr>\n",
       "      <th>152</th>\n",
       "      <td>0</td>\n",
       "      <td>0</td>\n",
       "      <td>0</td>\n",
       "      <td>0</td>\n",
       "    </tr>\n",
       "    <tr>\n",
       "      <th>164</th>\n",
       "      <td>0</td>\n",
       "      <td>0</td>\n",
       "      <td>0</td>\n",
       "      <td>0</td>\n",
       "    </tr>\n",
       "    <tr>\n",
       "      <th>173</th>\n",
       "      <td>0</td>\n",
       "      <td>0</td>\n",
       "      <td>0</td>\n",
       "      <td>0</td>\n",
       "    </tr>\n",
       "    <tr>\n",
       "      <th>250</th>\n",
       "      <td>0</td>\n",
       "      <td>0</td>\n",
       "      <td>0</td>\n",
       "      <td>0</td>\n",
       "    </tr>\n",
       "  </tbody>\n",
       "</table>\n",
       "</div>"
      ],
      "text/plain": [
       "     No_evaluable_esof  No_evaluable_estom  No_evaluable_del  No_evaluable_col\n",
       "45                   0                   0                 0                 0\n",
       "65                   1                   1                 0                 0\n",
       "66                   0                   0                 0                 0\n",
       "99                   0                   0                 0                 0\n",
       "152                  0                   0                 0                 0\n",
       "164                  0                   0                 0                 0\n",
       "173                  0                   0                 0                 0\n",
       "250                  0                   0                 0                 0"
      ]
     },
     "execution_count": 85,
     "metadata": {},
     "output_type": "execute_result"
    }
   ],
   "source": [
    "#Número de pacientes con zonas del tracto GI sin posible evaluación (1)\n",
    "uruguay_dolor[no_evaluable] "
   ]
  },
  {
   "cell_type": "code",
   "execution_count": 86,
   "metadata": {},
   "outputs": [
    {
     "data": {
      "text/plain": [
       "Int64Index([65, 164, 173], dtype='int64')"
      ]
     },
     "execution_count": 86,
     "metadata": {},
     "output_type": "execute_result"
    }
   ],
   "source": [
    "pct_normal_uru.index "
   ]
  },
  {
   "cell_type": "markdown",
   "metadata": {},
   "source": [
    "Como se ve uno de los pacientes (65) que no tiene hallazgos, tiene el esófago y el estómago sin evaluar."
   ]
  },
  {
   "cell_type": "code",
   "execution_count": 87,
   "metadata": {},
   "outputs": [
    {
     "data": {
      "text/plain": [
       "Hernia_hiato_total     0.0\n",
       "RGE_esof               0.0\n",
       "Erosiones_esof         0.0\n",
       "Erosiones_estom        0.0\n",
       "Pólipo_estom           0.0\n",
       "Telangiectasias_yey    0.0\n",
       "Linfagiectasias_yey    0.0\n",
       "Pólipo_yey             0.0\n",
       "Diverticulo_íleon      0.0\n",
       "Erosiones_del          0.0\n",
       "Diverticulo_del        0.0\n",
       "Enteritis_del          0.0\n",
       "Pólipo_del             0.0\n",
       "Otros_del              0.0\n",
       "Hemorroides            0.0\n",
       "Diverticulo_col        1.0\n",
       "Diverticulo_C_drch     0.0\n",
       "Diverticulo_sig        1.0\n",
       "Diverticulo_C_izq      0.0\n",
       "Sigmoiditis            2.0\n",
       "Proctitis              0.0\n",
       "Angiodisplasia_col     0.0\n",
       "Pólipo_col             4.0\n",
       "Pólipo_C_drch          1.0\n",
       "Pólipo_C_asce          1.0\n",
       "Pólipo_C_trans         0.0\n",
       "Pólipo_C_izq           0.0\n",
       "Pólipo_C_desc          0.0\n",
       "Pólipo_ciego           0.0\n",
       "Pólipo_sig             1.0\n",
       "Pólipo_recto           1.0\n",
       "Melanosis              0.0\n",
       "Otras_col              1.0\n",
       "dtype: float64"
      ]
     },
     "execution_count": 87,
     "metadata": {},
     "output_type": "execute_result"
    }
   ],
   "source": [
    "uruguay_dolor[hz_Tta].sum(axis=0)"
   ]
  },
  {
   "cell_type": "code",
   "execution_count": 88,
   "metadata": {},
   "outputs": [
    {
     "data": {
      "text/html": [
       "<div>\n",
       "<style scoped>\n",
       "    .dataframe tbody tr th:only-of-type {\n",
       "        vertical-align: middle;\n",
       "    }\n",
       "\n",
       "    .dataframe tbody tr th {\n",
       "        vertical-align: top;\n",
       "    }\n",
       "\n",
       "    .dataframe thead th {\n",
       "        text-align: right;\n",
       "    }\n",
       "</style>\n",
       "<table border=\"1\" class=\"dataframe\">\n",
       "  <thead>\n",
       "    <tr style=\"text-align: right;\">\n",
       "      <th></th>\n",
       "      <th>Trast_tránsito_esof</th>\n",
       "      <th>Barret_esof</th>\n",
       "      <th>Esof_eosinofilica_esof</th>\n",
       "      <th>Estenosis_extr_esof</th>\n",
       "      <th>Trast_motilidad_estom</th>\n",
       "      <th>Gastritis_estom</th>\n",
       "      <th>Yeyunitis</th>\n",
       "      <th>Erosiones_yey</th>\n",
       "      <th>Ileitis</th>\n",
       "      <th>Erosiones_íleon</th>\n",
       "      <th>Pólipo_íleon</th>\n",
       "      <th>Erosiones_col</th>\n",
       "      <th>Otros_estom</th>\n",
       "    </tr>\n",
       "  </thead>\n",
       "  <tbody>\n",
       "    <tr>\n",
       "      <th>45</th>\n",
       "      <td>0</td>\n",
       "      <td>0</td>\n",
       "      <td>0</td>\n",
       "      <td>0</td>\n",
       "      <td>0</td>\n",
       "      <td>0</td>\n",
       "      <td>0</td>\n",
       "      <td>1</td>\n",
       "      <td>0</td>\n",
       "      <td>0</td>\n",
       "      <td>0</td>\n",
       "      <td>0</td>\n",
       "      <td>0</td>\n",
       "    </tr>\n",
       "    <tr>\n",
       "      <th>66</th>\n",
       "      <td>0</td>\n",
       "      <td>0</td>\n",
       "      <td>0</td>\n",
       "      <td>0</td>\n",
       "      <td>0</td>\n",
       "      <td>0</td>\n",
       "      <td>0</td>\n",
       "      <td>0</td>\n",
       "      <td>0</td>\n",
       "      <td>0</td>\n",
       "      <td>0</td>\n",
       "      <td>1</td>\n",
       "      <td>0</td>\n",
       "    </tr>\n",
       "    <tr>\n",
       "      <th>99</th>\n",
       "      <td>0</td>\n",
       "      <td>0</td>\n",
       "      <td>0</td>\n",
       "      <td>0</td>\n",
       "      <td>0</td>\n",
       "      <td>0</td>\n",
       "      <td>0</td>\n",
       "      <td>0</td>\n",
       "      <td>1</td>\n",
       "      <td>0</td>\n",
       "      <td>0</td>\n",
       "      <td>0</td>\n",
       "      <td>0</td>\n",
       "    </tr>\n",
       "  </tbody>\n",
       "</table>\n",
       "</div>"
      ],
      "text/plain": [
       "    Trast_tránsito_esof  Barret_esof  Esof_eosinofilica_esof  \\\n",
       "45                    0            0                       0   \n",
       "66                    0            0                       0   \n",
       "99                    0            0                       0   \n",
       "\n",
       "    Estenosis_extr_esof  Trast_motilidad_estom  Gastritis_estom  Yeyunitis  \\\n",
       "45                    0                      0                0          0   \n",
       "66                    0                      0                0          0   \n",
       "99                    0                      0                0          0   \n",
       "\n",
       "    Erosiones_yey  Ileitis  Erosiones_íleon  Pólipo_íleon  Erosiones_col  \\\n",
       "45              1        0                0             0              0   \n",
       "66              0        0                0             0              1   \n",
       "99              0        1                0             0              0   \n",
       "\n",
       "    Otros_estom  \n",
       "45            0  \n",
       "66            0  \n",
       "99            0  "
      ]
     },
     "execution_count": 88,
     "metadata": {},
     "output_type": "execute_result"
    }
   ],
   "source": [
    "#Hallazgos para posterior estuido complementario \n",
    "uruguay_dolor[uruguay_dolor[\"Hz_Prueba\"]>=1][hz_prueba]"
   ]
  },
  {
   "cell_type": "markdown",
   "metadata": {},
   "source": [
    "Hallazgos más frecuentes:\n",
    "- Hz Tratamiento: Pólipos en colon (4), sigmoiditis, resto todos con 1.\n",
    "- Hz Pruebas: Erosiones (Yeyuno, colon), ileitis."
   ]
  },
  {
   "cell_type": "code",
   "execution_count": 89,
   "metadata": {},
   "outputs": [
    {
     "data": {
      "text/html": [
       "<div>\n",
       "<style scoped>\n",
       "    .dataframe tbody tr th:only-of-type {\n",
       "        vertical-align: middle;\n",
       "    }\n",
       "\n",
       "    .dataframe tbody tr th {\n",
       "        vertical-align: top;\n",
       "    }\n",
       "\n",
       "    .dataframe thead th {\n",
       "        text-align: right;\n",
       "    }\n",
       "</style>\n",
       "<table border=\"1\" class=\"dataframe\">\n",
       "  <thead>\n",
       "    <tr style=\"text-align: right;\">\n",
       "      <th></th>\n",
       "      <th>Pacientes</th>\n",
       "      <th>Normal</th>\n",
       "      <th>No evaluable</th>\n",
       "      <th>Hz Pruebas</th>\n",
       "      <th>Hz Tratamiento</th>\n",
       "    </tr>\n",
       "  </thead>\n",
       "  <tbody>\n",
       "    <tr>\n",
       "      <th>Cidma</th>\n",
       "      <td>53</td>\n",
       "      <td>[6, 11.32 %]</td>\n",
       "      <td>[15, 28.3 %]</td>\n",
       "      <td>[33, 62.26 %]</td>\n",
       "      <td>[39, 73.58 %]</td>\n",
       "    </tr>\n",
       "    <tr>\n",
       "      <th>Uruguay</th>\n",
       "      <td>8</td>\n",
       "      <td>[3, 37.5 %]</td>\n",
       "      <td>[1, 12.5 %]</td>\n",
       "      <td>[3, 37.5 %]</td>\n",
       "      <td>[5, 62.5 %]</td>\n",
       "    </tr>\n",
       "  </tbody>\n",
       "</table>\n",
       "</div>"
      ],
      "text/plain": [
       "         Pacientes        Normal  No evaluable     Hz Pruebas Hz Tratamiento\n",
       "Cidma           53  [6, 11.32 %]  [15, 28.3 %]  [33, 62.26 %]  [39, 73.58 %]\n",
       "Uruguay          8   [3, 37.5 %]   [1, 12.5 %]    [3, 37.5 %]    [5, 62.5 %]"
      ]
     },
     "metadata": {},
     "output_type": "display_data"
    }
   ],
   "source": [
    "pregunta_1=pd.DataFrame({\"Pacientes\":[53,8],\"Normal\":[[6,str(round((6*100/53),2))+\" %\"],[3,str(round((3*100/8),2))+\" %\"]], \n",
    "                         \"No evaluable\":[[15,str(round((15*100/53),2))+\" %\"],[1,str(round((1*100/8),2))+\" %\"]],\n",
    "                       \"Hz Pruebas\":[[33,str(round((33*100/53),2))+\" %\"],[3,str(round((3*100/8),2))+\" %\"]],\n",
    "                         \"Hz Tratamiento\":[[39,str(round((39*100/53),2))+\" %\"],[5,str(round((5*100/8),2))+\" %\"]]}\n",
    "                        ,index=[\"Cidma\",\"Uruguay\"])\n",
    "display(pregunta_1)\n"
   ]
  },
  {
   "cell_type": "markdown",
   "metadata": {},
   "source": [
    "# <font color='blue'>Número de pacientes y porcentajes</font>\n",
    "\n",
    "Se observa que un 88,68% de los pacientes de CIDMA a los que se le hizo la cápsula por síntomas de dolor abdominal presentaron hallazgos de algún tipo. Destacando el 73,58% que recibieron un diagnostico definitivo, sin necesidad de pruebas complementarias. Sin embargo ese porcentaje cae al 62,5% en los pacientes del hospital Italiano, pero que aún así permite observar una capacidad de deteción de hallazgos de mas del 60%."
   ]
  },
  {
   "cell_type": "markdown",
   "metadata": {},
   "source": [
    "# Resto de indicaciones\n",
    "Para el resto de indicaciones decido crear una función que recibiendo como entrada la indicación a analizar, devuelva\n",
    "el cuadro con los porcentajes y hallazgos mas frecuentes\n",
    "\n",
    "\n",
    "\n"
   ]
  },
  {
   "cell_type": "code",
   "execution_count": 90,
   "metadata": {},
   "outputs": [],
   "source": [
    "# Todas las posibles indicaciones del estudio\n",
    "indicacion=['HDOO_oculta',\n",
    " 'HDOO_mani',\n",
    " 'Crohn',\n",
    " 'Alt_tránsito',\n",
    " 'Anemia',\n",
    " 'Dolor_abd',\n",
    " 'Estreñimiento',\n",
    " 'Diarrea',\n",
    " 'Vómitos',\n",
    " 'Pérdida_peso',\n",
    " 'EII',\n",
    "\"Enf_II\",\n",
    " 'Colono_imcp',\n",
    " 'Cribado',\n",
    " 'Revisión',\n",
    " 'Otros_indica']"
   ]
  },
  {
   "cell_type": "markdown",
   "metadata": {},
   "source": [
    "Organizo las indicaciones en base a la literatura"
   ]
  },
  {
   "cell_type": "code",
   "execution_count": 91,
   "metadata": {},
   "outputs": [],
   "source": [
    "\n",
    "indicaciones_clasicas=['HDOO_oculta','HDOO_mani',\"Cribado\",'Anemia','Colono_imcp',\"Enf_II\",'Revisión']\n",
    "indicaciones_nuevas=['Alt_tránsito','Dolor_abd','Estreñimiento','Diarrea','Vómitos','Pérdida_peso','Otros_indica']"
   ]
  },
  {
   "cell_type": "code",
   "execution_count": 92,
   "metadata": {},
   "outputs": [
    {
     "data": {
      "text/plain": [
       "HDOO_oculta      23\n",
       "HDOO_mani        15\n",
       "Crohn             4\n",
       "Alt_tránsito      3\n",
       "Anemia           25\n",
       "Dolor_abd        61\n",
       "Estreñimiento     6\n",
       "Diarrea          35\n",
       "Vómitos          10\n",
       "Pérdida_peso      8\n",
       "EII               5\n",
       "Enf_II            9\n",
       "Colono_imcp      10\n",
       "Cribado          58\n",
       "Revisión         18\n",
       "Otros_indica     19\n",
       "dtype: int64"
      ]
     },
     "execution_count": 92,
     "metadata": {},
     "output_type": "execute_result"
    }
   ],
   "source": [
    "#Evaluó las otras indicaciones para analizar cuales son las más frecuentes\n",
    "datos[indicacion].sum(axis=0)"
   ]
  },
  {
   "cell_type": "code",
   "execution_count": 93,
   "metadata": {},
   "outputs": [],
   "source": [
    "#Función que recibe una indicación y mira el número de pacientes (CIDMA, Uruguay) y calcular (número y porcentaje) \n",
    "#de hallazgos terapéutico, pruebas complementarias y no evaluables. \n",
    "#Junto a eso también porporciona los hallazgos más frecuentes y si de los pacientes sin hallazgos clasificados como\n",
    "#Normal tienen zonas no evaluadas.\n",
    "\n",
    "\n",
    "#NOTA: Para entender la función, se desgrana mejor apartir del else, el resto es lo mismo pero mas agrupado y \n",
    "#recortado\n",
    "def porcentajes (indicacion):\n",
    "    cidma_a = datos[(datos['Médico']==0) & (datos[indicacion]==1)]\n",
    "    uruguay_b= datos[(datos['Médico']==1) & (datos[indicacion]==1)]\n",
    "    paciente_indicacion=len(cidma_a)\n",
    "    paciente_indicacion_uru=len(uruguay_b)\n",
    "    \n",
    "    if paciente_indicacion==0:\n",
    "        uruguay_b[\"Hz_Tta\"] = uruguay_b[hz_Tta].sum(axis=1)\n",
    "        hzgs_T_uruguay=len(uruguay_b[uruguay_b[\"Hz_Tta\"]>=1])\n",
    "        uruguay_b[\"Hz_Prueba\"] = uruguay_b[hz_prueba].sum(axis=1) \n",
    "        hzgs_P_uruguay=len(uruguay_b[uruguay_b[\"Hz_Prueba\"]>=1])\n",
    "        norml_uruguay=uruguay_b[(uruguay_b[\"Hz_Tta\"]==0)&\n",
    "                               (uruguay_b[\"Hz_Prueba\"]==0)]                     \n",
    "        normal_uruguay=len(norml_uruguay)\n",
    "        no_visi_uruguay=[]\n",
    "        No_visi_uruguay=[]\n",
    "        for e in no_evaluable:\n",
    "            a_uru=uruguay_b[e].isin([1])\n",
    "            for i in a_uru:\n",
    "                if i==1:\n",
    "                    b_uru=uruguay_b[e][a_uru].index\n",
    "                    no_visi_uruguay.append(b_uru)\n",
    "                elif len(no_visi_uruguay)>=1:\n",
    "                    for j in no_visi_uruguay:\n",
    "                        for x in j:\n",
    "                            No_visi_uruguay.append(x)\n",
    "                elif len(no_visi_uruguay)==0:\n",
    "                    No_visi_uruguay=[]\n",
    "        NO_VISIBLE_uruguay=set(No_visi_uruguay)\n",
    "        no_eva_uruguay=len(NO_VISIBLE_uruguay)  \n",
    "        N_No_eva_urugua=[]\n",
    "        for e in NO_VISIBLE_uruguay:\n",
    "            for i in norml_uruguay.index:\n",
    "                if e==i:\n",
    "                    N_No_eva_urugua.append(e)\n",
    "        N_No_eva_uruguay=len(N_No_eva_urugua)                                          \n",
    "        dic_b={}\n",
    "        for e in hz_Tta:\n",
    "            b=uruguay_b[e].value_counts()\n",
    "            dic_b[e]=b\n",
    "        hz_Tta_frec_uruguay={}\n",
    "        for e in hz_Tta:\n",
    "            if len(dic_b[e])>1:\n",
    "                hz_Tta_frec_uruguay[e]=dic_b[e][1]\n",
    "            elif len(dic_b[e])==1:\n",
    "                if dic_b[e].keys()==0:\n",
    "                    del dic_b[e]\n",
    "            else:\n",
    "                hz_Tta_frec_uruguay[e]=dic_b[e][1]\n",
    "        hz_Tta_frec_uruguay=sorted(hz_Tta_frec_uruguay.items(), key=operator.itemgetter(1),reverse=True)\n",
    "        for e in hz_prueba:\n",
    "            c=uruguay_b[e].value_counts()\n",
    "            dic_b[e]=c      \n",
    "        hz_prueba_frec_uruguay={}\n",
    "        for e in hz_prueba:\n",
    "            if len(dic_b[e])>1:\n",
    "                hz_prueba_frec_uruguay[e]=dic_b[e][1]\n",
    "            elif len(dic_b[e])==1:\n",
    "                if dic_b[e].keys()==0:\n",
    "                    del dic_b[e]\n",
    "            else:\n",
    "                hz_prueba_frec_uruguay[e]=dic_b[e][1]\n",
    "        hz_prueba_frec_uruguay=sorted(hz_prueba_frec_uruguay.items(), key=operator.itemgetter(1),reverse=True)\n",
    "        \n",
    "        pregunta=pd.DataFrame({\"Pacientes\":[\"NO\",paciente_indicacion_uru],\n",
    "                                 \"Normal\":[[\"NO\"],[normal_uruguay,str(round((normal_uruguay*100/paciente_indicacion_uru),2))+\" %\"]], \n",
    "                             \"No evaluable\":[[\"NO\"],[no_eva_uruguay,str(round((no_eva_uruguay*100/paciente_indicacion_uru),2))+\" %\"]],\n",
    "                           \"Hz Pruebas\":[[\"NO\"],[hzgs_P_uruguay,str(round((hzgs_P_uruguay*100/paciente_indicacion_uru),2))+\" %\"]],\n",
    "                             \"Hz Tratamiento\":[[\"NO\"],[hzgs_T_uruguay,str(round((hzgs_T_uruguay*100/paciente_indicacion_uru),2))+\" %\"]]}\n",
    "                            ,index=[\"Cidma\",\"Uruguay\"])\n",
    "\n",
    "        return (pregunta,\"{} Uruguay hallazgos terapeúticos más frecuentes {}\".format(indicacion,hz_Tta_frec_uruguay[0:3]),\n",
    "               \"{} Uruguay hallazgos pruebas complementarias {}\".format(indicacion,hz_prueba_frec_uruguay[0:3]),\n",
    "                \"Uruguay pacientes sin hallazgos patológicos con áreas del tracto digestivo no evaluables {}\".format(N_No_eva_uruguay),\n",
    "               \"No CIDMA\",\"No CIDMA\",\"No CIDMA\")\n",
    "    \n",
    "                \n",
    "    elif paciente_indicacion_uru==0:\n",
    "        cidma_a[\"Hz_Tta\"] = cidma_a[hz_Tta].sum(axis=1)\n",
    "        hzgs_T_cidma=len(cidma_a[cidma_a[\"Hz_Tta\"]>=1])\n",
    "        cidma_a[\"Hz_Prueba\"] = cidma_a[hz_prueba].sum(axis=1) \n",
    "        hzgs_P_cidma=len(cidma_a[cidma_a[\"Hz_Prueba\"]>=1])\n",
    "        norml_cidma=cidma_a[(cidma_a[\"Hz_Tta\"]==0)&(cidma_a[\"Hz_Prueba\"]==0)]                     \n",
    "        normal_cidma=len(norml_cidma)\n",
    "        no_visi_cidma=[]\n",
    "        No_visi_cidma=[]\n",
    "        for e in no_evaluable:\n",
    "            a=cidma_a[e].isin([1])\n",
    "            for i in a:\n",
    "                if i==1:\n",
    "                    b=cidma_a[e][a].index\n",
    "                    no_visi_cidma.append(b)\n",
    "                elif len(no_visi_cidma)>=1:\n",
    "                    for j in no_visi_cidma:\n",
    "                        for x in j:\n",
    "                            No_visi_cidma.append(x)\n",
    "                elif len(no_visi_cidma)==0:\n",
    "                    No_visi_cidma=[]\n",
    "        NO_VISIBLE_cidma=set(No_visi_cidma)\n",
    "        no_eva_cidma=len(NO_VISIBLE_cidma)              \n",
    "        N_No_eva_cidm=[]\n",
    "        for e in NO_VISIBLE_cidma:\n",
    "            for i in norml_cidma.index:\n",
    "                if e==i:\n",
    "                    N_No_eva_cidm.append(e)\n",
    "        N_No_eva_cidma=len(N_No_eva_cidm)                                 \n",
    "        dic={}\n",
    "        for e in hz_Tta:\n",
    "            b=cidma_a[e].value_counts()\n",
    "            dic[e]=b\n",
    "        hz_Tta_frec_cidma={}\n",
    "        for e in hz_Tta:\n",
    "            if len(dic[e])>1:\n",
    "                hz_Tta_frec_cidma[e]=dic[e][1]\n",
    "            elif len(dic[e])==1:\n",
    "                if dic[e].keys()==0:\n",
    "                    del dic[e]\n",
    "            else:\n",
    "                hz_Tta_frec_cidma[e]=dic[e][1]\n",
    "        hz_Tta_frec_cidma=sorted(hz_Tta_frec_cidma.items(), key=operator.itemgetter(1),reverse=True)\n",
    "        dic={}\n",
    "        for e in hz_prueba:\n",
    "            b=cidma_a[e].value_counts()\n",
    "            dic[e]=b\n",
    "        dic_b={}\n",
    "        hz_prueba_frec_cidma={}\n",
    "        for e in hz_prueba:\n",
    "            if len(dic[e])>1:\n",
    "                hz_prueba_frec_cidma[e]=dic[e][1]\n",
    "            elif len(dic[e])==1:\n",
    "                if dic[e].keys()==0:\n",
    "                    del dic[e]\n",
    "            else:\n",
    "                hz_prueba_frec_cidma[e]=dic[e][1]\n",
    "        hz_prueba_frec_cidma=sorted(hz_prueba_frec_cidma.items(), key=operator.itemgetter(1),reverse=True)\n",
    "        \n",
    "        pregunta=pd.DataFrame({\"Pacientes\":[paciente_indicacion,\"NO\"],\n",
    "                                 \"Normal\":[[normal_cidma,str(round((normal_cidma*100/paciente_indicacion),2))+\" %\"],[\"NO\"]], \n",
    "                             \"No evaluable\":[[no_eva_cidma,str(round((no_eva_cidma*100/paciente_indicacion),2))+\" %\"],[\"NO\"]],\n",
    "                           \"Hz Pruebas\":[[hzgs_P_cidma,str(round((hzgs_P_cidma*100/paciente_indicacion),2))+\" %\"],[\"NO\"]],\n",
    "                             \"Hz Tratamiento\":[[hzgs_T_cidma,str(round((hzgs_T_cidma*100/paciente_indicacion),2))+\" %\"],[\"NO\"]]},index=[\"Cidma\",\"Uruguay\"])\n",
    "        \n",
    "        return (pregunta,\"{} CIDMA hallazgos terapeúticos más frecuentes {}\".format(indicacion,hz_Tta_frec_cidma[0:3]),\n",
    "               \"{} CIDMA hallazgos pruebas complementarias {}\".format(indicacion,hz_prueba_frec_cidma[0:3]),\n",
    "                \"CIDMA pacientes sin hallazgos patológicos con áreas del tracto digestivo no evaluables {}\".format(N_No_eva_cidma),\n",
    "               \"NO Uruguay\",\"No Uruguay\",\"No Uruguay\")\n",
    "    else:\n",
    "        #Número de pacientes con hallazgos para futuras terapías\n",
    "        #CIDMA\n",
    "        cidma_a[\"Hz_Tta\"] = cidma_a[hz_Tta].sum(axis=1)\n",
    "        hzgs_T_cidma=len(cidma_a[cidma_a[\"Hz_Tta\"]>=1])\n",
    "        #Uruguay\n",
    "        uruguay_b[\"Hz_Tta\"] = uruguay_b[hz_Tta].sum(axis=1)\n",
    "        hzgs_T_uruguay=len(uruguay_b[uruguay_b[\"Hz_Tta\"]>=1])\n",
    "\n",
    "        #Número de pacientes con hallazgos para futuros estudios\n",
    "        #CIDMA\n",
    "        cidma_a[\"Hz_Prueba\"] = cidma_a[hz_prueba].sum(axis=1) \n",
    "        hzgs_P_cidma=len(cidma_a[cidma_a[\"Hz_Prueba\"]>=1]) \n",
    "        #Uruguay\n",
    "        uruguay_b[\"Hz_Prueba\"] = uruguay_b[hz_prueba].sum(axis=1) \n",
    "        hzgs_P_uruguay=len(uruguay_b[uruguay_b[\"Hz_Prueba\"]>=1])\n",
    "\n",
    "        #Número de pacientes con hallazgos compatibles con la normalidad\n",
    "        #CIDMA\n",
    "        norml_cidma=cidma_a[(cidma_a[\"Hz_Tta\"]==0)&\n",
    "                               (cidma_a[\"Hz_Prueba\"]==0)]                     \n",
    "        normal_cidma=len(norml_cidma)\n",
    "        #Uruguay\n",
    "        norml_uruguay=uruguay_b[(uruguay_b[\"Hz_Tta\"]==0)&\n",
    "                               (uruguay_b[\"Hz_Prueba\"]==0)]                     \n",
    "        normal_uruguay=len(norml_uruguay)\n",
    "\n",
    "        #Número de pacientes con zonas del tracto GI sin posible evaluación\n",
    "        #CIDMA\n",
    "        no_visi_cidma=[]\n",
    "        No_visi_cidma=[]\n",
    "        for e in no_evaluable:\n",
    "            a=cidma_a[e].isin([1])\n",
    "            for i in a:\n",
    "                if i==1:\n",
    "                    b=cidma_a[e][a].index\n",
    "                    no_visi_cidma.append(b)\n",
    "                elif len(no_visi_cidma)>=1:\n",
    "                    for j in no_visi_cidma:\n",
    "                        for x in j:\n",
    "                            No_visi_cidma.append(x)\n",
    "                elif len(no_visi_cidma)==0:\n",
    "                    No_visi_cidma=[]\n",
    "        NO_VISIBLE_cidma=set(No_visi_cidma)\n",
    "        no_eva_cidma=len(NO_VISIBLE_cidma)  \n",
    "        \n",
    "        #Pacientes sin hallazgos patologicos con zonas del tracto digestivo no evaluables\n",
    "        N_No_eva_cidm=[]\n",
    "        for e in NO_VISIBLE_cidma:\n",
    "            for i in norml_cidma.index:\n",
    "                if e==i:\n",
    "                    N_No_eva_cidm.append(e)\n",
    "        N_No_eva_cidma=len(N_No_eva_cidm)\n",
    "        #Uruguay\n",
    "        no_visi_uruguay=[]\n",
    "        No_visi_uruguay=[]\n",
    "        for e in no_evaluable:\n",
    "            a_uru=uruguay_b[e].isin([1])\n",
    "            for i in a_uru:\n",
    "                if i==1:\n",
    "                    b_uru=uruguay_b[e][a_uru].index\n",
    "                    no_visi_uruguay.append(b_uru)\n",
    "                elif len(no_visi_uruguay)>=1:\n",
    "                    for j in no_visi_uruguay:\n",
    "                        for x in j:\n",
    "                            No_visi_uruguay.append(x)\n",
    "                elif len(no_visi_uruguay)==0:\n",
    "                    No_visi_uruguay=[]\n",
    "        NO_VISIBLE_uruguay=set(No_visi_uruguay)\n",
    "        no_eva_uruguay=len(NO_VISIBLE_uruguay)  \n",
    "        \n",
    "\n",
    "        N_No_eva_urugua=[]\n",
    "        for e in NO_VISIBLE_uruguay:\n",
    "            for i in norml_uruguay.index:\n",
    "                if e==i:\n",
    "                    N_No_eva_urugua.append(e)\n",
    "        N_No_eva_uruguay=len(N_No_eva_urugua)   \n",
    "        \n",
    "        \n",
    "        #Hallazgos tratamientos más frecuentes\n",
    "        #CIDMA\n",
    "        dic={}\n",
    "        for e in hz_Tta:\n",
    "            b=cidma_a[e].value_counts()\n",
    "            dic[e]=b\n",
    "        \n",
    "    \n",
    "        hz_Tta_frec_cidma={}\n",
    "        for e in hz_Tta:\n",
    "            if len(dic[e])>1:\n",
    "                hz_Tta_frec_cidma[e]=dic[e][1]\n",
    "            elif len(dic[e])==1:\n",
    "                if dic[e].keys()==0:\n",
    "                    del dic[e]\n",
    "            else:\n",
    "                hz_Tta_frec_cidma[e]=dic[e][1]\n",
    "        hz_Tta_frec_cidma=sorted(hz_Tta_frec_cidma.items(), key=operator.itemgetter(1),reverse=True)\n",
    "        \n",
    "        #Uruguay\n",
    "        dic_b={}\n",
    "        for e in hz_Tta:\n",
    "            b=uruguay_b[e].value_counts()\n",
    "            dic_b[e]=b\n",
    "        \n",
    "        hz_Tta_frec_uruguay={}\n",
    "        for e in hz_Tta:\n",
    "            if len(dic_b[e])>1:\n",
    "                hz_Tta_frec_uruguay[e]=dic_b[e][1]\n",
    "            elif len(dic_b[e])==1:\n",
    "                if dic_b[e].keys()==0:\n",
    "                    del dic_b[e]\n",
    "            else:\n",
    "                hz_Tta_frec_uruguay[e]=dic[e][1]\n",
    "        hz_Tta_frec_uruguay=sorted(hz_Tta_frec_uruguay.items(), key=operator.itemgetter(1),reverse=True)\n",
    "\n",
    "        #Hallazgos pruebas complementarias mas frecuentes\n",
    "        #CIDMA\n",
    "        dic={}\n",
    "        for e in hz_prueba:\n",
    "            b=cidma_a[e].value_counts()\n",
    "            dic[e]=b\n",
    "        hz_prueba_frec_cidma={}\n",
    "        for e in hz_prueba:\n",
    "            if len(dic[e])>1:\n",
    "                hz_prueba_frec_cidma[e]=dic[e][1]\n",
    "            elif len(dic[e])==1:\n",
    "                if dic[e].keys()==0:\n",
    "                    del dic[e]\n",
    "            else:\n",
    "                hz_prueba_frec_cidma[e]=dic[e][1]\n",
    "        hz_prueba_frec_cidma=sorted(hz_prueba_frec_cidma.items(), key=operator.itemgetter(1),reverse=True)\n",
    "        \n",
    "        #Uruguay\n",
    "        dic_b={}\n",
    "        for e in hz_prueba:\n",
    "            c=uruguay_b[e].value_counts()\n",
    "            dic_b[e]=c \n",
    "        hz_prueba_frec_uruguay={}\n",
    "        for e in hz_prueba:\n",
    "            if len(dic_b[e])>1:\n",
    "                hz_prueba_frec_uruguay[e]=dic_b[e][1]\n",
    "            elif len(dic_b[e])==1:\n",
    "                if dic_b[e].keys()==0:\n",
    "                    del dic_b[e]\n",
    "            else:\n",
    "                hz_prueba_frec_uruguay[e]=dic_b[e][1]\n",
    "        hz_prueba_frec_uruguay=sorted(hz_prueba_frec_uruguay.items(), key=operator.itemgetter(1),reverse=True)\n",
    "\n",
    "\n",
    "        pregunta=pd.DataFrame({\"Pacientes\":[paciente_indicacion,paciente_indicacion_uru],\n",
    "                                 \"Normal\":[[normal_cidma,str(round((normal_cidma*100/paciente_indicacion),2))+\" %\"],[normal_uruguay,str(round((normal_uruguay*100/paciente_indicacion_uru),2))+\" %\"]], \n",
    "                             \"No evaluable\":[[no_eva_cidma,str(round((no_eva_cidma*100/paciente_indicacion),2))+\" %\"],[no_eva_uruguay,str(round((no_eva_uruguay*100/paciente_indicacion_uru),2))+\" %\"]],\n",
    "                           \"Hz Pruebas\":[[hzgs_P_cidma,str(round((hzgs_P_cidma*100/paciente_indicacion),2))+\" %\"],[hzgs_P_uruguay,str(round((hzgs_P_uruguay*100/paciente_indicacion_uru),2))+\" %\"]],\n",
    "                             \"Hz Tratamiento\":[[hzgs_T_cidma,str(round((hzgs_T_cidma*100/paciente_indicacion),2))+\" %\"],[hzgs_T_uruguay,str(round((hzgs_T_uruguay*100/paciente_indicacion_uru),2))+\" %\"]]}\n",
    "                            ,index=[\"Cidma\",\"Uruguay\"])\n",
    "\n",
    "\n",
    "        return (pregunta,\"{} CIDMA hallazgos terapeúticos más frecuentes {}\".format(indicacion,hz_Tta_frec_cidma[0:3]),\n",
    "               \"{} CIDMA hallazgos pruebas complementarias {}\".format(indicacion,hz_prueba_frec_cidma[0:3]), \n",
    "                \"CIDMA pacientes sin hallazgos patológicos con áreas del tracto digestivo no evaluables {}\".format(N_No_eva_cidma),\n",
    "                \"{} Uruguay hallazgos terapeúticos más frecuentes {}\".format(indicacion,hz_Tta_frec_uruguay[0:3]),\n",
    "                \"{} Uruguay hallazgos pruebas complementarias más frecuentes {}\".format(indicacion,hz_prueba_frec_uruguay[0:3]),\n",
    "                \"Uruguay pacientes sin hallazgos patológicos con áreas del tracto digestivo no evaluables {}\".format(N_No_eva_uruguay))\n",
    "    "
   ]
  },
  {
   "cell_type": "code",
   "execution_count": 94,
   "metadata": {},
   "outputs": [
    {
     "name": "stderr",
     "output_type": "stream",
     "text": [
      "/usr/local/Cellar/ipython/7.7.0/libexec/vendor/lib/python3.7/site-packages/ipykernel_launcher.py:158: SettingWithCopyWarning: \n",
      "A value is trying to be set on a copy of a slice from a DataFrame.\n",
      "Try using .loc[row_indexer,col_indexer] = value instead\n",
      "\n",
      "See the caveats in the documentation: http://pandas.pydata.org/pandas-docs/stable/user_guide/indexing.html#returning-a-view-versus-a-copy\n",
      "/usr/local/Cellar/ipython/7.7.0/libexec/vendor/lib/python3.7/site-packages/ipykernel_launcher.py:161: SettingWithCopyWarning: \n",
      "A value is trying to be set on a copy of a slice from a DataFrame.\n",
      "Try using .loc[row_indexer,col_indexer] = value instead\n",
      "\n",
      "See the caveats in the documentation: http://pandas.pydata.org/pandas-docs/stable/user_guide/indexing.html#returning-a-view-versus-a-copy\n",
      "/usr/local/Cellar/ipython/7.7.0/libexec/vendor/lib/python3.7/site-packages/ipykernel_launcher.py:166: SettingWithCopyWarning: \n",
      "A value is trying to be set on a copy of a slice from a DataFrame.\n",
      "Try using .loc[row_indexer,col_indexer] = value instead\n",
      "\n",
      "See the caveats in the documentation: http://pandas.pydata.org/pandas-docs/stable/user_guide/indexing.html#returning-a-view-versus-a-copy\n",
      "/usr/local/Cellar/ipython/7.7.0/libexec/vendor/lib/python3.7/site-packages/ipykernel_launcher.py:169: SettingWithCopyWarning: \n",
      "A value is trying to be set on a copy of a slice from a DataFrame.\n",
      "Try using .loc[row_indexer,col_indexer] = value instead\n",
      "\n",
      "See the caveats in the documentation: http://pandas.pydata.org/pandas-docs/stable/user_guide/indexing.html#returning-a-view-versus-a-copy\n"
     ]
    },
    {
     "data": {
      "text/html": [
       "<div>\n",
       "<style scoped>\n",
       "    .dataframe tbody tr th:only-of-type {\n",
       "        vertical-align: middle;\n",
       "    }\n",
       "\n",
       "    .dataframe tbody tr th {\n",
       "        vertical-align: top;\n",
       "    }\n",
       "\n",
       "    .dataframe thead th {\n",
       "        text-align: right;\n",
       "    }\n",
       "</style>\n",
       "<table border=\"1\" class=\"dataframe\">\n",
       "  <thead>\n",
       "    <tr style=\"text-align: right;\">\n",
       "      <th></th>\n",
       "      <th>Pacientes</th>\n",
       "      <th>Normal</th>\n",
       "      <th>No evaluable</th>\n",
       "      <th>Hz Pruebas</th>\n",
       "      <th>Hz Tratamiento</th>\n",
       "    </tr>\n",
       "  </thead>\n",
       "  <tbody>\n",
       "    <tr>\n",
       "      <th>Cidma</th>\n",
       "      <td>9</td>\n",
       "      <td>[0, 0.0 %]</td>\n",
       "      <td>[2, 22.22 %]</td>\n",
       "      <td>[3, 33.33 %]</td>\n",
       "      <td>[9, 100.0 %]</td>\n",
       "    </tr>\n",
       "    <tr>\n",
       "      <th>Uruguay</th>\n",
       "      <td>14</td>\n",
       "      <td>[1, 7.14 %]</td>\n",
       "      <td>[3, 21.43 %]</td>\n",
       "      <td>[5, 35.71 %]</td>\n",
       "      <td>[11, 78.57 %]</td>\n",
       "    </tr>\n",
       "  </tbody>\n",
       "</table>\n",
       "</div>"
      ],
      "text/plain": [
       "         Pacientes       Normal  No evaluable    Hz Pruebas Hz Tratamiento\n",
       "Cidma            9   [0, 0.0 %]  [2, 22.22 %]  [3, 33.33 %]   [9, 100.0 %]\n",
       "Uruguay         14  [1, 7.14 %]  [3, 21.43 %]  [5, 35.71 %]  [11, 78.57 %]"
      ]
     },
     "metadata": {},
     "output_type": "display_data"
    },
    {
     "name": "stdout",
     "output_type": "stream",
     "text": [
      "HDOO_oculta CIDMA hallazgos terapeúticos más frecuentes [('Hemorroides', 6), ('Diverticulo_col', 6), ('Pólipo_col', 6)]\n",
      "HDOO_oculta CIDMA hallazgos pruebas complementarias [('Estenosis_extr_esof', 2), ('Gastritis_estom', 1), ('Erosiones_íleon', 1)]\n",
      "CIDMA pacientes sin hallazgos patológicos con áreas del tracto digestivo no evaluables 0\n",
      "HDOO_oculta Uruguay hallazgos terapeúticos más frecuentes [('Pólipo_col', 7), ('Diverticulo_col', 4), ('Pólipo_sig', 3)]\n",
      "HDOO_oculta Uruguay hallazgos pruebas complementarias más frecuentes [('Erosiones_íleon', 2), ('Gastritis_estom', 1), ('Erosiones_yey', 1)]\n",
      "Uruguay pacientes sin hallazgos patológicos con áreas del tracto digestivo no evaluables 0\n"
     ]
    },
    {
     "data": {
      "text/html": [
       "<div>\n",
       "<style scoped>\n",
       "    .dataframe tbody tr th:only-of-type {\n",
       "        vertical-align: middle;\n",
       "    }\n",
       "\n",
       "    .dataframe tbody tr th {\n",
       "        vertical-align: top;\n",
       "    }\n",
       "\n",
       "    .dataframe thead th {\n",
       "        text-align: right;\n",
       "    }\n",
       "</style>\n",
       "<table border=\"1\" class=\"dataframe\">\n",
       "  <thead>\n",
       "    <tr style=\"text-align: right;\">\n",
       "      <th></th>\n",
       "      <th>Pacientes</th>\n",
       "      <th>Normal</th>\n",
       "      <th>No evaluable</th>\n",
       "      <th>Hz Pruebas</th>\n",
       "      <th>Hz Tratamiento</th>\n",
       "    </tr>\n",
       "  </thead>\n",
       "  <tbody>\n",
       "    <tr>\n",
       "      <th>Cidma</th>\n",
       "      <td>3</td>\n",
       "      <td>[0, 0.0 %]</td>\n",
       "      <td>[0, 0.0 %]</td>\n",
       "      <td>[2, 66.67 %]</td>\n",
       "      <td>[3, 100.0 %]</td>\n",
       "    </tr>\n",
       "    <tr>\n",
       "      <th>Uruguay</th>\n",
       "      <td>12</td>\n",
       "      <td>[3, 25.0 %]</td>\n",
       "      <td>[4, 33.33 %]</td>\n",
       "      <td>[3, 25.0 %]</td>\n",
       "      <td>[9, 75.0 %]</td>\n",
       "    </tr>\n",
       "  </tbody>\n",
       "</table>\n",
       "</div>"
      ],
      "text/plain": [
       "         Pacientes       Normal  No evaluable    Hz Pruebas Hz Tratamiento\n",
       "Cidma            3   [0, 0.0 %]    [0, 0.0 %]  [2, 66.67 %]   [3, 100.0 %]\n",
       "Uruguay         12  [3, 25.0 %]  [4, 33.33 %]   [3, 25.0 %]    [9, 75.0 %]"
      ]
     },
     "metadata": {},
     "output_type": "display_data"
    },
    {
     "name": "stdout",
     "output_type": "stream",
     "text": [
      "HDOO_mani CIDMA hallazgos terapeúticos más frecuentes [('Erosiones_estom', 2), ('Erosiones_del', 2), ('Diverticulo_col', 2)]\n",
      "HDOO_mani CIDMA hallazgos pruebas complementarias [('Gastritis_estom', 1), ('Erosiones_yey', 1), ('Otros_estom', 1)]\n",
      "CIDMA pacientes sin hallazgos patológicos con áreas del tracto digestivo no evaluables 0\n",
      "HDOO_mani Uruguay hallazgos terapeúticos más frecuentes [('Diverticulo_col', 3), ('Otras_col', 3), ('Telangiectasias_yey', 2)]\n",
      "HDOO_mani Uruguay hallazgos pruebas complementarias más frecuentes [('Trast_tránsito_esof', 1), ('Barret_esof', 1), ('Erosiones_íleon', 1)]\n",
      "Uruguay pacientes sin hallazgos patológicos con áreas del tracto digestivo no evaluables 2\n"
     ]
    },
    {
     "data": {
      "text/html": [
       "<div>\n",
       "<style scoped>\n",
       "    .dataframe tbody tr th:only-of-type {\n",
       "        vertical-align: middle;\n",
       "    }\n",
       "\n",
       "    .dataframe tbody tr th {\n",
       "        vertical-align: top;\n",
       "    }\n",
       "\n",
       "    .dataframe thead th {\n",
       "        text-align: right;\n",
       "    }\n",
       "</style>\n",
       "<table border=\"1\" class=\"dataframe\">\n",
       "  <thead>\n",
       "    <tr style=\"text-align: right;\">\n",
       "      <th></th>\n",
       "      <th>Pacientes</th>\n",
       "      <th>Normal</th>\n",
       "      <th>No evaluable</th>\n",
       "      <th>Hz Pruebas</th>\n",
       "      <th>Hz Tratamiento</th>\n",
       "    </tr>\n",
       "  </thead>\n",
       "  <tbody>\n",
       "    <tr>\n",
       "      <th>Cidma</th>\n",
       "      <td>2</td>\n",
       "      <td>[0, 0.0 %]</td>\n",
       "      <td>[0, 0.0 %]</td>\n",
       "      <td>[1, 50.0 %]</td>\n",
       "      <td>[1, 50.0 %]</td>\n",
       "    </tr>\n",
       "    <tr>\n",
       "      <th>Uruguay</th>\n",
       "      <td>2</td>\n",
       "      <td>[0, 0.0 %]</td>\n",
       "      <td>[0, 0.0 %]</td>\n",
       "      <td>[1, 50.0 %]</td>\n",
       "      <td>[2, 100.0 %]</td>\n",
       "    </tr>\n",
       "  </tbody>\n",
       "</table>\n",
       "</div>"
      ],
      "text/plain": [
       "         Pacientes      Normal No evaluable   Hz Pruebas Hz Tratamiento\n",
       "Cidma            2  [0, 0.0 %]   [0, 0.0 %]  [1, 50.0 %]    [1, 50.0 %]\n",
       "Uruguay          2  [0, 0.0 %]   [0, 0.0 %]  [1, 50.0 %]   [2, 100.0 %]"
      ]
     },
     "metadata": {},
     "output_type": "display_data"
    },
    {
     "name": "stdout",
     "output_type": "stream",
     "text": [
      "Crohn CIDMA hallazgos terapeúticos más frecuentes [('Hemorroides', 1), ('Diverticulo_col', 1), ('Diverticulo_sig', 1)]\n",
      "Crohn CIDMA hallazgos pruebas complementarias [('Gastritis_estom', 1), ('Erosiones_yey', 1), ('Erosiones_col', 1)]\n",
      "CIDMA pacientes sin hallazgos patológicos con áreas del tracto digestivo no evaluables 0\n",
      "Crohn Uruguay hallazgos terapeúticos más frecuentes [('Erosiones_estom', 1)]\n",
      "Crohn Uruguay hallazgos pruebas complementarias más frecuentes [('Erosiones_íleon', 1)]\n",
      "Uruguay pacientes sin hallazgos patológicos con áreas del tracto digestivo no evaluables 0\n"
     ]
    },
    {
     "data": {
      "text/html": [
       "<div>\n",
       "<style scoped>\n",
       "    .dataframe tbody tr th:only-of-type {\n",
       "        vertical-align: middle;\n",
       "    }\n",
       "\n",
       "    .dataframe tbody tr th {\n",
       "        vertical-align: top;\n",
       "    }\n",
       "\n",
       "    .dataframe thead th {\n",
       "        text-align: right;\n",
       "    }\n",
       "</style>\n",
       "<table border=\"1\" class=\"dataframe\">\n",
       "  <thead>\n",
       "    <tr style=\"text-align: right;\">\n",
       "      <th></th>\n",
       "      <th>Pacientes</th>\n",
       "      <th>Normal</th>\n",
       "      <th>No evaluable</th>\n",
       "      <th>Hz Pruebas</th>\n",
       "      <th>Hz Tratamiento</th>\n",
       "    </tr>\n",
       "  </thead>\n",
       "  <tbody>\n",
       "    <tr>\n",
       "      <th>Cidma</th>\n",
       "      <td>1</td>\n",
       "      <td>[0, 0.0 %]</td>\n",
       "      <td>[0, 0.0 %]</td>\n",
       "      <td>[1, 100.0 %]</td>\n",
       "      <td>[1, 100.0 %]</td>\n",
       "    </tr>\n",
       "    <tr>\n",
       "      <th>Uruguay</th>\n",
       "      <td>2</td>\n",
       "      <td>[1, 50.0 %]</td>\n",
       "      <td>[0, 0.0 %]</td>\n",
       "      <td>[0, 0.0 %]</td>\n",
       "      <td>[1, 50.0 %]</td>\n",
       "    </tr>\n",
       "  </tbody>\n",
       "</table>\n",
       "</div>"
      ],
      "text/plain": [
       "         Pacientes       Normal No evaluable    Hz Pruebas Hz Tratamiento\n",
       "Cidma            1   [0, 0.0 %]   [0, 0.0 %]  [1, 100.0 %]   [1, 100.0 %]\n",
       "Uruguay          2  [1, 50.0 %]   [0, 0.0 %]    [0, 0.0 %]    [1, 50.0 %]"
      ]
     },
     "metadata": {},
     "output_type": "display_data"
    },
    {
     "name": "stdout",
     "output_type": "stream",
     "text": [
      "Alt_tránsito CIDMA hallazgos terapeúticos más frecuentes []\n",
      "Alt_tránsito CIDMA hallazgos pruebas complementarias []\n",
      "CIDMA pacientes sin hallazgos patológicos con áreas del tracto digestivo no evaluables 0\n",
      "Alt_tránsito Uruguay hallazgos terapeúticos más frecuentes [('Diverticulo_col', 1), ('Diverticulo_sig', 1)]\n",
      "Alt_tránsito Uruguay hallazgos pruebas complementarias más frecuentes []\n",
      "Uruguay pacientes sin hallazgos patológicos con áreas del tracto digestivo no evaluables 0\n"
     ]
    },
    {
     "data": {
      "text/html": [
       "<div>\n",
       "<style scoped>\n",
       "    .dataframe tbody tr th:only-of-type {\n",
       "        vertical-align: middle;\n",
       "    }\n",
       "\n",
       "    .dataframe tbody tr th {\n",
       "        vertical-align: top;\n",
       "    }\n",
       "\n",
       "    .dataframe thead th {\n",
       "        text-align: right;\n",
       "    }\n",
       "</style>\n",
       "<table border=\"1\" class=\"dataframe\">\n",
       "  <thead>\n",
       "    <tr style=\"text-align: right;\">\n",
       "      <th></th>\n",
       "      <th>Pacientes</th>\n",
       "      <th>Normal</th>\n",
       "      <th>No evaluable</th>\n",
       "      <th>Hz Pruebas</th>\n",
       "      <th>Hz Tratamiento</th>\n",
       "    </tr>\n",
       "  </thead>\n",
       "  <tbody>\n",
       "    <tr>\n",
       "      <th>Cidma</th>\n",
       "      <td>3</td>\n",
       "      <td>[0, 0.0 %]</td>\n",
       "      <td>[1, 33.33 %]</td>\n",
       "      <td>[2, 66.67 %]</td>\n",
       "      <td>[3, 100.0 %]</td>\n",
       "    </tr>\n",
       "    <tr>\n",
       "      <th>Uruguay</th>\n",
       "      <td>22</td>\n",
       "      <td>[3, 13.64 %]</td>\n",
       "      <td>[11, 50.0 %]</td>\n",
       "      <td>[11, 50.0 %]</td>\n",
       "      <td>[16, 72.73 %]</td>\n",
       "    </tr>\n",
       "  </tbody>\n",
       "</table>\n",
       "</div>"
      ],
      "text/plain": [
       "         Pacientes        Normal  No evaluable    Hz Pruebas Hz Tratamiento\n",
       "Cidma            3    [0, 0.0 %]  [1, 33.33 %]  [2, 66.67 %]   [3, 100.0 %]\n",
       "Uruguay         22  [3, 13.64 %]  [11, 50.0 %]  [11, 50.0 %]  [16, 72.73 %]"
      ]
     },
     "metadata": {},
     "output_type": "display_data"
    },
    {
     "name": "stdout",
     "output_type": "stream",
     "text": [
      "Anemia CIDMA hallazgos terapeúticos más frecuentes [('Hemorroides', 2), ('Diverticulo_col', 2), ('Diverticulo_C_izq', 2)]\n",
      "Anemia CIDMA hallazgos pruebas complementarias [('Trast_tránsito_esof', 1), ('Estenosis_extr_esof', 1), ('Gastritis_estom', 1)]\n",
      "CIDMA pacientes sin hallazgos patológicos con áreas del tracto digestivo no evaluables 0\n",
      "Anemia Uruguay hallazgos terapeúticos más frecuentes [('Diverticulo_col', 5), ('Erosiones_estom', 3), ('Erosiones_del', 3)]\n",
      "Anemia Uruguay hallazgos pruebas complementarias más frecuentes [('Erosiones_yey', 5), ('Erosiones_col', 3), ('Gastritis_estom', 2)]\n",
      "Uruguay pacientes sin hallazgos patológicos con áreas del tracto digestivo no evaluables 2\n"
     ]
    },
    {
     "data": {
      "text/html": [
       "<div>\n",
       "<style scoped>\n",
       "    .dataframe tbody tr th:only-of-type {\n",
       "        vertical-align: middle;\n",
       "    }\n",
       "\n",
       "    .dataframe tbody tr th {\n",
       "        vertical-align: top;\n",
       "    }\n",
       "\n",
       "    .dataframe thead th {\n",
       "        text-align: right;\n",
       "    }\n",
       "</style>\n",
       "<table border=\"1\" class=\"dataframe\">\n",
       "  <thead>\n",
       "    <tr style=\"text-align: right;\">\n",
       "      <th></th>\n",
       "      <th>Pacientes</th>\n",
       "      <th>Normal</th>\n",
       "      <th>No evaluable</th>\n",
       "      <th>Hz Pruebas</th>\n",
       "      <th>Hz Tratamiento</th>\n",
       "    </tr>\n",
       "  </thead>\n",
       "  <tbody>\n",
       "    <tr>\n",
       "      <th>Cidma</th>\n",
       "      <td>53</td>\n",
       "      <td>[6, 11.32 %]</td>\n",
       "      <td>[15, 28.3 %]</td>\n",
       "      <td>[33, 62.26 %]</td>\n",
       "      <td>[39, 73.58 %]</td>\n",
       "    </tr>\n",
       "    <tr>\n",
       "      <th>Uruguay</th>\n",
       "      <td>8</td>\n",
       "      <td>[3, 37.5 %]</td>\n",
       "      <td>[1, 12.5 %]</td>\n",
       "      <td>[3, 37.5 %]</td>\n",
       "      <td>[5, 62.5 %]</td>\n",
       "    </tr>\n",
       "  </tbody>\n",
       "</table>\n",
       "</div>"
      ],
      "text/plain": [
       "         Pacientes        Normal  No evaluable     Hz Pruebas Hz Tratamiento\n",
       "Cidma           53  [6, 11.32 %]  [15, 28.3 %]  [33, 62.26 %]  [39, 73.58 %]\n",
       "Uruguay          8   [3, 37.5 %]   [1, 12.5 %]    [3, 37.5 %]    [5, 62.5 %]"
      ]
     },
     "metadata": {},
     "output_type": "display_data"
    },
    {
     "name": "stdout",
     "output_type": "stream",
     "text": [
      "Dolor_abd CIDMA hallazgos terapeúticos más frecuentes [('Diverticulo_col', 16), ('Hernia_hiato_total', 14), ('Hemorroides', 14)]\n",
      "Dolor_abd CIDMA hallazgos pruebas complementarias [('Gastritis_estom', 15), ('Yeyunitis', 5), ('Trast_tránsito_esof', 3)]\n",
      "CIDMA pacientes sin hallazgos patológicos con áreas del tracto digestivo no evaluables 2\n",
      "Dolor_abd Uruguay hallazgos terapeúticos más frecuentes [('Pólipo_col', 4), ('Sigmoiditis', 2), ('Diverticulo_col', 1)]\n",
      "Dolor_abd Uruguay hallazgos pruebas complementarias más frecuentes [('Erosiones_yey', 1), ('Ileitis', 1), ('Erosiones_col', 1)]\n",
      "Uruguay pacientes sin hallazgos patológicos con áreas del tracto digestivo no evaluables 1\n"
     ]
    },
    {
     "name": "stderr",
     "output_type": "stream",
     "text": [
      "/usr/local/Cellar/ipython/7.7.0/libexec/vendor/lib/python3.7/site-packages/ipykernel_launcher.py:87: SettingWithCopyWarning: \n",
      "A value is trying to be set on a copy of a slice from a DataFrame.\n",
      "Try using .loc[row_indexer,col_indexer] = value instead\n",
      "\n",
      "See the caveats in the documentation: http://pandas.pydata.org/pandas-docs/stable/user_guide/indexing.html#returning-a-view-versus-a-copy\n",
      "/usr/local/Cellar/ipython/7.7.0/libexec/vendor/lib/python3.7/site-packages/ipykernel_launcher.py:89: SettingWithCopyWarning: \n",
      "A value is trying to be set on a copy of a slice from a DataFrame.\n",
      "Try using .loc[row_indexer,col_indexer] = value instead\n",
      "\n",
      "See the caveats in the documentation: http://pandas.pydata.org/pandas-docs/stable/user_guide/indexing.html#returning-a-view-versus-a-copy\n"
     ]
    },
    {
     "data": {
      "text/html": [
       "<div>\n",
       "<style scoped>\n",
       "    .dataframe tbody tr th:only-of-type {\n",
       "        vertical-align: middle;\n",
       "    }\n",
       "\n",
       "    .dataframe tbody tr th {\n",
       "        vertical-align: top;\n",
       "    }\n",
       "\n",
       "    .dataframe thead th {\n",
       "        text-align: right;\n",
       "    }\n",
       "</style>\n",
       "<table border=\"1\" class=\"dataframe\">\n",
       "  <thead>\n",
       "    <tr style=\"text-align: right;\">\n",
       "      <th></th>\n",
       "      <th>Pacientes</th>\n",
       "      <th>Normal</th>\n",
       "      <th>No evaluable</th>\n",
       "      <th>Hz Pruebas</th>\n",
       "      <th>Hz Tratamiento</th>\n",
       "    </tr>\n",
       "  </thead>\n",
       "  <tbody>\n",
       "    <tr>\n",
       "      <th>Cidma</th>\n",
       "      <td>6</td>\n",
       "      <td>[0, 0.0 %]</td>\n",
       "      <td>[2, 33.33 %]</td>\n",
       "      <td>[1, 16.67 %]</td>\n",
       "      <td>[6, 100.0 %]</td>\n",
       "    </tr>\n",
       "    <tr>\n",
       "      <th>Uruguay</th>\n",
       "      <td>NO</td>\n",
       "      <td>[NO]</td>\n",
       "      <td>[NO]</td>\n",
       "      <td>[NO]</td>\n",
       "      <td>[NO]</td>\n",
       "    </tr>\n",
       "  </tbody>\n",
       "</table>\n",
       "</div>"
      ],
      "text/plain": [
       "        Pacientes      Normal  No evaluable    Hz Pruebas Hz Tratamiento\n",
       "Cidma           6  [0, 0.0 %]  [2, 33.33 %]  [1, 16.67 %]   [6, 100.0 %]\n",
       "Uruguay        NO        [NO]          [NO]          [NO]           [NO]"
      ]
     },
     "metadata": {},
     "output_type": "display_data"
    },
    {
     "name": "stdout",
     "output_type": "stream",
     "text": [
      "Estreñimiento CIDMA hallazgos terapeúticos más frecuentes [('Hemorroides', 4), ('Hernia_hiato_total', 3), ('Diverticulo_col', 3)]\n",
      "Estreñimiento CIDMA hallazgos pruebas complementarias [('Erosiones_íleon', 1)]\n",
      "CIDMA pacientes sin hallazgos patológicos con áreas del tracto digestivo no evaluables 0\n",
      "NO Uruguay\n",
      "No Uruguay\n",
      "No Uruguay\n"
     ]
    },
    {
     "data": {
      "text/html": [
       "<div>\n",
       "<style scoped>\n",
       "    .dataframe tbody tr th:only-of-type {\n",
       "        vertical-align: middle;\n",
       "    }\n",
       "\n",
       "    .dataframe tbody tr th {\n",
       "        vertical-align: top;\n",
       "    }\n",
       "\n",
       "    .dataframe thead th {\n",
       "        text-align: right;\n",
       "    }\n",
       "</style>\n",
       "<table border=\"1\" class=\"dataframe\">\n",
       "  <thead>\n",
       "    <tr style=\"text-align: right;\">\n",
       "      <th></th>\n",
       "      <th>Pacientes</th>\n",
       "      <th>Normal</th>\n",
       "      <th>No evaluable</th>\n",
       "      <th>Hz Pruebas</th>\n",
       "      <th>Hz Tratamiento</th>\n",
       "    </tr>\n",
       "  </thead>\n",
       "  <tbody>\n",
       "    <tr>\n",
       "      <th>Cidma</th>\n",
       "      <td>31</td>\n",
       "      <td>[4, 12.9 %]</td>\n",
       "      <td>[7, 22.58 %]</td>\n",
       "      <td>[15, 48.39 %]</td>\n",
       "      <td>[21, 67.74 %]</td>\n",
       "    </tr>\n",
       "    <tr>\n",
       "      <th>Uruguay</th>\n",
       "      <td>4</td>\n",
       "      <td>[0, 0.0 %]</td>\n",
       "      <td>[2, 50.0 %]</td>\n",
       "      <td>[3, 75.0 %]</td>\n",
       "      <td>[1, 25.0 %]</td>\n",
       "    </tr>\n",
       "  </tbody>\n",
       "</table>\n",
       "</div>"
      ],
      "text/plain": [
       "         Pacientes       Normal  No evaluable     Hz Pruebas Hz Tratamiento\n",
       "Cidma           31  [4, 12.9 %]  [7, 22.58 %]  [15, 48.39 %]  [21, 67.74 %]\n",
       "Uruguay          4   [0, 0.0 %]   [2, 50.0 %]    [3, 75.0 %]    [1, 25.0 %]"
      ]
     },
     "metadata": {},
     "output_type": "display_data"
    },
    {
     "name": "stdout",
     "output_type": "stream",
     "text": [
      "Diarrea CIDMA hallazgos terapeúticos más frecuentes [('Hernia_hiato_total', 7), ('RGE_esof', 6), ('Otros_del', 5)]\n",
      "Diarrea CIDMA hallazgos pruebas complementarias [('Gastritis_estom', 6), ('Erosiones_col', 3), ('Ileitis', 2)]\n",
      "CIDMA pacientes sin hallazgos patológicos con áreas del tracto digestivo no evaluables 1\n",
      "Diarrea Uruguay hallazgos terapeúticos más frecuentes [('Angiodisplasia_col', 1)]\n",
      "Diarrea Uruguay hallazgos pruebas complementarias más frecuentes [('Yeyunitis', 1), ('Erosiones_yey', 1), ('Erosiones_col', 1)]\n",
      "Uruguay pacientes sin hallazgos patológicos con áreas del tracto digestivo no evaluables 0\n"
     ]
    },
    {
     "data": {
      "text/html": [
       "<div>\n",
       "<style scoped>\n",
       "    .dataframe tbody tr th:only-of-type {\n",
       "        vertical-align: middle;\n",
       "    }\n",
       "\n",
       "    .dataframe tbody tr th {\n",
       "        vertical-align: top;\n",
       "    }\n",
       "\n",
       "    .dataframe thead th {\n",
       "        text-align: right;\n",
       "    }\n",
       "</style>\n",
       "<table border=\"1\" class=\"dataframe\">\n",
       "  <thead>\n",
       "    <tr style=\"text-align: right;\">\n",
       "      <th></th>\n",
       "      <th>Pacientes</th>\n",
       "      <th>Normal</th>\n",
       "      <th>No evaluable</th>\n",
       "      <th>Hz Pruebas</th>\n",
       "      <th>Hz Tratamiento</th>\n",
       "    </tr>\n",
       "  </thead>\n",
       "  <tbody>\n",
       "    <tr>\n",
       "      <th>Cidma</th>\n",
       "      <td>10</td>\n",
       "      <td>[2, 20.0 %]</td>\n",
       "      <td>[2, 20.0 %]</td>\n",
       "      <td>[5, 50.0 %]</td>\n",
       "      <td>[6, 60.0 %]</td>\n",
       "    </tr>\n",
       "    <tr>\n",
       "      <th>Uruguay</th>\n",
       "      <td>NO</td>\n",
       "      <td>[NO]</td>\n",
       "      <td>[NO]</td>\n",
       "      <td>[NO]</td>\n",
       "      <td>[NO]</td>\n",
       "    </tr>\n",
       "  </tbody>\n",
       "</table>\n",
       "</div>"
      ],
      "text/plain": [
       "        Pacientes       Normal No evaluable   Hz Pruebas Hz Tratamiento\n",
       "Cidma          10  [2, 20.0 %]  [2, 20.0 %]  [5, 50.0 %]    [6, 60.0 %]\n",
       "Uruguay        NO         [NO]         [NO]         [NO]           [NO]"
      ]
     },
     "metadata": {},
     "output_type": "display_data"
    },
    {
     "name": "stdout",
     "output_type": "stream",
     "text": [
      "Vómitos CIDMA hallazgos terapeúticos más frecuentes [('Otras_col', 3), ('RGE_esof', 2), ('Otros_del', 2)]\n",
      "Vómitos CIDMA hallazgos pruebas complementarias [('Yeyunitis', 2), ('Gastritis_estom', 1), ('Ileitis', 1)]\n",
      "CIDMA pacientes sin hallazgos patológicos con áreas del tracto digestivo no evaluables 0\n",
      "NO Uruguay\n",
      "No Uruguay\n",
      "No Uruguay\n"
     ]
    },
    {
     "data": {
      "text/html": [
       "<div>\n",
       "<style scoped>\n",
       "    .dataframe tbody tr th:only-of-type {\n",
       "        vertical-align: middle;\n",
       "    }\n",
       "\n",
       "    .dataframe tbody tr th {\n",
       "        vertical-align: top;\n",
       "    }\n",
       "\n",
       "    .dataframe thead th {\n",
       "        text-align: right;\n",
       "    }\n",
       "</style>\n",
       "<table border=\"1\" class=\"dataframe\">\n",
       "  <thead>\n",
       "    <tr style=\"text-align: right;\">\n",
       "      <th></th>\n",
       "      <th>Pacientes</th>\n",
       "      <th>Normal</th>\n",
       "      <th>No evaluable</th>\n",
       "      <th>Hz Pruebas</th>\n",
       "      <th>Hz Tratamiento</th>\n",
       "    </tr>\n",
       "  </thead>\n",
       "  <tbody>\n",
       "    <tr>\n",
       "      <th>Cidma</th>\n",
       "      <td>8</td>\n",
       "      <td>[1, 12.5 %]</td>\n",
       "      <td>[2, 25.0 %]</td>\n",
       "      <td>[5, 62.5 %]</td>\n",
       "      <td>[4, 50.0 %]</td>\n",
       "    </tr>\n",
       "    <tr>\n",
       "      <th>Uruguay</th>\n",
       "      <td>NO</td>\n",
       "      <td>[NO]</td>\n",
       "      <td>[NO]</td>\n",
       "      <td>[NO]</td>\n",
       "      <td>[NO]</td>\n",
       "    </tr>\n",
       "  </tbody>\n",
       "</table>\n",
       "</div>"
      ],
      "text/plain": [
       "        Pacientes       Normal No evaluable   Hz Pruebas Hz Tratamiento\n",
       "Cidma           8  [1, 12.5 %]  [2, 25.0 %]  [5, 62.5 %]    [4, 50.0 %]\n",
       "Uruguay        NO         [NO]         [NO]         [NO]           [NO]"
      ]
     },
     "metadata": {},
     "output_type": "display_data"
    },
    {
     "name": "stdout",
     "output_type": "stream",
     "text": [
      "Pérdida_peso CIDMA hallazgos terapeúticos más frecuentes [('Hernia_hiato_total', 2), ('Hemorroides', 2), ('RGE_esof', 1)]\n",
      "Pérdida_peso CIDMA hallazgos pruebas complementarias [('Trast_tránsito_esof', 1), ('Trast_motilidad_estom', 1), ('Gastritis_estom', 1)]\n",
      "CIDMA pacientes sin hallazgos patológicos con áreas del tracto digestivo no evaluables 0\n",
      "NO Uruguay\n",
      "No Uruguay\n",
      "No Uruguay\n"
     ]
    },
    {
     "data": {
      "text/html": [
       "<div>\n",
       "<style scoped>\n",
       "    .dataframe tbody tr th:only-of-type {\n",
       "        vertical-align: middle;\n",
       "    }\n",
       "\n",
       "    .dataframe tbody tr th {\n",
       "        vertical-align: top;\n",
       "    }\n",
       "\n",
       "    .dataframe thead th {\n",
       "        text-align: right;\n",
       "    }\n",
       "</style>\n",
       "<table border=\"1\" class=\"dataframe\">\n",
       "  <thead>\n",
       "    <tr style=\"text-align: right;\">\n",
       "      <th></th>\n",
       "      <th>Pacientes</th>\n",
       "      <th>Normal</th>\n",
       "      <th>No evaluable</th>\n",
       "      <th>Hz Pruebas</th>\n",
       "      <th>Hz Tratamiento</th>\n",
       "    </tr>\n",
       "  </thead>\n",
       "  <tbody>\n",
       "    <tr>\n",
       "      <th>Cidma</th>\n",
       "      <td>2</td>\n",
       "      <td>[0, 0.0 %]</td>\n",
       "      <td>[0, 0.0 %]</td>\n",
       "      <td>[2, 100.0 %]</td>\n",
       "      <td>[1, 50.0 %]</td>\n",
       "    </tr>\n",
       "    <tr>\n",
       "      <th>Uruguay</th>\n",
       "      <td>3</td>\n",
       "      <td>[1, 33.33 %]</td>\n",
       "      <td>[1, 33.33 %]</td>\n",
       "      <td>[1, 33.33 %]</td>\n",
       "      <td>[2, 66.67 %]</td>\n",
       "    </tr>\n",
       "  </tbody>\n",
       "</table>\n",
       "</div>"
      ],
      "text/plain": [
       "         Pacientes        Normal  No evaluable    Hz Pruebas Hz Tratamiento\n",
       "Cidma            2    [0, 0.0 %]    [0, 0.0 %]  [2, 100.0 %]    [1, 50.0 %]\n",
       "Uruguay          3  [1, 33.33 %]  [1, 33.33 %]  [1, 33.33 %]   [2, 66.67 %]"
      ]
     },
     "metadata": {},
     "output_type": "display_data"
    },
    {
     "name": "stdout",
     "output_type": "stream",
     "text": [
      "EII CIDMA hallazgos terapeúticos más frecuentes [('Pólipo_estom', 1), ('Diverticulo_col', 1)]\n",
      "EII CIDMA hallazgos pruebas complementarias [('Gastritis_estom', 1), ('Ileitis', 1), ('Erosiones_íleon', 1)]\n",
      "CIDMA pacientes sin hallazgos patológicos con áreas del tracto digestivo no evaluables 0\n",
      "EII Uruguay hallazgos terapeúticos más frecuentes [('Hemorroides', 1), ('Sigmoiditis', 1), ('Pólipo_col', 1)]\n",
      "EII Uruguay hallazgos pruebas complementarias más frecuentes [('Erosiones_yey', 1)]\n",
      "Uruguay pacientes sin hallazgos patológicos con áreas del tracto digestivo no evaluables 1\n"
     ]
    },
    {
     "data": {
      "text/html": [
       "<div>\n",
       "<style scoped>\n",
       "    .dataframe tbody tr th:only-of-type {\n",
       "        vertical-align: middle;\n",
       "    }\n",
       "\n",
       "    .dataframe tbody tr th {\n",
       "        vertical-align: top;\n",
       "    }\n",
       "\n",
       "    .dataframe thead th {\n",
       "        text-align: right;\n",
       "    }\n",
       "</style>\n",
       "<table border=\"1\" class=\"dataframe\">\n",
       "  <thead>\n",
       "    <tr style=\"text-align: right;\">\n",
       "      <th></th>\n",
       "      <th>Pacientes</th>\n",
       "      <th>Normal</th>\n",
       "      <th>No evaluable</th>\n",
       "      <th>Hz Pruebas</th>\n",
       "      <th>Hz Tratamiento</th>\n",
       "    </tr>\n",
       "  </thead>\n",
       "  <tbody>\n",
       "    <tr>\n",
       "      <th>Cidma</th>\n",
       "      <td>4</td>\n",
       "      <td>[0, 0.0 %]</td>\n",
       "      <td>[0, 0.0 %]</td>\n",
       "      <td>[3, 75.0 %]</td>\n",
       "      <td>[2, 50.0 %]</td>\n",
       "    </tr>\n",
       "    <tr>\n",
       "      <th>Uruguay</th>\n",
       "      <td>5</td>\n",
       "      <td>[1, 20.0 %]</td>\n",
       "      <td>[1, 20.0 %]</td>\n",
       "      <td>[2, 40.0 %]</td>\n",
       "      <td>[4, 80.0 %]</td>\n",
       "    </tr>\n",
       "  </tbody>\n",
       "</table>\n",
       "</div>"
      ],
      "text/plain": [
       "         Pacientes       Normal No evaluable   Hz Pruebas Hz Tratamiento\n",
       "Cidma            4   [0, 0.0 %]   [0, 0.0 %]  [3, 75.0 %]    [2, 50.0 %]\n",
       "Uruguay          5  [1, 20.0 %]  [1, 20.0 %]  [2, 40.0 %]    [4, 80.0 %]"
      ]
     },
     "metadata": {},
     "output_type": "display_data"
    },
    {
     "name": "stdout",
     "output_type": "stream",
     "text": [
      "Enf_II CIDMA hallazgos terapeúticos más frecuentes [('Diverticulo_col', 2), ('Pólipo_estom', 1), ('Hemorroides', 1)]\n",
      "Enf_II CIDMA hallazgos pruebas complementarias [('Gastritis_estom', 2), ('Erosiones_yey', 1), ('Ileitis', 1)]\n",
      "CIDMA pacientes sin hallazgos patológicos con áreas del tracto digestivo no evaluables 0\n",
      "Enf_II Uruguay hallazgos terapeúticos más frecuentes [('Proctitis', 2), ('Erosiones_estom', 1), ('Hemorroides', 1)]\n",
      "Enf_II Uruguay hallazgos pruebas complementarias más frecuentes [('Erosiones_yey', 1), ('Erosiones_íleon', 1)]\n",
      "Uruguay pacientes sin hallazgos patológicos con áreas del tracto digestivo no evaluables 1\n"
     ]
    },
    {
     "name": "stderr",
     "output_type": "stream",
     "text": [
      "/usr/local/Cellar/ipython/7.7.0/libexec/vendor/lib/python3.7/site-packages/ipykernel_launcher.py:16: SettingWithCopyWarning: \n",
      "A value is trying to be set on a copy of a slice from a DataFrame.\n",
      "Try using .loc[row_indexer,col_indexer] = value instead\n",
      "\n",
      "See the caveats in the documentation: http://pandas.pydata.org/pandas-docs/stable/user_guide/indexing.html#returning-a-view-versus-a-copy\n",
      "  app.launch_new_instance()\n",
      "/usr/local/Cellar/ipython/7.7.0/libexec/vendor/lib/python3.7/site-packages/ipykernel_launcher.py:18: SettingWithCopyWarning: \n",
      "A value is trying to be set on a copy of a slice from a DataFrame.\n",
      "Try using .loc[row_indexer,col_indexer] = value instead\n",
      "\n",
      "See the caveats in the documentation: http://pandas.pydata.org/pandas-docs/stable/user_guide/indexing.html#returning-a-view-versus-a-copy\n"
     ]
    },
    {
     "data": {
      "text/html": [
       "<div>\n",
       "<style scoped>\n",
       "    .dataframe tbody tr th:only-of-type {\n",
       "        vertical-align: middle;\n",
       "    }\n",
       "\n",
       "    .dataframe tbody tr th {\n",
       "        vertical-align: top;\n",
       "    }\n",
       "\n",
       "    .dataframe thead th {\n",
       "        text-align: right;\n",
       "    }\n",
       "</style>\n",
       "<table border=\"1\" class=\"dataframe\">\n",
       "  <thead>\n",
       "    <tr style=\"text-align: right;\">\n",
       "      <th></th>\n",
       "      <th>Pacientes</th>\n",
       "      <th>Normal</th>\n",
       "      <th>No evaluable</th>\n",
       "      <th>Hz Pruebas</th>\n",
       "      <th>Hz Tratamiento</th>\n",
       "    </tr>\n",
       "  </thead>\n",
       "  <tbody>\n",
       "    <tr>\n",
       "      <th>Cidma</th>\n",
       "      <td>NO</td>\n",
       "      <td>[NO]</td>\n",
       "      <td>[NO]</td>\n",
       "      <td>[NO]</td>\n",
       "      <td>[NO]</td>\n",
       "    </tr>\n",
       "    <tr>\n",
       "      <th>Uruguay</th>\n",
       "      <td>10</td>\n",
       "      <td>[5, 50.0 %]</td>\n",
       "      <td>[2, 20.0 %]</td>\n",
       "      <td>[2, 20.0 %]</td>\n",
       "      <td>[5, 50.0 %]</td>\n",
       "    </tr>\n",
       "  </tbody>\n",
       "</table>\n",
       "</div>"
      ],
      "text/plain": [
       "        Pacientes       Normal No evaluable   Hz Pruebas Hz Tratamiento\n",
       "Cidma          NO         [NO]         [NO]         [NO]           [NO]\n",
       "Uruguay        10  [5, 50.0 %]  [2, 20.0 %]  [2, 20.0 %]    [5, 50.0 %]"
      ]
     },
     "metadata": {},
     "output_type": "display_data"
    },
    {
     "name": "stdout",
     "output_type": "stream",
     "text": [
      "Colono_imcp Uruguay hallazgos terapeúticos más frecuentes [('Diverticulo_col', 2), ('Sigmoiditis', 2), ('Pólipo_col', 2)]\n",
      "Colono_imcp Uruguay hallazgos pruebas complementarias [('Erosiones_yey', 1), ('Erosiones_íleon', 1)]\n",
      "Uruguay pacientes sin hallazgos patológicos con áreas del tracto digestivo no evaluables 2\n",
      "No CIDMA\n",
      "No CIDMA\n",
      "No CIDMA\n"
     ]
    },
    {
     "data": {
      "text/html": [
       "<div>\n",
       "<style scoped>\n",
       "    .dataframe tbody tr th:only-of-type {\n",
       "        vertical-align: middle;\n",
       "    }\n",
       "\n",
       "    .dataframe tbody tr th {\n",
       "        vertical-align: top;\n",
       "    }\n",
       "\n",
       "    .dataframe thead th {\n",
       "        text-align: right;\n",
       "    }\n",
       "</style>\n",
       "<table border=\"1\" class=\"dataframe\">\n",
       "  <thead>\n",
       "    <tr style=\"text-align: right;\">\n",
       "      <th></th>\n",
       "      <th>Pacientes</th>\n",
       "      <th>Normal</th>\n",
       "      <th>No evaluable</th>\n",
       "      <th>Hz Pruebas</th>\n",
       "      <th>Hz Tratamiento</th>\n",
       "    </tr>\n",
       "  </thead>\n",
       "  <tbody>\n",
       "    <tr>\n",
       "      <th>Cidma</th>\n",
       "      <td>9</td>\n",
       "      <td>[0, 0.0 %]</td>\n",
       "      <td>[0, 0.0 %]</td>\n",
       "      <td>[4, 44.44 %]</td>\n",
       "      <td>[9, 100.0 %]</td>\n",
       "    </tr>\n",
       "    <tr>\n",
       "      <th>Uruguay</th>\n",
       "      <td>49</td>\n",
       "      <td>[10, 20.41 %]</td>\n",
       "      <td>[8, 16.33 %]</td>\n",
       "      <td>[7, 14.29 %]</td>\n",
       "      <td>[35, 71.43 %]</td>\n",
       "    </tr>\n",
       "  </tbody>\n",
       "</table>\n",
       "</div>"
      ],
      "text/plain": [
       "         Pacientes         Normal  No evaluable    Hz Pruebas Hz Tratamiento\n",
       "Cidma            9     [0, 0.0 %]    [0, 0.0 %]  [4, 44.44 %]   [9, 100.0 %]\n",
       "Uruguay         49  [10, 20.41 %]  [8, 16.33 %]  [7, 14.29 %]  [35, 71.43 %]"
      ]
     },
     "metadata": {},
     "output_type": "display_data"
    },
    {
     "name": "stdout",
     "output_type": "stream",
     "text": [
      "Cribado CIDMA hallazgos terapeúticos más frecuentes [('Diverticulo_col', 7), ('RGE_esof', 5), ('Hernia_hiato_total', 4)]\n",
      "Cribado CIDMA hallazgos pruebas complementarias [('Gastritis_estom', 2), ('Esof_eosinofilica_esof', 1), ('Erosiones_íleon', 1)]\n",
      "CIDMA pacientes sin hallazgos patológicos con áreas del tracto digestivo no evaluables 0\n",
      "Cribado Uruguay hallazgos terapeúticos más frecuentes [('Diverticulo_col', 18), ('Pólipo_col', 13), ('Diverticulo_sig', 12)]\n",
      "Cribado Uruguay hallazgos pruebas complementarias más frecuentes [('Barret_esof', 2), ('Pólipo_íleon', 2), ('Trast_motilidad_estom', 1)]\n",
      "Uruguay pacientes sin hallazgos patológicos con áreas del tracto digestivo no evaluables 4\n"
     ]
    },
    {
     "data": {
      "text/html": [
       "<div>\n",
       "<style scoped>\n",
       "    .dataframe tbody tr th:only-of-type {\n",
       "        vertical-align: middle;\n",
       "    }\n",
       "\n",
       "    .dataframe tbody tr th {\n",
       "        vertical-align: top;\n",
       "    }\n",
       "\n",
       "    .dataframe thead th {\n",
       "        text-align: right;\n",
       "    }\n",
       "</style>\n",
       "<table border=\"1\" class=\"dataframe\">\n",
       "  <thead>\n",
       "    <tr style=\"text-align: right;\">\n",
       "      <th></th>\n",
       "      <th>Pacientes</th>\n",
       "      <th>Normal</th>\n",
       "      <th>No evaluable</th>\n",
       "      <th>Hz Pruebas</th>\n",
       "      <th>Hz Tratamiento</th>\n",
       "    </tr>\n",
       "  </thead>\n",
       "  <tbody>\n",
       "    <tr>\n",
       "      <th>Cidma</th>\n",
       "      <td>8</td>\n",
       "      <td>[0, 0.0 %]</td>\n",
       "      <td>[3, 37.5 %]</td>\n",
       "      <td>[2, 25.0 %]</td>\n",
       "      <td>[7, 87.5 %]</td>\n",
       "    </tr>\n",
       "    <tr>\n",
       "      <th>Uruguay</th>\n",
       "      <td>10</td>\n",
       "      <td>[1, 10.0 %]</td>\n",
       "      <td>[3, 30.0 %]</td>\n",
       "      <td>[2, 20.0 %]</td>\n",
       "      <td>[9, 90.0 %]</td>\n",
       "    </tr>\n",
       "  </tbody>\n",
       "</table>\n",
       "</div>"
      ],
      "text/plain": [
       "         Pacientes       Normal No evaluable   Hz Pruebas Hz Tratamiento\n",
       "Cidma            8   [0, 0.0 %]  [3, 37.5 %]  [2, 25.0 %]    [7, 87.5 %]\n",
       "Uruguay         10  [1, 10.0 %]  [3, 30.0 %]  [2, 20.0 %]    [9, 90.0 %]"
      ]
     },
     "metadata": {},
     "output_type": "display_data"
    },
    {
     "name": "stdout",
     "output_type": "stream",
     "text": [
      "Revisión CIDMA hallazgos terapeúticos más frecuentes [('Hemorroides', 4), ('Diverticulo_col', 4), ('Pólipo_col', 4)]\n",
      "Revisión CIDMA hallazgos pruebas complementarias [('Pólipo_íleon', 2)]\n",
      "CIDMA pacientes sin hallazgos patológicos con áreas del tracto digestivo no evaluables 0\n",
      "Revisión Uruguay hallazgos terapeúticos más frecuentes [('Diverticulo_col', 5), ('Diverticulo_sig', 2), ('Sigmoiditis', 2)]\n",
      "Revisión Uruguay hallazgos pruebas complementarias más frecuentes [('Barret_esof', 1), ('Erosiones_íleon', 1)]\n",
      "Uruguay pacientes sin hallazgos patológicos con áreas del tracto digestivo no evaluables 1\n"
     ]
    },
    {
     "data": {
      "text/html": [
       "<div>\n",
       "<style scoped>\n",
       "    .dataframe tbody tr th:only-of-type {\n",
       "        vertical-align: middle;\n",
       "    }\n",
       "\n",
       "    .dataframe tbody tr th {\n",
       "        vertical-align: top;\n",
       "    }\n",
       "\n",
       "    .dataframe thead th {\n",
       "        text-align: right;\n",
       "    }\n",
       "</style>\n",
       "<table border=\"1\" class=\"dataframe\">\n",
       "  <thead>\n",
       "    <tr style=\"text-align: right;\">\n",
       "      <th></th>\n",
       "      <th>Pacientes</th>\n",
       "      <th>Normal</th>\n",
       "      <th>No evaluable</th>\n",
       "      <th>Hz Pruebas</th>\n",
       "      <th>Hz Tratamiento</th>\n",
       "    </tr>\n",
       "  </thead>\n",
       "  <tbody>\n",
       "    <tr>\n",
       "      <th>Cidma</th>\n",
       "      <td>10</td>\n",
       "      <td>[1, 10.0 %]</td>\n",
       "      <td>[3, 30.0 %]</td>\n",
       "      <td>[5, 50.0 %]</td>\n",
       "      <td>[8, 80.0 %]</td>\n",
       "    </tr>\n",
       "    <tr>\n",
       "      <th>Uruguay</th>\n",
       "      <td>9</td>\n",
       "      <td>[5, 55.56 %]</td>\n",
       "      <td>[1, 11.11 %]</td>\n",
       "      <td>[2, 22.22 %]</td>\n",
       "      <td>[4, 44.44 %]</td>\n",
       "    </tr>\n",
       "  </tbody>\n",
       "</table>\n",
       "</div>"
      ],
      "text/plain": [
       "         Pacientes        Normal  No evaluable    Hz Pruebas Hz Tratamiento\n",
       "Cidma           10   [1, 10.0 %]   [3, 30.0 %]   [5, 50.0 %]    [8, 80.0 %]\n",
       "Uruguay          9  [5, 55.56 %]  [1, 11.11 %]  [2, 22.22 %]   [4, 44.44 %]"
      ]
     },
     "metadata": {},
     "output_type": "display_data"
    },
    {
     "name": "stdout",
     "output_type": "stream",
     "text": [
      "Otros_indica CIDMA hallazgos terapeúticos más frecuentes [('Hernia_hiato_total', 3), ('Enteritis_del', 2), ('Hemorroides', 2)]\n",
      "Otros_indica CIDMA hallazgos pruebas complementarias [('Otros_estom', 3), ('Trast_motilidad_estom', 2), ('Gastritis_estom', 2)]\n",
      "CIDMA pacientes sin hallazgos patológicos con áreas del tracto digestivo no evaluables 1\n",
      "Otros_indica Uruguay hallazgos terapeúticos más frecuentes [('Diverticulo_col', 2), ('Pólipo_estom', 1), ('Pólipo_yey', 1)]\n",
      "Otros_indica Uruguay hallazgos pruebas complementarias más frecuentes [('Erosiones_yey', 1), ('Erosiones_col', 1)]\n",
      "Uruguay pacientes sin hallazgos patológicos con áreas del tracto digestivo no evaluables 1\n"
     ]
    }
   ],
   "source": [
    "#Aplico la función en todas las indicaciones\n",
    "for e in indicacion:\n",
    "    a,b,c,d,e,f,g=porcentajes(e)\n",
    "    display(a)\n",
    "    print(b)\n",
    "    print(c)\n",
    "    print(d)\n",
    "    print(e)\n",
    "    print(f)\n",
    "    print(g)\n",
    "    "
   ]
  },
  {
   "cell_type": "markdown",
   "metadata": {},
   "source": [
    "# Cribado de cáncer colorrectal\n",
    "\n",
    "Al ser una índicación tan dirigida, decido cambiar el analisis para resaltar las variables que indicarián el hallazgo de dicho cáncer"
   ]
  },
  {
   "cell_type": "code",
   "execution_count": 95,
   "metadata": {},
   "outputs": [],
   "source": [
    "cribado=['Pólipo_col',\n",
    " 'Pólipo_C_drch',\n",
    " 'Pólipo_C_asce',\n",
    " 'Pólipo_C_trans',\n",
    " 'Pólipo_C_izq',\n",
    " 'Pólipo_C_desc',\n",
    " 'Pólipo_ciego',\n",
    " 'Pólipo_sig',\n",
    " 'Pólipo_recto']"
   ]
  },
  {
   "cell_type": "code",
   "execution_count": 96,
   "metadata": {
    "scrolled": false
   },
   "outputs": [
    {
     "name": "stderr",
     "output_type": "stream",
     "text": [
      "/usr/local/Cellar/ipython/7.7.0/libexec/vendor/lib/python3.7/site-packages/ipykernel_launcher.py:158: SettingWithCopyWarning: \n",
      "A value is trying to be set on a copy of a slice from a DataFrame.\n",
      "Try using .loc[row_indexer,col_indexer] = value instead\n",
      "\n",
      "See the caveats in the documentation: http://pandas.pydata.org/pandas-docs/stable/user_guide/indexing.html#returning-a-view-versus-a-copy\n",
      "/usr/local/Cellar/ipython/7.7.0/libexec/vendor/lib/python3.7/site-packages/ipykernel_launcher.py:161: SettingWithCopyWarning: \n",
      "A value is trying to be set on a copy of a slice from a DataFrame.\n",
      "Try using .loc[row_indexer,col_indexer] = value instead\n",
      "\n",
      "See the caveats in the documentation: http://pandas.pydata.org/pandas-docs/stable/user_guide/indexing.html#returning-a-view-versus-a-copy\n",
      "/usr/local/Cellar/ipython/7.7.0/libexec/vendor/lib/python3.7/site-packages/ipykernel_launcher.py:166: SettingWithCopyWarning: \n",
      "A value is trying to be set on a copy of a slice from a DataFrame.\n",
      "Try using .loc[row_indexer,col_indexer] = value instead\n",
      "\n",
      "See the caveats in the documentation: http://pandas.pydata.org/pandas-docs/stable/user_guide/indexing.html#returning-a-view-versus-a-copy\n",
      "/usr/local/Cellar/ipython/7.7.0/libexec/vendor/lib/python3.7/site-packages/ipykernel_launcher.py:169: SettingWithCopyWarning: \n",
      "A value is trying to be set on a copy of a slice from a DataFrame.\n",
      "Try using .loc[row_indexer,col_indexer] = value instead\n",
      "\n",
      "See the caveats in the documentation: http://pandas.pydata.org/pandas-docs/stable/user_guide/indexing.html#returning-a-view-versus-a-copy\n"
     ]
    },
    {
     "data": {
      "text/html": [
       "<div>\n",
       "<style scoped>\n",
       "    .dataframe tbody tr th:only-of-type {\n",
       "        vertical-align: middle;\n",
       "    }\n",
       "\n",
       "    .dataframe tbody tr th {\n",
       "        vertical-align: top;\n",
       "    }\n",
       "\n",
       "    .dataframe thead th {\n",
       "        text-align: right;\n",
       "    }\n",
       "</style>\n",
       "<table border=\"1\" class=\"dataframe\">\n",
       "  <thead>\n",
       "    <tr style=\"text-align: right;\">\n",
       "      <th></th>\n",
       "      <th>Pacientes</th>\n",
       "      <th>Normal</th>\n",
       "      <th>No evaluable</th>\n",
       "      <th>Hz Pruebas</th>\n",
       "      <th>Hz Tratamiento</th>\n",
       "    </tr>\n",
       "  </thead>\n",
       "  <tbody>\n",
       "    <tr>\n",
       "      <th>Cidma</th>\n",
       "      <td>9</td>\n",
       "      <td>[0, 0.0 %]</td>\n",
       "      <td>[0, 0.0 %]</td>\n",
       "      <td>[4, 44.44 %]</td>\n",
       "      <td>[9, 100.0 %]</td>\n",
       "    </tr>\n",
       "    <tr>\n",
       "      <th>Uruguay</th>\n",
       "      <td>49</td>\n",
       "      <td>[10, 20.41 %]</td>\n",
       "      <td>[8, 16.33 %]</td>\n",
       "      <td>[7, 14.29 %]</td>\n",
       "      <td>[35, 71.43 %]</td>\n",
       "    </tr>\n",
       "  </tbody>\n",
       "</table>\n",
       "</div>"
      ],
      "text/plain": [
       "         Pacientes         Normal  No evaluable    Hz Pruebas Hz Tratamiento\n",
       "Cidma            9     [0, 0.0 %]    [0, 0.0 %]  [4, 44.44 %]   [9, 100.0 %]\n",
       "Uruguay         49  [10, 20.41 %]  [8, 16.33 %]  [7, 14.29 %]  [35, 71.43 %]"
      ]
     },
     "execution_count": 96,
     "metadata": {},
     "output_type": "execute_result"
    }
   ],
   "source": [
    "a,b,c,d,e,f,g=porcentajes(\"Cribado\")\n",
    "a"
   ]
  },
  {
   "cell_type": "code",
   "execution_count": 97,
   "metadata": {},
   "outputs": [],
   "source": [
    "cidma_cribado = datos[(datos['Médico']==0) & \n",
    "                (datos['Cribado']==1)]"
   ]
  },
  {
   "cell_type": "code",
   "execution_count": 98,
   "metadata": {},
   "outputs": [
    {
     "data": {
      "text/plain": [
       "3"
      ]
     },
     "execution_count": 98,
     "metadata": {},
     "output_type": "execute_result"
    }
   ],
   "source": [
    "#Pacientes de cidma con indicación de cribado con hallazgos de pólipos\n",
    "len(cidma_cribado[cidma_cribado[\"Pólipo_col\"]==1])"
   ]
  },
  {
   "cell_type": "code",
   "execution_count": 99,
   "metadata": {},
   "outputs": [],
   "source": [
    "cidma_polipo=cidma_cribado[cidma_cribado[\"Pólipo_col\"]==1]"
   ]
  },
  {
   "cell_type": "code",
   "execution_count": 100,
   "metadata": {
    "scrolled": true
   },
   "outputs": [
    {
     "data": {
      "text/html": [
       "<div>\n",
       "<style scoped>\n",
       "    .dataframe tbody tr th:only-of-type {\n",
       "        vertical-align: middle;\n",
       "    }\n",
       "\n",
       "    .dataframe tbody tr th {\n",
       "        vertical-align: top;\n",
       "    }\n",
       "\n",
       "    .dataframe thead th {\n",
       "        text-align: right;\n",
       "    }\n",
       "</style>\n",
       "<table border=\"1\" class=\"dataframe\">\n",
       "  <thead>\n",
       "    <tr style=\"text-align: right;\">\n",
       "      <th></th>\n",
       "      <th>Pólipo_col</th>\n",
       "      <th>Pólipo_C_drch</th>\n",
       "      <th>Pólipo_C_asce</th>\n",
       "      <th>Pólipo_C_trans</th>\n",
       "      <th>Pólipo_C_izq</th>\n",
       "      <th>Pólipo_C_desc</th>\n",
       "      <th>Pólipo_ciego</th>\n",
       "      <th>Pólipo_sig</th>\n",
       "      <th>Pólipo_recto</th>\n",
       "    </tr>\n",
       "  </thead>\n",
       "  <tbody>\n",
       "  </tbody>\n",
       "</table>\n",
       "</div>"
      ],
      "text/plain": [
       "Empty DataFrame\n",
       "Columns: [Pólipo_col, Pólipo_C_drch, Pólipo_C_asce, Pólipo_C_trans, Pólipo_C_izq, Pólipo_C_desc, Pólipo_ciego, Pólipo_sig, Pólipo_recto]\n",
       "Index: []"
      ]
     },
     "execution_count": 100,
     "metadata": {},
     "output_type": "execute_result"
    }
   ],
   "source": [
    "#De esos pacientes con pólipos, número con zonas del tracto digestivo no evaluable\n",
    "no_evaluable_polipo_cidma=cidma_polipo[(cidma_polipo['No_evaluable_esof']==1) | (cidma_polipo[\"No_evaluable_estom\"]==1)\n",
    "       | (cidma_polipo['No_evaluable_del']==1) | (cidma_polipo['No_evaluable_col']==1)]\n",
    "no_evaluable_polipo_cidma[cribado]"
   ]
  },
  {
   "cell_type": "markdown",
   "metadata": {},
   "source": [
    "Creo la variable no informado, que agrupa todas las columnas que reflejan ausencia de datos en el informe sobre las\n",
    "distintas zonas gastrointestinales."
   ]
  },
  {
   "cell_type": "code",
   "execution_count": 101,
   "metadata": {},
   "outputs": [],
   "source": [
    "no_informado=['No_informado_esof','No_informado_estom','No_informado_del','No_informado_col']"
   ]
  },
  {
   "cell_type": "code",
   "execution_count": 102,
   "metadata": {},
   "outputs": [
    {
     "data": {
      "text/html": [
       "<div>\n",
       "<style scoped>\n",
       "    .dataframe tbody tr th:only-of-type {\n",
       "        vertical-align: middle;\n",
       "    }\n",
       "\n",
       "    .dataframe tbody tr th {\n",
       "        vertical-align: top;\n",
       "    }\n",
       "\n",
       "    .dataframe thead th {\n",
       "        text-align: right;\n",
       "    }\n",
       "</style>\n",
       "<table border=\"1\" class=\"dataframe\">\n",
       "  <thead>\n",
       "    <tr style=\"text-align: right;\">\n",
       "      <th></th>\n",
       "      <th>No_informado_esof</th>\n",
       "      <th>No_informado_estom</th>\n",
       "      <th>No_informado_del</th>\n",
       "      <th>No_informado_col</th>\n",
       "    </tr>\n",
       "  </thead>\n",
       "  <tbody>\n",
       "    <tr>\n",
       "      <th>92</th>\n",
       "      <td>0</td>\n",
       "      <td>0</td>\n",
       "      <td>0</td>\n",
       "      <td>0</td>\n",
       "    </tr>\n",
       "    <tr>\n",
       "      <th>104</th>\n",
       "      <td>0</td>\n",
       "      <td>0</td>\n",
       "      <td>0</td>\n",
       "      <td>0</td>\n",
       "    </tr>\n",
       "    <tr>\n",
       "      <th>204</th>\n",
       "      <td>0</td>\n",
       "      <td>0</td>\n",
       "      <td>0</td>\n",
       "      <td>0</td>\n",
       "    </tr>\n",
       "  </tbody>\n",
       "</table>\n",
       "</div>"
      ],
      "text/plain": [
       "     No_informado_esof  No_informado_estom  No_informado_del No_informado_col\n",
       "92                   0                   0                 0                0\n",
       "104                  0                   0                 0                0\n",
       "204                  0                   0                 0                0"
      ]
     },
     "execution_count": 102,
     "metadata": {},
     "output_type": "execute_result"
    }
   ],
   "source": [
    "#De esos mismos pacientes, cuales son los que tienen alguna zona GI sin informar\n",
    "cidma_polipo[no_informado]"
   ]
  },
  {
   "cell_type": "code",
   "execution_count": 103,
   "metadata": {},
   "outputs": [],
   "source": [
    "uruguay_cribado = datos[(datos['Médico']==1) & \n",
    "                (datos['Cribado']==1)]"
   ]
  },
  {
   "cell_type": "code",
   "execution_count": 104,
   "metadata": {},
   "outputs": [
    {
     "data": {
      "text/plain": [
       "13"
      ]
     },
     "execution_count": 104,
     "metadata": {},
     "output_type": "execute_result"
    }
   ],
   "source": [
    "#Pacientes del hospital Italiano con indicación de cribado con hallazgos de pólipos\n",
    "len(uruguay_cribado[uruguay_cribado[\"Pólipo_col\"]==1])"
   ]
  },
  {
   "cell_type": "code",
   "execution_count": 105,
   "metadata": {},
   "outputs": [],
   "source": [
    "uruguay_polipo=uruguay_cribado[uruguay_cribado[\"Pólipo_col\"]==1]"
   ]
  },
  {
   "cell_type": "code",
   "execution_count": 106,
   "metadata": {},
   "outputs": [
    {
     "data": {
      "text/html": [
       "<div>\n",
       "<style scoped>\n",
       "    .dataframe tbody tr th:only-of-type {\n",
       "        vertical-align: middle;\n",
       "    }\n",
       "\n",
       "    .dataframe tbody tr th {\n",
       "        vertical-align: top;\n",
       "    }\n",
       "\n",
       "    .dataframe thead th {\n",
       "        text-align: right;\n",
       "    }\n",
       "</style>\n",
       "<table border=\"1\" class=\"dataframe\">\n",
       "  <thead>\n",
       "    <tr style=\"text-align: right;\">\n",
       "      <th></th>\n",
       "      <th>No_evaluable_esof</th>\n",
       "      <th>No_evaluable_estom</th>\n",
       "      <th>No_evaluable_del</th>\n",
       "      <th>No_evaluable_col</th>\n",
       "    </tr>\n",
       "  </thead>\n",
       "  <tbody>\n",
       "  </tbody>\n",
       "</table>\n",
       "</div>"
      ],
      "text/plain": [
       "Empty DataFrame\n",
       "Columns: [No_evaluable_esof, No_evaluable_estom, No_evaluable_del, No_evaluable_col]\n",
       "Index: []"
      ]
     },
     "execution_count": 106,
     "metadata": {},
     "output_type": "execute_result"
    }
   ],
   "source": [
    "#De esos pacientes con pólipos, número con zonas del tracto digestivo no evaluable.\n",
    "no_evaluable_polipo_uru=uruguay_polipo[(uruguay_polipo['No_evaluable_esof']==1) | (uruguay_polipo[\"No_evaluable_estom\"]==1)\n",
    "       | (uruguay_polipo['No_evaluable_del']==1) | (uruguay_polipo['No_evaluable_col']==1)]\n",
    "no_evaluable_polipo_uru[no_evaluable]"
   ]
  },
  {
   "cell_type": "code",
   "execution_count": 107,
   "metadata": {},
   "outputs": [
    {
     "data": {
      "text/html": [
       "<div>\n",
       "<style scoped>\n",
       "    .dataframe tbody tr th:only-of-type {\n",
       "        vertical-align: middle;\n",
       "    }\n",
       "\n",
       "    .dataframe tbody tr th {\n",
       "        vertical-align: top;\n",
       "    }\n",
       "\n",
       "    .dataframe thead th {\n",
       "        text-align: right;\n",
       "    }\n",
       "</style>\n",
       "<table border=\"1\" class=\"dataframe\">\n",
       "  <thead>\n",
       "    <tr style=\"text-align: right;\">\n",
       "      <th></th>\n",
       "      <th>No_informado_esof</th>\n",
       "      <th>No_informado_estom</th>\n",
       "      <th>No_informado_del</th>\n",
       "      <th>No_informado_col</th>\n",
       "    </tr>\n",
       "  </thead>\n",
       "  <tbody>\n",
       "    <tr>\n",
       "      <th>12</th>\n",
       "      <td>1</td>\n",
       "      <td>1</td>\n",
       "      <td>1</td>\n",
       "      <td>0</td>\n",
       "    </tr>\n",
       "    <tr>\n",
       "      <th>19</th>\n",
       "      <td>1</td>\n",
       "      <td>1</td>\n",
       "      <td>0</td>\n",
       "      <td>0</td>\n",
       "    </tr>\n",
       "    <tr>\n",
       "      <th>33</th>\n",
       "      <td>0</td>\n",
       "      <td>1</td>\n",
       "      <td>0</td>\n",
       "      <td>0</td>\n",
       "    </tr>\n",
       "    <tr>\n",
       "      <th>64</th>\n",
       "      <td>1</td>\n",
       "      <td>1</td>\n",
       "      <td>0</td>\n",
       "      <td>0</td>\n",
       "    </tr>\n",
       "    <tr>\n",
       "      <th>76</th>\n",
       "      <td>1</td>\n",
       "      <td>1</td>\n",
       "      <td>0</td>\n",
       "      <td>0</td>\n",
       "    </tr>\n",
       "    <tr>\n",
       "      <th>83</th>\n",
       "      <td>0</td>\n",
       "      <td>1</td>\n",
       "      <td>0</td>\n",
       "      <td>0</td>\n",
       "    </tr>\n",
       "    <tr>\n",
       "      <th>97</th>\n",
       "      <td>0</td>\n",
       "      <td>0</td>\n",
       "      <td>0</td>\n",
       "      <td>0</td>\n",
       "    </tr>\n",
       "    <tr>\n",
       "      <th>101</th>\n",
       "      <td>0</td>\n",
       "      <td>1</td>\n",
       "      <td>0</td>\n",
       "      <td>0</td>\n",
       "    </tr>\n",
       "    <tr>\n",
       "      <th>151</th>\n",
       "      <td>0</td>\n",
       "      <td>0</td>\n",
       "      <td>0</td>\n",
       "      <td>0</td>\n",
       "    </tr>\n",
       "    <tr>\n",
       "      <th>221</th>\n",
       "      <td>1</td>\n",
       "      <td>1</td>\n",
       "      <td>0</td>\n",
       "      <td>0</td>\n",
       "    </tr>\n",
       "    <tr>\n",
       "      <th>230</th>\n",
       "      <td>0</td>\n",
       "      <td>0</td>\n",
       "      <td>0</td>\n",
       "      <td>0</td>\n",
       "    </tr>\n",
       "    <tr>\n",
       "      <th>234</th>\n",
       "      <td>0</td>\n",
       "      <td>1</td>\n",
       "      <td>0</td>\n",
       "      <td>0</td>\n",
       "    </tr>\n",
       "    <tr>\n",
       "      <th>239</th>\n",
       "      <td>1</td>\n",
       "      <td>1</td>\n",
       "      <td>0</td>\n",
       "      <td>0</td>\n",
       "    </tr>\n",
       "  </tbody>\n",
       "</table>\n",
       "</div>"
      ],
      "text/plain": [
       "     No_informado_esof  No_informado_estom  No_informado_del No_informado_col\n",
       "12                   1                   1                 1                0\n",
       "19                   1                   1                 0                0\n",
       "33                   0                   1                 0                0\n",
       "64                   1                   1                 0                0\n",
       "76                   1                   1                 0                0\n",
       "83                   0                   1                 0                0\n",
       "97                   0                   0                 0                0\n",
       "101                  0                   1                 0                0\n",
       "151                  0                   0                 0                0\n",
       "221                  1                   1                 0                0\n",
       "230                  0                   0                 0                0\n",
       "234                  0                   1                 0                0\n",
       "239                  1                   1                 0                0"
      ]
     },
     "execution_count": 107,
     "metadata": {},
     "output_type": "execute_result"
    }
   ],
   "source": [
    "#De esos mismos pacientes, cuales son los que tienen alguna zona GI sin informar\n",
    "uruguay_polipo[no_informado]"
   ]
  },
  {
   "cell_type": "code",
   "execution_count": 108,
   "metadata": {},
   "outputs": [
    {
     "data": {
      "text/html": [
       "<div>\n",
       "<style scoped>\n",
       "    .dataframe tbody tr th:only-of-type {\n",
       "        vertical-align: middle;\n",
       "    }\n",
       "\n",
       "    .dataframe tbody tr th {\n",
       "        vertical-align: top;\n",
       "    }\n",
       "\n",
       "    .dataframe thead th {\n",
       "        text-align: right;\n",
       "    }\n",
       "</style>\n",
       "<table border=\"1\" class=\"dataframe\">\n",
       "  <thead>\n",
       "    <tr style=\"text-align: right;\">\n",
       "      <th></th>\n",
       "      <th>Pacientes</th>\n",
       "      <th>Normal</th>\n",
       "      <th>No evaluable</th>\n",
       "      <th>Hz Pruebas</th>\n",
       "      <th>Hz Tratamiento</th>\n",
       "      <th>Pólipos colón</th>\n",
       "    </tr>\n",
       "  </thead>\n",
       "  <tbody>\n",
       "    <tr>\n",
       "      <th>Cidma</th>\n",
       "      <td>9</td>\n",
       "      <td>[0, 0.0 %]</td>\n",
       "      <td>[0, 0.0 %]</td>\n",
       "      <td>[4, 44.44 %]</td>\n",
       "      <td>[9, 100.0 %]</td>\n",
       "      <td>[3, 33 %]</td>\n",
       "    </tr>\n",
       "    <tr>\n",
       "      <th>Uruguay</th>\n",
       "      <td>49</td>\n",
       "      <td>[10, 20.41 %]</td>\n",
       "      <td>[8, 16.33 %]</td>\n",
       "      <td>[7, 14.29 %]</td>\n",
       "      <td>[35, 71.43 %]</td>\n",
       "      <td>[13, 26 %]</td>\n",
       "    </tr>\n",
       "  </tbody>\n",
       "</table>\n",
       "</div>"
      ],
      "text/plain": [
       "         Pacientes         Normal  No evaluable    Hz Pruebas Hz Tratamiento  \\\n",
       "Cidma            9     [0, 0.0 %]    [0, 0.0 %]  [4, 44.44 %]   [9, 100.0 %]   \n",
       "Uruguay         49  [10, 20.41 %]  [8, 16.33 %]  [7, 14.29 %]  [35, 71.43 %]   \n",
       "\n",
       "        Pólipos colón  \n",
       "Cidma       [3, 33 %]  \n",
       "Uruguay    [13, 26 %]  "
      ]
     },
     "execution_count": 108,
     "metadata": {},
     "output_type": "execute_result"
    }
   ],
   "source": [
    "a[\"Pólipos colón\"]=[[3,(str((3*100//9))+\" %\")],[13,(str((13*100//49))+\" %\")]]\n",
    "a"
   ]
  },
  {
   "cell_type": "markdown",
   "metadata": {},
   "source": [
    "# <font color='blue'>Resultado cribado</font>\n",
    "\n",
    "Como se ve en la tabla resumen, a un 33% de los pacientes que venían por cribado se les detecto pólipos en el colon en CIDMA y a un 26% en el hospital Italiano. Destacando que, en ninguno de los dos centros, dichos pacientes tienen zonas GI no evaluadas. Tan solo detacar que de los 13 pacientes del hospital Italiano con pólipos, solo 2 de ellos tienen informado todo el tracto intestinal, estando el resto con varias zonas GI no informadas, destacando el estómago que no se informa en 11 pacientes. "
   ]
  },
  {
   "cell_type": "markdown",
   "metadata": {},
   "source": [
    "# Pacientes cuya cápsula tiene criterios de alta calidad"
   ]
  },
  {
   "cell_type": "markdown",
   "metadata": {},
   "source": [
    "Definimos que debe cumplir la lectura de una pancapsulosendoscópia para considerarse de calidad:\n",
    "- Calidad de preparación excelente o buena.\n",
    "- Presencia de burbujas insignificante\n",
    "- Tener todas las zonas evaluadas\n",
    "- Tener todas las zonas informadas\n",
    "- Visión de al menos 4 estructuras básicas (definidas en el párrafo inferior)\n",
    "- Visión del recto"
   ]
  },
  {
   "cell_type": "markdown",
   "metadata": {},
   "source": [
    "Agrupo en una única variable la visión de las estructuras básicas para saber que la cápsula ha evaluado lo principal\n",
    "de cada paciente. Quedando esta columna con los siguientes valores:\n",
    "- 5: Se ha visualizado todas las estructuras fundamentales\n",
    "- 4: Se visualizan 4.\n",
    "- Así hasta 0. Que indicaría que no se ve ninguna estructura fundamental"
   ]
  },
  {
   "cell_type": "code",
   "execution_count": 109,
   "metadata": {},
   "outputs": [],
   "source": [
    "#Agrupo las columnas con las variables que representan las estructuras básicas\n",
    "#Dada su controversia se decide quitar las flexuras (hepática, esplénica)\n",
    "basicos=['Linea_Z',\n",
    " 'Ampolla_vater',\n",
    " 'Válvula_ileocecal',\n",
    " 'Orificio_apendicular',\n",
    " 'Recto']"
   ]
  },
  {
   "cell_type": "code",
   "execution_count": 110,
   "metadata": {},
   "outputs": [],
   "source": [
    "#Agrupo en una única variable las visión de las estructuras básicas para saber que la cápsula ha evaluado lo principal\n",
    "#de cada paciente. Quedando esta columna\n",
    "datos[\"Básico\"] = datos[basicos].sum(axis=1)\n"
   ]
  },
  {
   "cell_type": "code",
   "execution_count": 111,
   "metadata": {},
   "outputs": [],
   "source": [
    "#Igualmente agrupo en una variable las columnas que representan si el doctor informo o no cada parte del tracto digestivo\n",
    "datos[\"No_info\"] = datos[no_informado].sum(axis=1)"
   ]
  },
  {
   "cell_type": "code",
   "execution_count": 112,
   "metadata": {},
   "outputs": [
    {
     "data": {
      "text/plain": [
       "33"
      ]
     },
     "execution_count": 112,
     "metadata": {},
     "output_type": "execute_result"
    }
   ],
   "source": [
    "#Pacientes que tienen como minimo 5 estructuras fundamentales de las 7 indicadas visibles en el procedimiento y que\n",
    "#se vea el recto. No necesariamente que se expulse porque si se llega a visualizar el recto sería una evaluación\n",
    "#completa\n",
    "c_basicos=datos[( (datos[\"Básico\"]==5)| (datos[\"Básico\"]==4)) & (datos[\"Recto\"]==1) & (datos[\"No_info\"]==0) &\n",
    "               (datos[\"Calidad_preparación\"]>=2)]\n",
    "len(c_basicos)"
   ]
  },
  {
   "cell_type": "code",
   "execution_count": 113,
   "metadata": {},
   "outputs": [
    {
     "name": "stderr",
     "output_type": "stream",
     "text": [
      "/usr/local/Cellar/ipython/7.7.0/libexec/vendor/lib/python3.7/site-packages/ipykernel_launcher.py:2: SettingWithCopyWarning: \n",
      "A value is trying to be set on a copy of a slice from a DataFrame.\n",
      "Try using .loc[row_indexer,col_indexer] = value instead\n",
      "\n",
      "See the caveats in the documentation: http://pandas.pydata.org/pandas-docs/stable/user_guide/indexing.html#returning-a-view-versus-a-copy\n",
      "  \n"
     ]
    }
   ],
   "source": [
    "#Agrupo en una única variable, todas las columnas que indican la evaluación o no de las zonas GI\n",
    "c_basicos[\"No evaluación completa\"] = c_basicos[no_evaluable].sum(axis=1)"
   ]
  },
  {
   "cell_type": "code",
   "execution_count": 114,
   "metadata": {},
   "outputs": [
    {
     "data": {
      "text/plain": [
       "27"
      ]
     },
     "execution_count": 114,
     "metadata": {},
     "output_type": "execute_result"
    }
   ],
   "source": [
    "#De dichos pacientes, cuales son los que NO tienen ninguna ZONA del tracto digestivo NO EVALUABLE\n",
    "c_eva_total=c_basicos[c_basicos[\"No evaluación completa\"]==0]\n",
    "len(c_eva_total)"
   ]
  },
  {
   "cell_type": "code",
   "execution_count": 115,
   "metadata": {},
   "outputs": [
    {
     "name": "stderr",
     "output_type": "stream",
     "text": [
      "/usr/local/Cellar/ipython/7.7.0/libexec/vendor/lib/python3.7/site-packages/ipykernel_launcher.py:2: SettingWithCopyWarning: \n",
      "A value is trying to be set on a copy of a slice from a DataFrame.\n",
      "Try using .loc[row_indexer,col_indexer] = value instead\n",
      "\n",
      "See the caveats in the documentation: http://pandas.pydata.org/pandas-docs/stable/user_guide/indexing.html#returning-a-view-versus-a-copy\n",
      "  \n",
      "/usr/local/Cellar/ipython/7.7.0/libexec/vendor/lib/python3.7/site-packages/ipykernel_launcher.py:4: SettingWithCopyWarning: \n",
      "A value is trying to be set on a copy of a slice from a DataFrame.\n",
      "Try using .loc[row_indexer,col_indexer] = value instead\n",
      "\n",
      "See the caveats in the documentation: http://pandas.pydata.org/pandas-docs/stable/user_guide/indexing.html#returning-a-view-versus-a-copy\n",
      "  after removing the cwd from sys.path.\n"
     ]
    }
   ],
   "source": [
    "#De los pacientes sin ninguna zona no evaluada, cuales son los que no presentan ningún hallazgo.\n",
    "c_eva_total[\"Hz_Tta\"] = c_eva_total[hz_Tta].sum(axis=1)\n",
    "\n",
    "c_eva_total[\"Hz_prueba\"]=c_eva_total[hz_prueba].sum(axis=1)"
   ]
  },
  {
   "cell_type": "code",
   "execution_count": 116,
   "metadata": {},
   "outputs": [],
   "source": [
    "#Pacientes con altos criterios de calidad con distintos tipos de hallazgos\n",
    "Tta_total=c_eva_total[c_eva_total[\"Hz_Tta\"]>=1]\n",
    "Prueba_total=c_eva_total[c_eva_total[\"Hz_prueba\"]>=1]"
   ]
  },
  {
   "cell_type": "code",
   "execution_count": 117,
   "metadata": {},
   "outputs": [],
   "source": [
    "#Pacientes con altos criterios de calidad sin hallazgos patologicos\n",
    "sanos_total=c_eva_total[(c_eva_total[\"Hz_Tta\"]==0) & (c_eva_total[\"Hz_prueba\"]==0) ]"
   ]
  },
  {
   "cell_type": "code",
   "execution_count": 118,
   "metadata": {},
   "outputs": [
    {
     "data": {
      "text/html": [
       "<div>\n",
       "<style scoped>\n",
       "    .dataframe tbody tr th:only-of-type {\n",
       "        vertical-align: middle;\n",
       "    }\n",
       "\n",
       "    .dataframe tbody tr th {\n",
       "        vertical-align: top;\n",
       "    }\n",
       "\n",
       "    .dataframe thead th {\n",
       "        text-align: right;\n",
       "    }\n",
       "</style>\n",
       "<table border=\"1\" class=\"dataframe\">\n",
       "  <thead>\n",
       "    <tr style=\"text-align: right;\">\n",
       "      <th></th>\n",
       "      <th>Alta calidad</th>\n",
       "      <th>No hallazgo patológicos</th>\n",
       "      <th>Hallazgo de tratamiento</th>\n",
       "      <th>Hallazgo de prueba</th>\n",
       "    </tr>\n",
       "  </thead>\n",
       "  <tbody>\n",
       "    <tr>\n",
       "      <th>Cidma</th>\n",
       "      <td>27</td>\n",
       "      <td>[2, 7.41]</td>\n",
       "      <td>[23, 85.19]</td>\n",
       "      <td>[16, 59.26]</td>\n",
       "    </tr>\n",
       "    <tr>\n",
       "      <th>Uruguay</th>\n",
       "      <td>1</td>\n",
       "      <td>[1, 100.0]</td>\n",
       "      <td>[1, 100.0]</td>\n",
       "      <td>[1, 100.0]</td>\n",
       "    </tr>\n",
       "  </tbody>\n",
       "</table>\n",
       "</div>"
      ],
      "text/plain": [
       "         Alta calidad No hallazgo patológicos Hallazgo de tratamiento  \\\n",
       "Cidma              27               [2, 7.41]             [23, 85.19]   \n",
       "Uruguay             1              [1, 100.0]              [1, 100.0]   \n",
       "\n",
       "        Hallazgo de prueba  \n",
       "Cidma          [16, 59.26]  \n",
       "Uruguay         [1, 100.0]  "
      ]
     },
     "execution_count": 118,
     "metadata": {},
     "output_type": "execute_result"
    }
   ],
   "source": [
    "cuadro(\"Alta calidad\",len(c_eva_total),1,\n",
    "       \"No hallazgo patológicos\",len(sanos_total),1,\n",
    "       \"Hallazgo de tratamiento\", len(Tta_total),1,\n",
    "      \"Hallazgo de prueba\",len(Prueba_total),1)"
   ]
  },
  {
   "cell_type": "markdown",
   "metadata": {},
   "source": [
    "# Calidad de los informes\n",
    "\n",
    "Quiero saber de que calidad de datos globales disponemos, por si es suficientemente buena como para afirmar que es una buena ayuda al diagnóstico del tracto digestivo."
   ]
  },
  {
   "cell_type": "code",
   "execution_count": 119,
   "metadata": {},
   "outputs": [],
   "source": [
    "#Unifico en una única variable, todas las columnas que reflejen la capacidad de evaluar las distintas áeras del \n",
    "#tracto GI, tomando los siguietes valores:\n",
    "# 0: No tiene zonas NO evaluadas. Es decir TODO ha sido evaluado\n",
    "# 1-4 según la cantidad de zonas no evaluadas\n",
    "datos[\"No evaluación completa\"] = datos[no_evaluable].sum(axis=1)"
   ]
  },
  {
   "cell_type": "code",
   "execution_count": 120,
   "metadata": {},
   "outputs": [],
   "source": [
    "eva_comp=datos[datos[\"No evaluación completa\"]==0]"
   ]
  },
  {
   "cell_type": "code",
   "execution_count": 121,
   "metadata": {},
   "outputs": [
    {
     "data": {
      "text/plain": [
       "0    189\n",
       "1     42\n",
       "2     17\n",
       "3      2\n",
       "4      1\n",
       "Name: No evaluación completa, dtype: int64"
      ]
     },
     "execution_count": 121,
     "metadata": {},
     "output_type": "execute_result"
    }
   ],
   "source": [
    "datos[\"No evaluación completa\"].value_counts()"
   ]
  },
  {
   "cell_type": "code",
   "execution_count": 122,
   "metadata": {},
   "outputs": [],
   "source": [
    "#Creo función para pasar todos analizar porcentajes según centro de los criterios de calidad\n",
    "#Función que recibe como parámetros:\n",
    "#Indicacion: Columna a analizar // valor: Valor apartir del cual queremos seleccionar // signo: Para distinguir entre\n",
    "#Mayor e igual al valor introducido\n",
    "#Devuelve 2 columnas, una es la indicacion y la otra seria la unión, que permitiria unir a futuras tablas.\n",
    "def resumen (indicacion,valor,signo):\n",
    "    c_a = datos[datos['Médico']==0]\n",
    "    u_b= datos[datos['Médico']==1]\n",
    "    c_T=len(c_a)\n",
    "    u_T=len(u_b)\n",
    "    if signo==\">\":\n",
    "        c_sub=c_a[c_a[indicacion]>=valor]\n",
    "        u_sub=u_b[u_b[indicacion]>=valor]\n",
    "    elif signo==\"=\":\n",
    "        c_sub=c_a[c_a[indicacion]==valor]\n",
    "        u_sub=u_b[u_b[indicacion]==valor]\n",
    "    x=pd.DataFrame({\"unión\":[1,2,3],\n",
    "                    indicacion:[[len(c_sub),por(108,len(c_sub))],[len(u_sub),por(143,len(u_sub))],\n",
    "                                [len(c_sub)+len(u_sub),por(251,len(c_sub)+len(u_sub))]]}\n",
    "                        ,index=[\"Cidma\",\"Uruguay\",\"Total\"])\n",
    "    return x"
   ]
  },
  {
   "cell_type": "code",
   "execution_count": 123,
   "metadata": {},
   "outputs": [],
   "source": [
    "#Paso las columnas por la función\n",
    "a=resumen(\"Calidad_preparación\",2,\">\")\n",
    "b=resumen(\"Burbujas\",1,\"=\")\n",
    "c=resumen('No evaluación completa',0,\"=\")\n",
    "d=resumen('No_info',0,\"=\")\n",
    "e=resumen('Básico',4,\">\")\n",
    "f=resumen('Recto',1,\"=\")\n"
   ]
  },
  {
   "cell_type": "code",
   "execution_count": 124,
   "metadata": {},
   "outputs": [
    {
     "data": {
      "text/html": [
       "<div>\n",
       "<style scoped>\n",
       "    .dataframe tbody tr th:only-of-type {\n",
       "        vertical-align: middle;\n",
       "    }\n",
       "\n",
       "    .dataframe tbody tr th {\n",
       "        vertical-align: top;\n",
       "    }\n",
       "\n",
       "    .dataframe thead th {\n",
       "        text-align: right;\n",
       "    }\n",
       "</style>\n",
       "<table border=\"1\" class=\"dataframe\">\n",
       "  <thead>\n",
       "    <tr style=\"text-align: right;\">\n",
       "      <th></th>\n",
       "      <th>unión</th>\n",
       "      <th>Calidad_preparación</th>\n",
       "      <th>Burbujas</th>\n",
       "      <th>No evaluación completa</th>\n",
       "      <th>No_info</th>\n",
       "      <th>Básico</th>\n",
       "      <th>Recto</th>\n",
       "    </tr>\n",
       "  </thead>\n",
       "  <tbody>\n",
       "    <tr>\n",
       "      <th>0</th>\n",
       "      <td>1</td>\n",
       "      <td>[97, 89.81]</td>\n",
       "      <td>[107, 99.07]</td>\n",
       "      <td>[82, 75.93]</td>\n",
       "      <td>[107, 99.07]</td>\n",
       "      <td>[33, 30.56]</td>\n",
       "      <td>[74, 68.52]</td>\n",
       "    </tr>\n",
       "    <tr>\n",
       "      <th>1</th>\n",
       "      <td>2</td>\n",
       "      <td>[123, 86.01]</td>\n",
       "      <td>[143, 100.0]</td>\n",
       "      <td>[107, 74.83]</td>\n",
       "      <td>[57, 39.86]</td>\n",
       "      <td>[0, 0.0]</td>\n",
       "      <td>[39, 27.27]</td>\n",
       "    </tr>\n",
       "    <tr>\n",
       "      <th>2</th>\n",
       "      <td>3</td>\n",
       "      <td>[220, 87.65]</td>\n",
       "      <td>[250, 99.6]</td>\n",
       "      <td>[189, 75.3]</td>\n",
       "      <td>[164, 65.34]</td>\n",
       "      <td>[33, 13.15]</td>\n",
       "      <td>[113, 45.02]</td>\n",
       "    </tr>\n",
       "  </tbody>\n",
       "</table>\n",
       "</div>"
      ],
      "text/plain": [
       "   unión Calidad_preparación      Burbujas No evaluación completa  \\\n",
       "0      1         [97, 89.81]  [107, 99.07]            [82, 75.93]   \n",
       "1      2        [123, 86.01]  [143, 100.0]           [107, 74.83]   \n",
       "2      3        [220, 87.65]   [250, 99.6]            [189, 75.3]   \n",
       "\n",
       "        No_info       Básico         Recto  \n",
       "0  [107, 99.07]  [33, 30.56]   [74, 68.52]  \n",
       "1   [57, 39.86]     [0, 0.0]   [39, 27.27]  \n",
       "2  [164, 65.34]  [33, 13.15]  [113, 45.02]  "
      ]
     },
     "execution_count": 124,
     "metadata": {},
     "output_type": "execute_result"
    }
   ],
   "source": [
    "#Unifico en una única tabla usando como enlace la columna unión\n",
    "union=pd.merge(a, b, on='unión')\n",
    "union=pd.merge(union,c,on='unión')\n",
    "union=pd.merge(union,d,on='unión')\n",
    "union=pd.merge(union,e,on='unión')\n",
    "union=pd.merge(union,f,on='unión')\n",
    "union"
   ]
  },
  {
   "cell_type": "code",
   "execution_count": 125,
   "metadata": {},
   "outputs": [],
   "source": [
    "#retoco la tabla para dejarla mas intuitiva\n",
    "union.drop(columns=[\"unión\"],inplace=True)"
   ]
  },
  {
   "cell_type": "code",
   "execution_count": 126,
   "metadata": {},
   "outputs": [],
   "source": [
    "union.rename(columns={\"Calidad_preparación\":\"Calidad preparación (excelente o buena)\",\"Burbujas\":\"Burbujas insignificante\",\n",
    "                     \"No evaluación completa\":\"Evaluación completa\",\"No_info\":\"Informadas en la totalidad del tracto GI\",\n",
    "                     \"Básico\":\"Estructuras de alto valor\",\"Recto\":\"Visón de recto\"}, inplace=True)"
   ]
  },
  {
   "cell_type": "code",
   "execution_count": 127,
   "metadata": {},
   "outputs": [],
   "source": [
    "union.index=['Cidma', 'Uruguay', 'Total']"
   ]
  },
  {
   "cell_type": "code",
   "execution_count": 128,
   "metadata": {},
   "outputs": [
    {
     "data": {
      "text/html": [
       "<div>\n",
       "<style scoped>\n",
       "    .dataframe tbody tr th:only-of-type {\n",
       "        vertical-align: middle;\n",
       "    }\n",
       "\n",
       "    .dataframe tbody tr th {\n",
       "        vertical-align: top;\n",
       "    }\n",
       "\n",
       "    .dataframe thead th {\n",
       "        text-align: right;\n",
       "    }\n",
       "</style>\n",
       "<table border=\"1\" class=\"dataframe\">\n",
       "  <thead>\n",
       "    <tr style=\"text-align: right;\">\n",
       "      <th></th>\n",
       "      <th>Calidad preparación (excelente o buena)</th>\n",
       "      <th>Burbujas insignificante</th>\n",
       "      <th>Evaluación completa</th>\n",
       "      <th>Informadas en la totalidad del tracto GI</th>\n",
       "      <th>Estructuras de alto valor</th>\n",
       "      <th>Visón de recto</th>\n",
       "    </tr>\n",
       "  </thead>\n",
       "  <tbody>\n",
       "    <tr>\n",
       "      <th>Cidma</th>\n",
       "      <td>[97, 89.81]</td>\n",
       "      <td>[107, 99.07]</td>\n",
       "      <td>[82, 75.93]</td>\n",
       "      <td>[107, 99.07]</td>\n",
       "      <td>[33, 30.56]</td>\n",
       "      <td>[74, 68.52]</td>\n",
       "    </tr>\n",
       "    <tr>\n",
       "      <th>Uruguay</th>\n",
       "      <td>[123, 86.01]</td>\n",
       "      <td>[143, 100.0]</td>\n",
       "      <td>[107, 74.83]</td>\n",
       "      <td>[57, 39.86]</td>\n",
       "      <td>[0, 0.0]</td>\n",
       "      <td>[39, 27.27]</td>\n",
       "    </tr>\n",
       "    <tr>\n",
       "      <th>Total</th>\n",
       "      <td>[220, 87.65]</td>\n",
       "      <td>[250, 99.6]</td>\n",
       "      <td>[189, 75.3]</td>\n",
       "      <td>[164, 65.34]</td>\n",
       "      <td>[33, 13.15]</td>\n",
       "      <td>[113, 45.02]</td>\n",
       "    </tr>\n",
       "  </tbody>\n",
       "</table>\n",
       "</div>"
      ],
      "text/plain": [
       "        Calidad preparación (excelente o buena) Burbujas insignificante  \\\n",
       "Cidma                               [97, 89.81]            [107, 99.07]   \n",
       "Uruguay                            [123, 86.01]            [143, 100.0]   \n",
       "Total                              [220, 87.65]             [250, 99.6]   \n",
       "\n",
       "        Evaluación completa Informadas en la totalidad del tracto GI  \\\n",
       "Cidma           [82, 75.93]                             [107, 99.07]   \n",
       "Uruguay        [107, 74.83]                              [57, 39.86]   \n",
       "Total           [189, 75.3]                             [164, 65.34]   \n",
       "\n",
       "        Estructuras de alto valor Visón de recto  \n",
       "Cidma                 [33, 30.56]    [74, 68.52]  \n",
       "Uruguay                  [0, 0.0]    [39, 27.27]  \n",
       "Total                 [33, 13.15]   [113, 45.02]  "
      ]
     },
     "execution_count": 128,
     "metadata": {},
     "output_type": "execute_result"
    }
   ],
   "source": [
    "union"
   ]
  },
  {
   "cell_type": "markdown",
   "metadata": {},
   "source": [
    "# ¿Qué porcentaje de hallazgos de yeyuno e íleon existe?\n",
    "\n",
    "Esto es importante ya que ni la gastroscopia ni la colonoscopia son capaces de evaluar dichas porciones del tracto digestivo"
   ]
  },
  {
   "cell_type": "markdown",
   "metadata": {},
   "source": [
    "Para ver hallazgos, sin discriminar cuales son los más frecuentes miro la columnas de \"Hz_yeuno\" y la de \"Hz_íleon\" las cuales recogen sin discriminar el tipo."
   ]
  },
  {
   "cell_type": "code",
   "execution_count": 129,
   "metadata": {},
   "outputs": [],
   "source": [
    "#Uso la función definida anteriormente\n",
    "hz_y=resumen(\"Hz_yeyuno\",1,\"=\")\n",
    "hz_i=resumen(\"Hz_íleon\",1,\"=\")"
   ]
  },
  {
   "cell_type": "code",
   "execution_count": 130,
   "metadata": {},
   "outputs": [],
   "source": [
    "#Las uno y limpio\n",
    "oculto=pd.merge(hz_y, hz_i, on='unión')\n",
    "oculto.drop(columns=[\"unión\"],inplace=True)\n",
    "oculto.index=['Cidma', 'Uruguay', 'Total']"
   ]
  },
  {
   "cell_type": "code",
   "execution_count": 131,
   "metadata": {},
   "outputs": [],
   "source": [
    "# Calculo una nueva columna con el total en su conjunto\n",
    "juntos=datos[(datos[\"Hz_yeyuno\"]==1) & (datos[\"Hz_íleon\"]==1)]\n",
    "T_oculto=(oculto[\"Hz_yeyuno\"][\"Total\"][0]+oculto[\"Hz_íleon\"][\"Total\"][0])-len(juntos)\n",
    "T_p_oculto=por(len(datos[\"Médico\"]),T_oculto)"
   ]
  },
  {
   "cell_type": "code",
   "execution_count": 132,
   "metadata": {},
   "outputs": [],
   "source": [
    "oculto[\"Total\"]=[[oculto[\"Hz_íleon\"][\"Total\"][0],por(len(datos[datos[\"Médico\"]==0]),oculto[\"Hz_íleon\"][\"Total\"][0])],\n",
    "                 [oculto[\"Hz_yeyuno\"][\"Uruguay\"][0]+oculto[\"Hz_íleon\"][\"Uruguay\"][0],por(len(datos[datos[\"Médico\"]==1]),oculto[\"Hz_yeyuno\"][\"Uruguay\"][0]+oculto[\"Hz_íleon\"][\"Uruguay\"][0])],\n",
    "                 [T_oculto,T_p_oculto]]"
   ]
  },
  {
   "cell_type": "code",
   "execution_count": 133,
   "metadata": {},
   "outputs": [
    {
     "data": {
      "text/html": [
       "<div>\n",
       "<style scoped>\n",
       "    .dataframe tbody tr th:only-of-type {\n",
       "        vertical-align: middle;\n",
       "    }\n",
       "\n",
       "    .dataframe tbody tr th {\n",
       "        vertical-align: top;\n",
       "    }\n",
       "\n",
       "    .dataframe thead th {\n",
       "        text-align: right;\n",
       "    }\n",
       "</style>\n",
       "<table border=\"1\" class=\"dataframe\">\n",
       "  <thead>\n",
       "    <tr style=\"text-align: right;\">\n",
       "      <th></th>\n",
       "      <th>Hz_yeyuno</th>\n",
       "      <th>Hz_íleon</th>\n",
       "      <th>Total</th>\n",
       "    </tr>\n",
       "  </thead>\n",
       "  <tbody>\n",
       "    <tr>\n",
       "      <th>Cidma</th>\n",
       "      <td>[18, 16.67]</td>\n",
       "      <td>[21, 19.44]</td>\n",
       "      <td>[35, 32.41]</td>\n",
       "    </tr>\n",
       "    <tr>\n",
       "      <th>Uruguay</th>\n",
       "      <td>[20, 13.99]</td>\n",
       "      <td>[14, 9.79]</td>\n",
       "      <td>[34, 23.78]</td>\n",
       "    </tr>\n",
       "    <tr>\n",
       "      <th>Total</th>\n",
       "      <td>[38, 15.14]</td>\n",
       "      <td>[35, 13.94]</td>\n",
       "      <td>[69, 27.49]</td>\n",
       "    </tr>\n",
       "  </tbody>\n",
       "</table>\n",
       "</div>"
      ],
      "text/plain": [
       "           Hz_yeyuno     Hz_íleon        Total\n",
       "Cidma    [18, 16.67]  [21, 19.44]  [35, 32.41]\n",
       "Uruguay  [20, 13.99]   [14, 9.79]  [34, 23.78]\n",
       "Total    [38, 15.14]  [35, 13.94]  [69, 27.49]"
      ]
     },
     "execution_count": 133,
     "metadata": {},
     "output_type": "execute_result"
    }
   ],
   "source": [
    "oculto"
   ]
  },
  {
   "cell_type": "code",
   "execution_count": 134,
   "metadata": {},
   "outputs": [],
   "source": [
    "c_vision_del=len(datos[((datos[\"No_evaluable_del\"]==0)& (datos['No_informado_del']==0)) &\n",
    "                     ((datos['Médico']==0)) ])\n",
    "u_vision_del=len(datos[((datos[\"No_evaluable_del\"]==0)& (datos['No_informado_del']==0)) &\n",
    "                     ((datos['Médico']==1)) ])"
   ]
  },
  {
   "cell_type": "code",
   "execution_count": 135,
   "metadata": {},
   "outputs": [
    {
     "name": "stdout",
     "output_type": "stream",
     "text": [
      "El intestino delgado se visualizo e informo en 99 pacientes, equivaliendo al 93.71% del total\n"
     ]
    }
   ],
   "source": [
    "c_vision_del_por=por(len(datos[datos[\"Médico\"]==0]),c_vision_del)\n",
    "u_vision_del_por=por(len(datos[datos[\"Médico\"]==1]),u_vision_del)\n",
    "\n",
    "print(\"El intestino delgado se visualizo e informo en {} pacientes, equivaliendo al {}% del total\".format(c_vision_del,u_vision_del_por))"
   ]
  },
  {
   "cell_type": "code",
   "execution_count": 136,
   "metadata": {},
   "outputs": [],
   "source": [
    "oculto[\"Evaluado e informado \"]= [[c_vision_del,c_vision_del_por],\n",
    "                                  [u_vision_del, u_vision_del_por],[c_vision_del+u_vision_del,\n",
    "                                por(len(datos),c_vision_del+u_vision_del)]]\n"
   ]
  },
  {
   "cell_type": "code",
   "execution_count": 137,
   "metadata": {},
   "outputs": [
    {
     "data": {
      "text/html": [
       "<div>\n",
       "<style scoped>\n",
       "    .dataframe tbody tr th:only-of-type {\n",
       "        vertical-align: middle;\n",
       "    }\n",
       "\n",
       "    .dataframe tbody tr th {\n",
       "        vertical-align: top;\n",
       "    }\n",
       "\n",
       "    .dataframe thead th {\n",
       "        text-align: right;\n",
       "    }\n",
       "</style>\n",
       "<table border=\"1\" class=\"dataframe\">\n",
       "  <thead>\n",
       "    <tr style=\"text-align: right;\">\n",
       "      <th></th>\n",
       "      <th>Hz_yeyuno</th>\n",
       "      <th>Hz_íleon</th>\n",
       "      <th>Total</th>\n",
       "      <th>Evaluado e informado</th>\n",
       "    </tr>\n",
       "  </thead>\n",
       "  <tbody>\n",
       "    <tr>\n",
       "      <th>Cidma</th>\n",
       "      <td>[18, 16.67]</td>\n",
       "      <td>[21, 19.44]</td>\n",
       "      <td>[35, 32.41]</td>\n",
       "      <td>[99, 91.67]</td>\n",
       "    </tr>\n",
       "    <tr>\n",
       "      <th>Uruguay</th>\n",
       "      <td>[20, 13.99]</td>\n",
       "      <td>[14, 9.79]</td>\n",
       "      <td>[34, 23.78]</td>\n",
       "      <td>[134, 93.71]</td>\n",
       "    </tr>\n",
       "    <tr>\n",
       "      <th>Total</th>\n",
       "      <td>[38, 15.14]</td>\n",
       "      <td>[35, 13.94]</td>\n",
       "      <td>[69, 27.49]</td>\n",
       "      <td>[233, 92.83]</td>\n",
       "    </tr>\n",
       "  </tbody>\n",
       "</table>\n",
       "</div>"
      ],
      "text/plain": [
       "           Hz_yeyuno     Hz_íleon        Total Evaluado e informado \n",
       "Cidma    [18, 16.67]  [21, 19.44]  [35, 32.41]           [99, 91.67]\n",
       "Uruguay  [20, 13.99]   [14, 9.79]  [34, 23.78]          [134, 93.71]\n",
       "Total    [38, 15.14]  [35, 13.94]  [69, 27.49]          [233, 92.83]"
      ]
     },
     "execution_count": 137,
     "metadata": {},
     "output_type": "execute_result"
    }
   ],
   "source": [
    "oculto"
   ]
  },
  {
   "cell_type": "markdown",
   "metadata": {},
   "source": [
    "# <font color='blue'>Resultado yeyuno e íleon</font>\n",
    "\n",
    "Como se ve en la tabla, CIDMA en el hallazgo de esa zona en conjunto tiene un 10% mas de hallazgos frente al hospital Italiano. Lo que puede deberse a que en este último suele usarse la cápsula COLON2 con el modo por defecto, lo cual programa la cápsula para que se apague hasta llegar al colon,"
   ]
  },
  {
   "cell_type": "markdown",
   "metadata": {},
   "source": [
    "# ¿ Cuales son los hallazgos más frecuentes en las distintas zonas del tracto gastrointestinal ?"
   ]
  },
  {
   "cell_type": "markdown",
   "metadata": {},
   "source": [
    "Antes de comenzar con este analisis decido cuales van a ser las columnas a analizar. Para ellos, reviso todos los hallazgos.Para poder distinguir de forma global que variables son las indicadas o cuales deben ser modificadas.\n",
    "\n",
    "Quito las columnas que indican normalidad, no evaluación o que no han sido informadas. Junto a esas elimino la de hallazgos yeyuno e íleon, ya que simplemente agrupan el conjuto de los hallazgos encontrados en dichas regiones. \n",
    "\n",
    "En cuanto a la duda principal es que hacer con las variables \"Pólipos colon\" y \"Diverticulos colon\" ya que agrupan tanto hallazgos especificos como hallazgos donde no se indicaba en que región especifica del colon se encontraba la lesión.\n",
    "\n",
    "Quedando los hallazgos organizados según la región anatómica"
   ]
  },
  {
   "cell_type": "code",
   "execution_count": 138,
   "metadata": {},
   "outputs": [],
   "source": [
    "esofago=['RGE_esof',\n",
    " 'Trast_tránsito_esof',\n",
    " 'Erosiones_esof',\n",
    " 'Barret_esof',\n",
    " 'Esof_eosinofilica_esof',\n",
    " 'Estenosis_extr_esof']\n",
    "\n",
    "estomago=['Hernia_hiato_total', \n",
    "'Trast_motilidad_estom',\n",
    " 'Erosiones_estom',\n",
    " 'Gastritis_estom',\n",
    " 'Pólipo_estom',\n",
    " 'Otros_estom']\n",
    "\n",
    "duodeno=[ 'Erosiones_del',\n",
    " 'Diverticulo_del',\n",
    " 'Enteritis_del',\n",
    " 'Pólipo_del',\n",
    " 'Otros_del']\n",
    "\n",
    "yeyuno=[ 'Yeyunitis',\n",
    " 'Erosiones_yey',\n",
    " 'Telangiectasias_yey',\n",
    " 'Linfagiectasias_yey',\n",
    " 'Pólipo_yey']\n",
    "\n",
    "ileon=[ 'Ileitis',\n",
    " 'Diverticulo_íleon',\n",
    " 'Erosiones_íleon',\n",
    " 'Pólipo_íleon']\n",
    "\n",
    "colon_de=['Melanosis','Angiodisplasia_col', 'Pólipo_ciego','Pólipo_C_drch', \n",
    "          'Pólipo_C_asce','Diverticulo_C_drch',\"Erosion_c_de\"]\n",
    "\n",
    "colon_iz=[ 'Pólipo_C_trans', 'Pólipo_C_desc',\n",
    "          'Pólipo_C_izq', 'Diverticulo_C_izq','Otras_col',\"Erosion_c_iz\"]\n",
    "\n",
    "colon_sig=['Sigmoiditis','Pólipo_sig','Diverticulo_sig',\n",
    "\"Erosion_c_sig\"]\n",
    "\n",
    "recto=['Hemorroides','Proctitis','Pólipo_recto',\n",
    "\"Erosion_recto\"]"
   ]
  },
  {
   "cell_type": "markdown",
   "metadata": {},
   "source": [
    "Comienzo con los pólipos de colon"
   ]
  },
  {
   "cell_type": "code",
   "execution_count": 139,
   "metadata": {},
   "outputs": [
    {
     "data": {
      "text/plain": [
       "58"
      ]
     },
     "execution_count": 139,
     "metadata": {},
     "output_type": "execute_result"
    }
   ],
   "source": [
    "len(datos[datos[\"Pólipo_col\"]==1])"
   ]
  },
  {
   "cell_type": "code",
   "execution_count": 140,
   "metadata": {},
   "outputs": [
    {
     "data": {
      "text/plain": [
       "Int64Index([5, 12, 96, 175, 176, 204, 213, 230, 234], dtype='int64')"
      ]
     },
     "execution_count": 140,
     "metadata": {},
     "output_type": "execute_result"
    }
   ],
   "source": [
    "polipos_anonimo=datos[(datos[\"Pólipo_col\"]==1) & (datos['Pólipo_C_drch']==0) & (datos['Pólipo_C_asce']==0) & \n",
    "        (datos['Pólipo_C_trans']==0) & (datos['Pólipo_C_izq']==0)& (datos['Pólipo_C_desc']==0) &\n",
    "        (datos['Pólipo_ciego']==0) & (datos['Pólipo_sig']==0)& (datos['Pólipo_recto']==0)]\n",
    "polipos_anonimo.index"
   ]
  },
  {
   "cell_type": "markdown",
   "metadata": {},
   "source": [
    "Tras su estudio veo que solo 9 de los 58 valores no tienen especificado en que región del colon se encentran dichos pólipos. Siendo 2 de CIDMA y 7 del hospital Italiano. Para su correcta localización reviso los informes con el digestivo del proyecto. Tras el analisis los cambios quedan:\n",
    "- 6: colon izquierdo (colon transverso y descendente)\n",
    "- 13: colon izquierdo (colon transverso)\n",
    "- 97: Pólipo colon izquierdo (colon descendente)\n",
    "- 176: colon derecho e izquierdo (colon ascendente y transverso)\n",
    "- 177: colon izquierdo y sigmoides\n",
    "- 205: colon sigmoides\n",
    "- 214: colon izquierdo (colon transverso y descendente)\n",
    "- 231: colon derecho e izquierdo (ciego, transverso y descendente)\n",
    "- 235: colon sigmoides"
   ]
  },
  {
   "cell_type": "code",
   "execution_count": 141,
   "metadata": {},
   "outputs": [
    {
     "name": "stderr",
     "output_type": "stream",
     "text": [
      "/usr/local/Cellar/ipython/7.7.0/libexec/vendor/lib/python3.7/site-packages/ipykernel_launcher.py:1: SettingWithCopyWarning: \n",
      "A value is trying to be set on a copy of a slice from a DataFrame\n",
      "\n",
      "See the caveats in the documentation: http://pandas.pydata.org/pandas-docs/stable/user_guide/indexing.html#returning-a-view-versus-a-copy\n",
      "  \"\"\"Entry point for launching an IPython kernel.\n",
      "/usr/local/Cellar/ipython/7.7.0/libexec/vendor/lib/python3.7/site-packages/ipykernel_launcher.py:2: SettingWithCopyWarning: \n",
      "A value is trying to be set on a copy of a slice from a DataFrame\n",
      "\n",
      "See the caveats in the documentation: http://pandas.pydata.org/pandas-docs/stable/user_guide/indexing.html#returning-a-view-versus-a-copy\n",
      "  \n",
      "/usr/local/Cellar/ipython/7.7.0/libexec/vendor/lib/python3.7/site-packages/ipykernel_launcher.py:3: SettingWithCopyWarning: \n",
      "A value is trying to be set on a copy of a slice from a DataFrame\n",
      "\n",
      "See the caveats in the documentation: http://pandas.pydata.org/pandas-docs/stable/user_guide/indexing.html#returning-a-view-versus-a-copy\n",
      "  This is separate from the ipykernel package so we can avoid doing imports until\n",
      "/usr/local/Cellar/ipython/7.7.0/libexec/vendor/lib/python3.7/site-packages/ipykernel_launcher.py:4: SettingWithCopyWarning: \n",
      "A value is trying to be set on a copy of a slice from a DataFrame\n",
      "\n",
      "See the caveats in the documentation: http://pandas.pydata.org/pandas-docs/stable/user_guide/indexing.html#returning-a-view-versus-a-copy\n",
      "  after removing the cwd from sys.path.\n",
      "/usr/local/Cellar/ipython/7.7.0/libexec/vendor/lib/python3.7/site-packages/ipykernel_launcher.py:5: SettingWithCopyWarning: \n",
      "A value is trying to be set on a copy of a slice from a DataFrame\n",
      "\n",
      "See the caveats in the documentation: http://pandas.pydata.org/pandas-docs/stable/user_guide/indexing.html#returning-a-view-versus-a-copy\n",
      "  \"\"\"\n",
      "/usr/local/Cellar/ipython/7.7.0/libexec/vendor/lib/python3.7/site-packages/ipykernel_launcher.py:6: SettingWithCopyWarning: \n",
      "A value is trying to be set on a copy of a slice from a DataFrame\n",
      "\n",
      "See the caveats in the documentation: http://pandas.pydata.org/pandas-docs/stable/user_guide/indexing.html#returning-a-view-versus-a-copy\n",
      "  \n",
      "/usr/local/Cellar/ipython/7.7.0/libexec/vendor/lib/python3.7/site-packages/ipykernel_launcher.py:7: SettingWithCopyWarning: \n",
      "A value is trying to be set on a copy of a slice from a DataFrame\n",
      "\n",
      "See the caveats in the documentation: http://pandas.pydata.org/pandas-docs/stable/user_guide/indexing.html#returning-a-view-versus-a-copy\n",
      "  import sys\n",
      "/usr/local/Cellar/ipython/7.7.0/libexec/vendor/lib/python3.7/site-packages/ipykernel_launcher.py:8: SettingWithCopyWarning: \n",
      "A value is trying to be set on a copy of a slice from a DataFrame\n",
      "\n",
      "See the caveats in the documentation: http://pandas.pydata.org/pandas-docs/stable/user_guide/indexing.html#returning-a-view-versus-a-copy\n",
      "  \n",
      "/usr/local/Cellar/ipython/7.7.0/libexec/vendor/lib/python3.7/site-packages/ipykernel_launcher.py:9: SettingWithCopyWarning: \n",
      "A value is trying to be set on a copy of a slice from a DataFrame\n",
      "\n",
      "See the caveats in the documentation: http://pandas.pydata.org/pandas-docs/stable/user_guide/indexing.html#returning-a-view-versus-a-copy\n",
      "  if __name__ == '__main__':\n",
      "/usr/local/Cellar/ipython/7.7.0/libexec/vendor/lib/python3.7/site-packages/ipykernel_launcher.py:10: SettingWithCopyWarning: \n",
      "A value is trying to be set on a copy of a slice from a DataFrame\n",
      "\n",
      "See the caveats in the documentation: http://pandas.pydata.org/pandas-docs/stable/user_guide/indexing.html#returning-a-view-versus-a-copy\n",
      "  # Remove the CWD from sys.path while we load stuff.\n",
      "/usr/local/Cellar/ipython/7.7.0/libexec/vendor/lib/python3.7/site-packages/ipykernel_launcher.py:11: SettingWithCopyWarning: \n",
      "A value is trying to be set on a copy of a slice from a DataFrame\n",
      "\n",
      "See the caveats in the documentation: http://pandas.pydata.org/pandas-docs/stable/user_guide/indexing.html#returning-a-view-versus-a-copy\n",
      "  # This is added back by InteractiveShellApp.init_path()\n",
      "/usr/local/Cellar/ipython/7.7.0/libexec/vendor/lib/python3.7/site-packages/ipykernel_launcher.py:12: SettingWithCopyWarning: \n",
      "A value is trying to be set on a copy of a slice from a DataFrame\n",
      "\n",
      "See the caveats in the documentation: http://pandas.pydata.org/pandas-docs/stable/user_guide/indexing.html#returning-a-view-versus-a-copy\n",
      "  if sys.path[0] == '':\n",
      "/usr/local/Cellar/ipython/7.7.0/libexec/vendor/lib/python3.7/site-packages/ipykernel_launcher.py:13: SettingWithCopyWarning: \n",
      "A value is trying to be set on a copy of a slice from a DataFrame\n",
      "\n",
      "See the caveats in the documentation: http://pandas.pydata.org/pandas-docs/stable/user_guide/indexing.html#returning-a-view-versus-a-copy\n",
      "  del sys.path[0]\n",
      "/usr/local/Cellar/ipython/7.7.0/libexec/vendor/lib/python3.7/site-packages/ipykernel_launcher.py:14: SettingWithCopyWarning: \n",
      "A value is trying to be set on a copy of a slice from a DataFrame\n",
      "\n",
      "See the caveats in the documentation: http://pandas.pydata.org/pandas-docs/stable/user_guide/indexing.html#returning-a-view-versus-a-copy\n",
      "  \n",
      "/usr/local/Cellar/ipython/7.7.0/libexec/vendor/lib/python3.7/site-packages/ipykernel_launcher.py:15: SettingWithCopyWarning: \n",
      "A value is trying to be set on a copy of a slice from a DataFrame\n",
      "\n",
      "See the caveats in the documentation: http://pandas.pydata.org/pandas-docs/stable/user_guide/indexing.html#returning-a-view-versus-a-copy\n",
      "  from ipykernel import kernelapp as app\n"
     ]
    }
   ],
   "source": [
    "datos[\"Pólipo_C_trans\"][5]=1\n",
    "datos['Pólipo_C_desc'][5]=1\n",
    "datos[\"Pólipo_C_trans\"][12]=1\n",
    "datos['Pólipo_C_desc'][96]=1\n",
    "datos[\"Pólipo_C_trans\"][175]=1\n",
    "datos['Pólipo_C_asce'][175]=1\n",
    "datos['Pólipo_sig'][176]=1\n",
    "datos['Pólipo_C_izq'][176]=1\n",
    "datos['Pólipo_sig'][204]=1\n",
    "datos[\"Pólipo_C_trans\"][213]=1\n",
    "datos['Pólipo_C_desc'][213]=1\n",
    "datos[\"Pólipo_C_trans\"][230]=1\n",
    "datos['Pólipo_C_desc'][230]=1\n",
    "datos['Pólipo_ciego'][230]=1  \n",
    "datos['Pólipo_sig'][234]=1"
   ]
  },
  {
   "cell_type": "markdown",
   "metadata": {},
   "source": [
    "Evaluó los diverticulos:\n",
    "- 18: Divertículos colon sigmoides. \n",
    "- 34: Divertículos colon sigmoides. \n",
    "- 52: Divertículos colon sigmoides. \n",
    "- 55: Divertículos colon sigmoides. \n",
    "- 56: Divertículos colon sigmoides. \n",
    "- 61: Divertículos colon sigmoides. \n",
    "- 68: Divertículos colon sigmoides. \n",
    "- 72: Divertículos colon sigmoides. \n",
    "- 96: Divertículos colon sigmoides. \n",
    "- 131: Divertículos colon derecho, izquierdo y sigmoides. \n",
    "- 133:  Divertículos colon derecho, izquierdo y sigmoides. \n",
    "- 148: Divertículos colon derecho y sigmoides. \n",
    "- 170: Divertículos colon derecho. \n",
    "- 176: Divertículos colon izquierdo. \n",
    "- 185: Divertículos colon derecho (ciego). \n",
    "- 204: Divertículos colon izquierdo y sigmoides. \n",
    "- 205: Divertículos colon izquierdo. \n",
    "- 212: Divertículos colon izquierdo y sigmoides. \n",
    "- 226: Divertículos colon sigmoides. \n",
    "- 234: Divertículos colon izquierdo y sigmoides. \n",
    "- 241: Divertículos colon sigmoides. "
   ]
  },
  {
   "cell_type": "code",
   "execution_count": 142,
   "metadata": {},
   "outputs": [],
   "source": [
    "diverticulo=['Diverticulo_col','Diverticulo_C_drch','Diverticulo_C_izq','Diverticulo_sig']"
   ]
  },
  {
   "cell_type": "code",
   "execution_count": 143,
   "metadata": {},
   "outputs": [
    {
     "data": {
      "text/plain": [
       "Diverticulo_col        int64\n",
       "Diverticulo_C_drch     int64\n",
       "Diverticulo_C_izq      int64\n",
       "Diverticulo_sig       object\n",
       "dtype: object"
      ]
     },
     "execution_count": 143,
     "metadata": {},
     "output_type": "execute_result"
    }
   ],
   "source": [
    "datos[diverticulo].dtypes"
   ]
  },
  {
   "cell_type": "code",
   "execution_count": 144,
   "metadata": {},
   "outputs": [
    {
     "data": {
      "text/plain": [
       "0    208\n",
       "1     42\n",
       "       1\n",
       "Name: Diverticulo_sig, dtype: int64"
      ]
     },
     "execution_count": 144,
     "metadata": {},
     "output_type": "execute_result"
    }
   ],
   "source": [
    "datos['Diverticulo_sig'].value_counts()"
   ]
  },
  {
   "cell_type": "code",
   "execution_count": 145,
   "metadata": {},
   "outputs": [
    {
     "data": {
      "text/html": [
       "<div>\n",
       "<style scoped>\n",
       "    .dataframe tbody tr th:only-of-type {\n",
       "        vertical-align: middle;\n",
       "    }\n",
       "\n",
       "    .dataframe tbody tr th {\n",
       "        vertical-align: top;\n",
       "    }\n",
       "\n",
       "    .dataframe thead th {\n",
       "        text-align: right;\n",
       "    }\n",
       "</style>\n",
       "<table border=\"1\" class=\"dataframe\">\n",
       "  <thead>\n",
       "    <tr style=\"text-align: right;\">\n",
       "      <th></th>\n",
       "      <th>Diverticulo_col</th>\n",
       "      <th>Diverticulo_C_drch</th>\n",
       "      <th>Diverticulo_C_izq</th>\n",
       "      <th>Diverticulo_sig</th>\n",
       "    </tr>\n",
       "  </thead>\n",
       "  <tbody>\n",
       "    <tr>\n",
       "      <th>84</th>\n",
       "      <td>1</td>\n",
       "      <td>1</td>\n",
       "      <td>1</td>\n",
       "      <td></td>\n",
       "    </tr>\n",
       "  </tbody>\n",
       "</table>\n",
       "</div>"
      ],
      "text/plain": [
       "    Diverticulo_col  Diverticulo_C_drch  Diverticulo_C_izq Diverticulo_sig\n",
       "84                1                   1                  1                "
      ]
     },
     "execution_count": 145,
     "metadata": {},
     "output_type": "execute_result"
    }
   ],
   "source": [
    "datos[datos['Diverticulo_sig']==\" \"][diverticulo]"
   ]
  },
  {
   "cell_type": "code",
   "execution_count": 146,
   "metadata": {},
   "outputs": [
    {
     "name": "stderr",
     "output_type": "stream",
     "text": [
      "/usr/local/Cellar/ipython/7.7.0/libexec/vendor/lib/python3.7/site-packages/ipykernel_launcher.py:1: SettingWithCopyWarning: \n",
      "A value is trying to be set on a copy of a slice from a DataFrame\n",
      "\n",
      "See the caveats in the documentation: http://pandas.pydata.org/pandas-docs/stable/user_guide/indexing.html#returning-a-view-versus-a-copy\n",
      "  \"\"\"Entry point for launching an IPython kernel.\n"
     ]
    }
   ],
   "source": [
    "datos['Diverticulo_sig'][84]=1"
   ]
  },
  {
   "cell_type": "code",
   "execution_count": 147,
   "metadata": {},
   "outputs": [],
   "source": [
    "#La convierto en int la columna\n",
    "datos['Diverticulo_sig'] = datos['Diverticulo_sig'].astype('int64')"
   ]
  },
  {
   "cell_type": "code",
   "execution_count": 148,
   "metadata": {},
   "outputs": [
    {
     "data": {
      "text/plain": [
       "Int64Index([ 18,  34,  52,  55,  56,  61,  68,  72,  96, 131, 133, 148, 170,\n",
       "            176, 185, 204, 205, 212, 226, 234, 241],\n",
       "           dtype='int64')"
      ]
     },
     "execution_count": 148,
     "metadata": {},
     "output_type": "execute_result"
    }
   ],
   "source": [
    "diverticulo_anonimo=datos[(datos['Diverticulo_col']==1) & (datos['Diverticulo_C_drch']==0) &\n",
    "                          (datos['Diverticulo_sig']==0) & (datos['Diverticulo_C_izq']==0)]\n",
    "diverticulo_anonimo.index"
   ]
  },
  {
   "cell_type": "code",
   "execution_count": 149,
   "metadata": {},
   "outputs": [
    {
     "name": "stderr",
     "output_type": "stream",
     "text": [
      "/usr/local/Cellar/ipython/7.7.0/libexec/vendor/lib/python3.7/site-packages/ipykernel_launcher.py:1: SettingWithCopyWarning: \n",
      "A value is trying to be set on a copy of a slice from a DataFrame\n",
      "\n",
      "See the caveats in the documentation: http://pandas.pydata.org/pandas-docs/stable/user_guide/indexing.html#returning-a-view-versus-a-copy\n",
      "  \"\"\"Entry point for launching an IPython kernel.\n",
      "/usr/local/Cellar/ipython/7.7.0/libexec/vendor/lib/python3.7/site-packages/ipykernel_launcher.py:2: SettingWithCopyWarning: \n",
      "A value is trying to be set on a copy of a slice from a DataFrame\n",
      "\n",
      "See the caveats in the documentation: http://pandas.pydata.org/pandas-docs/stable/user_guide/indexing.html#returning-a-view-versus-a-copy\n",
      "  \n",
      "/usr/local/Cellar/ipython/7.7.0/libexec/vendor/lib/python3.7/site-packages/ipykernel_launcher.py:3: SettingWithCopyWarning: \n",
      "A value is trying to be set on a copy of a slice from a DataFrame\n",
      "\n",
      "See the caveats in the documentation: http://pandas.pydata.org/pandas-docs/stable/user_guide/indexing.html#returning-a-view-versus-a-copy\n",
      "  This is separate from the ipykernel package so we can avoid doing imports until\n",
      "/usr/local/Cellar/ipython/7.7.0/libexec/vendor/lib/python3.7/site-packages/ipykernel_launcher.py:4: SettingWithCopyWarning: \n",
      "A value is trying to be set on a copy of a slice from a DataFrame\n",
      "\n",
      "See the caveats in the documentation: http://pandas.pydata.org/pandas-docs/stable/user_guide/indexing.html#returning-a-view-versus-a-copy\n",
      "  after removing the cwd from sys.path.\n",
      "/usr/local/Cellar/ipython/7.7.0/libexec/vendor/lib/python3.7/site-packages/ipykernel_launcher.py:5: SettingWithCopyWarning: \n",
      "A value is trying to be set on a copy of a slice from a DataFrame\n",
      "\n",
      "See the caveats in the documentation: http://pandas.pydata.org/pandas-docs/stable/user_guide/indexing.html#returning-a-view-versus-a-copy\n",
      "  \"\"\"\n",
      "/usr/local/Cellar/ipython/7.7.0/libexec/vendor/lib/python3.7/site-packages/ipykernel_launcher.py:6: SettingWithCopyWarning: \n",
      "A value is trying to be set on a copy of a slice from a DataFrame\n",
      "\n",
      "See the caveats in the documentation: http://pandas.pydata.org/pandas-docs/stable/user_guide/indexing.html#returning-a-view-versus-a-copy\n",
      "  \n",
      "/usr/local/Cellar/ipython/7.7.0/libexec/vendor/lib/python3.7/site-packages/ipykernel_launcher.py:7: SettingWithCopyWarning: \n",
      "A value is trying to be set on a copy of a slice from a DataFrame\n",
      "\n",
      "See the caveats in the documentation: http://pandas.pydata.org/pandas-docs/stable/user_guide/indexing.html#returning-a-view-versus-a-copy\n",
      "  import sys\n",
      "/usr/local/Cellar/ipython/7.7.0/libexec/vendor/lib/python3.7/site-packages/ipykernel_launcher.py:8: SettingWithCopyWarning: \n",
      "A value is trying to be set on a copy of a slice from a DataFrame\n",
      "\n",
      "See the caveats in the documentation: http://pandas.pydata.org/pandas-docs/stable/user_guide/indexing.html#returning-a-view-versus-a-copy\n",
      "  \n",
      "/usr/local/Cellar/ipython/7.7.0/libexec/vendor/lib/python3.7/site-packages/ipykernel_launcher.py:9: SettingWithCopyWarning: \n",
      "A value is trying to be set on a copy of a slice from a DataFrame\n",
      "\n",
      "See the caveats in the documentation: http://pandas.pydata.org/pandas-docs/stable/user_guide/indexing.html#returning-a-view-versus-a-copy\n",
      "  if __name__ == '__main__':\n",
      "/usr/local/Cellar/ipython/7.7.0/libexec/vendor/lib/python3.7/site-packages/ipykernel_launcher.py:10: SettingWithCopyWarning: \n",
      "A value is trying to be set on a copy of a slice from a DataFrame\n",
      "\n",
      "See the caveats in the documentation: http://pandas.pydata.org/pandas-docs/stable/user_guide/indexing.html#returning-a-view-versus-a-copy\n",
      "  # Remove the CWD from sys.path while we load stuff.\n",
      "/usr/local/Cellar/ipython/7.7.0/libexec/vendor/lib/python3.7/site-packages/ipykernel_launcher.py:11: SettingWithCopyWarning: \n",
      "A value is trying to be set on a copy of a slice from a DataFrame\n",
      "\n",
      "See the caveats in the documentation: http://pandas.pydata.org/pandas-docs/stable/user_guide/indexing.html#returning-a-view-versus-a-copy\n",
      "  # This is added back by InteractiveShellApp.init_path()\n",
      "/usr/local/Cellar/ipython/7.7.0/libexec/vendor/lib/python3.7/site-packages/ipykernel_launcher.py:12: SettingWithCopyWarning: \n",
      "A value is trying to be set on a copy of a slice from a DataFrame\n",
      "\n",
      "See the caveats in the documentation: http://pandas.pydata.org/pandas-docs/stable/user_guide/indexing.html#returning-a-view-versus-a-copy\n",
      "  if sys.path[0] == '':\n",
      "/usr/local/Cellar/ipython/7.7.0/libexec/vendor/lib/python3.7/site-packages/ipykernel_launcher.py:13: SettingWithCopyWarning: \n",
      "A value is trying to be set on a copy of a slice from a DataFrame\n",
      "\n",
      "See the caveats in the documentation: http://pandas.pydata.org/pandas-docs/stable/user_guide/indexing.html#returning-a-view-versus-a-copy\n",
      "  del sys.path[0]\n",
      "/usr/local/Cellar/ipython/7.7.0/libexec/vendor/lib/python3.7/site-packages/ipykernel_launcher.py:14: SettingWithCopyWarning: \n",
      "A value is trying to be set on a copy of a slice from a DataFrame\n",
      "\n",
      "See the caveats in the documentation: http://pandas.pydata.org/pandas-docs/stable/user_guide/indexing.html#returning-a-view-versus-a-copy\n",
      "  \n",
      "/usr/local/Cellar/ipython/7.7.0/libexec/vendor/lib/python3.7/site-packages/ipykernel_launcher.py:15: SettingWithCopyWarning: \n",
      "A value is trying to be set on a copy of a slice from a DataFrame\n",
      "\n",
      "See the caveats in the documentation: http://pandas.pydata.org/pandas-docs/stable/user_guide/indexing.html#returning-a-view-versus-a-copy\n",
      "  from ipykernel import kernelapp as app\n",
      "/usr/local/Cellar/ipython/7.7.0/libexec/vendor/lib/python3.7/site-packages/ipykernel_launcher.py:16: SettingWithCopyWarning: \n",
      "A value is trying to be set on a copy of a slice from a DataFrame\n",
      "\n",
      "See the caveats in the documentation: http://pandas.pydata.org/pandas-docs/stable/user_guide/indexing.html#returning-a-view-versus-a-copy\n",
      "  app.launch_new_instance()\n",
      "/usr/local/Cellar/ipython/7.7.0/libexec/vendor/lib/python3.7/site-packages/ipykernel_launcher.py:17: SettingWithCopyWarning: \n",
      "A value is trying to be set on a copy of a slice from a DataFrame\n",
      "\n",
      "See the caveats in the documentation: http://pandas.pydata.org/pandas-docs/stable/user_guide/indexing.html#returning-a-view-versus-a-copy\n",
      "/usr/local/Cellar/ipython/7.7.0/libexec/vendor/lib/python3.7/site-packages/ipykernel_launcher.py:18: SettingWithCopyWarning: \n",
      "A value is trying to be set on a copy of a slice from a DataFrame\n",
      "\n",
      "See the caveats in the documentation: http://pandas.pydata.org/pandas-docs/stable/user_guide/indexing.html#returning-a-view-versus-a-copy\n",
      "/usr/local/Cellar/ipython/7.7.0/libexec/vendor/lib/python3.7/site-packages/ipykernel_launcher.py:19: SettingWithCopyWarning: \n",
      "A value is trying to be set on a copy of a slice from a DataFrame\n",
      "\n",
      "See the caveats in the documentation: http://pandas.pydata.org/pandas-docs/stable/user_guide/indexing.html#returning-a-view-versus-a-copy\n",
      "/usr/local/Cellar/ipython/7.7.0/libexec/vendor/lib/python3.7/site-packages/ipykernel_launcher.py:20: SettingWithCopyWarning: \n",
      "A value is trying to be set on a copy of a slice from a DataFrame\n",
      "\n",
      "See the caveats in the documentation: http://pandas.pydata.org/pandas-docs/stable/user_guide/indexing.html#returning-a-view-versus-a-copy\n",
      "/usr/local/Cellar/ipython/7.7.0/libexec/vendor/lib/python3.7/site-packages/ipykernel_launcher.py:21: SettingWithCopyWarning: \n",
      "A value is trying to be set on a copy of a slice from a DataFrame\n",
      "\n",
      "See the caveats in the documentation: http://pandas.pydata.org/pandas-docs/stable/user_guide/indexing.html#returning-a-view-versus-a-copy\n",
      "/usr/local/Cellar/ipython/7.7.0/libexec/vendor/lib/python3.7/site-packages/ipykernel_launcher.py:22: SettingWithCopyWarning: \n",
      "A value is trying to be set on a copy of a slice from a DataFrame\n",
      "\n",
      "See the caveats in the documentation: http://pandas.pydata.org/pandas-docs/stable/user_guide/indexing.html#returning-a-view-versus-a-copy\n",
      "/usr/local/Cellar/ipython/7.7.0/libexec/vendor/lib/python3.7/site-packages/ipykernel_launcher.py:23: SettingWithCopyWarning: \n",
      "A value is trying to be set on a copy of a slice from a DataFrame\n",
      "\n",
      "See the caveats in the documentation: http://pandas.pydata.org/pandas-docs/stable/user_guide/indexing.html#returning-a-view-versus-a-copy\n",
      "/usr/local/Cellar/ipython/7.7.0/libexec/vendor/lib/python3.7/site-packages/ipykernel_launcher.py:24: SettingWithCopyWarning: \n",
      "A value is trying to be set on a copy of a slice from a DataFrame\n",
      "\n",
      "See the caveats in the documentation: http://pandas.pydata.org/pandas-docs/stable/user_guide/indexing.html#returning-a-view-versus-a-copy\n",
      "/usr/local/Cellar/ipython/7.7.0/libexec/vendor/lib/python3.7/site-packages/ipykernel_launcher.py:25: SettingWithCopyWarning: \n",
      "A value is trying to be set on a copy of a slice from a DataFrame\n",
      "\n",
      "See the caveats in the documentation: http://pandas.pydata.org/pandas-docs/stable/user_guide/indexing.html#returning-a-view-versus-a-copy\n",
      "/usr/local/Cellar/ipython/7.7.0/libexec/vendor/lib/python3.7/site-packages/ipykernel_launcher.py:26: SettingWithCopyWarning: \n",
      "A value is trying to be set on a copy of a slice from a DataFrame\n",
      "\n",
      "See the caveats in the documentation: http://pandas.pydata.org/pandas-docs/stable/user_guide/indexing.html#returning-a-view-versus-a-copy\n",
      "/usr/local/Cellar/ipython/7.7.0/libexec/vendor/lib/python3.7/site-packages/ipykernel_launcher.py:27: SettingWithCopyWarning: \n",
      "A value is trying to be set on a copy of a slice from a DataFrame\n",
      "\n",
      "See the caveats in the documentation: http://pandas.pydata.org/pandas-docs/stable/user_guide/indexing.html#returning-a-view-versus-a-copy\n",
      "/usr/local/Cellar/ipython/7.7.0/libexec/vendor/lib/python3.7/site-packages/ipykernel_launcher.py:28: SettingWithCopyWarning: \n",
      "A value is trying to be set on a copy of a slice from a DataFrame\n",
      "\n",
      "See the caveats in the documentation: http://pandas.pydata.org/pandas-docs/stable/user_guide/indexing.html#returning-a-view-versus-a-copy\n",
      "/usr/local/Cellar/ipython/7.7.0/libexec/vendor/lib/python3.7/site-packages/ipykernel_launcher.py:29: SettingWithCopyWarning: \n",
      "A value is trying to be set on a copy of a slice from a DataFrame\n",
      "\n",
      "See the caveats in the documentation: http://pandas.pydata.org/pandas-docs/stable/user_guide/indexing.html#returning-a-view-versus-a-copy\n"
     ]
    }
   ],
   "source": [
    "datos['Diverticulo_sig'][18]=1\n",
    "datos['Diverticulo_sig'][34]=1\n",
    "datos['Diverticulo_sig'][52]=1\n",
    "datos['Diverticulo_sig'][55]=1\n",
    "datos['Diverticulo_sig'][56]=1\n",
    "datos['Diverticulo_sig'][61]=1\n",
    "datos['Diverticulo_sig'][68]=1\n",
    "datos['Diverticulo_sig'][72]=1\n",
    "datos['Diverticulo_sig'][96]=1\n",
    "datos['Diverticulo_sig'][131]=1\n",
    "datos['Diverticulo_C_drch'][131]=1\n",
    "datos['Diverticulo_C_izq'][131]=1\n",
    "datos['Diverticulo_sig'][133]=1\n",
    "datos['Diverticulo_C_drch'][133]=1\n",
    "datos['Diverticulo_C_izq'][133]=1\n",
    "datos['Diverticulo_sig'][148]=1\n",
    "datos['Diverticulo_C_drch'][148]=1\n",
    "datos['Diverticulo_C_drch'][170]=1\n",
    "datos['Diverticulo_C_izq'][176]=1\n",
    "datos['Diverticulo_C_drch'][185]=1\n",
    "datos['Diverticulo_C_izq'][204]=1\n",
    "datos['Diverticulo_sig'][204]=1\n",
    "datos['Diverticulo_C_izq'][205]=1\n",
    "datos['Diverticulo_sig'][212]=1\n",
    "datos['Diverticulo_C_izq'][212]=1\n",
    "datos['Diverticulo_sig'][226]=1\n",
    "datos['Diverticulo_sig'][234]=1\n",
    "datos['Diverticulo_C_izq'][234]=1\n",
    "datos['Diverticulo_sig'][241]=1"
   ]
  },
  {
   "cell_type": "markdown",
   "metadata": {},
   "source": [
    "Reviso los informes de angiodisplasia y veo que todos están localizadas en el colon derecho (ciego). Por ello dejo la columna para introducirla en la variable colon derecho."
   ]
  },
  {
   "cell_type": "code",
   "execution_count": 150,
   "metadata": {},
   "outputs": [
    {
     "data": {
      "text/plain": [
       "0    244\n",
       "1      7\n",
       "Name: Angiodisplasia_col, dtype: int64"
      ]
     },
     "execution_count": 150,
     "metadata": {},
     "output_type": "execute_result"
    }
   ],
   "source": [
    "datos[\"Angiodisplasia_col\"].value_counts()"
   ]
  },
  {
   "cell_type": "code",
   "execution_count": 151,
   "metadata": {},
   "outputs": [
    {
     "data": {
      "text/plain": [
       "Int64Index([0, 8, 46, 114, 163, 181, 243], dtype='int64')"
      ]
     },
     "execution_count": 151,
     "metadata": {},
     "output_type": "execute_result"
    }
   ],
   "source": [
    "datos[datos[\"Angiodisplasia_col\"]==1].index"
   ]
  },
  {
   "cell_type": "markdown",
   "metadata": {},
   "source": [
    "Por último evaluare la erosión de colon, decidiendo dividirla en 4 variables diferentes. \n",
    "(erosion_c_de // erosion_c_iz, // erosion_c_sig // erosion_recto Situando a los pacientes de la columna como sigue:\n",
    "- 2: Mal ubicado, es lesión en yeyuno\n",
    "- 10: Colon derecho\n",
    "- 41: colon sigmoides\n",
    "- 66: colon derecho\n",
    "- 122: colon derecho\n",
    "- 146: colon derecho\n",
    "- 169: recto\n",
    "- 171: recto\n",
    "- 199: colon izquierdo\n",
    "- 213: No tiene erosiones\n",
    "- 219: colon derecho\n",
    "- 245: recto"
   ]
  },
  {
   "cell_type": "code",
   "execution_count": 152,
   "metadata": {},
   "outputs": [
    {
     "data": {
      "text/plain": [
       "Int64Index([2, 10, 41, 66, 122, 146, 169, 171, 199, 213, 219, 245], dtype='int64')"
      ]
     },
     "execution_count": 152,
     "metadata": {},
     "output_type": "execute_result"
    }
   ],
   "source": [
    "datos[datos[\"Erosiones_col\"]==1].index"
   ]
  },
  {
   "cell_type": "code",
   "execution_count": 153,
   "metadata": {},
   "outputs": [],
   "source": [
    "#Creo las nuevas variables\n",
    "datos[\"Erosion_c_de\"]=pd.Series(0)\n",
    "datos[\"Erosion_c_de\"]=datos[\"Erosion_c_de\"].fillna(0)\n",
    "\n",
    "datos[\"Erosion_c_iz\"]=pd.Series(0)\n",
    "datos[\"Erosion_c_iz\"]=datos[\"Erosion_c_iz\"].fillna(0)\n",
    "\n",
    "datos[\"Erosion_c_sig\"]=pd.Series(0)\n",
    "datos[\"Erosion_c_sig\"]=datos[\"Erosion_c_sig\"].fillna(0)\n",
    "\n",
    "datos[\"Erosion_recto\"]=pd.Series(0)\n",
    "datos[\"Erosion_recto\"]=datos[\"Erosion_recto\"].fillna(0)"
   ]
  },
  {
   "cell_type": "code",
   "execution_count": 154,
   "metadata": {},
   "outputs": [
    {
     "name": "stderr",
     "output_type": "stream",
     "text": [
      "/usr/local/Cellar/ipython/7.7.0/libexec/vendor/lib/python3.7/site-packages/ipykernel_launcher.py:2: SettingWithCopyWarning: \n",
      "A value is trying to be set on a copy of a slice from a DataFrame\n",
      "\n",
      "See the caveats in the documentation: http://pandas.pydata.org/pandas-docs/stable/user_guide/indexing.html#returning-a-view-versus-a-copy\n",
      "  \n",
      "/usr/local/Cellar/ipython/7.7.0/libexec/vendor/lib/python3.7/site-packages/ipykernel_launcher.py:3: SettingWithCopyWarning: \n",
      "A value is trying to be set on a copy of a slice from a DataFrame\n",
      "\n",
      "See the caveats in the documentation: http://pandas.pydata.org/pandas-docs/stable/user_guide/indexing.html#returning-a-view-versus-a-copy\n",
      "  This is separate from the ipykernel package so we can avoid doing imports until\n",
      "/usr/local/Cellar/ipython/7.7.0/libexec/vendor/lib/python3.7/site-packages/ipykernel_launcher.py:4: SettingWithCopyWarning: \n",
      "A value is trying to be set on a copy of a slice from a DataFrame\n",
      "\n",
      "See the caveats in the documentation: http://pandas.pydata.org/pandas-docs/stable/user_guide/indexing.html#returning-a-view-versus-a-copy\n",
      "  after removing the cwd from sys.path.\n",
      "/usr/local/Cellar/ipython/7.7.0/libexec/vendor/lib/python3.7/site-packages/ipykernel_launcher.py:5: SettingWithCopyWarning: \n",
      "A value is trying to be set on a copy of a slice from a DataFrame\n",
      "\n",
      "See the caveats in the documentation: http://pandas.pydata.org/pandas-docs/stable/user_guide/indexing.html#returning-a-view-versus-a-copy\n",
      "  \"\"\"\n",
      "/usr/local/Cellar/ipython/7.7.0/libexec/vendor/lib/python3.7/site-packages/ipykernel_launcher.py:6: SettingWithCopyWarning: \n",
      "A value is trying to be set on a copy of a slice from a DataFrame\n",
      "\n",
      "See the caveats in the documentation: http://pandas.pydata.org/pandas-docs/stable/user_guide/indexing.html#returning-a-view-versus-a-copy\n",
      "  \n",
      "/usr/local/Cellar/ipython/7.7.0/libexec/vendor/lib/python3.7/site-packages/ipykernel_launcher.py:7: SettingWithCopyWarning: \n",
      "A value is trying to be set on a copy of a slice from a DataFrame\n",
      "\n",
      "See the caveats in the documentation: http://pandas.pydata.org/pandas-docs/stable/user_guide/indexing.html#returning-a-view-versus-a-copy\n",
      "  import sys\n",
      "/usr/local/Cellar/ipython/7.7.0/libexec/vendor/lib/python3.7/site-packages/ipykernel_launcher.py:8: SettingWithCopyWarning: \n",
      "A value is trying to be set on a copy of a slice from a DataFrame\n",
      "\n",
      "See the caveats in the documentation: http://pandas.pydata.org/pandas-docs/stable/user_guide/indexing.html#returning-a-view-versus-a-copy\n",
      "  \n",
      "/usr/local/Cellar/ipython/7.7.0/libexec/vendor/lib/python3.7/site-packages/ipykernel_launcher.py:9: SettingWithCopyWarning: \n",
      "A value is trying to be set on a copy of a slice from a DataFrame\n",
      "\n",
      "See the caveats in the documentation: http://pandas.pydata.org/pandas-docs/stable/user_guide/indexing.html#returning-a-view-versus-a-copy\n",
      "  if __name__ == '__main__':\n",
      "/usr/local/Cellar/ipython/7.7.0/libexec/vendor/lib/python3.7/site-packages/ipykernel_launcher.py:10: SettingWithCopyWarning: \n",
      "A value is trying to be set on a copy of a slice from a DataFrame\n",
      "\n",
      "See the caveats in the documentation: http://pandas.pydata.org/pandas-docs/stable/user_guide/indexing.html#returning-a-view-versus-a-copy\n",
      "  # Remove the CWD from sys.path while we load stuff.\n",
      "/usr/local/Cellar/ipython/7.7.0/libexec/vendor/lib/python3.7/site-packages/ipykernel_launcher.py:11: SettingWithCopyWarning: \n",
      "A value is trying to be set on a copy of a slice from a DataFrame\n",
      "\n",
      "See the caveats in the documentation: http://pandas.pydata.org/pandas-docs/stable/user_guide/indexing.html#returning-a-view-versus-a-copy\n",
      "  # This is added back by InteractiveShellApp.init_path()\n"
     ]
    }
   ],
   "source": [
    "#Modifico los positivos en sus respectivas filas\n",
    "datos[\"Erosion_c_de\"][10]=1\n",
    "datos[\"Erosion_c_sig\"][41]=1\n",
    "datos[\"Erosion_c_de\"][66]=1\n",
    "datos[\"Erosion_c_de\"][122]=1\n",
    "datos[\"Erosion_c_de\"][146]=1\n",
    "datos[\"Erosion_recto\"][169]=1\n",
    "datos[\"Erosion_recto\"][171]=1\n",
    "datos[\"Erosion_c_iz\"][199]=1\n",
    "datos[\"Erosion_c_de\"][219]=1\n",
    "datos[\"Erosion_recto\"][245]=1"
   ]
  },
  {
   "cell_type": "code",
   "execution_count": 155,
   "metadata": {},
   "outputs": [],
   "source": [
    "#Paso las nuevas columnas a int para facilitar las operaciones\n",
    "\n",
    "datos[\"Erosion_c_de\"]= datos[\"Erosion_c_de\"].astype('int64')\n",
    "datos[\"Erosion_c_iz\"]= datos[\"Erosion_c_iz\"].astype('int64')\n",
    "datos[\"Erosion_c_sig\"]= datos[\"Erosion_c_sig\"].astype('int64')\n",
    "datos[\"Erosion_recto\"]= datos[\"Erosion_recto\"].astype('int64')"
   ]
  },
  {
   "cell_type": "code",
   "execution_count": 156,
   "metadata": {},
   "outputs": [],
   "source": [
    "# Función que recibe los hallazgos de una zona del tracto digestivo Y el centro médico donde se realizo la prueba\n",
    "#y devuelve la suma de todos los hallazgos encontrados en ella. Ya sea en el centro o sino se le dice, devuelve la suma \n",
    "# zona: Hallazgo a sumar valores // valor: 0(CIDMA);1(Uruguay);2(Ambos POR DEFECTO)\n",
    "def hz (zona,valor=2):\n",
    "    if valor<=1:\n",
    "        base=datos[datos[\"Médico\"]==valor]\n",
    "        hz_total=0    \n",
    "        a=base[zona].sum()\n",
    "        for e in a:\n",
    "            if type(e)==int:\n",
    "                hz_total=hz_total+e\n",
    "        return hz_total\n",
    "    elif valor>1:\n",
    "        hz_total=0\n",
    "        a=datos[zona].sum()\n",
    "        for e in a:\n",
    "            if type(e)==int:\n",
    "                hz_total=hz_total+e\n",
    "        return hz_total      "
   ]
  },
  {
   "cell_type": "code",
   "execution_count": 157,
   "metadata": {},
   "outputs": [
    {
     "name": "stdout",
     "output_type": "stream",
     "text": [
      "Número de hallazgos en el hospital Italiano 196\n",
      "Número de hallazgos en CIDMA 336\n",
      "Número de hallazgos total 532\n"
     ]
    }
   ],
   "source": [
    "#Calculo los hallazgos obtenidos\n",
    "\n",
    "hz_total=hz(esofago)+hz(estomago)+hz(duodeno)+hz(yeyuno)+hz(ileon)+hz(colon_de)+hz(colon_iz)+hz(colon_sig)+hz(recto)\n",
    "c_hz_T=hz(esofago,0)+hz(estomago,0)+hz(duodeno,0)+hz(yeyuno,0)+hz(ileon,0)+hz(colon_de,0)+hz(colon_iz,0)+hz(colon_sig,0)+hz(recto,0)\n",
    "u_hz_T=hz(esofago,1)+hz(estomago,1)+hz(duodeno,1)+hz(yeyuno,1)+hz(ileon,1)+hz(colon_de,1)+hz(colon_iz,1)+hz(colon_sig,1)+hz(recto,1)\n",
    "print(\"Número de hallazgos en el hospital Italiano {}\".format(u_hz_T))\n",
    "print(\"Número de hallazgos en CIDMA {}\".format(c_hz_T))\n",
    "print(\"Número de hallazgos total {}\".format(hz_total))"
   ]
  },
  {
   "cell_type": "code",
   "execution_count": 158,
   "metadata": {},
   "outputs": [],
   "source": [
    "#Función: Calcular porcentajes de hallazgos por regiones del tracto GI + 3 hallazgos más frecuentes (Todo según el centro)\n",
    "#Parámetros: zona:(str) Nombre de la región que quedemos analizar // hz_zona: Distintos hallazgos del área al estudio\n",
    "def zonas (zona,hz_zona):\n",
    "    c=datos[datos[\"Médico\"]==0]\n",
    "    u=datos[datos[\"Médico\"]==1]\n",
    "    c_=c[hz_zona].sum()\n",
    "    c_hz_f=sorted(c_.items(), key=operator.itemgetter(1),reverse=True) #Hallazgos más frecuentes de la zona CIDMA\n",
    "    u_=u[hz_zona].sum()\n",
    "    u_hz_f=sorted(u_.items(), key=operator.itemgetter(1),reverse=True) #Hallazgos más frecuentes de la zona Uruguay\n",
    "    \n",
    "    c_hz_suma=0\n",
    "    for e in c_hz_f:\n",
    "        for i in e:\n",
    "            if type(i)==int:\n",
    "                c_hz_suma=c_hz_suma+i\n",
    "    u_hz_suma=0\n",
    "    for e in u_hz_f:\n",
    "        for i in e:\n",
    "            if type(i)==int:\n",
    "                u_hz_suma=u_hz_suma+i\n",
    "    \n",
    "    \n",
    "    pregunta=pd.DataFrame({\"Unión\":[1,2,3],\n",
    "                           zona:[[c_hz_suma,por(c_hz_T,c_hz_suma)],[u_hz_suma,por(u_hz_T,u_hz_suma)],[c_hz_suma+u_hz_suma,por(hz_total,c_hz_suma+u_hz_suma)]]\n",
    "                          },index=[\"Cidma\", \"Uruguay\", \"Total\"])\n",
    "    \n",
    "    return (pregunta,\"{} CIDMA hallazgos más frecuentes {}\".format(zona,c_hz_f[0:3]),\n",
    "           \"{} Uruguay hallazgos más frecuentes {}\".format(zona,u_hz_f[0:3]))\n"
   ]
  },
  {
   "cell_type": "code",
   "execution_count": 159,
   "metadata": {},
   "outputs": [],
   "source": [
    "HZ_ZONAS=esofago,estomago,duodeno,yeyuno,ileon,colon_de,colon_iz,colon_sig,recto\n",
    "nombre=[\"esofago\",\"estomago\",\"duodeno\",\"yeyuno\",\"ileon\",\"colon_de\",\"colon_iz\",\"colon_sig\",\"recto\"]"
   ]
  },
  {
   "cell_type": "code",
   "execution_count": 160,
   "metadata": {},
   "outputs": [],
   "source": [
    "oculto=pd.merge(hz_y, hz_i, on='unión')\n",
    "oculto.drop(columns=[\"unión\"],inplace=True)\n",
    "oculto.index=['Cidma', 'Uruguay', 'Total']"
   ]
  },
  {
   "cell_type": "code",
   "execution_count": 161,
   "metadata": {},
   "outputs": [
    {
     "data": {
      "text/html": [
       "<div>\n",
       "<style scoped>\n",
       "    .dataframe tbody tr th:only-of-type {\n",
       "        vertical-align: middle;\n",
       "    }\n",
       "\n",
       "    .dataframe tbody tr th {\n",
       "        vertical-align: top;\n",
       "    }\n",
       "\n",
       "    .dataframe thead th {\n",
       "        text-align: right;\n",
       "    }\n",
       "</style>\n",
       "<table border=\"1\" class=\"dataframe\">\n",
       "  <thead>\n",
       "    <tr style=\"text-align: right;\">\n",
       "      <th></th>\n",
       "      <th>Unión</th>\n",
       "      <th>Esófago</th>\n",
       "    </tr>\n",
       "  </thead>\n",
       "  <tbody>\n",
       "    <tr>\n",
       "      <th>Cidma</th>\n",
       "      <td>1</td>\n",
       "      <td>[33, 9.82]</td>\n",
       "    </tr>\n",
       "    <tr>\n",
       "      <th>Uruguay</th>\n",
       "      <td>2</td>\n",
       "      <td>[8, 4.08]</td>\n",
       "    </tr>\n",
       "    <tr>\n",
       "      <th>Total</th>\n",
       "      <td>3</td>\n",
       "      <td>[41, 7.71]</td>\n",
       "    </tr>\n",
       "  </tbody>\n",
       "</table>\n",
       "</div>"
      ],
      "text/plain": [
       "         Unión     Esófago\n",
       "Cidma        1  [33, 9.82]\n",
       "Uruguay      2   [8, 4.08]\n",
       "Total        3  [41, 7.71]"
      ]
     },
     "metadata": {},
     "output_type": "display_data"
    },
    {
     "data": {
      "text/plain": [
       "\"Esófago CIDMA hallazgos más frecuentes [('RGE_esof', 22), ('Trast_tránsito_esof', 4), ('Estenosis_extr_esof', 3)]\""
      ]
     },
     "metadata": {},
     "output_type": "display_data"
    },
    {
     "data": {
      "text/plain": [
       "\"Esófago Uruguay hallazgos más frecuentes [('Barret_esof', 4), ('RGE_esof', 2), ('Trast_tránsito_esof', 1)]\""
      ]
     },
     "metadata": {},
     "output_type": "display_data"
    }
   ],
   "source": [
    "# Despliego todas las tablas para poder analizarlas y escribirlo en la explicación de word\n",
    "a,b,c=zonas(\"Esófago\",esofago)\n",
    "display(a,b,c)"
   ]
  },
  {
   "cell_type": "code",
   "execution_count": 162,
   "metadata": {},
   "outputs": [
    {
     "data": {
      "text/html": [
       "<div>\n",
       "<style scoped>\n",
       "    .dataframe tbody tr th:only-of-type {\n",
       "        vertical-align: middle;\n",
       "    }\n",
       "\n",
       "    .dataframe tbody tr th {\n",
       "        vertical-align: top;\n",
       "    }\n",
       "\n",
       "    .dataframe thead th {\n",
       "        text-align: right;\n",
       "    }\n",
       "</style>\n",
       "<table border=\"1\" class=\"dataframe\">\n",
       "  <thead>\n",
       "    <tr style=\"text-align: right;\">\n",
       "      <th></th>\n",
       "      <th>Unión</th>\n",
       "      <th>Estómago</th>\n",
       "    </tr>\n",
       "  </thead>\n",
       "  <tbody>\n",
       "    <tr>\n",
       "      <th>Cidma</th>\n",
       "      <td>1</td>\n",
       "      <td>[82, 24.4]</td>\n",
       "    </tr>\n",
       "    <tr>\n",
       "      <th>Uruguay</th>\n",
       "      <td>2</td>\n",
       "      <td>[12, 6.12]</td>\n",
       "    </tr>\n",
       "    <tr>\n",
       "      <th>Total</th>\n",
       "      <td>3</td>\n",
       "      <td>[94, 17.67]</td>\n",
       "    </tr>\n",
       "  </tbody>\n",
       "</table>\n",
       "</div>"
      ],
      "text/plain": [
       "         Unión     Estómago\n",
       "Cidma        1   [82, 24.4]\n",
       "Uruguay      2   [12, 6.12]\n",
       "Total        3  [94, 17.67]"
      ]
     },
     "metadata": {},
     "output_type": "display_data"
    },
    {
     "data": {
      "text/plain": [
       "\"Estómago CIDMA hallazgos más frecuentes [('Hernia_hiato_total', 25), ('Gastritis_estom', 25), ('Erosiones_estom', 11)]\""
      ]
     },
     "metadata": {},
     "output_type": "display_data"
    },
    {
     "data": {
      "text/plain": [
       "\"Estómago Uruguay hallazgos más frecuentes [('Erosiones_estom', 5), ('Gastritis_estom', 3), ('Pólipo_estom', 2)]\""
      ]
     },
     "metadata": {},
     "output_type": "display_data"
    }
   ],
   "source": [
    "d,e,f=zonas(\"Estómago\",estomago)\n",
    "display(d,e,f)"
   ]
  },
  {
   "cell_type": "code",
   "execution_count": 163,
   "metadata": {},
   "outputs": [
    {
     "data": {
      "text/html": [
       "<div>\n",
       "<style scoped>\n",
       "    .dataframe tbody tr th:only-of-type {\n",
       "        vertical-align: middle;\n",
       "    }\n",
       "\n",
       "    .dataframe tbody tr th {\n",
       "        vertical-align: top;\n",
       "    }\n",
       "\n",
       "    .dataframe thead th {\n",
       "        text-align: right;\n",
       "    }\n",
       "</style>\n",
       "<table border=\"1\" class=\"dataframe\">\n",
       "  <thead>\n",
       "    <tr style=\"text-align: right;\">\n",
       "      <th></th>\n",
       "      <th>Unión</th>\n",
       "      <th>Duodeno</th>\n",
       "    </tr>\n",
       "  </thead>\n",
       "  <tbody>\n",
       "    <tr>\n",
       "      <th>Cidma</th>\n",
       "      <td>1</td>\n",
       "      <td>[26, 7.74]</td>\n",
       "    </tr>\n",
       "    <tr>\n",
       "      <th>Uruguay</th>\n",
       "      <td>2</td>\n",
       "      <td>[8, 4.08]</td>\n",
       "    </tr>\n",
       "    <tr>\n",
       "      <th>Total</th>\n",
       "      <td>3</td>\n",
       "      <td>[34, 6.39]</td>\n",
       "    </tr>\n",
       "  </tbody>\n",
       "</table>\n",
       "</div>"
      ],
      "text/plain": [
       "         Unión     Duodeno\n",
       "Cidma        1  [26, 7.74]\n",
       "Uruguay      2   [8, 4.08]\n",
       "Total        3  [34, 6.39]"
      ]
     },
     "metadata": {},
     "output_type": "display_data"
    },
    {
     "data": {
      "text/plain": [
       "\"Duodeno CIDMA hallazgos más frecuentes [('Otros_del', 12), ('Erosiones_del', 8), ('Enteritis_del', 5)]\""
      ]
     },
     "metadata": {},
     "output_type": "display_data"
    },
    {
     "data": {
      "text/plain": [
       "\"Duodeno Uruguay hallazgos más frecuentes [('Erosiones_del', 4), ('Otros_del', 3), ('Pólipo_del', 1)]\""
      ]
     },
     "metadata": {},
     "output_type": "display_data"
    }
   ],
   "source": [
    "g,h,i=zonas(\"Duodeno\",duodeno)\n",
    "display(g,h,i)"
   ]
  },
  {
   "cell_type": "code",
   "execution_count": 164,
   "metadata": {},
   "outputs": [
    {
     "data": {
      "text/html": [
       "<div>\n",
       "<style scoped>\n",
       "    .dataframe tbody tr th:only-of-type {\n",
       "        vertical-align: middle;\n",
       "    }\n",
       "\n",
       "    .dataframe tbody tr th {\n",
       "        vertical-align: top;\n",
       "    }\n",
       "\n",
       "    .dataframe thead th {\n",
       "        text-align: right;\n",
       "    }\n",
       "</style>\n",
       "<table border=\"1\" class=\"dataframe\">\n",
       "  <thead>\n",
       "    <tr style=\"text-align: right;\">\n",
       "      <th></th>\n",
       "      <th>Unión</th>\n",
       "      <th>Yeyuno</th>\n",
       "    </tr>\n",
       "  </thead>\n",
       "  <tbody>\n",
       "    <tr>\n",
       "      <th>Cidma</th>\n",
       "      <td>1</td>\n",
       "      <td>[19, 5.65]</td>\n",
       "    </tr>\n",
       "    <tr>\n",
       "      <th>Uruguay</th>\n",
       "      <td>2</td>\n",
       "      <td>[18, 9.18]</td>\n",
       "    </tr>\n",
       "    <tr>\n",
       "      <th>Total</th>\n",
       "      <td>3</td>\n",
       "      <td>[37, 6.95]</td>\n",
       "    </tr>\n",
       "  </tbody>\n",
       "</table>\n",
       "</div>"
      ],
      "text/plain": [
       "         Unión      Yeyuno\n",
       "Cidma        1  [19, 5.65]\n",
       "Uruguay      2  [18, 9.18]\n",
       "Total        3  [37, 6.95]"
      ]
     },
     "metadata": {},
     "output_type": "display_data"
    },
    {
     "data": {
      "text/plain": [
       "\"Yeyuno CIDMA hallazgos más frecuentes [('Yeyunitis', 6), ('Linfagiectasias_yey', 6), ('Erosiones_yey', 4)]\""
      ]
     },
     "metadata": {},
     "output_type": "display_data"
    },
    {
     "data": {
      "text/plain": [
       "\"Yeyuno Uruguay hallazgos más frecuentes [('Erosiones_yey', 11), ('Telangiectasias_yey', 4), ('Pólipo_yey', 2)]\""
      ]
     },
     "metadata": {},
     "output_type": "display_data"
    }
   ],
   "source": [
    "j,k,l=zonas(\"Yeyuno\",yeyuno)\n",
    "display(j,k,l)"
   ]
  },
  {
   "cell_type": "code",
   "execution_count": 165,
   "metadata": {},
   "outputs": [
    {
     "data": {
      "text/html": [
       "<div>\n",
       "<style scoped>\n",
       "    .dataframe tbody tr th:only-of-type {\n",
       "        vertical-align: middle;\n",
       "    }\n",
       "\n",
       "    .dataframe tbody tr th {\n",
       "        vertical-align: top;\n",
       "    }\n",
       "\n",
       "    .dataframe thead th {\n",
       "        text-align: right;\n",
       "    }\n",
       "</style>\n",
       "<table border=\"1\" class=\"dataframe\">\n",
       "  <thead>\n",
       "    <tr style=\"text-align: right;\">\n",
       "      <th></th>\n",
       "      <th>Unión</th>\n",
       "      <th>íleon</th>\n",
       "    </tr>\n",
       "  </thead>\n",
       "  <tbody>\n",
       "    <tr>\n",
       "      <th>Cidma</th>\n",
       "      <td>1</td>\n",
       "      <td>[17, 5.06]</td>\n",
       "    </tr>\n",
       "    <tr>\n",
       "      <th>Uruguay</th>\n",
       "      <td>2</td>\n",
       "      <td>[13, 6.63]</td>\n",
       "    </tr>\n",
       "    <tr>\n",
       "      <th>Total</th>\n",
       "      <td>3</td>\n",
       "      <td>[30, 5.64]</td>\n",
       "    </tr>\n",
       "  </tbody>\n",
       "</table>\n",
       "</div>"
      ],
      "text/plain": [
       "         Unión       íleon\n",
       "Cidma        1  [17, 5.06]\n",
       "Uruguay      2  [13, 6.63]\n",
       "Total        3  [30, 5.64]"
      ]
     },
     "metadata": {},
     "output_type": "display_data"
    },
    {
     "data": {
      "text/plain": [
       "\"íleon CIDMA hallazgos más frecuentes [('Erosiones_íleon', 8), ('Ileitis', 3), ('Diverticulo_íleon', 3)]\""
      ]
     },
     "metadata": {},
     "output_type": "display_data"
    },
    {
     "data": {
      "text/plain": [
       "\"íleon Uruguay hallazgos más frecuentes [('Erosiones_íleon', 9), ('Ileitis', 2), ('Pólipo_íleon', 2)]\""
      ]
     },
     "metadata": {},
     "output_type": "display_data"
    }
   ],
   "source": [
    "m,n,o=zonas(\"íleon\",ileon)\n",
    "display(m,n,o)"
   ]
  },
  {
   "cell_type": "code",
   "execution_count": 166,
   "metadata": {},
   "outputs": [
    {
     "data": {
      "text/html": [
       "<div>\n",
       "<style scoped>\n",
       "    .dataframe tbody tr th:only-of-type {\n",
       "        vertical-align: middle;\n",
       "    }\n",
       "\n",
       "    .dataframe tbody tr th {\n",
       "        vertical-align: top;\n",
       "    }\n",
       "\n",
       "    .dataframe thead th {\n",
       "        text-align: right;\n",
       "    }\n",
       "</style>\n",
       "<table border=\"1\" class=\"dataframe\">\n",
       "  <thead>\n",
       "    <tr style=\"text-align: right;\">\n",
       "      <th></th>\n",
       "      <th>Unión</th>\n",
       "      <th>Colon derecho</th>\n",
       "    </tr>\n",
       "  </thead>\n",
       "  <tbody>\n",
       "    <tr>\n",
       "      <th>Cidma</th>\n",
       "      <td>1</td>\n",
       "      <td>[36, 10.71]</td>\n",
       "    </tr>\n",
       "    <tr>\n",
       "      <th>Uruguay</th>\n",
       "      <td>2</td>\n",
       "      <td>[24, 12.24]</td>\n",
       "    </tr>\n",
       "    <tr>\n",
       "      <th>Total</th>\n",
       "      <td>3</td>\n",
       "      <td>[60, 11.28]</td>\n",
       "    </tr>\n",
       "  </tbody>\n",
       "</table>\n",
       "</div>"
      ],
      "text/plain": [
       "         Unión Colon derecho\n",
       "Cidma        1   [36, 10.71]\n",
       "Uruguay      2   [24, 12.24]\n",
       "Total        3   [60, 11.28]"
      ]
     },
     "metadata": {},
     "output_type": "display_data"
    },
    {
     "data": {
      "text/plain": [
       "\"Colon derecho CIDMA hallazgos más frecuentes [('Diverticulo_C_drch', 15), ('Melanosis', 5), ('Pólipo_ciego', 5)]\""
      ]
     },
     "metadata": {},
     "output_type": "display_data"
    },
    {
     "data": {
      "text/plain": [
       "\"Colon derecho Uruguay hallazgos más frecuentes [('Pólipo_C_asce', 7), ('Pólipo_ciego', 6), ('Angiodisplasia_col', 4)]\""
      ]
     },
     "metadata": {},
     "output_type": "display_data"
    }
   ],
   "source": [
    "p,q,r=zonas(\"Colon derecho\",colon_de)\n",
    "display(p,q,r)"
   ]
  },
  {
   "cell_type": "code",
   "execution_count": 167,
   "metadata": {},
   "outputs": [
    {
     "data": {
      "text/html": [
       "<div>\n",
       "<style scoped>\n",
       "    .dataframe tbody tr th:only-of-type {\n",
       "        vertical-align: middle;\n",
       "    }\n",
       "\n",
       "    .dataframe tbody tr th {\n",
       "        vertical-align: top;\n",
       "    }\n",
       "\n",
       "    .dataframe thead th {\n",
       "        text-align: right;\n",
       "    }\n",
       "</style>\n",
       "<table border=\"1\" class=\"dataframe\">\n",
       "  <thead>\n",
       "    <tr style=\"text-align: right;\">\n",
       "      <th></th>\n",
       "      <th>Unión</th>\n",
       "      <th>Colon izquierdo</th>\n",
       "    </tr>\n",
       "  </thead>\n",
       "  <tbody>\n",
       "    <tr>\n",
       "      <th>Cidma</th>\n",
       "      <td>1</td>\n",
       "      <td>[45, 13.39]</td>\n",
       "    </tr>\n",
       "    <tr>\n",
       "      <th>Uruguay</th>\n",
       "      <td>2</td>\n",
       "      <td>[27, 13.78]</td>\n",
       "    </tr>\n",
       "    <tr>\n",
       "      <th>Total</th>\n",
       "      <td>3</td>\n",
       "      <td>[72, 13.53]</td>\n",
       "    </tr>\n",
       "  </tbody>\n",
       "</table>\n",
       "</div>"
      ],
      "text/plain": [
       "         Unión Colon izquierdo\n",
       "Cidma        1     [45, 13.39]\n",
       "Uruguay      2     [27, 13.78]\n",
       "Total        3     [72, 13.53]"
      ]
     },
     "metadata": {},
     "output_type": "display_data"
    },
    {
     "data": {
      "text/plain": [
       "\"Colon izquierdo CIDMA hallazgos más frecuentes [('Diverticulo_C_izq', 22), ('Otras_col', 13), ('Pólipo_C_trans', 5)]\""
      ]
     },
     "metadata": {},
     "output_type": "display_data"
    },
    {
     "data": {
      "text/plain": [
       "\"Colon izquierdo Uruguay hallazgos más frecuentes [('Otras_col', 10), ('Pólipo_C_trans', 7), ('Pólipo_C_desc', 7)]\""
      ]
     },
     "metadata": {},
     "output_type": "display_data"
    }
   ],
   "source": [
    "s,t,y=zonas(\"Colon izquierdo\",colon_iz)\n",
    "display(s,t,y)"
   ]
  },
  {
   "cell_type": "code",
   "execution_count": 168,
   "metadata": {},
   "outputs": [
    {
     "data": {
      "text/html": [
       "<div>\n",
       "<style scoped>\n",
       "    .dataframe tbody tr th:only-of-type {\n",
       "        vertical-align: middle;\n",
       "    }\n",
       "\n",
       "    .dataframe tbody tr th {\n",
       "        vertical-align: top;\n",
       "    }\n",
       "\n",
       "    .dataframe thead th {\n",
       "        text-align: right;\n",
       "    }\n",
       "</style>\n",
       "<table border=\"1\" class=\"dataframe\">\n",
       "  <thead>\n",
       "    <tr style=\"text-align: right;\">\n",
       "      <th></th>\n",
       "      <th>Unión</th>\n",
       "      <th>Colon sigmoides</th>\n",
       "    </tr>\n",
       "  </thead>\n",
       "  <tbody>\n",
       "    <tr>\n",
       "      <th>Cidma</th>\n",
       "      <td>1</td>\n",
       "      <td>[36, 10.71]</td>\n",
       "    </tr>\n",
       "    <tr>\n",
       "      <th>Uruguay</th>\n",
       "      <td>2</td>\n",
       "      <td>[75, 38.27]</td>\n",
       "    </tr>\n",
       "    <tr>\n",
       "      <th>Total</th>\n",
       "      <td>3</td>\n",
       "      <td>[111, 20.86]</td>\n",
       "    </tr>\n",
       "  </tbody>\n",
       "</table>\n",
       "</div>"
      ],
      "text/plain": [
       "         Unión Colon sigmoides\n",
       "Cidma        1     [36, 10.71]\n",
       "Uruguay      2     [75, 38.27]\n",
       "Total        3    [111, 20.86]"
      ]
     },
     "metadata": {},
     "output_type": "display_data"
    },
    {
     "data": {
      "text/plain": [
       "\"Colon sigmoides CIDMA hallazgos más frecuentes [('Diverticulo_sig', 22), ('Sigmoiditis', 7), ('Pólipo_sig', 7)]\""
      ]
     },
     "metadata": {},
     "output_type": "display_data"
    },
    {
     "data": {
      "text/plain": [
       "\"Colon sigmoides Uruguay hallazgos más frecuentes [('Diverticulo_sig', 38), ('Sigmoiditis', 22), ('Pólipo_sig', 14)]\""
      ]
     },
     "metadata": {},
     "output_type": "display_data"
    }
   ],
   "source": [
    "v,w,x=zonas(\"Colon sigmoides\",colon_sig)\n",
    "display(v,w,x)"
   ]
  },
  {
   "cell_type": "code",
   "execution_count": 169,
   "metadata": {},
   "outputs": [
    {
     "data": {
      "text/html": [
       "<div>\n",
       "<style scoped>\n",
       "    .dataframe tbody tr th:only-of-type {\n",
       "        vertical-align: middle;\n",
       "    }\n",
       "\n",
       "    .dataframe tbody tr th {\n",
       "        vertical-align: top;\n",
       "    }\n",
       "\n",
       "    .dataframe thead th {\n",
       "        text-align: right;\n",
       "    }\n",
       "</style>\n",
       "<table border=\"1\" class=\"dataframe\">\n",
       "  <thead>\n",
       "    <tr style=\"text-align: right;\">\n",
       "      <th></th>\n",
       "      <th>Unión</th>\n",
       "      <th>Recto</th>\n",
       "    </tr>\n",
       "  </thead>\n",
       "  <tbody>\n",
       "    <tr>\n",
       "      <th>Cidma</th>\n",
       "      <td>1</td>\n",
       "      <td>[42, 12.5]</td>\n",
       "    </tr>\n",
       "    <tr>\n",
       "      <th>Uruguay</th>\n",
       "      <td>2</td>\n",
       "      <td>[11, 5.61]</td>\n",
       "    </tr>\n",
       "    <tr>\n",
       "      <th>Total</th>\n",
       "      <td>3</td>\n",
       "      <td>[53, 9.96]</td>\n",
       "    </tr>\n",
       "  </tbody>\n",
       "</table>\n",
       "</div>"
      ],
      "text/plain": [
       "         Unión       Recto\n",
       "Cidma        1  [42, 12.5]\n",
       "Uruguay      2  [11, 5.61]\n",
       "Total        3  [53, 9.96]"
      ]
     },
     "metadata": {},
     "output_type": "display_data"
    },
    {
     "data": {
      "text/plain": [
       "\"Recto CIDMA hallazgos más frecuentes [('Hemorroides', 35), ('Pólipo_recto', 5), ('Erosion_recto', 2)]\""
      ]
     },
     "metadata": {},
     "output_type": "display_data"
    },
    {
     "data": {
      "text/plain": [
       "\"Recto Uruguay hallazgos más frecuentes [('Proctitis', 4), ('Hemorroides', 3), ('Pólipo_recto', 3)]\""
      ]
     },
     "metadata": {},
     "output_type": "display_data"
    }
   ],
   "source": [
    "z,a2,b2=zonas(\"Recto\",recto)\n",
    "display(z,a2,b2)"
   ]
  },
  {
   "cell_type": "code",
   "execution_count": 170,
   "metadata": {},
   "outputs": [],
   "source": [
    "#Unifico en una única tabla los porcentajes de los hallazgos\n",
    "\n",
    "A=pd.merge(a, d, on='Unión')\n",
    "B=pd.merge(A,g,on='Unión')\n",
    "C=pd.merge(B,j,on='Unión')\n",
    "D=pd.merge(C,m,on='Unión')\n",
    "E=pd.merge(D,p,on='Unión')\n",
    "F=pd.merge(E,s,on='Unión')\n",
    "G=pd.merge(F,v,on='Unión')\n",
    "HZ_ZONAS=pd.merge(G,z,on='Unión')\n",
    "HZ_ZONAS.Unión=[\"Cidma\",\"Uruguay\", \"Total\"]\n",
    "HZ_ZONAS.rename(columns={\"Unión\":\"Centro\"},inplace=True)"
   ]
  },
  {
   "cell_type": "code",
   "execution_count": 171,
   "metadata": {},
   "outputs": [
    {
     "data": {
      "text/html": [
       "<div>\n",
       "<style scoped>\n",
       "    .dataframe tbody tr th:only-of-type {\n",
       "        vertical-align: middle;\n",
       "    }\n",
       "\n",
       "    .dataframe tbody tr th {\n",
       "        vertical-align: top;\n",
       "    }\n",
       "\n",
       "    .dataframe thead th {\n",
       "        text-align: right;\n",
       "    }\n",
       "</style>\n",
       "<table border=\"1\" class=\"dataframe\">\n",
       "  <thead>\n",
       "    <tr style=\"text-align: right;\">\n",
       "      <th></th>\n",
       "      <th>Centro</th>\n",
       "      <th>Esófago</th>\n",
       "      <th>Estómago</th>\n",
       "      <th>Duodeno</th>\n",
       "      <th>Yeyuno</th>\n",
       "      <th>íleon</th>\n",
       "      <th>Colon derecho</th>\n",
       "      <th>Colon izquierdo</th>\n",
       "      <th>Colon sigmoides</th>\n",
       "      <th>Recto</th>\n",
       "    </tr>\n",
       "  </thead>\n",
       "  <tbody>\n",
       "    <tr>\n",
       "      <th>0</th>\n",
       "      <td>Cidma</td>\n",
       "      <td>[33, 9.82]</td>\n",
       "      <td>[82, 24.4]</td>\n",
       "      <td>[26, 7.74]</td>\n",
       "      <td>[19, 5.65]</td>\n",
       "      <td>[17, 5.06]</td>\n",
       "      <td>[36, 10.71]</td>\n",
       "      <td>[45, 13.39]</td>\n",
       "      <td>[36, 10.71]</td>\n",
       "      <td>[42, 12.5]</td>\n",
       "    </tr>\n",
       "    <tr>\n",
       "      <th>1</th>\n",
       "      <td>Uruguay</td>\n",
       "      <td>[8, 4.08]</td>\n",
       "      <td>[12, 6.12]</td>\n",
       "      <td>[8, 4.08]</td>\n",
       "      <td>[18, 9.18]</td>\n",
       "      <td>[13, 6.63]</td>\n",
       "      <td>[24, 12.24]</td>\n",
       "      <td>[27, 13.78]</td>\n",
       "      <td>[75, 38.27]</td>\n",
       "      <td>[11, 5.61]</td>\n",
       "    </tr>\n",
       "    <tr>\n",
       "      <th>2</th>\n",
       "      <td>Total</td>\n",
       "      <td>[41, 7.71]</td>\n",
       "      <td>[94, 17.67]</td>\n",
       "      <td>[34, 6.39]</td>\n",
       "      <td>[37, 6.95]</td>\n",
       "      <td>[30, 5.64]</td>\n",
       "      <td>[60, 11.28]</td>\n",
       "      <td>[72, 13.53]</td>\n",
       "      <td>[111, 20.86]</td>\n",
       "      <td>[53, 9.96]</td>\n",
       "    </tr>\n",
       "  </tbody>\n",
       "</table>\n",
       "</div>"
      ],
      "text/plain": [
       "    Centro     Esófago     Estómago     Duodeno      Yeyuno       íleon  \\\n",
       "0    Cidma  [33, 9.82]   [82, 24.4]  [26, 7.74]  [19, 5.65]  [17, 5.06]   \n",
       "1  Uruguay   [8, 4.08]   [12, 6.12]   [8, 4.08]  [18, 9.18]  [13, 6.63]   \n",
       "2    Total  [41, 7.71]  [94, 17.67]  [34, 6.39]  [37, 6.95]  [30, 5.64]   \n",
       "\n",
       "  Colon derecho Colon izquierdo Colon sigmoides       Recto  \n",
       "0   [36, 10.71]     [45, 13.39]     [36, 10.71]  [42, 12.5]  \n",
       "1   [24, 12.24]     [27, 13.78]     [75, 38.27]  [11, 5.61]  \n",
       "2   [60, 11.28]     [72, 13.53]    [111, 20.86]  [53, 9.96]  "
      ]
     },
     "execution_count": 171,
     "metadata": {},
     "output_type": "execute_result"
    }
   ],
   "source": [
    "HZ_ZONAS"
   ]
  },
  {
   "cell_type": "markdown",
   "metadata": {},
   "source": [
    "# <font color='blue'>Resultados</font>\n",
    "\n",
    "En un primer vistazo se observa claramente las diferencias entre el uso de la cápsula para la visión del colon únicamente, o cuando, se usa como una pancapsuloendoscópia. \n",
    "\n",
    "Observandose como el aumento relativo del porcentaje de hallazgos a medida que nos acercamos al colon, claramente evidente en el hospital Italiano. Concentrandose el 64,29% de todos los hallazgos encontrados en dicho centro. Adiferencia de CIDMA, donde el colon solo equivaldría al 34,81% del total.\n",
    "\n",
    "Estos datos nos permite ver el gran potencial de diagnostico que la evaluación completa y no parcial de la cápsula puede aportar tanto al médico, como al paciente.\n",
    "\n",
    "Así mismo cabe destacar como apesar de ser una de las regiones GI con menos frecuencia de hallazgos patologicos, el yeyuno e íleon concentran el 12,6% de los hallazgos globales. Lo que hace pensar en el número de pacientes no diagnosticados correctamente por la incapacidad de acceso a dichas áreas con las técnicas endoscopicas más populares."
   ]
  },
  {
   "cell_type": "markdown",
   "metadata": {},
   "source": [
    "# Analisis de los tiempos de tránsitos"
   ]
  },
  {
   "cell_type": "markdown",
   "metadata": {},
   "source": [
    "Agrupo todos los tiempos en una variable. Divido la base por centro y escojo solo los pacientes que han expulsado la cápsula. Ya que el resto tienen unos tiempos mal asignados, en base a si el médico puso donde se quedo sin bateria o si al quedarse sin bateria solo decia que no llegaba y no hizo suma. \n",
    "\n",
    "La idea a ver es si la velocidad de tránsito influye en la cantidad de hallazgos encontrados. Para ello divido en tránsito rápido y lento, seleccionando los pacientes más extremos de los dos grupos y comparandolos entre ellos.\n",
    "\n",
    "Comienzo preparando las columnas del tiempo de expulsión, la cual recoge la suma de los otros tiempos"
   ]
  },
  {
   "cell_type": "code",
   "execution_count": 172,
   "metadata": {},
   "outputs": [],
   "source": [
    "tiempos=['T_estómago',\n",
    " 'T_ID_total',\n",
    " 'T_colon_total']"
   ]
  },
  {
   "cell_type": "code",
   "execution_count": 173,
   "metadata": {},
   "outputs": [
    {
     "data": {
      "text/plain": [
       "dtype('O')"
      ]
     },
     "execution_count": 173,
     "metadata": {},
     "output_type": "execute_result"
    }
   ],
   "source": [
    "datos[\"T_expulsión\"].dtypes"
   ]
  },
  {
   "cell_type": "code",
   "execution_count": 174,
   "metadata": {},
   "outputs": [
    {
     "data": {
      "text/plain": [
       "0      69\n",
       "       47\n",
       "360     6\n",
       "310     4\n",
       "240     3\n",
       "       ..\n",
       "264     1\n",
       "160     1\n",
       "158     1\n",
       "292     1\n",
       "186     1\n",
       "Name: T_expulsión, Length: 113, dtype: int64"
      ]
     },
     "execution_count": 174,
     "metadata": {},
     "output_type": "execute_result"
    }
   ],
   "source": [
    "datos[\"T_expulsión\"].value_counts()"
   ]
  },
  {
   "cell_type": "code",
   "execution_count": 175,
   "metadata": {},
   "outputs": [
    {
     "data": {
      "text/plain": [
       "47"
      ]
     },
     "execution_count": 175,
     "metadata": {},
     "output_type": "execute_result"
    }
   ],
   "source": [
    "len(datos[datos[\"T_expulsión\"]==\" \"])"
   ]
  },
  {
   "cell_type": "code",
   "execution_count": 176,
   "metadata": {},
   "outputs": [],
   "source": [
    "#Función: cambia los valores vacios por 0\n",
    "#Parámetros: e:columna a la que evaluar los valores\n",
    "def recodificar (e):\n",
    "    if e==\" \":\n",
    "        return int(0)\n",
    "    elif e!=\" \":\n",
    "        return e"
   ]
  },
  {
   "cell_type": "code",
   "execution_count": 177,
   "metadata": {},
   "outputs": [],
   "source": [
    "datos[\"T_expulsión\"]=datos[\"T_expulsión\"].apply(recodificar)"
   ]
  },
  {
   "cell_type": "code",
   "execution_count": 178,
   "metadata": {},
   "outputs": [],
   "source": [
    "datos[\"T_expulsión\"]= datos[\"T_expulsión\"].astype('int64')"
   ]
  },
  {
   "cell_type": "code",
   "execution_count": 179,
   "metadata": {},
   "outputs": [
    {
     "data": {
      "text/plain": [
       "0      116\n",
       "360      6\n",
       "310      4\n",
       "420      3\n",
       "240      3\n",
       "      ... \n",
       "441      1\n",
       "186      1\n",
       "187      1\n",
       "188      1\n",
       "647      1\n",
       "Name: T_expulsión, Length: 112, dtype: int64"
      ]
     },
     "execution_count": 179,
     "metadata": {},
     "output_type": "execute_result"
    }
   ],
   "source": [
    "datos[\"T_expulsión\"].value_counts()"
   ]
  },
  {
   "cell_type": "code",
   "execution_count": 180,
   "metadata": {},
   "outputs": [],
   "source": [
    "datos[\"T_estómago\"]=datos[\"T_estómago\"].apply(recodificar)\n",
    "datos[\"T_estómago\"]= datos[\"T_estómago\"].astype('int64')"
   ]
  },
  {
   "cell_type": "code",
   "execution_count": 181,
   "metadata": {},
   "outputs": [],
   "source": [
    "datos['T_ID_total']=datos['T_ID_total'].apply(recodificar)\n",
    "datos['T_ID_total']= datos['T_ID_total'].astype('int64')"
   ]
  },
  {
   "cell_type": "code",
   "execution_count": 182,
   "metadata": {},
   "outputs": [],
   "source": [
    "datos[\"T_colon_total\"]=datos[\"T_colon_total\"].apply(recodificar)\n",
    "datos[\"T_colon_total\"]= datos[\"T_colon_total\"].astype('int64')"
   ]
  },
  {
   "cell_type": "markdown",
   "metadata": {},
   "source": [
    "# CIDMA\n",
    "\n",
    "Miro el número de pacientes que expulsan y tienen los tiempos correctamente añadidos. Siendo el total de 69 pacientes. Tras evaluar la variabilidad de los tiempos de expulsión, selecciono 12 pacientes en cada extremo quedando:\n",
    "- Rápido: Expulsaron la cápsula en menos de 200 minutos. (Rango del intervalo; 103)\n",
    "- Lento: Expulsaron la cápsula en mas de 530 minutos. (Rango de intervalo; 260)"
   ]
  },
  {
   "cell_type": "code",
   "execution_count": 183,
   "metadata": {},
   "outputs": [
    {
     "data": {
      "text/plain": [
       "count     69.000000\n",
       "mean     378.521739\n",
       "std      172.749871\n",
       "min       97.000000\n",
       "25%      237.000000\n",
       "50%      366.000000\n",
       "75%      507.000000\n",
       "max      790.000000\n",
       "Name: T_expulsión, dtype: float64"
      ]
     },
     "execution_count": 183,
     "metadata": {},
     "output_type": "execute_result"
    }
   ],
   "source": [
    "c_expulsa=datos[(datos[\"Médico\"]==0) & (datos['Expulsa_cápsula']==1)]\n",
    "len(c_expulsa)\n",
    "len(c_expulsa[c_expulsa[\"T_expulsión\"]>=1])\n",
    "c_expulsa[\"T_expulsión\"].describe()"
   ]
  },
  {
   "cell_type": "code",
   "execution_count": 184,
   "metadata": {},
   "outputs": [],
   "source": [
    "c_rap=c_expulsa[c_expulsa[\"T_expulsión\"]<200]\n",
    "c_len=c_expulsa[c_expulsa[\"T_expulsión\"]>530]"
   ]
  },
  {
   "cell_type": "code",
   "execution_count": 185,
   "metadata": {},
   "outputs": [],
   "source": [
    "#Unifico todos los hallazgos juntos\n",
    "hz_todos=['RGE_esof',\n",
    " 'Trast_tránsito_esof',\n",
    " 'Erosiones_esof',\n",
    " 'Barret_esof',\n",
    " 'Esof_eosinofilica_esof',\n",
    " 'Estenosis_extr_esof',\n",
    "'Hernia_hiato_total', \n",
    "'Trast_motilidad_estom',\n",
    " 'Erosiones_estom',\n",
    " 'Gastritis_estom',\n",
    " 'Pólipo_estom',\n",
    " 'Otros_estom',\n",
    "\"Erosiones_del\",\n",
    " 'Diverticulo_del',\n",
    " 'Enteritis_del',\n",
    " 'Pólipo_del',\n",
    " 'Otros_del',\n",
    "'Yeyunitis',\n",
    " 'Erosiones_yey',\n",
    " 'Telangiectasias_yey',\n",
    " 'Linfagiectasias_yey',\n",
    " 'Pólipo_yey',\n",
    "'Ileitis',\n",
    " 'Diverticulo_íleon',\n",
    " 'Erosiones_íleon',\n",
    " 'Pólipo_íleon',\n",
    "'Melanosis','Angiodisplasia_col', 'Pólipo_ciego','Pólipo_C_drch', \n",
    "'Pólipo_C_asce','Diverticulo_C_drch',\"Erosion_c_de\",\n",
    "'Pólipo_C_trans', 'Pólipo_C_desc',\n",
    "'Pólipo_C_izq', 'Diverticulo_C_izq','Otras_col',\"Erosion_c_iz\",\n",
    "'Sigmoiditis','Pólipo_sig','Diverticulo_sig',\n",
    "\"Erosion_c_sig\",\n",
    "'Hemorroides','Proctitis','Pólipo_recto',\n",
    "\"Erosion_recto\"]"
   ]
  },
  {
   "cell_type": "code",
   "execution_count": 186,
   "metadata": {},
   "outputs": [],
   "source": [
    "#Función: Devuelve el numero de hallazgos totales en las poblaciones dadas\n",
    "#Páramteros: centro_rap: Primer centro // centro_len: Segundo centro // hz: Hallazgos que queremos sumas\n",
    "def velocidad (centro_rap,centro_len,hz):\n",
    "    centro_rap[\"Hz_suma\"] = centro_rap[hz].sum(axis=1)\n",
    "    centro_len[\"Hz_suma\"] = centro_len[hz].sum(axis=1)\n",
    "    c_rap=centro_rap[\"Hz_suma\"].sum()\n",
    "    c_len=centro_len[\"Hz_suma\"].sum()\n",
    "    return ((\"Número de hallazgos en pacientes con tránsito rápido es {}\".format(c_rap)),\n",
    "           (\"Número de hallazgos en pacientes con tránsito lento es {}\".format(c_len)))\n",
    "\n",
    "    \n",
    "    "
   ]
  },
  {
   "cell_type": "code",
   "execution_count": 187,
   "metadata": {},
   "outputs": [
    {
     "name": "stderr",
     "output_type": "stream",
     "text": [
      "/usr/local/Cellar/ipython/7.7.0/libexec/vendor/lib/python3.7/site-packages/ipykernel_launcher.py:4: SettingWithCopyWarning: \n",
      "A value is trying to be set on a copy of a slice from a DataFrame.\n",
      "Try using .loc[row_indexer,col_indexer] = value instead\n",
      "\n",
      "See the caveats in the documentation: http://pandas.pydata.org/pandas-docs/stable/user_guide/indexing.html#returning-a-view-versus-a-copy\n",
      "  after removing the cwd from sys.path.\n",
      "/usr/local/Cellar/ipython/7.7.0/libexec/vendor/lib/python3.7/site-packages/ipykernel_launcher.py:5: SettingWithCopyWarning: \n",
      "A value is trying to be set on a copy of a slice from a DataFrame.\n",
      "Try using .loc[row_indexer,col_indexer] = value instead\n",
      "\n",
      "See the caveats in the documentation: http://pandas.pydata.org/pandas-docs/stable/user_guide/indexing.html#returning-a-view-versus-a-copy\n",
      "  \"\"\"\n"
     ]
    },
    {
     "data": {
      "text/plain": [
       "('Número de hallazgos en pacientes con tránsito rápido es 49',\n",
       " 'Número de hallazgos en pacientes con tránsito lento es 31')"
      ]
     },
     "execution_count": 187,
     "metadata": {},
     "output_type": "execute_result"
    }
   ],
   "source": [
    "velocidad(c_rap,c_len,hz_todos)"
   ]
  },
  {
   "cell_type": "markdown",
   "metadata": {},
   "source": [
    "Los pacientes con tránsito rápido tuvieron mas hallazgos en todas las regiones del trácto digestivo salvo en yeyuno, íleon y colon izquierdo. "
   ]
  },
  {
   "cell_type": "code",
   "execution_count": 188,
   "metadata": {},
   "outputs": [
    {
     "name": "stderr",
     "output_type": "stream",
     "text": [
      "/usr/local/Cellar/ipython/7.7.0/libexec/vendor/lib/python3.7/site-packages/ipykernel_launcher.py:4: SettingWithCopyWarning: \n",
      "A value is trying to be set on a copy of a slice from a DataFrame.\n",
      "Try using .loc[row_indexer,col_indexer] = value instead\n",
      "\n",
      "See the caveats in the documentation: http://pandas.pydata.org/pandas-docs/stable/user_guide/indexing.html#returning-a-view-versus-a-copy\n",
      "  after removing the cwd from sys.path.\n",
      "/usr/local/Cellar/ipython/7.7.0/libexec/vendor/lib/python3.7/site-packages/ipykernel_launcher.py:5: SettingWithCopyWarning: \n",
      "A value is trying to be set on a copy of a slice from a DataFrame.\n",
      "Try using .loc[row_indexer,col_indexer] = value instead\n",
      "\n",
      "See the caveats in the documentation: http://pandas.pydata.org/pandas-docs/stable/user_guide/indexing.html#returning-a-view-versus-a-copy\n",
      "  \"\"\"\n"
     ]
    },
    {
     "data": {
      "text/plain": [
       "('Número de hallazgos en pacientes con tránsito rápido es 3',\n",
       " 'Número de hallazgos en pacientes con tránsito lento es 1')"
      ]
     },
     "execution_count": 188,
     "metadata": {},
     "output_type": "execute_result"
    }
   ],
   "source": [
    "#Evaluo todas las regiones del tracto digestivo por separado para ir viendo donde destacan las diferencias.\n",
    "#Las miro para analisis y lo borro posteriormente para facilitar la lectura\n",
    "velocidad(c_rap,c_len,esofago)"
   ]
  },
  {
   "cell_type": "code",
   "execution_count": 189,
   "metadata": {},
   "outputs": [
    {
     "data": {
      "text/plain": [
       "2    7\n",
       "3    2\n",
       "1    2\n",
       "0    1\n",
       "Name: Edad_inter, dtype: int64"
      ]
     },
     "execution_count": 189,
     "metadata": {},
     "output_type": "execute_result"
    }
   ],
   "source": [
    "#Miro la edad de los pacientes para ver si hay mucha variabilidad\n",
    "c_rap['Edad_inter'].value_counts()"
   ]
  },
  {
   "cell_type": "code",
   "execution_count": 190,
   "metadata": {},
   "outputs": [
    {
     "data": {
      "text/plain": [
       "count    12.000000\n",
       "mean     52.583333\n",
       "std      15.156507\n",
       "min      23.000000\n",
       "25%      46.500000\n",
       "50%      53.000000\n",
       "75%      63.250000\n",
       "max      76.000000\n",
       "Name: Edad, dtype: float64"
      ]
     },
     "execution_count": 190,
     "metadata": {},
     "output_type": "execute_result"
    }
   ],
   "source": [
    "c_rap[\"Edad\"].describe()"
   ]
  },
  {
   "cell_type": "code",
   "execution_count": 191,
   "metadata": {},
   "outputs": [
    {
     "data": {
      "text/plain": [
       "3    3\n",
       "0    3\n",
       "4    2\n",
       "2    2\n",
       "1    2\n",
       "Name: Edad_inter, dtype: int64"
      ]
     },
     "execution_count": 191,
     "metadata": {},
     "output_type": "execute_result"
    }
   ],
   "source": [
    "c_len[\"Edad_inter\"].value_counts()"
   ]
  },
  {
   "cell_type": "code",
   "execution_count": 192,
   "metadata": {},
   "outputs": [
    {
     "data": {
      "text/plain": [
       "count    12.000000\n",
       "mean     53.916667\n",
       "std      26.414384\n",
       "min      16.000000\n",
       "25%      33.500000\n",
       "50%      62.500000\n",
       "75%      75.500000\n",
       "max      84.000000\n",
       "Name: Edad, dtype: float64"
      ]
     },
     "execution_count": 192,
     "metadata": {},
     "output_type": "execute_result"
    }
   ],
   "source": [
    "c_len[\"Edad\"].describe()"
   ]
  },
  {
   "cell_type": "markdown",
   "metadata": {},
   "source": [
    "# <font color='blue'>Resultados</font>\n",
    "Como se ve la mayoria de los pacientes de tránsito rápido tienen entre 45-65 años (7 pacientes), solo hay un menor de 30 años y no hay ninguno de mas de 80. Tieniendo como media de edad 52 años y mediana de 53.\n",
    "\n",
    "En cuanto a los pacientes del otro extremo hay 3 menores de 30 y dos mayores de 80 años. Teniendo como media de edad 54 con una mediana de 62 años. Lo que se puede ver que en su conjunto son mayores que los de tránsito rápido"
   ]
  },
  {
   "cell_type": "markdown",
   "metadata": {},
   "source": [
    "# Hospital Italiano\n",
    "\n",
    "Ahora hago lo mismo con Urguay. Donde de los 110 pacientes que expulsan la cápsula unos 44 no tienen los tiempos correctramente recogidos. Lo que puede deberse a que esos pacientes tuvieran tiempos más largos y no se calculasen o simplemente no se transcribio al informe, ¿posible sesgo?.\n",
    "\n",
    "En cuanto al resto de los pacientes (66), mido como se comportan los tiempos de expulsión para seleccionar a los pacientes que expulsaron más rápido y más lento. Quedando 10 pacientes en cada extremo, según la siguiente forma: \n",
    "- Rápido: Expulsaron la cápsula en menos de 153 minutos. (Rango del intervalo; 92)\n",
    "- Lento: expulsaron la cápsula en mas de 440 minutos. (Rango del intervalo; 337)\n",
    "\n",
    "La disparidad de rangos, se debe a que a mayor tiempo mayor variabilidad de tiempos. Según resultado veré si es necesario disminuir la n para maximizar la diferencia"
   ]
  },
  {
   "cell_type": "code",
   "execution_count": 193,
   "metadata": {},
   "outputs": [
    {
     "data": {
      "text/plain": [
       "110"
      ]
     },
     "execution_count": 193,
     "metadata": {},
     "output_type": "execute_result"
    }
   ],
   "source": [
    "#Uruguay\n",
    "u_ex=datos[(datos[\"Médico\"]==1) & (datos['Expulsa_cápsula']==1)]\n",
    "len(u_ex)"
   ]
  },
  {
   "cell_type": "code",
   "execution_count": 194,
   "metadata": {},
   "outputs": [
    {
     "data": {
      "text/plain": [
       "count     66.000000\n",
       "mean     304.227273\n",
       "std      152.672782\n",
       "min       61.000000\n",
       "25%      211.500000\n",
       "50%      288.000000\n",
       "75%      360.000000\n",
       "max      777.000000\n",
       "Name: T_expulsión, dtype: float64"
      ]
     },
     "execution_count": 194,
     "metadata": {},
     "output_type": "execute_result"
    }
   ],
   "source": [
    "u_expulsa=u_ex[u_ex[\"T_expulsión\"]>=1]\n",
    "len(u_expulsa)\n",
    "u_expulsa[\"T_expulsión\"].describe()"
   ]
  },
  {
   "cell_type": "code",
   "execution_count": 195,
   "metadata": {},
   "outputs": [],
   "source": [
    "u_rap=u_expulsa[u_expulsa[\"T_expulsión\"]<=153]\n",
    "u_len=u_expulsa[u_expulsa[\"T_expulsión\"]>=440]"
   ]
  },
  {
   "cell_type": "code",
   "execution_count": 196,
   "metadata": {},
   "outputs": [
    {
     "name": "stderr",
     "output_type": "stream",
     "text": [
      "/usr/local/Cellar/ipython/7.7.0/libexec/vendor/lib/python3.7/site-packages/ipykernel_launcher.py:4: SettingWithCopyWarning: \n",
      "A value is trying to be set on a copy of a slice from a DataFrame.\n",
      "Try using .loc[row_indexer,col_indexer] = value instead\n",
      "\n",
      "See the caveats in the documentation: http://pandas.pydata.org/pandas-docs/stable/user_guide/indexing.html#returning-a-view-versus-a-copy\n",
      "  after removing the cwd from sys.path.\n",
      "/usr/local/Cellar/ipython/7.7.0/libexec/vendor/lib/python3.7/site-packages/ipykernel_launcher.py:5: SettingWithCopyWarning: \n",
      "A value is trying to be set on a copy of a slice from a DataFrame.\n",
      "Try using .loc[row_indexer,col_indexer] = value instead\n",
      "\n",
      "See the caveats in the documentation: http://pandas.pydata.org/pandas-docs/stable/user_guide/indexing.html#returning-a-view-versus-a-copy\n",
      "  \"\"\"\n"
     ]
    },
    {
     "data": {
      "text/plain": [
       "('Número de hallazgos en pacientes con tránsito rápido es 16',\n",
       " 'Número de hallazgos en pacientes con tránsito lento es 16')"
      ]
     },
     "execution_count": 196,
     "metadata": {},
     "output_type": "execute_result"
    }
   ],
   "source": [
    "velocidad(u_rap,u_len,hz_todos)"
   ]
  },
  {
   "cell_type": "markdown",
   "metadata": {},
   "source": [
    "# Evaluo si hay relación entre el tiempo que pasa la cápsula por cada región y el número de hallazgos"
   ]
  },
  {
   "cell_type": "code",
   "execution_count": 197,
   "metadata": {},
   "outputs": [],
   "source": [
    "#Comienzo sacando del analisis a los pacientes que tengo algun tengo no recogido\n",
    "incompleto=[]\n",
    "for e in tiempos:\n",
    "    incompleto.append(c_expulsa[c_expulsa[e]==0].index)            "
   ]
  },
  {
   "cell_type": "code",
   "execution_count": 198,
   "metadata": {},
   "outputs": [],
   "source": [
    "pacientes=[]\n",
    "for e in incompleto:\n",
    "    for i in e:\n",
    "        pacientes.append(i)\n",
    "pacientes=set(pacientes)"
   ]
  },
  {
   "cell_type": "code",
   "execution_count": 199,
   "metadata": {},
   "outputs": [
    {
     "name": "stdout",
     "output_type": "stream",
     "text": [
      "Los pacientes que no tienen todos los tiempos recogidos son {216, 202, 184}\n"
     ]
    }
   ],
   "source": [
    "print(\"Los pacientes que no tienen todos los tiempos recogidos son {}\".format(pacientes))"
   ]
  },
  {
   "cell_type": "code",
   "execution_count": 200,
   "metadata": {},
   "outputs": [
    {
     "data": {
      "text/html": [
       "<div>\n",
       "<style scoped>\n",
       "    .dataframe tbody tr th:only-of-type {\n",
       "        vertical-align: middle;\n",
       "    }\n",
       "\n",
       "    .dataframe tbody tr th {\n",
       "        vertical-align: top;\n",
       "    }\n",
       "\n",
       "    .dataframe thead th {\n",
       "        text-align: right;\n",
       "    }\n",
       "</style>\n",
       "<table border=\"1\" class=\"dataframe\">\n",
       "  <thead>\n",
       "    <tr style=\"text-align: right;\">\n",
       "      <th></th>\n",
       "      <th>T_estómago</th>\n",
       "      <th>T_ID_total</th>\n",
       "      <th>T_colon_total</th>\n",
       "    </tr>\n",
       "  </thead>\n",
       "  <tbody>\n",
       "    <tr>\n",
       "      <th>216</th>\n",
       "      <td>0</td>\n",
       "      <td>90</td>\n",
       "      <td>157</td>\n",
       "    </tr>\n",
       "    <tr>\n",
       "      <th>202</th>\n",
       "      <td>0</td>\n",
       "      <td>225</td>\n",
       "      <td>135</td>\n",
       "    </tr>\n",
       "    <tr>\n",
       "      <th>184</th>\n",
       "      <td>112</td>\n",
       "      <td>0</td>\n",
       "      <td>0</td>\n",
       "    </tr>\n",
       "  </tbody>\n",
       "</table>\n",
       "</div>"
      ],
      "text/plain": [
       "     T_estómago  T_ID_total  T_colon_total\n",
       "216           0          90            157\n",
       "202           0         225            135\n",
       "184         112           0              0"
      ]
     },
     "execution_count": 200,
     "metadata": {},
     "output_type": "execute_result"
    }
   ],
   "source": [
    "#Miro si puedo deducir el tiempo de salidad por el resto de tiempos para no eliminarlos del analisis\n",
    "c_expulsa[tiempos].loc[[216,202,184]]"
   ]
  },
  {
   "cell_type": "code",
   "execution_count": 201,
   "metadata": {},
   "outputs": [
    {
     "data": {
      "text/plain": [
       "216    237\n",
       "202    428\n",
       "184    232\n",
       "Name: T_expulsión, dtype: int64"
      ]
     },
     "execution_count": 201,
     "metadata": {},
     "output_type": "execute_result"
    }
   ],
   "source": [
    "c_expulsa[\"T_expulsión\"].loc[[216,202,184]]"
   ]
  },
  {
   "cell_type": "code",
   "execution_count": 202,
   "metadata": {},
   "outputs": [
    {
     "name": "stderr",
     "output_type": "stream",
     "text": [
      "/usr/local/Cellar/ipython/7.7.0/libexec/vendor/lib/python3.7/site-packages/ipykernel_launcher.py:2: SettingWithCopyWarning: \n",
      "A value is trying to be set on a copy of a slice from a DataFrame\n",
      "\n",
      "See the caveats in the documentation: http://pandas.pydata.org/pandas-docs/stable/user_guide/indexing.html#returning-a-view-versus-a-copy\n",
      "  \n",
      "/usr/local/Cellar/ipython/7.7.0/libexec/lib/python3.7/site-packages/IPython/core/interactiveshell.py:3326: SettingWithCopyWarning: \n",
      "A value is trying to be set on a copy of a slice from a DataFrame\n",
      "\n",
      "See the caveats in the documentation: http://pandas.pydata.org/pandas-docs/stable/user_guide/indexing.html#returning-a-view-versus-a-copy\n",
      "  exec(code_obj, self.user_global_ns, self.user_ns)\n",
      "/usr/local/lib/python3.7/site-packages/pandas/core/frame.py:4097: SettingWithCopyWarning: \n",
      "A value is trying to be set on a copy of a slice from a DataFrame\n",
      "\n",
      "See the caveats in the documentation: http://pandas.pydata.org/pandas-docs/stable/user_guide/indexing.html#returning-a-view-versus-a-copy\n",
      "  errors=errors,\n"
     ]
    }
   ],
   "source": [
    "#El único deducible es el paciente 202 cuyo tiempo de estómago sería de 68 minutos, los otros dos los elimino\n",
    "c_expulsa[\"T_estómago\"][202]=68\n",
    "c_expulsa.drop([184,216],axis=0,inplace=True)"
   ]
  },
  {
   "cell_type": "code",
   "execution_count": 203,
   "metadata": {},
   "outputs": [],
   "source": [
    "estad=c_expulsa[tiempos].describe()"
   ]
  },
  {
   "cell_type": "code",
   "execution_count": 204,
   "metadata": {},
   "outputs": [
    {
     "data": {
      "text/plain": [
       "Index(['T_estómago', 'T_ID_total', 'T_colon_total'], dtype='object')"
      ]
     },
     "execution_count": 204,
     "metadata": {},
     "output_type": "execute_result"
    }
   ],
   "source": [
    "estad.columns"
   ]
  },
  {
   "cell_type": "code",
   "execution_count": 205,
   "metadata": {},
   "outputs": [],
   "source": [
    "def pearson (base):\n",
    "    coef=len(base.columns)\n",
    "    while coef>0:\n",
    "        for i in base.columns:\n",
    "            cv=base[i][\"std\"]/abs(base[i][\"mean\"])\n",
    "            coef=coef-1\n",
    "            yield cv\n",
    "        \n",
    "        "
   ]
  },
  {
   "cell_type": "code",
   "execution_count": 206,
   "metadata": {},
   "outputs": [
    {
     "data": {
      "text/plain": [
       "<generator object pearson at 0x1298e7050>"
      ]
     },
     "execution_count": 206,
     "metadata": {},
     "output_type": "execute_result"
    }
   ],
   "source": [
    "pearson(estad)"
   ]
  },
  {
   "cell_type": "code",
   "execution_count": 207,
   "metadata": {},
   "outputs": [],
   "source": [
    "for e in estad.columns:\n",
    "    cv=144.36/207.38\n",
    "    cv"
   ]
  },
  {
   "cell_type": "code",
   "execution_count": 211,
   "metadata": {},
   "outputs": [
    {
     "data": {
      "text/plain": [
       "['Médico',\n",
       " 'Tipo_cápsula',\n",
       " 'Fecha_procedimiento',\n",
       " 'ID',\n",
       " 'Sexo',\n",
       " 'Nacimiento',\n",
       " 'Edad',\n",
       " 'Cintura',\n",
       " 'IMC',\n",
       " 'Tiempo_estudio',\n",
       " 'T_estómago',\n",
       " 'T_ID_total',\n",
       " 'T_colon_total',\n",
       " 'T_expulsión',\n",
       " 'Expulsa_cápsula',\n",
       " 'HDOO_oculta',\n",
       " 'HDOO_mani',\n",
       " 'Crohn',\n",
       " 'Alt_tránsito',\n",
       " 'Anemia',\n",
       " 'Dolor_abd',\n",
       " 'Estreñimiento',\n",
       " 'Diarrea',\n",
       " 'Vómitos',\n",
       " 'Pérdida_peso',\n",
       " 'EII',\n",
       " 'Colono_imcp',\n",
       " 'Cribado',\n",
       " 'Revisión',\n",
       " 'Otros_indica',\n",
       " 'RGE_esof',\n",
       " 'Trast_tránsito_esof',\n",
       " 'Erosiones_esof',\n",
       " 'Barret_esof',\n",
       " 'Esof_eosinofilica_esof',\n",
       " 'Estenosis_extr_esof',\n",
       " 'No_evaluable_esof',\n",
       " 'No_informado_esof',\n",
       " 'Normal_esof',\n",
       " 'Normal_estom',\n",
       " 'No_informado_estom',\n",
       " 'No_evaluable_estom',\n",
       " 'Trast_motilidad_estom',\n",
       " 'Erosiones_estom',\n",
       " 'Gastritis_estom',\n",
       " 'Pólipo_estom',\n",
       " 'Otros_estom',\n",
       " 'No_informado_del',\n",
       " 'No_evaluable_del',\n",
       " 'Normal_del',\n",
       " 'Hz_yeyuno',\n",
       " 'Yeyunitis',\n",
       " 'Erosiones_yey',\n",
       " 'Telangiectasias_yey',\n",
       " 'Linfagiectasias_yey',\n",
       " 'Pólipo_yey',\n",
       " 'Hz_íleon',\n",
       " 'Ileitis',\n",
       " 'Diverticulo_íleon',\n",
       " 'Erosiones_íleon',\n",
       " 'Pólipo_íleon',\n",
       " 'Erosiones_del',\n",
       " 'Diverticulo_del',\n",
       " 'Enteritis_del',\n",
       " 'Pólipo_del',\n",
       " 'Otros_del',\n",
       " 'No_informado_col',\n",
       " 'No_evaluable_col',\n",
       " 'Normal_col',\n",
       " 'Hemorroides',\n",
       " 'Diverticulo_col',\n",
       " 'Diverticulo_C_drch',\n",
       " 'Diverticulo_sig',\n",
       " 'Diverticulo_C_izq',\n",
       " 'Sigmoiditis',\n",
       " 'Proctitis',\n",
       " 'Erosiones_col',\n",
       " 'Angiodisplasia_col',\n",
       " 'Pólipo_col',\n",
       " 'Pólipo_C_drch',\n",
       " 'Pólipo_C_asce',\n",
       " 'Pólipo_C_trans',\n",
       " 'Pólipo_C_izq',\n",
       " 'Pólipo_C_desc',\n",
       " 'Pólipo_ciego',\n",
       " 'Pólipo_sig',\n",
       " 'Pólipo_recto',\n",
       " 'Melanosis',\n",
       " 'Otras_col',\n",
       " 'Linea_Z',\n",
       " 'Ampolla_vater',\n",
       " 'Válvula_ileocecal',\n",
       " 'Orificio_apendicular',\n",
       " 'Flexura_hepática',\n",
       " 'Flexura_esplénica',\n",
       " 'Recto',\n",
       " 'Dieta',\n",
       " 'Limpieza_colon',\n",
       " 'Medicación_preparación',\n",
       " 'Refuerzo',\n",
       " 'Calidad_preparación',\n",
       " 'Burbujas',\n",
       " 'Modifica_tto',\n",
       " 'No_conocida_comor',\n",
       " 'No_presenta_comor',\n",
       " 'Oncologica',\n",
       " 'Enf_dig',\n",
       " 'Enf_dig_leve',\n",
       " 'Enf_CV',\n",
       " 'Enf_Rsp',\n",
       " 'Enf_endocrino',\n",
       " 'Enf_renal',\n",
       " 'Trast_psiq',\n",
       " 'Enf_neuro',\n",
       " 'QX_abdominal',\n",
       " 'Otras_QX',\n",
       " 'Enf_trauma',\n",
       " 'DM',\n",
       " 'Otras_comor',\n",
       " 'Obesidad',\n",
       " 'No_toma_med',\n",
       " 'No_conocido_med',\n",
       " 'Laxantes',\n",
       " 'Antidiabético',\n",
       " 'AINE',\n",
       " 'Antiagregante',\n",
       " 'Anticoagulante',\n",
       " 'Benzodiacepina',\n",
       " 'ARAII',\n",
       " 'IBP',\n",
       " 'Inmunosupresores',\n",
       " 'Diurético',\n",
       " 'Antiemético',\n",
       " 'Vitaminas',\n",
       " 'Antimicrobiano',\n",
       " 'Otros_med',\n",
       " 'Cirugía_previa',\n",
       " 'Patency',\n",
       " 'No_aporta_previo',\n",
       " 'Eco_abdominal',\n",
       " 'Rx_abdomen',\n",
       " 'Entero_TAC',\n",
       " 'Entero_RM',\n",
       " 'Tránsito_intes',\n",
       " 'Endoscopia_previa',\n",
       " 'Intro_cápsula',\n",
       " 'Complicaciones',\n",
       " 'Hernia_hiato_total',\n",
       " 'Enf_II',\n",
       " 'Edad_inter',\n",
       " 'Básico',\n",
       " 'No_info',\n",
       " 'No evaluación completa',\n",
       " 'Erosion_c_de',\n",
       " 'Erosion_c_iz',\n",
       " 'Erosion_c_sig',\n",
       " 'Erosion_recto']"
      ]
     },
     "execution_count": 211,
     "metadata": {},
     "output_type": "execute_result"
    }
   ],
   "source": [
    "datos.columns.tolist()"
   ]
  },
  {
   "cell_type": "code",
   "execution_count": 214,
   "metadata": {},
   "outputs": [
    {
     "data": {
      "text/plain": [
       "62.26"
      ]
     },
     "execution_count": 214,
     "metadata": {},
     "output_type": "execute_result"
    }
   ],
   "source": [
    "por(53,33)"
   ]
  },
  {
   "cell_type": "code",
   "execution_count": null,
   "metadata": {},
   "outputs": [],
   "source": []
  },
  {
   "cell_type": "code",
   "execution_count": 220,
   "metadata": {},
   "outputs": [],
   "source": [
    "da=datos[(datos['Dolor_abd']==1) & (datos[\"Médico\"]==0)]"
   ]
  },
  {
   "cell_type": "code",
   "execution_count": 230,
   "metadata": {},
   "outputs": [
    {
     "data": {
      "text/html": [
       "<div>\n",
       "<style scoped>\n",
       "    .dataframe tbody tr th:only-of-type {\n",
       "        vertical-align: middle;\n",
       "    }\n",
       "\n",
       "    .dataframe tbody tr th {\n",
       "        vertical-align: top;\n",
       "    }\n",
       "\n",
       "    .dataframe thead th {\n",
       "        text-align: right;\n",
       "    }\n",
       "</style>\n",
       "<table border=\"1\" class=\"dataframe\">\n",
       "  <thead>\n",
       "    <tr style=\"text-align: right;\">\n",
       "      <th></th>\n",
       "      <th>Médico</th>\n",
       "      <th>Tipo_cápsula</th>\n",
       "      <th>Fecha_procedimiento</th>\n",
       "      <th>ID</th>\n",
       "      <th>Sexo</th>\n",
       "      <th>Nacimiento</th>\n",
       "      <th>Edad</th>\n",
       "      <th>Cintura</th>\n",
       "      <th>IMC</th>\n",
       "      <th>Tiempo_estudio</th>\n",
       "      <th>...</th>\n",
       "      <th>Hernia_hiato_total</th>\n",
       "      <th>Enf_II</th>\n",
       "      <th>Edad_inter</th>\n",
       "      <th>Básico</th>\n",
       "      <th>No_info</th>\n",
       "      <th>No evaluación completa</th>\n",
       "      <th>Erosion_c_de</th>\n",
       "      <th>Erosion_c_iz</th>\n",
       "      <th>Erosion_c_sig</th>\n",
       "      <th>Erosion_recto</th>\n",
       "    </tr>\n",
       "  </thead>\n",
       "  <tbody>\n",
       "  </tbody>\n",
       "</table>\n",
       "<p>0 rows × 157 columns</p>\n",
       "</div>"
      ],
      "text/plain": [
       "Empty DataFrame\n",
       "Columns: [Médico, Tipo_cápsula, Fecha_procedimiento, ID, Sexo, Nacimiento, Edad, Cintura, IMC, Tiempo_estudio, T_estómago, T_ID_total, T_colon_total, T_expulsión, Expulsa_cápsula, HDOO_oculta, HDOO_mani, Crohn, Alt_tránsito, Anemia, Dolor_abd, Estreñimiento, Diarrea, Vómitos, Pérdida_peso, EII, Colono_imcp, Cribado, Revisión, Otros_indica, RGE_esof, Trast_tránsito_esof, Erosiones_esof, Barret_esof, Esof_eosinofilica_esof, Estenosis_extr_esof, No_evaluable_esof, No_informado_esof, Normal_esof, Normal_estom, No_informado_estom, No_evaluable_estom, Trast_motilidad_estom, Erosiones_estom, Gastritis_estom, Pólipo_estom, Otros_estom, No_informado_del, No_evaluable_del, Normal_del, Hz_yeyuno, Yeyunitis, Erosiones_yey, Telangiectasias_yey, Linfagiectasias_yey, Pólipo_yey, Hz_íleon, Ileitis, Diverticulo_íleon, Erosiones_íleon, Pólipo_íleon, Erosiones_del, Diverticulo_del, Enteritis_del, Pólipo_del, Otros_del, No_informado_col, No_evaluable_col, Normal_col, Hemorroides, Diverticulo_col, Diverticulo_C_drch, Diverticulo_sig, Diverticulo_C_izq, Sigmoiditis, Proctitis, Erosiones_col, Angiodisplasia_col, Pólipo_col, Pólipo_C_drch, Pólipo_C_asce, Pólipo_C_trans, Pólipo_C_izq, Pólipo_C_desc, Pólipo_ciego, Pólipo_sig, Pólipo_recto, Melanosis, Otras_col, Linea_Z, Ampolla_vater, Válvula_ileocecal, Orificio_apendicular, Flexura_hepática, Flexura_esplénica, Recto, Dieta, Limpieza_colon, Medicación_preparación, Refuerzo, ...]\n",
       "Index: []\n",
       "\n",
       "[0 rows x 157 columns]"
      ]
     },
     "execution_count": 230,
     "metadata": {},
     "output_type": "execute_result"
    }
   ],
   "source": [
    "da[da[\"Modifica_tto\"]==1]"
   ]
  },
  {
   "cell_type": "code",
   "execution_count": 235,
   "metadata": {},
   "outputs": [
    {
     "data": {
      "text/plain": [
       "56.97"
      ]
     },
     "execution_count": 235,
     "metadata": {},
     "output_type": "execute_result"
    }
   ],
   "source": [
    "por(251,143)"
   ]
  },
  {
   "cell_type": "code",
   "execution_count": null,
   "metadata": {},
   "outputs": [],
   "source": []
  },
  {
   "cell_type": "code",
   "execution_count": null,
   "metadata": {},
   "outputs": [],
   "source": []
  }
 ],
 "metadata": {
  "kernelspec": {
   "display_name": "Python 3",
   "language": "python",
   "name": "python3"
  },
  "language_info": {
   "codemirror_mode": {
    "name": "ipython",
    "version": 3
   },
   "file_extension": ".py",
   "mimetype": "text/x-python",
   "name": "python",
   "nbconvert_exporter": "python",
   "pygments_lexer": "ipython3",
   "version": "3.7.4"
  }
 },
 "nbformat": 4,
 "nbformat_minor": 2
}
