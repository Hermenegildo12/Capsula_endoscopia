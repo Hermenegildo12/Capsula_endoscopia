{
 "cells": [
  {
   "cell_type": "code",
   "execution_count": 1,
   "metadata": {},
   "outputs": [],
   "source": [
    "import pandas as pd\n",
    "import numpy as np\n",
    "import operator"
   ]
  },
  {
   "cell_type": "markdown",
   "metadata": {},
   "source": [
    "Importo la base de datos de los pacientes, recogida en SPSS y pasada posteriormente a documento csv. Para su analisis"
   ]
  },
  {
   "cell_type": "code",
   "execution_count": 2,
   "metadata": {},
   "outputs": [],
   "source": [
    "datos=pd.read_csv(\"Analisis_ano.csv\",sep=\";\")"
   ]
  },
  {
   "cell_type": "code",
   "execution_count": 3,
   "metadata": {},
   "outputs": [
    {
     "data": {
      "text/html": [
       "<div>\n",
       "<style scoped>\n",
       "    .dataframe tbody tr th:only-of-type {\n",
       "        vertical-align: middle;\n",
       "    }\n",
       "\n",
       "    .dataframe tbody tr th {\n",
       "        vertical-align: top;\n",
       "    }\n",
       "\n",
       "    .dataframe thead th {\n",
       "        text-align: right;\n",
       "    }\n",
       "</style>\n",
       "<table border=\"1\" class=\"dataframe\">\n",
       "  <thead>\n",
       "    <tr style=\"text-align: right;\">\n",
       "      <th></th>\n",
       "      <th>Médico</th>\n",
       "      <th>Tipo_cápsula</th>\n",
       "      <th>Fecha_procedimiento</th>\n",
       "      <th>ID</th>\n",
       "      <th>Sexo</th>\n",
       "      <th>Nacimiento</th>\n",
       "      <th>Edad</th>\n",
       "      <th>Cintura</th>\n",
       "      <th>IMC</th>\n",
       "      <th>Tiempo_estudio</th>\n",
       "      <th>...</th>\n",
       "      <th>Patency</th>\n",
       "      <th>No_aporta_previo</th>\n",
       "      <th>Eco_abdominal</th>\n",
       "      <th>Rx_abdomen</th>\n",
       "      <th>Entero_TAC</th>\n",
       "      <th>Entero_RM</th>\n",
       "      <th>Tránsito_intes</th>\n",
       "      <th>Endoscopia_previa</th>\n",
       "      <th>Intro_cápsula</th>\n",
       "      <th>Complicaciones</th>\n",
       "    </tr>\n",
       "  </thead>\n",
       "  <tbody>\n",
       "    <tr>\n",
       "      <th>0</th>\n",
       "      <td>1</td>\n",
       "      <td>1</td>\n",
       "      <td>5/14/2012</td>\n",
       "      <td>1</td>\n",
       "      <td>1</td>\n",
       "      <td>6/24/1925</td>\n",
       "      <td>86</td>\n",
       "      <td></td>\n",
       "      <td></td>\n",
       "      <td></td>\n",
       "      <td>...</td>\n",
       "      <td>0</td>\n",
       "      <td>1</td>\n",
       "      <td>0</td>\n",
       "      <td>0</td>\n",
       "      <td>0</td>\n",
       "      <td>0</td>\n",
       "      <td>0</td>\n",
       "      <td>0</td>\n",
       "      <td>0</td>\n",
       "      <td>0</td>\n",
       "    </tr>\n",
       "    <tr>\n",
       "      <th>1</th>\n",
       "      <td>1</td>\n",
       "      <td>1</td>\n",
       "      <td>9/5/2012</td>\n",
       "      <td>2</td>\n",
       "      <td>1</td>\n",
       "      <td>1/12/1953</td>\n",
       "      <td>59</td>\n",
       "      <td></td>\n",
       "      <td></td>\n",
       "      <td></td>\n",
       "      <td>...</td>\n",
       "      <td>0</td>\n",
       "      <td>1</td>\n",
       "      <td>0</td>\n",
       "      <td>0</td>\n",
       "      <td>0</td>\n",
       "      <td>0</td>\n",
       "      <td>0</td>\n",
       "      <td>0</td>\n",
       "      <td>0</td>\n",
       "      <td>0</td>\n",
       "    </tr>\n",
       "    <tr>\n",
       "      <th>2</th>\n",
       "      <td>1</td>\n",
       "      <td>1</td>\n",
       "      <td>10/17/2012</td>\n",
       "      <td>3</td>\n",
       "      <td>1</td>\n",
       "      <td>2/21/1951</td>\n",
       "      <td>61</td>\n",
       "      <td></td>\n",
       "      <td></td>\n",
       "      <td></td>\n",
       "      <td>...</td>\n",
       "      <td>0</td>\n",
       "      <td>1</td>\n",
       "      <td>0</td>\n",
       "      <td>0</td>\n",
       "      <td>0</td>\n",
       "      <td>0</td>\n",
       "      <td>0</td>\n",
       "      <td>0</td>\n",
       "      <td>0</td>\n",
       "      <td>0</td>\n",
       "    </tr>\n",
       "    <tr>\n",
       "      <th>3</th>\n",
       "      <td>1</td>\n",
       "      <td>1</td>\n",
       "      <td>12/14/2013</td>\n",
       "      <td>4</td>\n",
       "      <td>1</td>\n",
       "      <td>10/1/1950</td>\n",
       "      <td>63</td>\n",
       "      <td></td>\n",
       "      <td></td>\n",
       "      <td></td>\n",
       "      <td>...</td>\n",
       "      <td>0</td>\n",
       "      <td>1</td>\n",
       "      <td>0</td>\n",
       "      <td>0</td>\n",
       "      <td>0</td>\n",
       "      <td>0</td>\n",
       "      <td>0</td>\n",
       "      <td>0</td>\n",
       "      <td>0</td>\n",
       "      <td>0</td>\n",
       "    </tr>\n",
       "    <tr>\n",
       "      <th>4</th>\n",
       "      <td>1</td>\n",
       "      <td>1</td>\n",
       "      <td>10/25/2013</td>\n",
       "      <td>5</td>\n",
       "      <td>0</td>\n",
       "      <td>7/4/1935</td>\n",
       "      <td>78</td>\n",
       "      <td></td>\n",
       "      <td></td>\n",
       "      <td></td>\n",
       "      <td>...</td>\n",
       "      <td>0</td>\n",
       "      <td>1</td>\n",
       "      <td>0</td>\n",
       "      <td>0</td>\n",
       "      <td>0</td>\n",
       "      <td>0</td>\n",
       "      <td>0</td>\n",
       "      <td>2</td>\n",
       "      <td>0</td>\n",
       "      <td>0</td>\n",
       "    </tr>\n",
       "  </tbody>\n",
       "</table>\n",
       "<p>5 rows × 150 columns</p>\n",
       "</div>"
      ],
      "text/plain": [
       "   Médico  Tipo_cápsula Fecha_procedimiento  ID  Sexo Nacimiento Edad Cintura  \\\n",
       "0       1             1           5/14/2012   1     1  6/24/1925   86           \n",
       "1       1             1            9/5/2012   2     1  1/12/1953   59           \n",
       "2       1             1          10/17/2012   3     1  2/21/1951   61           \n",
       "3       1             1          12/14/2013   4     1  10/1/1950   63           \n",
       "4       1             1          10/25/2013   5     0   7/4/1935   78           \n",
       "\n",
       "  IMC Tiempo_estudio  ... Patency No_aporta_previo Eco_abdominal Rx_abdomen  \\\n",
       "0                     ...       0                1             0          0   \n",
       "1                     ...       0                1             0          0   \n",
       "2                     ...       0                1             0          0   \n",
       "3                     ...       0                1             0          0   \n",
       "4                     ...       0                1             0          0   \n",
       "\n",
       "  Entero_TAC  Entero_RM  Tránsito_intes  Endoscopia_previa  Intro_cápsula  \\\n",
       "0          0          0               0                  0              0   \n",
       "1          0          0               0                  0              0   \n",
       "2          0          0               0                  0              0   \n",
       "3          0          0               0                  0              0   \n",
       "4          0          0               0                  2              0   \n",
       "\n",
       "   Complicaciones  \n",
       "0               0  \n",
       "1               0  \n",
       "2               0  \n",
       "3               0  \n",
       "4               0  \n",
       "\n",
       "[5 rows x 150 columns]"
      ]
     },
     "execution_count": 3,
     "metadata": {},
     "output_type": "execute_result"
    }
   ],
   "source": [
    "datos.head()"
   ]
  },
  {
   "cell_type": "code",
   "execution_count": 4,
   "metadata": {},
   "outputs": [
    {
     "data": {
      "text/plain": [
       "(251, 150)"
      ]
     },
     "execution_count": 4,
     "metadata": {},
     "output_type": "execute_result"
    }
   ],
   "source": [
    "datos.shape"
   ]
  },
  {
   "cell_type": "code",
   "execution_count": 5,
   "metadata": {},
   "outputs": [
    {
     "data": {
      "text/plain": [
       "Médico                  int64\n",
       "Tipo_cápsula            int64\n",
       "Fecha_procedimiento    object\n",
       "ID                      int64\n",
       "Sexo                    int64\n",
       "                        ...  \n",
       "Entero_RM               int64\n",
       "Tránsito_intes          int64\n",
       "Endoscopia_previa      object\n",
       "Intro_cápsula           int64\n",
       "Complicaciones         object\n",
       "Length: 150, dtype: object"
      ]
     },
     "execution_count": 5,
     "metadata": {},
     "output_type": "execute_result"
    }
   ],
   "source": [
    "datos.dtypes[:]"
   ]
  },
  {
   "cell_type": "code",
   "execution_count": 6,
   "metadata": {},
   "outputs": [],
   "source": [
    "columnas=datos.columns"
   ]
  },
  {
   "cell_type": "code",
   "execution_count": 7,
   "metadata": {},
   "outputs": [
    {
     "name": "stdout",
     "output_type": "stream",
     "text": [
      "[]\n"
     ]
    }
   ],
   "source": [
    "incompletas=[]\n",
    "for e in columnas:\n",
    "    if datos[e].isnull().sum()>=1:\n",
    "        incompletas.append(e)\n",
    "print(incompletas)"
   ]
  },
  {
   "cell_type": "markdown",
   "metadata": {},
   "source": [
    "Como se ve no hay ninguna variable, con valores nulos en toda la base de datos"
   ]
  },
  {
   "cell_type": "code",
   "execution_count": 8,
   "metadata": {},
   "outputs": [
    {
     "data": {
      "text/plain": [
       "['Médico',\n",
       " 'Tipo_cápsula',\n",
       " 'Fecha_procedimiento',\n",
       " 'ID',\n",
       " 'Sexo',\n",
       " 'Nacimiento',\n",
       " 'Edad',\n",
       " 'Cintura',\n",
       " 'IMC',\n",
       " 'Tiempo_estudio',\n",
       " 'T_estómago',\n",
       " 'T_ID_total',\n",
       " 'T_colon_total',\n",
       " 'T_expulsión',\n",
       " 'Expulsa_cápsula',\n",
       " 'HDOO_oculta',\n",
       " 'HDOO_mani',\n",
       " 'Crohn',\n",
       " 'Alt_tránsito',\n",
       " 'Anemia',\n",
       " 'Dolor_abd',\n",
       " 'Estreñimiento',\n",
       " 'Diarrea',\n",
       " 'Vómitos',\n",
       " 'Pérdida_peso',\n",
       " 'EII',\n",
       " 'Colono_imcp',\n",
       " 'Cribado',\n",
       " 'Revisión',\n",
       " 'Otros_indica',\n",
       " 'Hernia_hiato_esof',\n",
       " 'RGE_esof',\n",
       " 'Trast_tránsito_esof',\n",
       " 'Erosiones_esof',\n",
       " 'Barret_esof',\n",
       " 'Esof_eosinofilica_esof',\n",
       " 'Estenosis_extr_esof',\n",
       " 'No_evaluable_esof',\n",
       " 'No_informado_esof',\n",
       " 'Normal_esof',\n",
       " 'Normal_estom',\n",
       " 'No_informado_estom',\n",
       " 'No_evaluable_estom',\n",
       " 'Hernia_hiato_estom',\n",
       " 'Trast_motilidad_estom',\n",
       " 'Erosiones_estom',\n",
       " 'Gastritis_estom',\n",
       " 'Pólipo_estom',\n",
       " 'Otros_estom',\n",
       " 'No_informado_del',\n",
       " 'No_evaluable_del',\n",
       " 'Normal_del',\n",
       " 'Hz_yeyuno',\n",
       " 'Yeyunitis',\n",
       " 'Erosiones_yey',\n",
       " 'Telangiectasias_yey',\n",
       " 'Linfagiectasias_yey',\n",
       " 'Pólipo_yey',\n",
       " 'Hz_íleon',\n",
       " 'Ileitis',\n",
       " 'Diverticulo_íleon',\n",
       " 'Erosiones_íleon',\n",
       " 'Pólipo_íleon',\n",
       " 'Erosiones_del',\n",
       " 'Diverticulo_del',\n",
       " 'Enteritis_del',\n",
       " 'Pólipo_del',\n",
       " 'Otros_del',\n",
       " 'No_informado_col',\n",
       " 'No_evaluable_col',\n",
       " 'Normal_col',\n",
       " 'Hemorroides',\n",
       " 'Diverticulo_col',\n",
       " 'Diverticulo_C_drch',\n",
       " 'Diverticulo_sig',\n",
       " 'Diverticulo_C_izq',\n",
       " 'Sigmoiditis',\n",
       " 'Proctitis',\n",
       " 'Erosiones_col',\n",
       " 'Angiodisplasia_col',\n",
       " 'Pólipo_col',\n",
       " 'Pólipo_C_drch',\n",
       " 'Pólipo_C_asce',\n",
       " 'Pólipo_C_trans',\n",
       " 'Pólipo_C_izq',\n",
       " 'Pólipo_C_desc',\n",
       " 'Pólipo_ciego',\n",
       " 'Pólipo_sig',\n",
       " 'Pólipo_recto',\n",
       " 'Dianocitos',\n",
       " 'Melanosis',\n",
       " 'Otras_col',\n",
       " 'Linea_Z',\n",
       " 'Ampolla_vater',\n",
       " 'Válvula_ileocecal',\n",
       " 'Orificio_apendicular',\n",
       " 'Flexura_hepática',\n",
       " 'Flexura_esplénica',\n",
       " 'Recto',\n",
       " 'Dieta',\n",
       " 'Limpieza_colon',\n",
       " 'Medicación_preparación',\n",
       " 'Refuerzo',\n",
       " 'Calidad_preparación',\n",
       " 'Burbujas',\n",
       " 'Modifica_tto',\n",
       " 'No_conocida_comor',\n",
       " 'No_presenta_comor',\n",
       " 'Oncologica',\n",
       " 'Enf_dig',\n",
       " 'Enf_dig_leve',\n",
       " 'Enf_CV',\n",
       " 'Enf_Rsp',\n",
       " 'Enf_endocrino',\n",
       " 'Enf_renal',\n",
       " 'Trast_psiq',\n",
       " 'Enf_neuro',\n",
       " 'QX_abdominal',\n",
       " 'Otras_QX',\n",
       " 'Enf_trauma',\n",
       " 'DM',\n",
       " 'Otras_comor',\n",
       " 'Obesidad',\n",
       " 'No_toma_med',\n",
       " 'No_conocido_med',\n",
       " 'Laxantes',\n",
       " 'Antidiabético',\n",
       " 'AINE',\n",
       " 'Antiagregante',\n",
       " 'Anticoagulante',\n",
       " 'Benzodiacepina',\n",
       " 'ARAII',\n",
       " 'IBP',\n",
       " 'Inmunosupresores',\n",
       " 'Diurético',\n",
       " 'Antiemético',\n",
       " 'Vitaminas',\n",
       " 'Antimicrobiano',\n",
       " 'Otros_med',\n",
       " 'Cirugía_previa',\n",
       " 'Patency',\n",
       " 'No_aporta_previo',\n",
       " 'Eco_abdominal',\n",
       " 'Rx_abdomen',\n",
       " 'Entero_TAC',\n",
       " 'Entero_RM',\n",
       " 'Tránsito_intes',\n",
       " 'Endoscopia_previa',\n",
       " 'Intro_cápsula',\n",
       " 'Complicaciones']"
      ]
     },
     "execution_count": 8,
     "metadata": {},
     "output_type": "execute_result"
    }
   ],
   "source": [
    "columnas=datos.columns\n",
    "columnas.tolist()"
   ]
  },
  {
   "cell_type": "code",
   "execution_count": 9,
   "metadata": {},
   "outputs": [],
   "source": [
    "#Borro la variable Dianoscitos porque sería un hallazgo compatible con la normalidad.\n",
    "datos.drop(columns=['Dianocitos'],axis=0, inplace=True)"
   ]
  },
  {
   "cell_type": "markdown",
   "metadata": {},
   "source": [
    "Uno en una única variable las hernias de hiato de esófago y estomago. Al ser el mismo diagnostico, simplemente puesto\n",
    "en esófago o estomago según el momento de la cápsula en el que se diagnosticaba. Quedando unificada en la variable \"Hernia_hiato_total\""
   ]
  },
  {
   "cell_type": "code",
   "execution_count": 10,
   "metadata": {},
   "outputs": [],
   "source": [
    "def hernia(fila):\n",
    "    a='Hernia_hiato_esof'\n",
    "    b='Hernia_hiato_estom'\n",
    "    if fila[a]==fila[b]:\n",
    "        return fila[a]\n",
    "    elif fila[a]<fila[b]:\n",
    "        return fila[b]\n",
    "    else:\n",
    "        return fila[a]"
   ]
  },
  {
   "cell_type": "code",
   "execution_count": 11,
   "metadata": {},
   "outputs": [],
   "source": [
    "datos[\"Hernia_hiato_total\"]=datos.apply(lambda fila: hernia(fila),axis=1)"
   ]
  },
  {
   "cell_type": "markdown",
   "metadata": {},
   "source": [
    "Compruebo que la reoorganización se ha realizado correctamente"
   ]
  },
  {
   "cell_type": "code",
   "execution_count": 12,
   "metadata": {},
   "outputs": [
    {
     "data": {
      "text/plain": [
       "(     Hernia_hiato_esof  Hernia_hiato_estom  Hernia_hiato_total\n",
       " 0                    0                   0                   0\n",
       " 150                  0                   0                   0\n",
       " 151                  0                   0                   0\n",
       " 152                  0                   0                   0\n",
       " 153                  0                   0                   0\n",
       " ..                 ...                 ...                 ...\n",
       " 84                   0                   1                   1\n",
       " 212                  0                   1                   1\n",
       " 210                  1                   0                   1\n",
       " 188                  0                   1                   1\n",
       " 125                  1                   0                   1\n",
       " \n",
       " [251 rows x 3 columns],)"
      ]
     },
     "execution_count": 12,
     "metadata": {},
     "output_type": "execute_result"
    }
   ],
   "source": [
    "comp=datos[['Hernia_hiato_esof','Hernia_hiato_estom',\"Hernia_hiato_total\"]].sort_values(by=\"Hernia_hiato_total\"),\n",
    "ascending=True\n",
    "comp"
   ]
  },
  {
   "cell_type": "markdown",
   "metadata": {},
   "source": [
    "Tras asegurarme, elimino las dos variables sobrantes"
   ]
  },
  {
   "cell_type": "code",
   "execution_count": 13,
   "metadata": {},
   "outputs": [],
   "source": [
    "datos.drop(columns=['Hernia_hiato_esof','Hernia_hiato_estom'],axis=0, inplace=True)"
   ]
  },
  {
   "cell_type": "code",
   "execution_count": null,
   "metadata": {},
   "outputs": [],
   "source": []
  },
  {
   "cell_type": "markdown",
   "metadata": {},
   "source": [
    "# 1) Porcentaje de pacientes que vinieron con síntomas de dolor abdominal y tuvieron hallazgos en la cápsula. Diferenciando entre el centro en el que fue realizada la prueba."
   ]
  },
  {
   "cell_type": "markdown",
   "metadata": {},
   "source": [
    "Para ello, agrupo primero todas las varibles que representan hallazgos en la cápsula endoscopica. Los agrupo en dos \n",
    "tipos:\n",
    "- Hallazgos que permiten tratamiento sin la necesidad de pruebas complementarias\n",
    "- Hallazgos que harían necesaria la realización de pruebas complementaris para el diagnostico completo."
   ]
  },
  {
   "cell_type": "code",
   "execution_count": 14,
   "metadata": {},
   "outputs": [],
   "source": [
    "hz_Tta=[\"Hernia_hiato_total\",\n",
    " 'RGE_esof',\n",
    " 'Erosiones_esof',\n",
    " 'Erosiones_estom',\n",
    " 'Pólipo_estom',\n",
    " 'Telangiectasias_yey',\n",
    " 'Linfagiectasias_yey',\n",
    " 'Pólipo_yey',\n",
    " 'Diverticulo_íleon',\n",
    "'Erosiones_del',\n",
    " 'Diverticulo_del',\n",
    " 'Enteritis_del',\n",
    " 'Pólipo_del',\n",
    " 'Otros_del',\n",
    " 'Hemorroides',\n",
    " 'Diverticulo_col',\n",
    " 'Diverticulo_C_drch',\n",
    " 'Diverticulo_sig',\n",
    " 'Diverticulo_C_izq',\n",
    " 'Sigmoiditis',\n",
    " 'Proctitis',\n",
    " 'Angiodisplasia_col',\n",
    " 'Pólipo_col',\n",
    " 'Pólipo_C_drch',\n",
    " 'Pólipo_C_asce',\n",
    " 'Pólipo_C_trans',\n",
    " 'Pólipo_C_izq',\n",
    " 'Pólipo_C_desc',\n",
    " 'Pólipo_ciego',\n",
    " 'Pólipo_sig',\n",
    " 'Pólipo_recto',\n",
    " 'Melanosis',\n",
    " 'Otras_col']"
   ]
  },
  {
   "cell_type": "code",
   "execution_count": 15,
   "metadata": {},
   "outputs": [],
   "source": [
    "hz_prueba=['Trast_tránsito_esof',  'Barret_esof',  'Esof_eosinofilica_esof',  'Estenosis_extr_esof',  \n",
    "           'Trast_motilidad_estom','Gastritis_estom',  'Yeyunitis',  'Erosiones_yey',  'Ileitis', \n",
    "           'Erosiones_íleon',  'Pólipo_íleon',  'Erosiones_col', 'Otros_estom',]"
   ]
  },
  {
   "cell_type": "markdown",
   "metadata": {},
   "source": [
    "En cuanto a las variables otros hallazgos de estómago, delgado y colon decido incluirlas en hz_Tta porque en su\n",
    "mayoria son de este tipo, aunque según resultados posteriores decidire si sacarlas, en base a posibles alteraciones \n",
    "en el analisis final."
   ]
  },
  {
   "cell_type": "code",
   "execution_count": 16,
   "metadata": {},
   "outputs": [],
   "source": [
    "cidma_dolor = datos[(datos['Médico']==0) & \n",
    "                (datos['Dolor_abd']==1)]"
   ]
  },
  {
   "cell_type": "code",
   "execution_count": 17,
   "metadata": {},
   "outputs": [
    {
     "data": {
      "text/plain": [
       "(53, 148)"
      ]
     },
     "execution_count": 17,
     "metadata": {},
     "output_type": "execute_result"
    }
   ],
   "source": [
    "#Número de pacientes con dolor abdominal del centro CIDMA\n",
    "cidma_dolor.shape "
   ]
  },
  {
   "cell_type": "code",
   "execution_count": 18,
   "metadata": {},
   "outputs": [
    {
     "name": "stderr",
     "output_type": "stream",
     "text": [
      "/usr/local/Cellar/ipython/7.7.0/libexec/vendor/lib/python3.7/site-packages/ipykernel_launcher.py:1: SettingWithCopyWarning: \n",
      "A value is trying to be set on a copy of a slice from a DataFrame.\n",
      "Try using .loc[row_indexer,col_indexer] = value instead\n",
      "\n",
      "See the caveats in the documentation: http://pandas.pydata.org/pandas-docs/stable/user_guide/indexing.html#returning-a-view-versus-a-copy\n",
      "  \"\"\"Entry point for launching an IPython kernel.\n"
     ]
    }
   ],
   "source": [
    "cidma_dolor[\"Hz_Tta\"] = cidma_dolor[hz_Tta].sum(axis=1)"
   ]
  },
  {
   "cell_type": "code",
   "execution_count": 19,
   "metadata": {},
   "outputs": [
    {
     "data": {
      "text/plain": [
       "39"
      ]
     },
     "execution_count": 19,
     "metadata": {},
     "output_type": "execute_result"
    }
   ],
   "source": [
    "#Número de pacientes con hallazgos para futuras terapías\n",
    "len(cidma_dolor[cidma_dolor[\"Hz_Tta\"]>=1])"
   ]
  },
  {
   "cell_type": "code",
   "execution_count": 20,
   "metadata": {},
   "outputs": [
    {
     "name": "stderr",
     "output_type": "stream",
     "text": [
      "/usr/local/Cellar/ipython/7.7.0/libexec/vendor/lib/python3.7/site-packages/ipykernel_launcher.py:1: SettingWithCopyWarning: \n",
      "A value is trying to be set on a copy of a slice from a DataFrame.\n",
      "Try using .loc[row_indexer,col_indexer] = value instead\n",
      "\n",
      "See the caveats in the documentation: http://pandas.pydata.org/pandas-docs/stable/user_guide/indexing.html#returning-a-view-versus-a-copy\n",
      "  \"\"\"Entry point for launching an IPython kernel.\n"
     ]
    }
   ],
   "source": [
    "cidma_dolor[\"Hz_Prueba\"] = cidma_dolor[hz_prueba].sum(axis=1) "
   ]
  },
  {
   "cell_type": "code",
   "execution_count": 21,
   "metadata": {},
   "outputs": [
    {
     "data": {
      "text/plain": [
       "33"
      ]
     },
     "execution_count": 21,
     "metadata": {},
     "output_type": "execute_result"
    }
   ],
   "source": [
    "#Número de pacientes con hallazgos para futuros estudios\n",
    "len(cidma_dolor[cidma_dolor[\"Hz_Prueba\"]>=1]) "
   ]
  },
  {
   "cell_type": "code",
   "execution_count": 22,
   "metadata": {},
   "outputs": [
    {
     "data": {
      "text/plain": [
       "6"
      ]
     },
     "execution_count": 22,
     "metadata": {},
     "output_type": "execute_result"
    }
   ],
   "source": [
    "#Número de pacientes con hallazgos compatibles con la normalidad\n",
    "pct_normal=cidma_dolor[(cidma_dolor[\"Hz_Tta\"]==0)&\n",
    "(cidma_dolor[\"Hz_Prueba\"]==0)]                     \n",
    "len(pct_normal)"
   ]
  },
  {
   "cell_type": "code",
   "execution_count": 23,
   "metadata": {},
   "outputs": [],
   "source": [
    "no_evaluable=['No_evaluable_esof','No_evaluable_estom','No_evaluable_del','No_evaluable_col']"
   ]
  },
  {
   "cell_type": "code",
   "execution_count": 24,
   "metadata": {},
   "outputs": [
    {
     "data": {
      "text/plain": [
       "11"
      ]
     },
     "execution_count": 24,
     "metadata": {},
     "output_type": "execute_result"
    }
   ],
   "source": [
    "#Número de pacientes con zonas del tracto GI sin posible evaluación\n",
    "no_eva=[]\n",
    "for e in no_evaluable:\n",
    "    no_eva=cidma_dolor[cidma_dolor[e].isin([1])] \n",
    "len(no_eva)"
   ]
  },
  {
   "cell_type": "code",
   "execution_count": 25,
   "metadata": {},
   "outputs": [
    {
     "name": "stdout",
     "output_type": "stream",
     "text": [
      "154\n"
     ]
    }
   ],
   "source": [
    "for e in no_eva.index:\n",
    "    for i in pct_normal.index:\n",
    "        if e==i:\n",
    "            print(e)"
   ]
  },
  {
   "cell_type": "code",
   "execution_count": 26,
   "metadata": {},
   "outputs": [
    {
     "data": {
      "text/plain": [
       "No_evaluable_esof     0\n",
       "No_evaluable_estom    0\n",
       "No_evaluable_del      0\n",
       "No_evaluable_col      1\n",
       "Name: 154, dtype: int64"
      ]
     },
     "execution_count": 26,
     "metadata": {},
     "output_type": "execute_result"
    }
   ],
   "source": [
    "no_eva[no_evaluable].loc[154]"
   ]
  },
  {
   "cell_type": "markdown",
   "metadata": {},
   "source": [
    "El paciente 154 sería el único paciente sin hallazgos patológicos y con alguna zona del tracto digestivo sin poder evaluar (Colon). En cuanto al resto de pacientes con zonas no evaluables, destacar la zona colónica como la principal área no evaluada."
   ]
  },
  {
   "cell_type": "markdown",
   "metadata": {},
   "source": [
    "Ahora veré cuales son los pricipales hallazgos de dichos pacientes.\n",
    "En primer lugar los hallazgos para tratamiento"
   ]
  },
  {
   "cell_type": "code",
   "execution_count": 27,
   "metadata": {},
   "outputs": [],
   "source": [
    "dic={}\n",
    "for e in hz_Tta:\n",
    "    b=cidma_dolor[e].value_counts()\n",
    "    dic[e]=b\n",
    "    "
   ]
  },
  {
   "cell_type": "code",
   "execution_count": 28,
   "metadata": {},
   "outputs": [
    {
     "data": {
      "text/plain": [
       "0    39\n",
       "1    14\n",
       "Name: Hernia_hiato_total, dtype: int64"
      ]
     },
     "execution_count": 28,
     "metadata": {},
     "output_type": "execute_result"
    }
   ],
   "source": [
    "cidma_dolor[\"Hernia_hiato_total\"].value_counts()"
   ]
  },
  {
   "cell_type": "code",
   "execution_count": 32,
   "metadata": {},
   "outputs": [],
   "source": [
    "#Creo una serie con los valores de esta variable porque no introduje los 0 a la hora de creearla y da problemas\n",
    "#al tratarla como un diccionario\n",
    "dic[\"Hernia_hiato_total\"]=pd.Series([29,14],index=[0,1]) \n"
   ]
  },
  {
   "cell_type": "code",
   "execution_count": 30,
   "metadata": {},
   "outputs": [],
   "source": [
    "hz_Tta_frec={}\n",
    "for e in hz_Tta:\n",
    "    if len(dic[e])>1:\n",
    "        hz_Tta_frec[e]=dic[e][1]"
   ]
  },
  {
   "cell_type": "code",
   "execution_count": 31,
   "metadata": {},
   "outputs": [
    {
     "data": {
      "text/plain": [
       "[('Diverticulo_col', 16),\n",
       " ('Hernia_hiato_total', 14),\n",
       " ('Hemorroides', 14),\n",
       " ('RGE_esof', 9),\n",
       " ('Otras_col', 8),\n",
       " ('Diverticulo_C_izq', 7),\n",
       " ('Diverticulo_sig', 6),\n",
       " ('Erosiones_estom', 5),\n",
       " ('Pólipo_estom', 5),\n",
       " ('Pólipo_col', 5),\n",
       " ('Otros_del', 4),\n",
       " ('Diverticulo_C_drch', 4),\n",
       " ('Linfagiectasias_yey', 3),\n",
       " ('Erosiones_del', 3),\n",
       " ('Enteritis_del', 3),\n",
       " ('Melanosis', 3),\n",
       " ('Angiodisplasia_col', 2),\n",
       " ('Erosiones_esof', 1),\n",
       " ('Diverticulo_íleon', 1),\n",
       " ('Pólipo_C_drch', 1),\n",
       " ('Pólipo_C_izq', 1),\n",
       " ('Pólipo_ciego', 1),\n",
       " ('Pólipo_sig', 1),\n",
       " ('Pólipo_recto', 1)]"
      ]
     },
     "execution_count": 31,
     "metadata": {},
     "output_type": "execute_result"
    }
   ],
   "source": [
    "sorted(hz_Tta_frec.items(), key=operator.itemgetter(1),reverse=True)"
   ]
  },
  {
   "cell_type": "markdown",
   "metadata": {},
   "source": [
    "Como se observa los tres hallazgos principales son:\n",
    "- Diverticulos en colon\n",
    "- Hernia de hiato\n",
    "- Hemorroides"
   ]
  },
  {
   "cell_type": "markdown",
   "metadata": {},
   "source": [
    "En cuanto a los hallazgos para completar estudio"
   ]
  },
  {
   "cell_type": "code",
   "execution_count": 33,
   "metadata": {},
   "outputs": [],
   "source": [
    "dic={}\n",
    "for e in hz_prueba:\n",
    "    b=cidma_dolor[e].value_counts()\n",
    "    dic[e]=b\n",
    "    \n",
    "hz_prueba_frec={}\n",
    "for e in hz_prueba:\n",
    "    if len(dic[e])>1:\n",
    "        hz_prueba_frec[e]=dic[e][1]"
   ]
  },
  {
   "cell_type": "code",
   "execution_count": 34,
   "metadata": {},
   "outputs": [
    {
     "data": {
      "text/plain": [
       "[('Gastritis_estom', 15),\n",
       " ('Yeyunitis', 5),\n",
       " ('Trast_tránsito_esof', 3),\n",
       " ('Erosiones_col', 3),\n",
       " ('Otros_estom', 3),\n",
       " ('Trast_motilidad_estom', 2),\n",
       " ('Erosiones_yey', 2),\n",
       " ('Ileitis', 2),\n",
       " ('Erosiones_íleon', 2),\n",
       " ('Barret_esof', 1),\n",
       " ('Esof_eosinofilica_esof', 1),\n",
       " ('Pólipo_íleon', 1)]"
      ]
     },
     "execution_count": 34,
     "metadata": {},
     "output_type": "execute_result"
    }
   ],
   "source": [
    "sorted(hz_prueba_frec.items(), key=operator.itemgetter(1),reverse=True)"
   ]
  },
  {
   "cell_type": "markdown",
   "metadata": {},
   "source": [
    "Principales hallazgos que necesitaran nuevas pruebas, destacan:\n",
    "- Gastritis (Este triplica la frecuencia del segundo)\n",
    "- Yeyunitis\n",
    "- Trastornos del tránsito esofágico"
   ]
  },
  {
   "cell_type": "markdown",
   "metadata": {},
   "source": [
    "Ahora analizaré las mismas variables en el hospital Italiano"
   ]
  },
  {
   "cell_type": "code",
   "execution_count": 35,
   "metadata": {},
   "outputs": [],
   "source": [
    "uruguay_dolor = datos[(datos['Médico']==1) & \n",
    "                (datos['Dolor_abd']==1)]"
   ]
  },
  {
   "cell_type": "code",
   "execution_count": 36,
   "metadata": {},
   "outputs": [
    {
     "data": {
      "text/plain": [
       "8"
      ]
     },
     "execution_count": 36,
     "metadata": {},
     "output_type": "execute_result"
    }
   ],
   "source": [
    "#Número de pacientes con dolor abdominal en el hospital Italiano\n",
    "len(uruguay_dolor[\"Médico\"])"
   ]
  },
  {
   "cell_type": "code",
   "execution_count": 43,
   "metadata": {
    "scrolled": true
   },
   "outputs": [
    {
     "data": {
      "text/html": [
       "<div>\n",
       "<style scoped>\n",
       "    .dataframe tbody tr th:only-of-type {\n",
       "        vertical-align: middle;\n",
       "    }\n",
       "\n",
       "    .dataframe tbody tr th {\n",
       "        vertical-align: top;\n",
       "    }\n",
       "\n",
       "    .dataframe thead th {\n",
       "        text-align: right;\n",
       "    }\n",
       "</style>\n",
       "<table border=\"1\" class=\"dataframe\">\n",
       "  <thead>\n",
       "    <tr style=\"text-align: right;\">\n",
       "      <th></th>\n",
       "      <th>Hernia_hiato_total</th>\n",
       "      <th>RGE_esof</th>\n",
       "      <th>Erosiones_esof</th>\n",
       "      <th>Erosiones_estom</th>\n",
       "      <th>Pólipo_estom</th>\n",
       "      <th>Telangiectasias_yey</th>\n",
       "      <th>Linfagiectasias_yey</th>\n",
       "      <th>Pólipo_yey</th>\n",
       "      <th>Diverticulo_íleon</th>\n",
       "      <th>Erosiones_del</th>\n",
       "      <th>Diverticulo_del</th>\n",
       "      <th>Enteritis_del</th>\n",
       "      <th>Pólipo_del</th>\n",
       "      <th>Otros_del</th>\n",
       "      <th>Hemorroides</th>\n",
       "      <th>Diverticulo_col</th>\n",
       "      <th>Diverticulo_C_drch</th>\n",
       "      <th>Diverticulo_sig</th>\n",
       "      <th>Diverticulo_C_izq</th>\n",
       "      <th>Sigmoiditis</th>\n",
       "    </tr>\n",
       "  </thead>\n",
       "  <tbody>\n",
       "    <tr>\n",
       "      <th>45</th>\n",
       "      <td>0</td>\n",
       "      <td>0</td>\n",
       "      <td>0</td>\n",
       "      <td>0</td>\n",
       "      <td>0</td>\n",
       "      <td>0</td>\n",
       "      <td>0</td>\n",
       "      <td>0</td>\n",
       "      <td>0</td>\n",
       "      <td>0</td>\n",
       "      <td>0</td>\n",
       "      <td>0</td>\n",
       "      <td>0</td>\n",
       "      <td>0</td>\n",
       "      <td>0</td>\n",
       "      <td>0</td>\n",
       "      <td>0</td>\n",
       "      <td>0</td>\n",
       "      <td>0</td>\n",
       "      <td>0</td>\n",
       "    </tr>\n",
       "    <tr>\n",
       "      <th>65</th>\n",
       "      <td>0</td>\n",
       "      <td>0</td>\n",
       "      <td>0</td>\n",
       "      <td>0</td>\n",
       "      <td>0</td>\n",
       "      <td>0</td>\n",
       "      <td>0</td>\n",
       "      <td>0</td>\n",
       "      <td>0</td>\n",
       "      <td>0</td>\n",
       "      <td>0</td>\n",
       "      <td>0</td>\n",
       "      <td>0</td>\n",
       "      <td>0</td>\n",
       "      <td>0</td>\n",
       "      <td>0</td>\n",
       "      <td>0</td>\n",
       "      <td>0</td>\n",
       "      <td>0</td>\n",
       "      <td>0</td>\n",
       "    </tr>\n",
       "    <tr>\n",
       "      <th>66</th>\n",
       "      <td>0</td>\n",
       "      <td>0</td>\n",
       "      <td>0</td>\n",
       "      <td>0</td>\n",
       "      <td>0</td>\n",
       "      <td>0</td>\n",
       "      <td>0</td>\n",
       "      <td>0</td>\n",
       "      <td>0</td>\n",
       "      <td>0</td>\n",
       "      <td>0</td>\n",
       "      <td>0</td>\n",
       "      <td>0</td>\n",
       "      <td>0</td>\n",
       "      <td>0</td>\n",
       "      <td>0</td>\n",
       "      <td>0</td>\n",
       "      <td>0</td>\n",
       "      <td>0</td>\n",
       "      <td>1</td>\n",
       "    </tr>\n",
       "    <tr>\n",
       "      <th>99</th>\n",
       "      <td>0</td>\n",
       "      <td>0</td>\n",
       "      <td>0</td>\n",
       "      <td>0</td>\n",
       "      <td>0</td>\n",
       "      <td>0</td>\n",
       "      <td>0</td>\n",
       "      <td>0</td>\n",
       "      <td>0</td>\n",
       "      <td>0</td>\n",
       "      <td>0</td>\n",
       "      <td>0</td>\n",
       "      <td>0</td>\n",
       "      <td>0</td>\n",
       "      <td>0</td>\n",
       "      <td>0</td>\n",
       "      <td>0</td>\n",
       "      <td>0</td>\n",
       "      <td>0</td>\n",
       "      <td>0</td>\n",
       "    </tr>\n",
       "    <tr>\n",
       "      <th>152</th>\n",
       "      <td>0</td>\n",
       "      <td>0</td>\n",
       "      <td>0</td>\n",
       "      <td>0</td>\n",
       "      <td>0</td>\n",
       "      <td>0</td>\n",
       "      <td>0</td>\n",
       "      <td>0</td>\n",
       "      <td>0</td>\n",
       "      <td>0</td>\n",
       "      <td>0</td>\n",
       "      <td>0</td>\n",
       "      <td>0</td>\n",
       "      <td>0</td>\n",
       "      <td>0</td>\n",
       "      <td>0</td>\n",
       "      <td>0</td>\n",
       "      <td>0</td>\n",
       "      <td>0</td>\n",
       "      <td>1</td>\n",
       "    </tr>\n",
       "    <tr>\n",
       "      <th>164</th>\n",
       "      <td>0</td>\n",
       "      <td>0</td>\n",
       "      <td>0</td>\n",
       "      <td>0</td>\n",
       "      <td>0</td>\n",
       "      <td>0</td>\n",
       "      <td>0</td>\n",
       "      <td>0</td>\n",
       "      <td>0</td>\n",
       "      <td>0</td>\n",
       "      <td>0</td>\n",
       "      <td>0</td>\n",
       "      <td>0</td>\n",
       "      <td>0</td>\n",
       "      <td>0</td>\n",
       "      <td>0</td>\n",
       "      <td>0</td>\n",
       "      <td>0</td>\n",
       "      <td>0</td>\n",
       "      <td>0</td>\n",
       "    </tr>\n",
       "    <tr>\n",
       "      <th>173</th>\n",
       "      <td>0</td>\n",
       "      <td>0</td>\n",
       "      <td>0</td>\n",
       "      <td>0</td>\n",
       "      <td>0</td>\n",
       "      <td>0</td>\n",
       "      <td>0</td>\n",
       "      <td>0</td>\n",
       "      <td>0</td>\n",
       "      <td>0</td>\n",
       "      <td>0</td>\n",
       "      <td>0</td>\n",
       "      <td>0</td>\n",
       "      <td>0</td>\n",
       "      <td>0</td>\n",
       "      <td>0</td>\n",
       "      <td>0</td>\n",
       "      <td>0</td>\n",
       "      <td>0</td>\n",
       "      <td>0</td>\n",
       "    </tr>\n",
       "    <tr>\n",
       "      <th>250</th>\n",
       "      <td>0</td>\n",
       "      <td>0</td>\n",
       "      <td>0</td>\n",
       "      <td>0</td>\n",
       "      <td>0</td>\n",
       "      <td>0</td>\n",
       "      <td>0</td>\n",
       "      <td>0</td>\n",
       "      <td>0</td>\n",
       "      <td>0</td>\n",
       "      <td>0</td>\n",
       "      <td>0</td>\n",
       "      <td>0</td>\n",
       "      <td>0</td>\n",
       "      <td>0</td>\n",
       "      <td>1</td>\n",
       "      <td>0</td>\n",
       "      <td>1</td>\n",
       "      <td>0</td>\n",
       "      <td>0</td>\n",
       "    </tr>\n",
       "  </tbody>\n",
       "</table>\n",
       "</div>"
      ],
      "text/plain": [
       "     Hernia_hiato_total  RGE_esof  Erosiones_esof  Erosiones_estom  \\\n",
       "45                    0         0               0                0   \n",
       "65                    0         0               0                0   \n",
       "66                    0         0               0                0   \n",
       "99                    0         0               0                0   \n",
       "152                   0         0               0                0   \n",
       "164                   0         0               0                0   \n",
       "173                   0         0               0                0   \n",
       "250                   0         0               0                0   \n",
       "\n",
       "     Pólipo_estom  Telangiectasias_yey  Linfagiectasias_yey  Pólipo_yey  \\\n",
       "45              0                    0                    0           0   \n",
       "65              0                    0                    0           0   \n",
       "66              0                    0                    0           0   \n",
       "99              0                    0                    0           0   \n",
       "152             0                    0                    0           0   \n",
       "164             0                    0                    0           0   \n",
       "173             0                    0                    0           0   \n",
       "250             0                    0                    0           0   \n",
       "\n",
       "     Diverticulo_íleon  Erosiones_del  Diverticulo_del  Enteritis_del  \\\n",
       "45                   0              0                0              0   \n",
       "65                   0              0                0              0   \n",
       "66                   0              0                0              0   \n",
       "99                   0              0                0              0   \n",
       "152                  0              0                0              0   \n",
       "164                  0              0                0              0   \n",
       "173                  0              0                0              0   \n",
       "250                  0              0                0              0   \n",
       "\n",
       "     Pólipo_del  Otros_del  Hemorroides  Diverticulo_col  Diverticulo_C_drch  \\\n",
       "45            0          0            0                0                   0   \n",
       "65            0          0            0                0                   0   \n",
       "66            0          0            0                0                   0   \n",
       "99            0          0            0                0                   0   \n",
       "152           0          0            0                0                   0   \n",
       "164           0          0            0                0                   0   \n",
       "173           0          0            0                0                   0   \n",
       "250           0          0            0                1                   0   \n",
       "\n",
       "    Diverticulo_sig  Diverticulo_C_izq  Sigmoiditis  \n",
       "45                0                  0            0  \n",
       "65                0                  0            0  \n",
       "66                0                  0            1  \n",
       "99                0                  0            0  \n",
       "152               0                  0            1  \n",
       "164               0                  0            0  \n",
       "173               0                  0            0  \n",
       "250               1                  0            0  "
      ]
     },
     "execution_count": 43,
     "metadata": {},
     "output_type": "execute_result"
    }
   ],
   "source": [
    "uruguay_dolor[hz_Tta].iloc[:,:20]"
   ]
  },
  {
   "cell_type": "code",
   "execution_count": 44,
   "metadata": {},
   "outputs": [
    {
     "name": "stderr",
     "output_type": "stream",
     "text": [
      "/usr/local/Cellar/ipython/7.7.0/libexec/vendor/lib/python3.7/site-packages/ipykernel_launcher.py:1: SettingWithCopyWarning: \n",
      "A value is trying to be set on a copy of a slice from a DataFrame.\n",
      "Try using .loc[row_indexer,col_indexer] = value instead\n",
      "\n",
      "See the caveats in the documentation: http://pandas.pydata.org/pandas-docs/stable/user_guide/indexing.html#returning-a-view-versus-a-copy\n",
      "  \"\"\"Entry point for launching an IPython kernel.\n"
     ]
    }
   ],
   "source": [
    "uruguay_dolor[\"Hz_Tta\"] = uruguay_dolor[hz_Tta].sum(axis=1)"
   ]
  },
  {
   "cell_type": "code",
   "execution_count": 46,
   "metadata": {},
   "outputs": [
    {
     "data": {
      "text/plain": [
       "5"
      ]
     },
     "execution_count": 46,
     "metadata": {},
     "output_type": "execute_result"
    }
   ],
   "source": [
    "#Número de pacientes con hallazgos para futuras terapías\n",
    "len(uruguay_dolor[uruguay_dolor[\"Hz_Tta\"]>=1])"
   ]
  },
  {
   "cell_type": "code",
   "execution_count": 48,
   "metadata": {},
   "outputs": [
    {
     "name": "stderr",
     "output_type": "stream",
     "text": [
      "/usr/local/Cellar/ipython/7.7.0/libexec/vendor/lib/python3.7/site-packages/ipykernel_launcher.py:1: SettingWithCopyWarning: \n",
      "A value is trying to be set on a copy of a slice from a DataFrame.\n",
      "Try using .loc[row_indexer,col_indexer] = value instead\n",
      "\n",
      "See the caveats in the documentation: http://pandas.pydata.org/pandas-docs/stable/user_guide/indexing.html#returning-a-view-versus-a-copy\n",
      "  \"\"\"Entry point for launching an IPython kernel.\n"
     ]
    }
   ],
   "source": [
    "uruguay_dolor[\"Hz_Prueba\"] = uruguay_dolor[hz_prueba].sum(axis=1)"
   ]
  },
  {
   "cell_type": "code",
   "execution_count": 49,
   "metadata": {},
   "outputs": [
    {
     "data": {
      "text/plain": [
       "3"
      ]
     },
     "execution_count": 49,
     "metadata": {},
     "output_type": "execute_result"
    }
   ],
   "source": [
    "#Número de pacientes con hallazgos para estudios complementarios\n",
    "len(uruguay_dolor[uruguay_dolor[\"Hz_Prueba\"]>=1])"
   ]
  },
  {
   "cell_type": "code",
   "execution_count": 50,
   "metadata": {},
   "outputs": [
    {
     "data": {
      "text/plain": [
       "3"
      ]
     },
     "execution_count": 50,
     "metadata": {},
     "output_type": "execute_result"
    }
   ],
   "source": [
    "#Número de pacientes con hallazgos compatibles con la normalidad\n",
    "pct_normal_uru=uruguay_dolor[(uruguay_dolor[\"Hz_Tta\"]==0)&\n",
    "(uruguay_dolor[\"Hz_Prueba\"]==0)]                    \n",
    "len(pct_normal_uru)"
   ]
  },
  {
   "cell_type": "code",
   "execution_count": 80,
   "metadata": {
    "scrolled": true
   },
   "outputs": [
    {
     "data": {
      "text/html": [
       "<div>\n",
       "<style scoped>\n",
       "    .dataframe tbody tr th:only-of-type {\n",
       "        vertical-align: middle;\n",
       "    }\n",
       "\n",
       "    .dataframe tbody tr th {\n",
       "        vertical-align: top;\n",
       "    }\n",
       "\n",
       "    .dataframe thead th {\n",
       "        text-align: right;\n",
       "    }\n",
       "</style>\n",
       "<table border=\"1\" class=\"dataframe\">\n",
       "  <thead>\n",
       "    <tr style=\"text-align: right;\">\n",
       "      <th></th>\n",
       "      <th>No_evaluable_esof</th>\n",
       "      <th>No_evaluable_estom</th>\n",
       "      <th>No_evaluable_del</th>\n",
       "      <th>No_evaluable_col</th>\n",
       "    </tr>\n",
       "  </thead>\n",
       "  <tbody>\n",
       "    <tr>\n",
       "      <th>45</th>\n",
       "      <td>0</td>\n",
       "      <td>0</td>\n",
       "      <td>0</td>\n",
       "      <td>0</td>\n",
       "    </tr>\n",
       "    <tr>\n",
       "      <th>65</th>\n",
       "      <td>1</td>\n",
       "      <td>1</td>\n",
       "      <td>0</td>\n",
       "      <td>0</td>\n",
       "    </tr>\n",
       "    <tr>\n",
       "      <th>66</th>\n",
       "      <td>0</td>\n",
       "      <td>0</td>\n",
       "      <td>0</td>\n",
       "      <td>0</td>\n",
       "    </tr>\n",
       "    <tr>\n",
       "      <th>99</th>\n",
       "      <td>0</td>\n",
       "      <td>0</td>\n",
       "      <td>0</td>\n",
       "      <td>0</td>\n",
       "    </tr>\n",
       "    <tr>\n",
       "      <th>152</th>\n",
       "      <td>0</td>\n",
       "      <td>0</td>\n",
       "      <td>0</td>\n",
       "      <td>0</td>\n",
       "    </tr>\n",
       "    <tr>\n",
       "      <th>164</th>\n",
       "      <td>0</td>\n",
       "      <td>0</td>\n",
       "      <td>0</td>\n",
       "      <td>0</td>\n",
       "    </tr>\n",
       "    <tr>\n",
       "      <th>173</th>\n",
       "      <td>0</td>\n",
       "      <td>0</td>\n",
       "      <td>0</td>\n",
       "      <td>0</td>\n",
       "    </tr>\n",
       "    <tr>\n",
       "      <th>250</th>\n",
       "      <td>0</td>\n",
       "      <td>0</td>\n",
       "      <td>0</td>\n",
       "      <td>0</td>\n",
       "    </tr>\n",
       "  </tbody>\n",
       "</table>\n",
       "</div>"
      ],
      "text/plain": [
       "     No_evaluable_esof  No_evaluable_estom  No_evaluable_del  No_evaluable_col\n",
       "45                   0                   0                 0                 0\n",
       "65                   1                   1                 0                 0\n",
       "66                   0                   0                 0                 0\n",
       "99                   0                   0                 0                 0\n",
       "152                  0                   0                 0                 0\n",
       "164                  0                   0                 0                 0\n",
       "173                  0                   0                 0                 0\n",
       "250                  0                   0                 0                 0"
      ]
     },
     "execution_count": 80,
     "metadata": {},
     "output_type": "execute_result"
    }
   ],
   "source": [
    "uruguay_dolor[no_evaluable] #Número de pacientes con zonas del tracto GI sin posible evaluación (1)"
   ]
  },
  {
   "cell_type": "code",
   "execution_count": 115,
   "metadata": {},
   "outputs": [
    {
     "data": {
      "text/plain": [
       "Int64Index([65, 164, 173], dtype='int64')"
      ]
     },
     "execution_count": 115,
     "metadata": {},
     "output_type": "execute_result"
    }
   ],
   "source": [
    "pct_normal_uru.index "
   ]
  },
  {
   "cell_type": "markdown",
   "metadata": {},
   "source": [
    "Como se ve uno de los pacientes (65) de sin hallazgos tiene el esófago y el estómago sin evaluar."
   ]
  },
  {
   "cell_type": "code",
   "execution_count": 103,
   "metadata": {},
   "outputs": [
    {
     "data": {
      "text/plain": [
       "Hernia_hiato_total     0.0\n",
       "RGE_esof               0.0\n",
       "Erosiones_esof         0.0\n",
       "Erosiones_estom        0.0\n",
       "Pólipo_estom           0.0\n",
       "Telangiectasias_yey    0.0\n",
       "Linfagiectasias_yey    0.0\n",
       "Pólipo_yey             0.0\n",
       "Diverticulo_íleon      0.0\n",
       "Erosiones_del          0.0\n",
       "Diverticulo_del        0.0\n",
       "Enteritis_del          0.0\n",
       "Pólipo_del             0.0\n",
       "Otros_del              0.0\n",
       "Hemorroides            0.0\n",
       "Diverticulo_col        1.0\n",
       "Diverticulo_C_drch     0.0\n",
       "Diverticulo_sig        1.0\n",
       "Diverticulo_C_izq      0.0\n",
       "Sigmoiditis            2.0\n",
       "Proctitis              0.0\n",
       "Angiodisplasia_col     0.0\n",
       "Pólipo_col             4.0\n",
       "Pólipo_C_drch          1.0\n",
       "Pólipo_C_asce          1.0\n",
       "Pólipo_C_trans         0.0\n",
       "Pólipo_C_izq           0.0\n",
       "Pólipo_C_desc          0.0\n",
       "Pólipo_ciego           0.0\n",
       "Pólipo_sig             1.0\n",
       "Pólipo_recto           1.0\n",
       "Melanosis              0.0\n",
       "Otras_col              1.0\n",
       "dtype: float64"
      ]
     },
     "execution_count": 103,
     "metadata": {},
     "output_type": "execute_result"
    }
   ],
   "source": [
    "uruguay_dolor[hz_Tta].sum(axis=0)"
   ]
  },
  {
   "cell_type": "code",
   "execution_count": 116,
   "metadata": {},
   "outputs": [
    {
     "data": {
      "text/html": [
       "<div>\n",
       "<style scoped>\n",
       "    .dataframe tbody tr th:only-of-type {\n",
       "        vertical-align: middle;\n",
       "    }\n",
       "\n",
       "    .dataframe tbody tr th {\n",
       "        vertical-align: top;\n",
       "    }\n",
       "\n",
       "    .dataframe thead th {\n",
       "        text-align: right;\n",
       "    }\n",
       "</style>\n",
       "<table border=\"1\" class=\"dataframe\">\n",
       "  <thead>\n",
       "    <tr style=\"text-align: right;\">\n",
       "      <th></th>\n",
       "      <th>Trast_tránsito_esof</th>\n",
       "      <th>Barret_esof</th>\n",
       "      <th>Esof_eosinofilica_esof</th>\n",
       "      <th>Estenosis_extr_esof</th>\n",
       "      <th>Trast_motilidad_estom</th>\n",
       "      <th>Gastritis_estom</th>\n",
       "      <th>Yeyunitis</th>\n",
       "      <th>Erosiones_yey</th>\n",
       "      <th>Ileitis</th>\n",
       "      <th>Erosiones_íleon</th>\n",
       "      <th>Pólipo_íleon</th>\n",
       "      <th>Erosiones_col</th>\n",
       "      <th>Otros_estom</th>\n",
       "    </tr>\n",
       "  </thead>\n",
       "  <tbody>\n",
       "    <tr>\n",
       "      <th>45</th>\n",
       "      <td>0</td>\n",
       "      <td>0</td>\n",
       "      <td>0</td>\n",
       "      <td>0</td>\n",
       "      <td>0</td>\n",
       "      <td>0</td>\n",
       "      <td>0</td>\n",
       "      <td>1</td>\n",
       "      <td>0</td>\n",
       "      <td>0</td>\n",
       "      <td>0</td>\n",
       "      <td>0</td>\n",
       "      <td>0</td>\n",
       "    </tr>\n",
       "    <tr>\n",
       "      <th>66</th>\n",
       "      <td>0</td>\n",
       "      <td>0</td>\n",
       "      <td>0</td>\n",
       "      <td>0</td>\n",
       "      <td>0</td>\n",
       "      <td>0</td>\n",
       "      <td>0</td>\n",
       "      <td>0</td>\n",
       "      <td>0</td>\n",
       "      <td>0</td>\n",
       "      <td>0</td>\n",
       "      <td>1</td>\n",
       "      <td>0</td>\n",
       "    </tr>\n",
       "    <tr>\n",
       "      <th>99</th>\n",
       "      <td>0</td>\n",
       "      <td>0</td>\n",
       "      <td>0</td>\n",
       "      <td>0</td>\n",
       "      <td>0</td>\n",
       "      <td>0</td>\n",
       "      <td>0</td>\n",
       "      <td>0</td>\n",
       "      <td>1</td>\n",
       "      <td>0</td>\n",
       "      <td>0</td>\n",
       "      <td>0</td>\n",
       "      <td>0</td>\n",
       "    </tr>\n",
       "  </tbody>\n",
       "</table>\n",
       "</div>"
      ],
      "text/plain": [
       "    Trast_tránsito_esof  Barret_esof  Esof_eosinofilica_esof  \\\n",
       "45                    0            0                       0   \n",
       "66                    0            0                       0   \n",
       "99                    0            0                       0   \n",
       "\n",
       "    Estenosis_extr_esof  Trast_motilidad_estom  Gastritis_estom  Yeyunitis  \\\n",
       "45                    0                      0                0          0   \n",
       "66                    0                      0                0          0   \n",
       "99                    0                      0                0          0   \n",
       "\n",
       "    Erosiones_yey  Ileitis  Erosiones_íleon  Pólipo_íleon  Erosiones_col  \\\n",
       "45              1        0                0             0              0   \n",
       "66              0        0                0             0              1   \n",
       "99              0        1                0             0              0   \n",
       "\n",
       "    Otros_estom  \n",
       "45            0  \n",
       "66            0  \n",
       "99            0  "
      ]
     },
     "execution_count": 116,
     "metadata": {},
     "output_type": "execute_result"
    }
   ],
   "source": [
    "#Hallazgos para posterior estuido complementario \n",
    "uruguay_dolor[uruguay_dolor[\"Hz_Prueba\"]>=1][hz_prueba]"
   ]
  },
  {
   "cell_type": "markdown",
   "metadata": {},
   "source": [
    "Hallazgos más frecuentes:\n",
    "- Hz Tratamiento: Pólipos en colon (4), sigmoiditis, resto todos con 1.\n",
    "- Hz Pruebas: Erosiones (Yeyuno, colon), ileitis."
   ]
  },
  {
   "cell_type": "code",
   "execution_count": 154,
   "metadata": {},
   "outputs": [
    {
     "data": {
      "text/html": [
       "<div>\n",
       "<style scoped>\n",
       "    .dataframe tbody tr th:only-of-type {\n",
       "        vertical-align: middle;\n",
       "    }\n",
       "\n",
       "    .dataframe tbody tr th {\n",
       "        vertical-align: top;\n",
       "    }\n",
       "\n",
       "    .dataframe thead th {\n",
       "        text-align: right;\n",
       "    }\n",
       "</style>\n",
       "<table border=\"1\" class=\"dataframe\">\n",
       "  <thead>\n",
       "    <tr style=\"text-align: right;\">\n",
       "      <th></th>\n",
       "      <th>Pacientes</th>\n",
       "      <th>Normal</th>\n",
       "      <th>No evaluable</th>\n",
       "      <th>Hz Pruebas</th>\n",
       "      <th>Hz Tratamiento</th>\n",
       "    </tr>\n",
       "  </thead>\n",
       "  <tbody>\n",
       "    <tr>\n",
       "      <th>Cidma</th>\n",
       "      <td>53</td>\n",
       "      <td>[6, 11.32 %]</td>\n",
       "      <td>[11, 20.75 %]</td>\n",
       "      <td>[33, 62.26 %]</td>\n",
       "      <td>[39, 73.58 %]</td>\n",
       "    </tr>\n",
       "    <tr>\n",
       "      <th>Uruguay</th>\n",
       "      <td>8</td>\n",
       "      <td>[3, 37.5 %]</td>\n",
       "      <td>[1, 12.5 %]</td>\n",
       "      <td>[3, 37.5 %]</td>\n",
       "      <td>[5, 62.5 %]</td>\n",
       "    </tr>\n",
       "  </tbody>\n",
       "</table>\n",
       "</div>"
      ],
      "text/plain": [
       "         Pacientes        Normal   No evaluable     Hz Pruebas Hz Tratamiento\n",
       "Cidma           53  [6, 11.32 %]  [11, 20.75 %]  [33, 62.26 %]  [39, 73.58 %]\n",
       "Uruguay          8   [3, 37.5 %]    [1, 12.5 %]    [3, 37.5 %]    [5, 62.5 %]"
      ]
     },
     "metadata": {},
     "output_type": "display_data"
    }
   ],
   "source": [
    "pregunta_1=pd.DataFrame({\"Pacientes\":[53,8],\"Normal\":[[6,str(round((6*100/53),2))+\" %\"],[3,str(round((3*100/8),2))+\" %\"]], \n",
    "                         \"No evaluable\":[[11,str(round((11*100/53),2))+\" %\"],[1,str(round((1*100/8),2))+\" %\"]],\n",
    "                       \"Hz Pruebas\":[[33,str(round((33*100/53),2))+\" %\"],[3,str(round((3*100/8),2))+\" %\"]],\n",
    "                         \"Hz Tratamiento\":[[39,str(round((39*100/53),2))+\" %\"],[5,str(round((5*100/8),2))+\" %\"]]}\n",
    "                        ,index=[\"Cidma\",\"Uruguay\"])\n",
    "display(pregunta_1)\n"
   ]
  },
  {
   "cell_type": "markdown",
   "metadata": {},
   "source": [
    "# <font color='blue'>Número de pacientes y porcentajes</font>\n",
    "\n",
    "Se observa que un 88,68% de los pacientes de CIDMA a los que se le hizo la cápsula por síntomas de dolor abdominal presentaron hallazgos de algún tipo. Destacando el 73,58% que recibieron un diagnostico definitivo, sin necesidad de pruebas complementarias. Sin embargo ese porcentaje cae al 62,5% en los pacientes del hospital Italiano, pero que aún así permite observar una capacidad de deteción de hallazgos de mas del 60%."
   ]
  },
  {
   "cell_type": "markdown",
   "metadata": {},
   "source": [
    "# 2 ) Porcentaje de pacientes que vinieron con hemorragia digestiva oculta en sangres y tuvieron hallazgos en la cápsula. Diferenciando entre el centro en el que fue realizada la prueba.\n"
   ]
  },
  {
   "cell_type": "code",
   "execution_count": 163,
   "metadata": {},
   "outputs": [],
   "source": [
    "indicacion=['HDOO_oculta',\n",
    " 'HDOO_mani',\n",
    " 'Crohn',\n",
    " 'Alt_tránsito',\n",
    " 'Anemia',\n",
    " 'Dolor_abd',\n",
    " 'Estreñimiento',\n",
    " 'Diarrea',\n",
    " 'Vómitos',\n",
    " 'Pérdida_peso',\n",
    " 'EII',\n",
    " 'Colono_imcp',\n",
    " 'Cribado',\n",
    " 'Revisión',\n",
    " 'Otros_indica']"
   ]
  },
  {
   "cell_type": "code",
   "execution_count": 204,
   "metadata": {},
   "outputs": [
    {
     "data": {
      "text/plain": [
       "HDOO_oculta      23\n",
       "HDOO_mani        15\n",
       "Crohn             4\n",
       "Alt_tránsito      3\n",
       "Anemia           25\n",
       "Dolor_abd        61\n",
       "Estreñimiento     6\n",
       "Diarrea          35\n",
       "Vómitos          10\n",
       "Pérdida_peso      8\n",
       "EII               5\n",
       "Colono_imcp      10\n",
       "Cribado          58\n",
       "Revisión         18\n",
       "Otros_indica     19\n",
       "dtype: int64"
      ]
     },
     "execution_count": 204,
     "metadata": {},
     "output_type": "execute_result"
    }
   ],
   "source": [
    "#Evaluó las otras indicaciones para analizar cuales son las más frecuentes\n",
    "datos[indicacion].sum(axis=0)"
   ]
  },
  {
   "cell_type": "code",
   "execution_count": null,
   "metadata": {},
   "outputs": [],
   "source": []
  },
  {
   "cell_type": "code",
   "execution_count": null,
   "metadata": {},
   "outputs": [],
   "source": []
  }
 ],
 "metadata": {
  "kernelspec": {
   "display_name": "Python 3",
   "language": "python",
   "name": "python3"
  },
  "language_info": {
   "codemirror_mode": {
    "name": "ipython",
    "version": 3
   },
   "file_extension": ".py",
   "mimetype": "text/x-python",
   "name": "python",
   "nbconvert_exporter": "python",
   "pygments_lexer": "ipython3",
   "version": "3.7.4"
  }
 },
 "nbformat": 4,
 "nbformat_minor": 2
}
