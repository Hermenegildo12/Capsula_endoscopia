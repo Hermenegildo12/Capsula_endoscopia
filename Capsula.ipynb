{
 "cells": [
  {
   "cell_type": "code",
   "execution_count": 1,
   "metadata": {},
   "outputs": [],
   "source": [
    "import pandas as pd\n",
    "import numpy as np\n",
    "import operator"
   ]
  },
  {
   "cell_type": "markdown",
   "metadata": {},
   "source": [
    "Importo la base de datos de los pacientes, recogida en SPSS y pasada posteriormente a documento csv. Para su analisis"
   ]
  },
  {
   "cell_type": "code",
   "execution_count": 2,
   "metadata": {},
   "outputs": [],
   "source": [
    "datos=pd.read_csv(\"Analisis_ano.csv\",sep=\";\")"
   ]
  },
  {
   "cell_type": "code",
   "execution_count": 3,
   "metadata": {},
   "outputs": [
    {
     "data": {
      "text/html": [
       "<div>\n",
       "<style scoped>\n",
       "    .dataframe tbody tr th:only-of-type {\n",
       "        vertical-align: middle;\n",
       "    }\n",
       "\n",
       "    .dataframe tbody tr th {\n",
       "        vertical-align: top;\n",
       "    }\n",
       "\n",
       "    .dataframe thead th {\n",
       "        text-align: right;\n",
       "    }\n",
       "</style>\n",
       "<table border=\"1\" class=\"dataframe\">\n",
       "  <thead>\n",
       "    <tr style=\"text-align: right;\">\n",
       "      <th></th>\n",
       "      <th>Médico</th>\n",
       "      <th>Tipo_cápsula</th>\n",
       "      <th>Fecha_procedimiento</th>\n",
       "      <th>ID</th>\n",
       "      <th>Sexo</th>\n",
       "      <th>Nacimiento</th>\n",
       "      <th>Edad</th>\n",
       "      <th>Cintura</th>\n",
       "      <th>IMC</th>\n",
       "      <th>Tiempo_estudio</th>\n",
       "      <th>...</th>\n",
       "      <th>Patency</th>\n",
       "      <th>No_aporta_previo</th>\n",
       "      <th>Eco_abdominal</th>\n",
       "      <th>Rx_abdomen</th>\n",
       "      <th>Entero_TAC</th>\n",
       "      <th>Entero_RM</th>\n",
       "      <th>Tránsito_intes</th>\n",
       "      <th>Endoscopia_previa</th>\n",
       "      <th>Intro_cápsula</th>\n",
       "      <th>Complicaciones</th>\n",
       "    </tr>\n",
       "  </thead>\n",
       "  <tbody>\n",
       "    <tr>\n",
       "      <th>0</th>\n",
       "      <td>1</td>\n",
       "      <td>1</td>\n",
       "      <td>5/14/2012</td>\n",
       "      <td>1</td>\n",
       "      <td>1</td>\n",
       "      <td>6/24/1925</td>\n",
       "      <td>86</td>\n",
       "      <td></td>\n",
       "      <td></td>\n",
       "      <td></td>\n",
       "      <td>...</td>\n",
       "      <td>0</td>\n",
       "      <td>1</td>\n",
       "      <td>0</td>\n",
       "      <td>0</td>\n",
       "      <td>0</td>\n",
       "      <td>0</td>\n",
       "      <td>0</td>\n",
       "      <td>0</td>\n",
       "      <td>0</td>\n",
       "      <td>0</td>\n",
       "    </tr>\n",
       "    <tr>\n",
       "      <th>1</th>\n",
       "      <td>1</td>\n",
       "      <td>1</td>\n",
       "      <td>9/5/2012</td>\n",
       "      <td>2</td>\n",
       "      <td>1</td>\n",
       "      <td>1/12/1953</td>\n",
       "      <td>59</td>\n",
       "      <td></td>\n",
       "      <td></td>\n",
       "      <td></td>\n",
       "      <td>...</td>\n",
       "      <td>0</td>\n",
       "      <td>1</td>\n",
       "      <td>0</td>\n",
       "      <td>0</td>\n",
       "      <td>0</td>\n",
       "      <td>0</td>\n",
       "      <td>0</td>\n",
       "      <td>0</td>\n",
       "      <td>0</td>\n",
       "      <td>0</td>\n",
       "    </tr>\n",
       "    <tr>\n",
       "      <th>2</th>\n",
       "      <td>1</td>\n",
       "      <td>1</td>\n",
       "      <td>10/17/2012</td>\n",
       "      <td>3</td>\n",
       "      <td>1</td>\n",
       "      <td>2/21/1951</td>\n",
       "      <td>61</td>\n",
       "      <td></td>\n",
       "      <td></td>\n",
       "      <td></td>\n",
       "      <td>...</td>\n",
       "      <td>0</td>\n",
       "      <td>1</td>\n",
       "      <td>0</td>\n",
       "      <td>0</td>\n",
       "      <td>0</td>\n",
       "      <td>0</td>\n",
       "      <td>0</td>\n",
       "      <td>0</td>\n",
       "      <td>0</td>\n",
       "      <td>0</td>\n",
       "    </tr>\n",
       "    <tr>\n",
       "      <th>3</th>\n",
       "      <td>1</td>\n",
       "      <td>1</td>\n",
       "      <td>12/14/2013</td>\n",
       "      <td>4</td>\n",
       "      <td>1</td>\n",
       "      <td>10/1/1950</td>\n",
       "      <td>63</td>\n",
       "      <td></td>\n",
       "      <td></td>\n",
       "      <td></td>\n",
       "      <td>...</td>\n",
       "      <td>0</td>\n",
       "      <td>1</td>\n",
       "      <td>0</td>\n",
       "      <td>0</td>\n",
       "      <td>0</td>\n",
       "      <td>0</td>\n",
       "      <td>0</td>\n",
       "      <td>0</td>\n",
       "      <td>0</td>\n",
       "      <td>0</td>\n",
       "    </tr>\n",
       "    <tr>\n",
       "      <th>4</th>\n",
       "      <td>1</td>\n",
       "      <td>1</td>\n",
       "      <td>10/25/2013</td>\n",
       "      <td>5</td>\n",
       "      <td>0</td>\n",
       "      <td>7/4/1935</td>\n",
       "      <td>78</td>\n",
       "      <td></td>\n",
       "      <td></td>\n",
       "      <td></td>\n",
       "      <td>...</td>\n",
       "      <td>0</td>\n",
       "      <td>1</td>\n",
       "      <td>0</td>\n",
       "      <td>0</td>\n",
       "      <td>0</td>\n",
       "      <td>0</td>\n",
       "      <td>0</td>\n",
       "      <td>2</td>\n",
       "      <td>0</td>\n",
       "      <td>0</td>\n",
       "    </tr>\n",
       "  </tbody>\n",
       "</table>\n",
       "<p>5 rows × 150 columns</p>\n",
       "</div>"
      ],
      "text/plain": [
       "   Médico  Tipo_cápsula Fecha_procedimiento  ID  Sexo Nacimiento Edad Cintura  \\\n",
       "0       1             1           5/14/2012   1     1  6/24/1925   86           \n",
       "1       1             1            9/5/2012   2     1  1/12/1953   59           \n",
       "2       1             1          10/17/2012   3     1  2/21/1951   61           \n",
       "3       1             1          12/14/2013   4     1  10/1/1950   63           \n",
       "4       1             1          10/25/2013   5     0   7/4/1935   78           \n",
       "\n",
       "  IMC Tiempo_estudio  ... Patency No_aporta_previo Eco_abdominal Rx_abdomen  \\\n",
       "0                     ...       0                1             0          0   \n",
       "1                     ...       0                1             0          0   \n",
       "2                     ...       0                1             0          0   \n",
       "3                     ...       0                1             0          0   \n",
       "4                     ...       0                1             0          0   \n",
       "\n",
       "  Entero_TAC  Entero_RM  Tránsito_intes  Endoscopia_previa  Intro_cápsula  \\\n",
       "0          0          0               0                  0              0   \n",
       "1          0          0               0                  0              0   \n",
       "2          0          0               0                  0              0   \n",
       "3          0          0               0                  0              0   \n",
       "4          0          0               0                  2              0   \n",
       "\n",
       "   Complicaciones  \n",
       "0               0  \n",
       "1               0  \n",
       "2               0  \n",
       "3               0  \n",
       "4               0  \n",
       "\n",
       "[5 rows x 150 columns]"
      ]
     },
     "execution_count": 3,
     "metadata": {},
     "output_type": "execute_result"
    }
   ],
   "source": [
    "datos.head()"
   ]
  },
  {
   "cell_type": "code",
   "execution_count": 4,
   "metadata": {},
   "outputs": [
    {
     "data": {
      "text/plain": [
       "(251, 150)"
      ]
     },
     "execution_count": 4,
     "metadata": {},
     "output_type": "execute_result"
    }
   ],
   "source": [
    "datos.shape"
   ]
  },
  {
   "cell_type": "code",
   "execution_count": 5,
   "metadata": {},
   "outputs": [
    {
     "data": {
      "text/plain": [
       "Médico                  int64\n",
       "Tipo_cápsula            int64\n",
       "Fecha_procedimiento    object\n",
       "ID                      int64\n",
       "Sexo                    int64\n",
       "                        ...  \n",
       "Entero_RM               int64\n",
       "Tránsito_intes          int64\n",
       "Endoscopia_previa      object\n",
       "Intro_cápsula           int64\n",
       "Complicaciones         object\n",
       "Length: 150, dtype: object"
      ]
     },
     "execution_count": 5,
     "metadata": {},
     "output_type": "execute_result"
    }
   ],
   "source": [
    "datos.dtypes[:]"
   ]
  },
  {
   "cell_type": "code",
   "execution_count": 6,
   "metadata": {},
   "outputs": [],
   "source": [
    "columnas=datos.columns"
   ]
  },
  {
   "cell_type": "code",
   "execution_count": 7,
   "metadata": {},
   "outputs": [
    {
     "name": "stdout",
     "output_type": "stream",
     "text": [
      "[]\n"
     ]
    }
   ],
   "source": [
    "incompletas=[]\n",
    "for e in columnas:\n",
    "    if datos[e].isnull().sum()>=1:\n",
    "        incompletas.append(e)\n",
    "print(incompletas)"
   ]
  },
  {
   "cell_type": "markdown",
   "metadata": {},
   "source": [
    "Como se ve no hay ninguna variable, con valores nulos en toda la base de datos"
   ]
  },
  {
   "cell_type": "code",
   "execution_count": 8,
   "metadata": {},
   "outputs": [
    {
     "data": {
      "text/plain": [
       "['Médico',\n",
       " 'Tipo_cápsula',\n",
       " 'Fecha_procedimiento',\n",
       " 'ID',\n",
       " 'Sexo',\n",
       " 'Nacimiento',\n",
       " 'Edad',\n",
       " 'Cintura',\n",
       " 'IMC',\n",
       " 'Tiempo_estudio',\n",
       " 'T_estómago',\n",
       " 'T_ID_total',\n",
       " 'T_colon_total',\n",
       " 'T_expulsión',\n",
       " 'Expulsa_cápsula',\n",
       " 'HDOO_oculta',\n",
       " 'HDOO_mani',\n",
       " 'Crohn',\n",
       " 'Alt_tránsito',\n",
       " 'Anemia',\n",
       " 'Dolor_abd',\n",
       " 'Estreñimiento',\n",
       " 'Diarrea',\n",
       " 'Vómitos',\n",
       " 'Pérdida_peso',\n",
       " 'EII',\n",
       " 'Colono_imcp',\n",
       " 'Cribado',\n",
       " 'Revisión',\n",
       " 'Otros_indica',\n",
       " 'Hernia_hiato_esof',\n",
       " 'RGE_esof',\n",
       " 'Trast_tránsito_esof',\n",
       " 'Erosiones_esof',\n",
       " 'Barret_esof',\n",
       " 'Esof_eosinofilica_esof',\n",
       " 'Estenosis_extr_esof',\n",
       " 'No_evaluable_esof',\n",
       " 'No_informado_esof',\n",
       " 'Normal_esof',\n",
       " 'Normal_estom',\n",
       " 'No_informado_estom',\n",
       " 'No_evaluable_estom',\n",
       " 'Hernia_hiato_estom',\n",
       " 'Trast_motilidad_estom',\n",
       " 'Erosiones_estom',\n",
       " 'Gastritis_estom',\n",
       " 'Pólipo_estom',\n",
       " 'Otros_estom',\n",
       " 'No_informado_del',\n",
       " 'No_evaluable_del',\n",
       " 'Normal_del',\n",
       " 'Hz_yeyuno',\n",
       " 'Yeyunitis',\n",
       " 'Erosiones_yey',\n",
       " 'Telangiectasias_yey',\n",
       " 'Linfagiectasias_yey',\n",
       " 'Pólipo_yey',\n",
       " 'Hz_íleon',\n",
       " 'Ileitis',\n",
       " 'Diverticulo_íleon',\n",
       " 'Erosiones_íleon',\n",
       " 'Pólipo_íleon',\n",
       " 'Erosiones_del',\n",
       " 'Diverticulo_del',\n",
       " 'Enteritis_del',\n",
       " 'Pólipo_del',\n",
       " 'Otros_del',\n",
       " 'No_informado_col',\n",
       " 'No_evaluable_col',\n",
       " 'Normal_col',\n",
       " 'Hemorroides',\n",
       " 'Diverticulo_col',\n",
       " 'Diverticulo_C_drch',\n",
       " 'Diverticulo_sig',\n",
       " 'Diverticulo_C_izq',\n",
       " 'Sigmoiditis',\n",
       " 'Proctitis',\n",
       " 'Erosiones_col',\n",
       " 'Angiodisplasia_col',\n",
       " 'Pólipo_col',\n",
       " 'Pólipo_C_drch',\n",
       " 'Pólipo_C_asce',\n",
       " 'Pólipo_C_trans',\n",
       " 'Pólipo_C_izq',\n",
       " 'Pólipo_C_desc',\n",
       " 'Pólipo_ciego',\n",
       " 'Pólipo_sig',\n",
       " 'Pólipo_recto',\n",
       " 'Dianocitos',\n",
       " 'Melanosis',\n",
       " 'Otras_col',\n",
       " 'Linea_Z',\n",
       " 'Ampolla_vater',\n",
       " 'Válvula_ileocecal',\n",
       " 'Orificio_apendicular',\n",
       " 'Flexura_hepática',\n",
       " 'Flexura_esplénica',\n",
       " 'Recto',\n",
       " 'Dieta',\n",
       " 'Limpieza_colon',\n",
       " 'Medicación_preparación',\n",
       " 'Refuerzo',\n",
       " 'Calidad_preparación',\n",
       " 'Burbujas',\n",
       " 'Modifica_tto',\n",
       " 'No_conocida_comor',\n",
       " 'No_presenta_comor',\n",
       " 'Oncologica',\n",
       " 'Enf_dig',\n",
       " 'Enf_dig_leve',\n",
       " 'Enf_CV',\n",
       " 'Enf_Rsp',\n",
       " 'Enf_endocrino',\n",
       " 'Enf_renal',\n",
       " 'Trast_psiq',\n",
       " 'Enf_neuro',\n",
       " 'QX_abdominal',\n",
       " 'Otras_QX',\n",
       " 'Enf_trauma',\n",
       " 'DM',\n",
       " 'Otras_comor',\n",
       " 'Obesidad',\n",
       " 'No_toma_med',\n",
       " 'No_conocido_med',\n",
       " 'Laxantes',\n",
       " 'Antidiabético',\n",
       " 'AINE',\n",
       " 'Antiagregante',\n",
       " 'Anticoagulante',\n",
       " 'Benzodiacepina',\n",
       " 'ARAII',\n",
       " 'IBP',\n",
       " 'Inmunosupresores',\n",
       " 'Diurético',\n",
       " 'Antiemético',\n",
       " 'Vitaminas',\n",
       " 'Antimicrobiano',\n",
       " 'Otros_med',\n",
       " 'Cirugía_previa',\n",
       " 'Patency',\n",
       " 'No_aporta_previo',\n",
       " 'Eco_abdominal',\n",
       " 'Rx_abdomen',\n",
       " 'Entero_TAC',\n",
       " 'Entero_RM',\n",
       " 'Tránsito_intes',\n",
       " 'Endoscopia_previa',\n",
       " 'Intro_cápsula',\n",
       " 'Complicaciones']"
      ]
     },
     "execution_count": 8,
     "metadata": {},
     "output_type": "execute_result"
    }
   ],
   "source": [
    "columnas=datos.columns\n",
    "columnas.tolist()"
   ]
  },
  {
   "cell_type": "code",
   "execution_count": 9,
   "metadata": {},
   "outputs": [],
   "source": [
    "#Borro la variable Dianoscitos porque sería un hallazgo compatible con la normalidad.\n",
    "datos.drop(columns=['Dianocitos'],axis=0, inplace=True)"
   ]
  },
  {
   "cell_type": "markdown",
   "metadata": {},
   "source": [
    "Uno en una única variable las hernias de hiato de esófago y estomago. Al ser el mismo diagnostico, simplemente puesto\n",
    "en esófago o estomago según el momento de la cápsula en el que se diagnosticaba. Quedando unificada en la variable \"Hernia_hiato_total\""
   ]
  },
  {
   "cell_type": "code",
   "execution_count": 10,
   "metadata": {},
   "outputs": [],
   "source": [
    "def hernia(fila):\n",
    "    a='Hernia_hiato_esof'\n",
    "    b='Hernia_hiato_estom'\n",
    "    if fila[a]==fila[b]:\n",
    "        return fila[a]\n",
    "    elif fila[a]<fila[b]:\n",
    "        return fila[b]\n",
    "    else:\n",
    "        return fila[a]"
   ]
  },
  {
   "cell_type": "code",
   "execution_count": 11,
   "metadata": {},
   "outputs": [],
   "source": [
    "datos[\"Hernia_hiato_total\"]=datos.apply(lambda fila: hernia(fila),axis=1)"
   ]
  },
  {
   "cell_type": "markdown",
   "metadata": {},
   "source": [
    "Compruebo que la reoorganización se ha realizado correctamente"
   ]
  },
  {
   "cell_type": "code",
   "execution_count": 12,
   "metadata": {
    "scrolled": true
   },
   "outputs": [
    {
     "data": {
      "text/plain": [
       "(     Hernia_hiato_esof  Hernia_hiato_estom  Hernia_hiato_total\n",
       " 0                    0                   0                   0\n",
       " 150                  0                   0                   0\n",
       " 151                  0                   0                   0\n",
       " 152                  0                   0                   0\n",
       " 153                  0                   0                   0\n",
       " ..                 ...                 ...                 ...\n",
       " 84                   0                   1                   1\n",
       " 212                  0                   1                   1\n",
       " 210                  1                   0                   1\n",
       " 188                  0                   1                   1\n",
       " 125                  1                   0                   1\n",
       " \n",
       " [251 rows x 3 columns],)"
      ]
     },
     "execution_count": 12,
     "metadata": {},
     "output_type": "execute_result"
    }
   ],
   "source": [
    "comp=datos[['Hernia_hiato_esof','Hernia_hiato_estom',\"Hernia_hiato_total\"]].sort_values(by=\"Hernia_hiato_total\"),\n",
    "ascending=True\n",
    "comp"
   ]
  },
  {
   "cell_type": "markdown",
   "metadata": {},
   "source": [
    "Tras asegurarme, elimino las dos variables sobrantes"
   ]
  },
  {
   "cell_type": "code",
   "execution_count": 13,
   "metadata": {},
   "outputs": [],
   "source": [
    "datos.drop(columns=['Hernia_hiato_esof','Hernia_hiato_estom'],axis=0, inplace=True)"
   ]
  },
  {
   "cell_type": "markdown",
   "metadata": {},
   "source": [
    "# 1) Porcentaje de pacientes que vinieron con síntomas de dolor abdominal y tuvieron hallazgos en la cápsula. Diferenciando entre el centro en el que fue realizada la prueba."
   ]
  },
  {
   "cell_type": "markdown",
   "metadata": {},
   "source": [
    "Para ello, agrupo primero todas las varibles que representan hallazgos en la cápsula endoscopica. Los agrupo en dos \n",
    "tipos:\n",
    "- Hallazgos que permiten tratamiento sin la necesidad de pruebas complementarias\n",
    "- Hallazgos que harían necesaria la realización de pruebas complementaris para el diagnostico completo.\n",
    "\n",
    "También defino otros conceptos:\n",
    "- Normal: Paciente sin hallazgos patológicos\n",
    "- No evaluable: Por diversos motivos, no se pudo estudiar algun trazo del tracto gastrointestinal completamente."
   ]
  },
  {
   "cell_type": "code",
   "execution_count": 341,
   "metadata": {},
   "outputs": [],
   "source": [
    "hz_Tta=[\"Hernia_hiato_total\",\n",
    " 'RGE_esof',\n",
    " 'Erosiones_esof',\n",
    " 'Erosiones_estom',\n",
    " 'Pólipo_estom',\n",
    " 'Telangiectasias_yey',\n",
    " 'Linfagiectasias_yey',\n",
    " 'Pólipo_yey',\n",
    " 'Diverticulo_íleon',\n",
    "'Erosiones_del',\n",
    " 'Diverticulo_del',\n",
    " 'Enteritis_del',\n",
    " 'Pólipo_del',\n",
    " 'Otros_del',\n",
    " 'Hemorroides',\n",
    " 'Diverticulo_col',\n",
    " 'Diverticulo_C_drch',\n",
    " 'Diverticulo_sig',\n",
    " 'Diverticulo_C_izq',\n",
    " 'Sigmoiditis',\n",
    " 'Proctitis',\n",
    " 'Angiodisplasia_col',\n",
    " 'Pólipo_col',\n",
    " 'Pólipo_C_drch',\n",
    " 'Pólipo_C_asce',\n",
    " 'Pólipo_C_trans',\n",
    " 'Pólipo_C_izq',\n",
    " 'Pólipo_C_desc',\n",
    " 'Pólipo_ciego',\n",
    " 'Pólipo_sig',\n",
    " 'Pólipo_recto',\n",
    " 'Melanosis',\n",
    " 'Otras_col']"
   ]
  },
  {
   "cell_type": "code",
   "execution_count": 342,
   "metadata": {},
   "outputs": [],
   "source": [
    "hz_prueba=['Trast_tránsito_esof',  'Barret_esof',  'Esof_eosinofilica_esof',  'Estenosis_extr_esof',  \n",
    "           'Trast_motilidad_estom','Gastritis_estom',  'Yeyunitis',  'Erosiones_yey',  'Ileitis', \n",
    "           'Erosiones_íleon',  'Pólipo_íleon',  'Erosiones_col', 'Otros_estom',]"
   ]
  },
  {
   "cell_type": "markdown",
   "metadata": {},
   "source": [
    "En cuanto a las variables otros hallazgos de estómago, delgado y colon decido incluirlas en hz_Tta porque en su\n",
    "mayoria son de este tipo, aunque según resultados posteriores decidire si sacarlas, en base a posibles alteraciones \n",
    "en el analisis final."
   ]
  },
  {
   "cell_type": "code",
   "execution_count": 343,
   "metadata": {},
   "outputs": [],
   "source": [
    "cidma_dolor = datos[(datos['Médico']==0) & \n",
    "                (datos['Dolor_abd']==1)]"
   ]
  },
  {
   "cell_type": "code",
   "execution_count": 344,
   "metadata": {},
   "outputs": [
    {
     "data": {
      "text/plain": [
       "(53, 148)"
      ]
     },
     "execution_count": 344,
     "metadata": {},
     "output_type": "execute_result"
    }
   ],
   "source": [
    "#Número de pacientes con dolor abdominal del centro CIDMA\n",
    "cidma_dolor.shape "
   ]
  },
  {
   "cell_type": "code",
   "execution_count": 345,
   "metadata": {},
   "outputs": [
    {
     "name": "stderr",
     "output_type": "stream",
     "text": [
      "/usr/local/Cellar/ipython/7.7.0/libexec/vendor/lib/python3.7/site-packages/ipykernel_launcher.py:1: SettingWithCopyWarning: \n",
      "A value is trying to be set on a copy of a slice from a DataFrame.\n",
      "Try using .loc[row_indexer,col_indexer] = value instead\n",
      "\n",
      "See the caveats in the documentation: http://pandas.pydata.org/pandas-docs/stable/user_guide/indexing.html#returning-a-view-versus-a-copy\n",
      "  \"\"\"Entry point for launching an IPython kernel.\n"
     ]
    }
   ],
   "source": [
    "cidma_dolor[\"Hz_Tta\"] = cidma_dolor[hz_Tta].sum(axis=1)"
   ]
  },
  {
   "cell_type": "code",
   "execution_count": 346,
   "metadata": {},
   "outputs": [
    {
     "data": {
      "text/plain": [
       "39"
      ]
     },
     "execution_count": 346,
     "metadata": {},
     "output_type": "execute_result"
    }
   ],
   "source": [
    "#Número de pacientes con hallazgos para futuras terapías\n",
    "len(cidma_dolor[cidma_dolor[\"Hz_Tta\"]>=1])"
   ]
  },
  {
   "cell_type": "code",
   "execution_count": 347,
   "metadata": {},
   "outputs": [
    {
     "name": "stderr",
     "output_type": "stream",
     "text": [
      "/usr/local/Cellar/ipython/7.7.0/libexec/vendor/lib/python3.7/site-packages/ipykernel_launcher.py:1: SettingWithCopyWarning: \n",
      "A value is trying to be set on a copy of a slice from a DataFrame.\n",
      "Try using .loc[row_indexer,col_indexer] = value instead\n",
      "\n",
      "See the caveats in the documentation: http://pandas.pydata.org/pandas-docs/stable/user_guide/indexing.html#returning-a-view-versus-a-copy\n",
      "  \"\"\"Entry point for launching an IPython kernel.\n"
     ]
    }
   ],
   "source": [
    "cidma_dolor[\"Hz_Prueba\"] = cidma_dolor[hz_prueba].sum(axis=1) "
   ]
  },
  {
   "cell_type": "code",
   "execution_count": 348,
   "metadata": {},
   "outputs": [
    {
     "data": {
      "text/plain": [
       "33"
      ]
     },
     "execution_count": 348,
     "metadata": {},
     "output_type": "execute_result"
    }
   ],
   "source": [
    "#Número de pacientes con hallazgos para futuros estudios\n",
    "len(cidma_dolor[cidma_dolor[\"Hz_Prueba\"]>=1]) "
   ]
  },
  {
   "cell_type": "code",
   "execution_count": 349,
   "metadata": {},
   "outputs": [
    {
     "data": {
      "text/plain": [
       "6"
      ]
     },
     "execution_count": 349,
     "metadata": {},
     "output_type": "execute_result"
    }
   ],
   "source": [
    "#Número de pacientes con hallazgos compatibles con la normalidad\n",
    "pct_normal=cidma_dolor[(cidma_dolor[\"Hz_Tta\"]==0)&\n",
    "(cidma_dolor[\"Hz_Prueba\"]==0)]                     \n",
    "len(pct_normal)"
   ]
  },
  {
   "cell_type": "code",
   "execution_count": 350,
   "metadata": {},
   "outputs": [],
   "source": [
    "no_evaluable=['No_evaluable_esof','No_evaluable_estom','No_evaluable_del','No_evaluable_col']"
   ]
  },
  {
   "cell_type": "code",
   "execution_count": 351,
   "metadata": {},
   "outputs": [
    {
     "data": {
      "text/plain": [
       "15"
      ]
     },
     "execution_count": 351,
     "metadata": {},
     "output_type": "execute_result"
    }
   ],
   "source": [
    "#Número de pacientes con zonas del tracto GI sin posible evaluación\n",
    "no_visi=[]\n",
    "No_visi=[]\n",
    "for e in no_evaluable:\n",
    "    a=cidma_dolor[e].isin([1])\n",
    "    for i in a:\n",
    "        if i==1:\n",
    "            b=cidma_dolor[e][a].index\n",
    "            no_visi.append(b)\n",
    "        elif len(no_visi)>=1:\n",
    "            for j in no_visi:\n",
    "                for x in j:\n",
    "                    No_visi.append(x)\n",
    "        elif len(no_visi)==0:\n",
    "            No_visi=[]\n",
    "\n",
    "NO_VISIBLE=set(No_visi)\n",
    "len(NO_VISIBLE)"
   ]
  },
  {
   "cell_type": "code",
   "execution_count": 352,
   "metadata": {},
   "outputs": [
    {
     "name": "stdout",
     "output_type": "stream",
     "text": [
      "153\n",
      "154\n"
     ]
    }
   ],
   "source": [
    "#Pacientes sin hallazgos patologicos con zonas del tracto gigestivo no evaluables\n",
    "for e in NO_VISIBLE:\n",
    "    for i in pct_normal.index:\n",
    "        if e==i:\n",
    "            print(e)"
   ]
  },
  {
   "cell_type": "code",
   "execution_count": 353,
   "metadata": {},
   "outputs": [
    {
     "data": {
      "text/html": [
       "<div>\n",
       "<style scoped>\n",
       "    .dataframe tbody tr th:only-of-type {\n",
       "        vertical-align: middle;\n",
       "    }\n",
       "\n",
       "    .dataframe tbody tr th {\n",
       "        vertical-align: top;\n",
       "    }\n",
       "\n",
       "    .dataframe thead th {\n",
       "        text-align: right;\n",
       "    }\n",
       "</style>\n",
       "<table border=\"1\" class=\"dataframe\">\n",
       "  <thead>\n",
       "    <tr style=\"text-align: right;\">\n",
       "      <th></th>\n",
       "      <th>No_evaluable_esof</th>\n",
       "      <th>No_evaluable_estom</th>\n",
       "      <th>No_evaluable_del</th>\n",
       "      <th>No_evaluable_col</th>\n",
       "    </tr>\n",
       "  </thead>\n",
       "  <tbody>\n",
       "    <tr>\n",
       "      <th>153</th>\n",
       "      <td>0</td>\n",
       "      <td>0</td>\n",
       "      <td>1</td>\n",
       "      <td>0</td>\n",
       "    </tr>\n",
       "    <tr>\n",
       "      <th>154</th>\n",
       "      <td>0</td>\n",
       "      <td>0</td>\n",
       "      <td>0</td>\n",
       "      <td>1</td>\n",
       "    </tr>\n",
       "  </tbody>\n",
       "</table>\n",
       "</div>"
      ],
      "text/plain": [
       "     No_evaluable_esof  No_evaluable_estom  No_evaluable_del  No_evaluable_col\n",
       "153                  0                   0                 1                 0\n",
       "154                  0                   0                 0                 1"
      ]
     },
     "execution_count": 353,
     "metadata": {},
     "output_type": "execute_result"
    }
   ],
   "source": [
    "cidma_dolor[no_evaluable].loc[153:154]"
   ]
  },
  {
   "cell_type": "code",
   "execution_count": 354,
   "metadata": {},
   "outputs": [
    {
     "data": {
      "text/html": [
       "<div>\n",
       "<style scoped>\n",
       "    .dataframe tbody tr th:only-of-type {\n",
       "        vertical-align: middle;\n",
       "    }\n",
       "\n",
       "    .dataframe tbody tr th {\n",
       "        vertical-align: top;\n",
       "    }\n",
       "\n",
       "    .dataframe thead th {\n",
       "        text-align: right;\n",
       "    }\n",
       "</style>\n",
       "<table border=\"1\" class=\"dataframe\">\n",
       "  <thead>\n",
       "    <tr style=\"text-align: right;\">\n",
       "      <th></th>\n",
       "      <th>No_evaluable_esof</th>\n",
       "      <th>No_evaluable_estom</th>\n",
       "      <th>No_evaluable_del</th>\n",
       "      <th>No_evaluable_col</th>\n",
       "    </tr>\n",
       "  </thead>\n",
       "  <tbody>\n",
       "    <tr>\n",
       "      <th>105</th>\n",
       "      <td>0</td>\n",
       "      <td>0</td>\n",
       "      <td>0</td>\n",
       "      <td>1</td>\n",
       "    </tr>\n",
       "    <tr>\n",
       "      <th>114</th>\n",
       "      <td>0</td>\n",
       "      <td>0</td>\n",
       "      <td>0</td>\n",
       "      <td>1</td>\n",
       "    </tr>\n",
       "    <tr>\n",
       "      <th>130</th>\n",
       "      <td>0</td>\n",
       "      <td>0</td>\n",
       "      <td>0</td>\n",
       "      <td>1</td>\n",
       "    </tr>\n",
       "    <tr>\n",
       "      <th>153</th>\n",
       "      <td>0</td>\n",
       "      <td>0</td>\n",
       "      <td>1</td>\n",
       "      <td>0</td>\n",
       "    </tr>\n",
       "    <tr>\n",
       "      <th>154</th>\n",
       "      <td>0</td>\n",
       "      <td>0</td>\n",
       "      <td>0</td>\n",
       "      <td>1</td>\n",
       "    </tr>\n",
       "    <tr>\n",
       "      <th>156</th>\n",
       "      <td>0</td>\n",
       "      <td>0</td>\n",
       "      <td>0</td>\n",
       "      <td>1</td>\n",
       "    </tr>\n",
       "    <tr>\n",
       "      <th>160</th>\n",
       "      <td>0</td>\n",
       "      <td>0</td>\n",
       "      <td>0</td>\n",
       "      <td>1</td>\n",
       "    </tr>\n",
       "    <tr>\n",
       "      <th>165</th>\n",
       "      <td>0</td>\n",
       "      <td>0</td>\n",
       "      <td>0</td>\n",
       "      <td>1</td>\n",
       "    </tr>\n",
       "    <tr>\n",
       "      <th>166</th>\n",
       "      <td>0</td>\n",
       "      <td>1</td>\n",
       "      <td>0</td>\n",
       "      <td>0</td>\n",
       "    </tr>\n",
       "    <tr>\n",
       "      <th>180</th>\n",
       "      <td>0</td>\n",
       "      <td>0</td>\n",
       "      <td>1</td>\n",
       "      <td>1</td>\n",
       "    </tr>\n",
       "    <tr>\n",
       "      <th>201</th>\n",
       "      <td>0</td>\n",
       "      <td>0</td>\n",
       "      <td>1</td>\n",
       "      <td>0</td>\n",
       "    </tr>\n",
       "    <tr>\n",
       "      <th>202</th>\n",
       "      <td>1</td>\n",
       "      <td>1</td>\n",
       "      <td>0</td>\n",
       "      <td>0</td>\n",
       "    </tr>\n",
       "    <tr>\n",
       "      <th>203</th>\n",
       "      <td>1</td>\n",
       "      <td>1</td>\n",
       "      <td>0</td>\n",
       "      <td>1</td>\n",
       "    </tr>\n",
       "    <tr>\n",
       "      <th>209</th>\n",
       "      <td>0</td>\n",
       "      <td>0</td>\n",
       "      <td>0</td>\n",
       "      <td>1</td>\n",
       "    </tr>\n",
       "    <tr>\n",
       "      <th>211</th>\n",
       "      <td>0</td>\n",
       "      <td>0</td>\n",
       "      <td>1</td>\n",
       "      <td>1</td>\n",
       "    </tr>\n",
       "  </tbody>\n",
       "</table>\n",
       "</div>"
      ],
      "text/plain": [
       "     No_evaluable_esof  No_evaluable_estom  No_evaluable_del  No_evaluable_col\n",
       "105                  0                   0                 0                 1\n",
       "114                  0                   0                 0                 1\n",
       "130                  0                   0                 0                 1\n",
       "153                  0                   0                 1                 0\n",
       "154                  0                   0                 0                 1\n",
       "156                  0                   0                 0                 1\n",
       "160                  0                   0                 0                 1\n",
       "165                  0                   0                 0                 1\n",
       "166                  0                   1                 0                 0\n",
       "180                  0                   0                 1                 1\n",
       "201                  0                   0                 1                 0\n",
       "202                  1                   1                 0                 0\n",
       "203                  1                   1                 0                 1\n",
       "209                  0                   0                 0                 1\n",
       "211                  0                   0                 1                 1"
      ]
     },
     "execution_count": 354,
     "metadata": {},
     "output_type": "execute_result"
    }
   ],
   "source": [
    "#Todos los pacientes con zonas no evaluables\n",
    "cidma_dolor[(cidma_dolor['No_evaluable_esof']==1) | (cidma_dolor[\"No_evaluable_estom\"]==1)\n",
    "       | (cidma_dolor['No_evaluable_del']==1) | (cidma_dolor['No_evaluable_col']==1)][no_evaluable]"
   ]
  },
  {
   "cell_type": "markdown",
   "metadata": {},
   "source": [
    "Como se ve solo dos pacientes no presentarian hallazgos patológicos y tendrían alguna zona del tracto digestivo sin poder evaluar (delgado, colon). En cuanto al resto de pacientes con zonas no evaluables, destacar la zona colónica como la principal área no evaluada con hasta 11 pacientes."
   ]
  },
  {
   "cell_type": "markdown",
   "metadata": {},
   "source": [
    "Ahora veré cuales son los pricipales hallazgos de dichos pacientes.\n",
    "En primer lugar los hallazgos para tratamiento"
   ]
  },
  {
   "cell_type": "code",
   "execution_count": 270,
   "metadata": {},
   "outputs": [],
   "source": [
    "dic={}\n",
    "for e in hz_Tta:\n",
    "    b=cidma_dolor[e].value_counts()\n",
    "    dic[e]=b\n",
    "    "
   ]
  },
  {
   "cell_type": "code",
   "execution_count": 271,
   "metadata": {},
   "outputs": [],
   "source": [
    "hz_Tta_frec={}\n",
    "for e in hz_Tta:\n",
    "    if len(dic[e])>1:\n",
    "        hz_Tta_frec[e]=dic[e][1]"
   ]
  },
  {
   "cell_type": "code",
   "execution_count": 272,
   "metadata": {},
   "outputs": [
    {
     "data": {
      "text/plain": [
       "[('Diverticulo_col', 16),\n",
       " ('Hernia_hiato_total', 14),\n",
       " ('Hemorroides', 14),\n",
       " ('RGE_esof', 9),\n",
       " ('Otras_col', 8),\n",
       " ('Diverticulo_C_izq', 7),\n",
       " ('Diverticulo_sig', 6),\n",
       " ('Erosiones_estom', 5),\n",
       " ('Pólipo_estom', 5),\n",
       " ('Pólipo_col', 5),\n",
       " ('Otros_del', 4),\n",
       " ('Diverticulo_C_drch', 4),\n",
       " ('Linfagiectasias_yey', 3),\n",
       " ('Erosiones_del', 3),\n",
       " ('Enteritis_del', 3),\n",
       " ('Melanosis', 3),\n",
       " ('Angiodisplasia_col', 2),\n",
       " ('Erosiones_esof', 1),\n",
       " ('Diverticulo_íleon', 1),\n",
       " ('Pólipo_C_drch', 1),\n",
       " ('Pólipo_C_izq', 1),\n",
       " ('Pólipo_ciego', 1),\n",
       " ('Pólipo_sig', 1),\n",
       " ('Pólipo_recto', 1)]"
      ]
     },
     "execution_count": 272,
     "metadata": {},
     "output_type": "execute_result"
    }
   ],
   "source": [
    "sorted(hz_Tta_frec.items(), key=operator.itemgetter(1),reverse=True)"
   ]
  },
  {
   "cell_type": "markdown",
   "metadata": {},
   "source": [
    "Como se observa los tres hallazgos principales son:\n",
    "- Diverticulos en colon\n",
    "- Hernia de hiato\n",
    "- Hemorroides"
   ]
  },
  {
   "cell_type": "markdown",
   "metadata": {},
   "source": [
    "En cuanto a los hallazgos para completar estudio"
   ]
  },
  {
   "cell_type": "code",
   "execution_count": 273,
   "metadata": {},
   "outputs": [],
   "source": [
    "dic={}\n",
    "for e in hz_prueba:\n",
    "    b=cidma_dolor[e].value_counts()\n",
    "    dic[e]=b\n",
    "    \n",
    "hz_prueba_frec={}\n",
    "for e in hz_prueba:\n",
    "    if len(dic[e])>1:\n",
    "        hz_prueba_frec[e]=dic[e][1]"
   ]
  },
  {
   "cell_type": "code",
   "execution_count": 274,
   "metadata": {},
   "outputs": [
    {
     "data": {
      "text/plain": [
       "[('Gastritis_estom', 15),\n",
       " ('Yeyunitis', 5),\n",
       " ('Trast_tránsito_esof', 3),\n",
       " ('Erosiones_col', 3),\n",
       " ('Otros_estom', 3),\n",
       " ('Trast_motilidad_estom', 2),\n",
       " ('Erosiones_yey', 2),\n",
       " ('Ileitis', 2),\n",
       " ('Erosiones_íleon', 2),\n",
       " ('Barret_esof', 1),\n",
       " ('Esof_eosinofilica_esof', 1),\n",
       " ('Pólipo_íleon', 1)]"
      ]
     },
     "execution_count": 274,
     "metadata": {},
     "output_type": "execute_result"
    }
   ],
   "source": [
    "sorted(hz_prueba_frec.items(), key=operator.itemgetter(1),reverse=True)"
   ]
  },
  {
   "cell_type": "markdown",
   "metadata": {},
   "source": [
    "Principales hallazgos que necesitaran nuevas pruebas, destacan:\n",
    "- Gastritis (Este triplica la frecuencia del segundo)\n",
    "- Yeyunitis\n",
    "- Trastornos del tránsito esofágico"
   ]
  },
  {
   "cell_type": "markdown",
   "metadata": {},
   "source": [
    "Ahora analizaré las mismas variables en el hospital Italiano"
   ]
  },
  {
   "cell_type": "code",
   "execution_count": 275,
   "metadata": {},
   "outputs": [],
   "source": [
    "uruguay_dolor = datos[(datos['Médico']==1) & \n",
    "                (datos['Dolor_abd']==1)]"
   ]
  },
  {
   "cell_type": "code",
   "execution_count": 276,
   "metadata": {},
   "outputs": [
    {
     "data": {
      "text/plain": [
       "8"
      ]
     },
     "execution_count": 276,
     "metadata": {},
     "output_type": "execute_result"
    }
   ],
   "source": [
    "#Número de pacientes con dolor abdominal en el hospital Italiano\n",
    "len(uruguay_dolor[\"Médico\"])"
   ]
  },
  {
   "cell_type": "code",
   "execution_count": 278,
   "metadata": {
    "scrolled": true
   },
   "outputs": [
    {
     "data": {
      "text/html": [
       "<div>\n",
       "<style scoped>\n",
       "    .dataframe tbody tr th:only-of-type {\n",
       "        vertical-align: middle;\n",
       "    }\n",
       "\n",
       "    .dataframe tbody tr th {\n",
       "        vertical-align: top;\n",
       "    }\n",
       "\n",
       "    .dataframe thead th {\n",
       "        text-align: right;\n",
       "    }\n",
       "</style>\n",
       "<table border=\"1\" class=\"dataframe\">\n",
       "  <thead>\n",
       "    <tr style=\"text-align: right;\">\n",
       "      <th></th>\n",
       "      <th>Hernia_hiato_total</th>\n",
       "      <th>RGE_esof</th>\n",
       "      <th>Erosiones_esof</th>\n",
       "      <th>Erosiones_estom</th>\n",
       "      <th>Pólipo_estom</th>\n",
       "      <th>Telangiectasias_yey</th>\n",
       "      <th>Linfagiectasias_yey</th>\n",
       "      <th>Pólipo_yey</th>\n",
       "      <th>Diverticulo_íleon</th>\n",
       "      <th>Erosiones_del</th>\n",
       "      <th>Diverticulo_del</th>\n",
       "      <th>Enteritis_del</th>\n",
       "      <th>Pólipo_del</th>\n",
       "      <th>Otros_del</th>\n",
       "      <th>Hemorroides</th>\n",
       "      <th>Diverticulo_col</th>\n",
       "      <th>Diverticulo_C_drch</th>\n",
       "      <th>Diverticulo_sig</th>\n",
       "      <th>Diverticulo_C_izq</th>\n",
       "      <th>Sigmoiditis</th>\n",
       "    </tr>\n",
       "  </thead>\n",
       "  <tbody>\n",
       "    <tr>\n",
       "      <th>45</th>\n",
       "      <td>0</td>\n",
       "      <td>0</td>\n",
       "      <td>0</td>\n",
       "      <td>0</td>\n",
       "      <td>0</td>\n",
       "      <td>0</td>\n",
       "      <td>0</td>\n",
       "      <td>0</td>\n",
       "      <td>0</td>\n",
       "      <td>0</td>\n",
       "      <td>0</td>\n",
       "      <td>0</td>\n",
       "      <td>0</td>\n",
       "      <td>0</td>\n",
       "      <td>0</td>\n",
       "      <td>0</td>\n",
       "      <td>0</td>\n",
       "      <td>0</td>\n",
       "      <td>0</td>\n",
       "      <td>0</td>\n",
       "    </tr>\n",
       "    <tr>\n",
       "      <th>65</th>\n",
       "      <td>0</td>\n",
       "      <td>0</td>\n",
       "      <td>0</td>\n",
       "      <td>0</td>\n",
       "      <td>0</td>\n",
       "      <td>0</td>\n",
       "      <td>0</td>\n",
       "      <td>0</td>\n",
       "      <td>0</td>\n",
       "      <td>0</td>\n",
       "      <td>0</td>\n",
       "      <td>0</td>\n",
       "      <td>0</td>\n",
       "      <td>0</td>\n",
       "      <td>0</td>\n",
       "      <td>0</td>\n",
       "      <td>0</td>\n",
       "      <td>0</td>\n",
       "      <td>0</td>\n",
       "      <td>0</td>\n",
       "    </tr>\n",
       "    <tr>\n",
       "      <th>66</th>\n",
       "      <td>0</td>\n",
       "      <td>0</td>\n",
       "      <td>0</td>\n",
       "      <td>0</td>\n",
       "      <td>0</td>\n",
       "      <td>0</td>\n",
       "      <td>0</td>\n",
       "      <td>0</td>\n",
       "      <td>0</td>\n",
       "      <td>0</td>\n",
       "      <td>0</td>\n",
       "      <td>0</td>\n",
       "      <td>0</td>\n",
       "      <td>0</td>\n",
       "      <td>0</td>\n",
       "      <td>0</td>\n",
       "      <td>0</td>\n",
       "      <td>0</td>\n",
       "      <td>0</td>\n",
       "      <td>1</td>\n",
       "    </tr>\n",
       "    <tr>\n",
       "      <th>99</th>\n",
       "      <td>0</td>\n",
       "      <td>0</td>\n",
       "      <td>0</td>\n",
       "      <td>0</td>\n",
       "      <td>0</td>\n",
       "      <td>0</td>\n",
       "      <td>0</td>\n",
       "      <td>0</td>\n",
       "      <td>0</td>\n",
       "      <td>0</td>\n",
       "      <td>0</td>\n",
       "      <td>0</td>\n",
       "      <td>0</td>\n",
       "      <td>0</td>\n",
       "      <td>0</td>\n",
       "      <td>0</td>\n",
       "      <td>0</td>\n",
       "      <td>0</td>\n",
       "      <td>0</td>\n",
       "      <td>0</td>\n",
       "    </tr>\n",
       "    <tr>\n",
       "      <th>152</th>\n",
       "      <td>0</td>\n",
       "      <td>0</td>\n",
       "      <td>0</td>\n",
       "      <td>0</td>\n",
       "      <td>0</td>\n",
       "      <td>0</td>\n",
       "      <td>0</td>\n",
       "      <td>0</td>\n",
       "      <td>0</td>\n",
       "      <td>0</td>\n",
       "      <td>0</td>\n",
       "      <td>0</td>\n",
       "      <td>0</td>\n",
       "      <td>0</td>\n",
       "      <td>0</td>\n",
       "      <td>0</td>\n",
       "      <td>0</td>\n",
       "      <td>0</td>\n",
       "      <td>0</td>\n",
       "      <td>1</td>\n",
       "    </tr>\n",
       "    <tr>\n",
       "      <th>164</th>\n",
       "      <td>0</td>\n",
       "      <td>0</td>\n",
       "      <td>0</td>\n",
       "      <td>0</td>\n",
       "      <td>0</td>\n",
       "      <td>0</td>\n",
       "      <td>0</td>\n",
       "      <td>0</td>\n",
       "      <td>0</td>\n",
       "      <td>0</td>\n",
       "      <td>0</td>\n",
       "      <td>0</td>\n",
       "      <td>0</td>\n",
       "      <td>0</td>\n",
       "      <td>0</td>\n",
       "      <td>0</td>\n",
       "      <td>0</td>\n",
       "      <td>0</td>\n",
       "      <td>0</td>\n",
       "      <td>0</td>\n",
       "    </tr>\n",
       "    <tr>\n",
       "      <th>173</th>\n",
       "      <td>0</td>\n",
       "      <td>0</td>\n",
       "      <td>0</td>\n",
       "      <td>0</td>\n",
       "      <td>0</td>\n",
       "      <td>0</td>\n",
       "      <td>0</td>\n",
       "      <td>0</td>\n",
       "      <td>0</td>\n",
       "      <td>0</td>\n",
       "      <td>0</td>\n",
       "      <td>0</td>\n",
       "      <td>0</td>\n",
       "      <td>0</td>\n",
       "      <td>0</td>\n",
       "      <td>0</td>\n",
       "      <td>0</td>\n",
       "      <td>0</td>\n",
       "      <td>0</td>\n",
       "      <td>0</td>\n",
       "    </tr>\n",
       "    <tr>\n",
       "      <th>250</th>\n",
       "      <td>0</td>\n",
       "      <td>0</td>\n",
       "      <td>0</td>\n",
       "      <td>0</td>\n",
       "      <td>0</td>\n",
       "      <td>0</td>\n",
       "      <td>0</td>\n",
       "      <td>0</td>\n",
       "      <td>0</td>\n",
       "      <td>0</td>\n",
       "      <td>0</td>\n",
       "      <td>0</td>\n",
       "      <td>0</td>\n",
       "      <td>0</td>\n",
       "      <td>0</td>\n",
       "      <td>1</td>\n",
       "      <td>0</td>\n",
       "      <td>1</td>\n",
       "      <td>0</td>\n",
       "      <td>0</td>\n",
       "    </tr>\n",
       "  </tbody>\n",
       "</table>\n",
       "</div>"
      ],
      "text/plain": [
       "     Hernia_hiato_total  RGE_esof  Erosiones_esof  Erosiones_estom  \\\n",
       "45                    0         0               0                0   \n",
       "65                    0         0               0                0   \n",
       "66                    0         0               0                0   \n",
       "99                    0         0               0                0   \n",
       "152                   0         0               0                0   \n",
       "164                   0         0               0                0   \n",
       "173                   0         0               0                0   \n",
       "250                   0         0               0                0   \n",
       "\n",
       "     Pólipo_estom  Telangiectasias_yey  Linfagiectasias_yey  Pólipo_yey  \\\n",
       "45              0                    0                    0           0   \n",
       "65              0                    0                    0           0   \n",
       "66              0                    0                    0           0   \n",
       "99              0                    0                    0           0   \n",
       "152             0                    0                    0           0   \n",
       "164             0                    0                    0           0   \n",
       "173             0                    0                    0           0   \n",
       "250             0                    0                    0           0   \n",
       "\n",
       "     Diverticulo_íleon  Erosiones_del  Diverticulo_del  Enteritis_del  \\\n",
       "45                   0              0                0              0   \n",
       "65                   0              0                0              0   \n",
       "66                   0              0                0              0   \n",
       "99                   0              0                0              0   \n",
       "152                  0              0                0              0   \n",
       "164                  0              0                0              0   \n",
       "173                  0              0                0              0   \n",
       "250                  0              0                0              0   \n",
       "\n",
       "     Pólipo_del  Otros_del  Hemorroides  Diverticulo_col  Diverticulo_C_drch  \\\n",
       "45            0          0            0                0                   0   \n",
       "65            0          0            0                0                   0   \n",
       "66            0          0            0                0                   0   \n",
       "99            0          0            0                0                   0   \n",
       "152           0          0            0                0                   0   \n",
       "164           0          0            0                0                   0   \n",
       "173           0          0            0                0                   0   \n",
       "250           0          0            0                1                   0   \n",
       "\n",
       "    Diverticulo_sig  Diverticulo_C_izq  Sigmoiditis  \n",
       "45                0                  0            0  \n",
       "65                0                  0            0  \n",
       "66                0                  0            1  \n",
       "99                0                  0            0  \n",
       "152               0                  0            1  \n",
       "164               0                  0            0  \n",
       "173               0                  0            0  \n",
       "250               1                  0            0  "
      ]
     },
     "execution_count": 278,
     "metadata": {},
     "output_type": "execute_result"
    }
   ],
   "source": [
    "uruguay_dolor[hz_Tta].iloc[:,:20]"
   ]
  },
  {
   "cell_type": "code",
   "execution_count": 279,
   "metadata": {},
   "outputs": [
    {
     "name": "stderr",
     "output_type": "stream",
     "text": [
      "/usr/local/Cellar/ipython/7.7.0/libexec/vendor/lib/python3.7/site-packages/ipykernel_launcher.py:1: SettingWithCopyWarning: \n",
      "A value is trying to be set on a copy of a slice from a DataFrame.\n",
      "Try using .loc[row_indexer,col_indexer] = value instead\n",
      "\n",
      "See the caveats in the documentation: http://pandas.pydata.org/pandas-docs/stable/user_guide/indexing.html#returning-a-view-versus-a-copy\n",
      "  \"\"\"Entry point for launching an IPython kernel.\n"
     ]
    }
   ],
   "source": [
    "uruguay_dolor[\"Hz_Tta\"] = uruguay_dolor[hz_Tta].sum(axis=1)"
   ]
  },
  {
   "cell_type": "code",
   "execution_count": 281,
   "metadata": {},
   "outputs": [
    {
     "data": {
      "text/plain": [
       "5"
      ]
     },
     "execution_count": 281,
     "metadata": {},
     "output_type": "execute_result"
    }
   ],
   "source": [
    "#Número de pacientes con hallazgos para futuras terapías\n",
    "len(uruguay_dolor[uruguay_dolor[\"Hz_Tta\"]>=1])"
   ]
  },
  {
   "cell_type": "code",
   "execution_count": 283,
   "metadata": {},
   "outputs": [
    {
     "name": "stderr",
     "output_type": "stream",
     "text": [
      "/usr/local/Cellar/ipython/7.7.0/libexec/vendor/lib/python3.7/site-packages/ipykernel_launcher.py:1: SettingWithCopyWarning: \n",
      "A value is trying to be set on a copy of a slice from a DataFrame.\n",
      "Try using .loc[row_indexer,col_indexer] = value instead\n",
      "\n",
      "See the caveats in the documentation: http://pandas.pydata.org/pandas-docs/stable/user_guide/indexing.html#returning-a-view-versus-a-copy\n",
      "  \"\"\"Entry point for launching an IPython kernel.\n"
     ]
    }
   ],
   "source": [
    "uruguay_dolor[\"Hz_Prueba\"] = uruguay_dolor[hz_prueba].sum(axis=1)"
   ]
  },
  {
   "cell_type": "code",
   "execution_count": 284,
   "metadata": {},
   "outputs": [
    {
     "data": {
      "text/plain": [
       "3"
      ]
     },
     "execution_count": 284,
     "metadata": {},
     "output_type": "execute_result"
    }
   ],
   "source": [
    "#Número de pacientes con hallazgos para estudios complementarios\n",
    "len(uruguay_dolor[uruguay_dolor[\"Hz_Prueba\"]>=1])"
   ]
  },
  {
   "cell_type": "code",
   "execution_count": 285,
   "metadata": {},
   "outputs": [
    {
     "data": {
      "text/plain": [
       "3"
      ]
     },
     "execution_count": 285,
     "metadata": {},
     "output_type": "execute_result"
    }
   ],
   "source": [
    "#Número de pacientes con hallazgos compatibles con la normalidad\n",
    "pct_normal_uru=uruguay_dolor[(uruguay_dolor[\"Hz_Tta\"]==0)&\n",
    "(uruguay_dolor[\"Hz_Prueba\"]==0)]                    \n",
    "len(pct_normal_uru)"
   ]
  },
  {
   "cell_type": "code",
   "execution_count": 286,
   "metadata": {
    "scrolled": true
   },
   "outputs": [
    {
     "data": {
      "text/html": [
       "<div>\n",
       "<style scoped>\n",
       "    .dataframe tbody tr th:only-of-type {\n",
       "        vertical-align: middle;\n",
       "    }\n",
       "\n",
       "    .dataframe tbody tr th {\n",
       "        vertical-align: top;\n",
       "    }\n",
       "\n",
       "    .dataframe thead th {\n",
       "        text-align: right;\n",
       "    }\n",
       "</style>\n",
       "<table border=\"1\" class=\"dataframe\">\n",
       "  <thead>\n",
       "    <tr style=\"text-align: right;\">\n",
       "      <th></th>\n",
       "      <th>No_evaluable_esof</th>\n",
       "      <th>No_evaluable_estom</th>\n",
       "      <th>No_evaluable_del</th>\n",
       "      <th>No_evaluable_col</th>\n",
       "    </tr>\n",
       "  </thead>\n",
       "  <tbody>\n",
       "    <tr>\n",
       "      <th>45</th>\n",
       "      <td>0</td>\n",
       "      <td>0</td>\n",
       "      <td>0</td>\n",
       "      <td>0</td>\n",
       "    </tr>\n",
       "    <tr>\n",
       "      <th>65</th>\n",
       "      <td>1</td>\n",
       "      <td>1</td>\n",
       "      <td>0</td>\n",
       "      <td>0</td>\n",
       "    </tr>\n",
       "    <tr>\n",
       "      <th>66</th>\n",
       "      <td>0</td>\n",
       "      <td>0</td>\n",
       "      <td>0</td>\n",
       "      <td>0</td>\n",
       "    </tr>\n",
       "    <tr>\n",
       "      <th>99</th>\n",
       "      <td>0</td>\n",
       "      <td>0</td>\n",
       "      <td>0</td>\n",
       "      <td>0</td>\n",
       "    </tr>\n",
       "    <tr>\n",
       "      <th>152</th>\n",
       "      <td>0</td>\n",
       "      <td>0</td>\n",
       "      <td>0</td>\n",
       "      <td>0</td>\n",
       "    </tr>\n",
       "    <tr>\n",
       "      <th>164</th>\n",
       "      <td>0</td>\n",
       "      <td>0</td>\n",
       "      <td>0</td>\n",
       "      <td>0</td>\n",
       "    </tr>\n",
       "    <tr>\n",
       "      <th>173</th>\n",
       "      <td>0</td>\n",
       "      <td>0</td>\n",
       "      <td>0</td>\n",
       "      <td>0</td>\n",
       "    </tr>\n",
       "    <tr>\n",
       "      <th>250</th>\n",
       "      <td>0</td>\n",
       "      <td>0</td>\n",
       "      <td>0</td>\n",
       "      <td>0</td>\n",
       "    </tr>\n",
       "  </tbody>\n",
       "</table>\n",
       "</div>"
      ],
      "text/plain": [
       "     No_evaluable_esof  No_evaluable_estom  No_evaluable_del  No_evaluable_col\n",
       "45                   0                   0                 0                 0\n",
       "65                   1                   1                 0                 0\n",
       "66                   0                   0                 0                 0\n",
       "99                   0                   0                 0                 0\n",
       "152                  0                   0                 0                 0\n",
       "164                  0                   0                 0                 0\n",
       "173                  0                   0                 0                 0\n",
       "250                  0                   0                 0                 0"
      ]
     },
     "execution_count": 286,
     "metadata": {},
     "output_type": "execute_result"
    }
   ],
   "source": [
    "#Número de pacientes con zonas del tracto GI sin posible evaluación (1)\n",
    "uruguay_dolor[no_evaluable] "
   ]
  },
  {
   "cell_type": "code",
   "execution_count": 287,
   "metadata": {},
   "outputs": [
    {
     "data": {
      "text/plain": [
       "Int64Index([65, 164, 173], dtype='int64')"
      ]
     },
     "execution_count": 287,
     "metadata": {},
     "output_type": "execute_result"
    }
   ],
   "source": [
    "pct_normal_uru.index "
   ]
  },
  {
   "cell_type": "markdown",
   "metadata": {},
   "source": [
    "Como se ve uno de los pacientes (65) que no tiene hallazgos, tiene el esófago y el estómago sin evaluar."
   ]
  },
  {
   "cell_type": "code",
   "execution_count": 288,
   "metadata": {},
   "outputs": [
    {
     "data": {
      "text/plain": [
       "Hernia_hiato_total     0.0\n",
       "RGE_esof               0.0\n",
       "Erosiones_esof         0.0\n",
       "Erosiones_estom        0.0\n",
       "Pólipo_estom           0.0\n",
       "Telangiectasias_yey    0.0\n",
       "Linfagiectasias_yey    0.0\n",
       "Pólipo_yey             0.0\n",
       "Diverticulo_íleon      0.0\n",
       "Erosiones_del          0.0\n",
       "Diverticulo_del        0.0\n",
       "Enteritis_del          0.0\n",
       "Pólipo_del             0.0\n",
       "Otros_del              0.0\n",
       "Hemorroides            0.0\n",
       "Diverticulo_col        1.0\n",
       "Diverticulo_C_drch     0.0\n",
       "Diverticulo_sig        1.0\n",
       "Diverticulo_C_izq      0.0\n",
       "Sigmoiditis            2.0\n",
       "Proctitis              0.0\n",
       "Angiodisplasia_col     0.0\n",
       "Pólipo_col             4.0\n",
       "Pólipo_C_drch          1.0\n",
       "Pólipo_C_asce          1.0\n",
       "Pólipo_C_trans         0.0\n",
       "Pólipo_C_izq           0.0\n",
       "Pólipo_C_desc          0.0\n",
       "Pólipo_ciego           0.0\n",
       "Pólipo_sig             1.0\n",
       "Pólipo_recto           1.0\n",
       "Melanosis              0.0\n",
       "Otras_col              1.0\n",
       "dtype: float64"
      ]
     },
     "execution_count": 288,
     "metadata": {},
     "output_type": "execute_result"
    }
   ],
   "source": [
    "uruguay_dolor[hz_Tta].sum(axis=0)"
   ]
  },
  {
   "cell_type": "code",
   "execution_count": 289,
   "metadata": {},
   "outputs": [
    {
     "data": {
      "text/html": [
       "<div>\n",
       "<style scoped>\n",
       "    .dataframe tbody tr th:only-of-type {\n",
       "        vertical-align: middle;\n",
       "    }\n",
       "\n",
       "    .dataframe tbody tr th {\n",
       "        vertical-align: top;\n",
       "    }\n",
       "\n",
       "    .dataframe thead th {\n",
       "        text-align: right;\n",
       "    }\n",
       "</style>\n",
       "<table border=\"1\" class=\"dataframe\">\n",
       "  <thead>\n",
       "    <tr style=\"text-align: right;\">\n",
       "      <th></th>\n",
       "      <th>Trast_tránsito_esof</th>\n",
       "      <th>Barret_esof</th>\n",
       "      <th>Esof_eosinofilica_esof</th>\n",
       "      <th>Estenosis_extr_esof</th>\n",
       "      <th>Trast_motilidad_estom</th>\n",
       "      <th>Gastritis_estom</th>\n",
       "      <th>Yeyunitis</th>\n",
       "      <th>Erosiones_yey</th>\n",
       "      <th>Ileitis</th>\n",
       "      <th>Erosiones_íleon</th>\n",
       "      <th>Pólipo_íleon</th>\n",
       "      <th>Erosiones_col</th>\n",
       "      <th>Otros_estom</th>\n",
       "    </tr>\n",
       "  </thead>\n",
       "  <tbody>\n",
       "    <tr>\n",
       "      <th>45</th>\n",
       "      <td>0</td>\n",
       "      <td>0</td>\n",
       "      <td>0</td>\n",
       "      <td>0</td>\n",
       "      <td>0</td>\n",
       "      <td>0</td>\n",
       "      <td>0</td>\n",
       "      <td>1</td>\n",
       "      <td>0</td>\n",
       "      <td>0</td>\n",
       "      <td>0</td>\n",
       "      <td>0</td>\n",
       "      <td>0</td>\n",
       "    </tr>\n",
       "    <tr>\n",
       "      <th>66</th>\n",
       "      <td>0</td>\n",
       "      <td>0</td>\n",
       "      <td>0</td>\n",
       "      <td>0</td>\n",
       "      <td>0</td>\n",
       "      <td>0</td>\n",
       "      <td>0</td>\n",
       "      <td>0</td>\n",
       "      <td>0</td>\n",
       "      <td>0</td>\n",
       "      <td>0</td>\n",
       "      <td>1</td>\n",
       "      <td>0</td>\n",
       "    </tr>\n",
       "    <tr>\n",
       "      <th>99</th>\n",
       "      <td>0</td>\n",
       "      <td>0</td>\n",
       "      <td>0</td>\n",
       "      <td>0</td>\n",
       "      <td>0</td>\n",
       "      <td>0</td>\n",
       "      <td>0</td>\n",
       "      <td>0</td>\n",
       "      <td>1</td>\n",
       "      <td>0</td>\n",
       "      <td>0</td>\n",
       "      <td>0</td>\n",
       "      <td>0</td>\n",
       "    </tr>\n",
       "  </tbody>\n",
       "</table>\n",
       "</div>"
      ],
      "text/plain": [
       "    Trast_tránsito_esof  Barret_esof  Esof_eosinofilica_esof  \\\n",
       "45                    0            0                       0   \n",
       "66                    0            0                       0   \n",
       "99                    0            0                       0   \n",
       "\n",
       "    Estenosis_extr_esof  Trast_motilidad_estom  Gastritis_estom  Yeyunitis  \\\n",
       "45                    0                      0                0          0   \n",
       "66                    0                      0                0          0   \n",
       "99                    0                      0                0          0   \n",
       "\n",
       "    Erosiones_yey  Ileitis  Erosiones_íleon  Pólipo_íleon  Erosiones_col  \\\n",
       "45              1        0                0             0              0   \n",
       "66              0        0                0             0              1   \n",
       "99              0        1                0             0              0   \n",
       "\n",
       "    Otros_estom  \n",
       "45            0  \n",
       "66            0  \n",
       "99            0  "
      ]
     },
     "execution_count": 289,
     "metadata": {},
     "output_type": "execute_result"
    }
   ],
   "source": [
    "#Hallazgos para posterior estuido complementario \n",
    "uruguay_dolor[uruguay_dolor[\"Hz_Prueba\"]>=1][hz_prueba]"
   ]
  },
  {
   "cell_type": "markdown",
   "metadata": {},
   "source": [
    "Hallazgos más frecuentes:\n",
    "- Hz Tratamiento: Pólipos en colon (4), sigmoiditis, resto todos con 1.\n",
    "- Hz Pruebas: Erosiones (Yeyuno, colon), ileitis."
   ]
  },
  {
   "cell_type": "code",
   "execution_count": 291,
   "metadata": {},
   "outputs": [
    {
     "data": {
      "text/html": [
       "<div>\n",
       "<style scoped>\n",
       "    .dataframe tbody tr th:only-of-type {\n",
       "        vertical-align: middle;\n",
       "    }\n",
       "\n",
       "    .dataframe tbody tr th {\n",
       "        vertical-align: top;\n",
       "    }\n",
       "\n",
       "    .dataframe thead th {\n",
       "        text-align: right;\n",
       "    }\n",
       "</style>\n",
       "<table border=\"1\" class=\"dataframe\">\n",
       "  <thead>\n",
       "    <tr style=\"text-align: right;\">\n",
       "      <th></th>\n",
       "      <th>Pacientes</th>\n",
       "      <th>Normal</th>\n",
       "      <th>No evaluable</th>\n",
       "      <th>Hz Pruebas</th>\n",
       "      <th>Hz Tratamiento</th>\n",
       "    </tr>\n",
       "  </thead>\n",
       "  <tbody>\n",
       "    <tr>\n",
       "      <th>Cidma</th>\n",
       "      <td>53</td>\n",
       "      <td>[6, 11.32 %]</td>\n",
       "      <td>[15, 28.3 %]</td>\n",
       "      <td>[33, 62.26 %]</td>\n",
       "      <td>[39, 73.58 %]</td>\n",
       "    </tr>\n",
       "    <tr>\n",
       "      <th>Uruguay</th>\n",
       "      <td>8</td>\n",
       "      <td>[3, 37.5 %]</td>\n",
       "      <td>[1, 12.5 %]</td>\n",
       "      <td>[3, 37.5 %]</td>\n",
       "      <td>[5, 62.5 %]</td>\n",
       "    </tr>\n",
       "  </tbody>\n",
       "</table>\n",
       "</div>"
      ],
      "text/plain": [
       "         Pacientes        Normal  No evaluable     Hz Pruebas Hz Tratamiento\n",
       "Cidma           53  [6, 11.32 %]  [15, 28.3 %]  [33, 62.26 %]  [39, 73.58 %]\n",
       "Uruguay          8   [3, 37.5 %]   [1, 12.5 %]    [3, 37.5 %]    [5, 62.5 %]"
      ]
     },
     "metadata": {},
     "output_type": "display_data"
    }
   ],
   "source": [
    "pregunta_1=pd.DataFrame({\"Pacientes\":[53,8],\"Normal\":[[6,str(round((6*100/53),2))+\" %\"],[3,str(round((3*100/8),2))+\" %\"]], \n",
    "                         \"No evaluable\":[[15,str(round((15*100/53),2))+\" %\"],[1,str(round((1*100/8),2))+\" %\"]],\n",
    "                       \"Hz Pruebas\":[[33,str(round((33*100/53),2))+\" %\"],[3,str(round((3*100/8),2))+\" %\"]],\n",
    "                         \"Hz Tratamiento\":[[39,str(round((39*100/53),2))+\" %\"],[5,str(round((5*100/8),2))+\" %\"]]}\n",
    "                        ,index=[\"Cidma\",\"Uruguay\"])\n",
    "display(pregunta_1)\n"
   ]
  },
  {
   "cell_type": "markdown",
   "metadata": {},
   "source": [
    "# <font color='blue'>Número de pacientes y porcentajes</font>\n",
    "\n",
    "Se observa que un 88,68% de los pacientes de CIDMA a los que se le hizo la cápsula por síntomas de dolor abdominal presentaron hallazgos de algún tipo. Destacando el 73,58% que recibieron un diagnostico definitivo, sin necesidad de pruebas complementarias. Sin embargo ese porcentaje cae al 62,5% en los pacientes del hospital Italiano, pero que aún así permite observar una capacidad de deteción de hallazgos de mas del 60%."
   ]
  },
  {
   "cell_type": "markdown",
   "metadata": {},
   "source": [
    "# Resto de indicaciones\n",
    "Para el resto de indicaciones decido crear una función que recibiendo como entrada la indicación a analizar, devuelva\n",
    "el cuadro con los porcentajes y hallazgos mas frecuentes\n",
    "\n",
    "\n",
    "\n"
   ]
  },
  {
   "cell_type": "markdown",
   "metadata": {},
   "source": [
    "Decido unir en una única variable las columnas \"EEI\" y \"Crohn\" ya que son pocos valores y tienen cierta relación\n",
    "que permitiria su analisis en conjunto sin modificar resultados. Quedando unidas en la variable \"Enf_II\""
   ]
  },
  {
   "cell_type": "code",
   "execution_count": null,
   "metadata": {},
   "outputs": [],
   "source": [
    "def EII(fila):\n",
    "    a='EII'\n",
    "    b='Crohn'\n",
    "    if fila[a]==fila[b]:\n",
    "        return fila[a]\n",
    "    elif fila[a]<fila[b]:\n",
    "        return fila[b]\n",
    "    else:\n",
    "        return fila[a]"
   ]
  },
  {
   "cell_type": "code",
   "execution_count": null,
   "metadata": {},
   "outputs": [],
   "source": [
    "datos[\"Enf_II\"]=datos.apply(lambda fila: EII(fila),axis=1)\n",
    "datos[\"Enf_II\"].value_counts()"
   ]
  },
  {
   "cell_type": "code",
   "execution_count": 498,
   "metadata": {},
   "outputs": [],
   "source": [
    "# Todas las posibles indicaciones del estudio\n",
    "indicacion=['HDOO_oculta',\n",
    " 'HDOO_mani',\n",
    " 'Crohn',\n",
    " 'Alt_tránsito',\n",
    " 'Anemia',\n",
    " 'Dolor_abd',\n",
    " 'Estreñimiento',\n",
    " 'Diarrea',\n",
    " 'Vómitos',\n",
    " 'Pérdida_peso',\n",
    " 'EII',\n",
    "\"Enf_II\",\n",
    " 'Colono_imcp',\n",
    " 'Cribado',\n",
    " 'Revisión',\n",
    " 'Otros_indica']"
   ]
  },
  {
   "cell_type": "code",
   "execution_count": 499,
   "metadata": {},
   "outputs": [
    {
     "data": {
      "text/plain": [
       "HDOO_oculta      23\n",
       "HDOO_mani        15\n",
       "Crohn             4\n",
       "Alt_tránsito      3\n",
       "Anemia           25\n",
       "Dolor_abd        61\n",
       "Estreñimiento     6\n",
       "Diarrea          35\n",
       "Vómitos          10\n",
       "Pérdida_peso      8\n",
       "EII               5\n",
       "Enf_II            9\n",
       "Colono_imcp      10\n",
       "Cribado          58\n",
       "Revisión         18\n",
       "Otros_indica     19\n",
       "dtype: int64"
      ]
     },
     "execution_count": 499,
     "metadata": {},
     "output_type": "execute_result"
    }
   ],
   "source": [
    "#Evaluó las otras indicaciones para analizar cuales son las más frecuentes\n",
    "datos[indicacion].sum(axis=0)"
   ]
  },
  {
   "cell_type": "code",
   "execution_count": 500,
   "metadata": {},
   "outputs": [],
   "source": [
    "#Función que recibe una indicación y mira el número de pacientes (CIDMA, Uruguay) y calcular (número y porcentaje) \n",
    "#de hallazgos terapéutico, pruebas complementarias y no evaluables. \n",
    "#Junto a eso también porporciona los hallazgos más frecuentes y si de los pacientes sin hallazgos clasificados como\n",
    "#Normal tienen zonas no evaluadas.\n",
    "\n",
    "\n",
    "#NOTA: Para entender la función, se desgrana mejor apartir del else, el resto es lo mismo pero mas agrupado y \n",
    "#recortado\n",
    "def porcentajes (indicacion):\n",
    "    cidma_a = datos[(datos['Médico']==0) & (datos[indicacion]==1)]\n",
    "    uruguay_b= datos[(datos['Médico']==1) & (datos[indicacion]==1)]\n",
    "    paciente_indicacion=len(cidma_a)\n",
    "    paciente_indicacion_uru=len(uruguay_b)\n",
    "    \n",
    "    if paciente_indicacion==0:\n",
    "        uruguay_b[\"Hz_Tta\"] = uruguay_b[hz_Tta].sum(axis=1)\n",
    "        hzgs_T_uruguay=len(uruguay_b[uruguay_b[\"Hz_Tta\"]>=1])\n",
    "        uruguay_b[\"Hz_Prueba\"] = uruguay_b[hz_prueba].sum(axis=1) \n",
    "        hzgs_P_uruguay=len(uruguay_b[uruguay_b[\"Hz_Prueba\"]>=1])\n",
    "        norml_uruguay=uruguay_b[(uruguay_b[\"Hz_Tta\"]==0)&\n",
    "                               (uruguay_b[\"Hz_Prueba\"]==0)]                     \n",
    "        normal_uruguay=len(norml_uruguay)\n",
    "        no_visi_uruguay=[]\n",
    "        No_visi_uruguay=[]\n",
    "        for e in no_evaluable:\n",
    "            a_uru=uruguay_b[e].isin([1])\n",
    "            for i in a_uru:\n",
    "                if i==1:\n",
    "                    b_uru=uruguay_b[e][a_uru].index\n",
    "                    no_visi_uruguay.append(b_uru)\n",
    "                elif len(no_visi_uruguay)>=1:\n",
    "                    for j in no_visi_uruguay:\n",
    "                        for x in j:\n",
    "                            No_visi_uruguay.append(x)\n",
    "                elif len(no_visi_uruguay)==0:\n",
    "                    No_visi_uruguay=[]\n",
    "        NO_VISIBLE_uruguay=set(No_visi_uruguay)\n",
    "        no_eva_uruguay=len(NO_VISIBLE_uruguay)  \n",
    "        N_No_eva_urugua=[]\n",
    "        for e in NO_VISIBLE_uruguay:\n",
    "            for i in norml_uruguay.index:\n",
    "                if e==i:\n",
    "                    N_No_eva_urugua.append(e)\n",
    "        N_No_eva_uruguay=len(N_No_eva_urugua)                                          \n",
    "        dic_b={}\n",
    "        for e in hz_Tta:\n",
    "            b=uruguay_b[e].value_counts()\n",
    "            dic_b[e]=b\n",
    "        hz_Tta_frec_uruguay={}\n",
    "        for e in hz_Tta:\n",
    "            if len(dic_b[e])>1:\n",
    "                hz_Tta_frec_uruguay[e]=dic_b[e][1]\n",
    "            elif len(dic_b[e])==1:\n",
    "                if dic_b[e].keys()==0:\n",
    "                    del dic_b[e]\n",
    "            else:\n",
    "                hz_Tta_frec_uruguay[e]=dic_b[e][1]\n",
    "        hz_Tta_frec_uruguay=sorted(hz_Tta_frec_uruguay.items(), key=operator.itemgetter(1),reverse=True)\n",
    "        for e in hz_prueba:\n",
    "            c=uruguay_b[e].value_counts()\n",
    "            dic_b[e]=c      \n",
    "        hz_prueba_frec_uruguay={}\n",
    "        for e in hz_prueba:\n",
    "            if len(dic_b[e])>1:\n",
    "                hz_prueba_frec_uruguay[e]=dic_b[e][1]\n",
    "            elif len(dic_b[e])==1:\n",
    "                if dic_b[e].keys()==0:\n",
    "                    del dic_b[e]\n",
    "            else:\n",
    "                hz_prueba_frec_uruguay[e]=dic_b[e][1]\n",
    "        hz_prueba_frec_uruguay=sorted(hz_prueba_frec_uruguay.items(), key=operator.itemgetter(1),reverse=True)\n",
    "        \n",
    "        pregunta=pd.DataFrame({\"Pacientes\":[\"NO\",paciente_indicacion_uru],\n",
    "                                 \"Normal\":[[\"NO\"],[normal_uruguay,str(round((normal_uruguay*100/paciente_indicacion_uru),2))+\" %\"]], \n",
    "                             \"No evaluable\":[[\"NO\"],[no_eva_uruguay,str(round((no_eva_uruguay*100/paciente_indicacion_uru),2))+\" %\"]],\n",
    "                           \"Hz Pruebas\":[[\"NO\"],[hzgs_P_uruguay,str(round((hzgs_P_uruguay*100/paciente_indicacion_uru),2))+\" %\"]],\n",
    "                             \"Hz Tratamiento\":[[\"NO\"],[hzgs_T_uruguay,str(round((hzgs_T_uruguay*100/paciente_indicacion_uru),2))+\" %\"]]}\n",
    "                            ,index=[\"Cidma\",\"Uruguay\"])\n",
    "\n",
    "        return (pregunta,\"{} Uruguay hallazgos terapeúticos más frecuentes {}\".format(indicacion,hz_Tta_frec_uruguay[0:3]),\n",
    "               \"{} Uruguay hallazgos pruebas complementarias {}\".format(indicacion,hz_prueba_frec_uruguay[0:3]),\n",
    "                \"Uruguay pacientes sin hallazgos patológicos con áreas del tracto digestivo no evaluables {}\".format(N_No_eva_uruguay),\n",
    "               \"No CIDMA\",\"No CIDMA\",\"No CIDMA\")\n",
    "    \n",
    "                \n",
    "    elif paciente_indicacion_uru==0:\n",
    "        cidma_a[\"Hz_Tta\"] = cidma_a[hz_Tta].sum(axis=1)\n",
    "        hzgs_T_cidma=len(cidma_a[cidma_a[\"Hz_Tta\"]>=1])\n",
    "        cidma_a[\"Hz_Prueba\"] = cidma_a[hz_prueba].sum(axis=1) \n",
    "        hzgs_P_cidma=len(cidma_a[cidma_a[\"Hz_Prueba\"]>=1])\n",
    "        norml_cidma=cidma_a[(cidma_a[\"Hz_Tta\"]==0)&(cidma_a[\"Hz_Prueba\"]==0)]                     \n",
    "        normal_cidma=len(norml_cidma)\n",
    "        no_visi_cidma=[]\n",
    "        No_visi_cidma=[]\n",
    "        for e in no_evaluable:\n",
    "            a=cidma_a[e].isin([1])\n",
    "            for i in a:\n",
    "                if i==1:\n",
    "                    b=cidma_a[e][a].index\n",
    "                    no_visi_cidma.append(b)\n",
    "                elif len(no_visi_cidma)>=1:\n",
    "                    for j in no_visi_cidma:\n",
    "                        for x in j:\n",
    "                            No_visi_cidma.append(x)\n",
    "                elif len(no_visi_cidma)==0:\n",
    "                    No_visi_cidma=[]\n",
    "        NO_VISIBLE_cidma=set(No_visi_cidma)\n",
    "        no_eva_cidma=len(NO_VISIBLE_cidma)              \n",
    "        N_No_eva_cidm=[]\n",
    "        for e in NO_VISIBLE_cidma:\n",
    "            for i in norml_cidma.index:\n",
    "                if e==i:\n",
    "                    N_No_eva_cidm.append(e)\n",
    "        N_No_eva_cidma=len(N_No_eva_cidm)                                 \n",
    "        dic={}\n",
    "        for e in hz_Tta:\n",
    "            b=cidma_a[e].value_counts()\n",
    "            dic[e]=b\n",
    "        hz_Tta_frec_cidma={}\n",
    "        for e in hz_Tta:\n",
    "            if len(dic[e])>1:\n",
    "                hz_Tta_frec_cidma[e]=dic[e][1]\n",
    "            elif len(dic[e])==1:\n",
    "                if dic[e].keys()==0:\n",
    "                    del dic[e]\n",
    "            else:\n",
    "                hz_Tta_frec_cidma[e]=dic[e][1]\n",
    "        hz_Tta_frec_cidma=sorted(hz_Tta_frec_cidma.items(), key=operator.itemgetter(1),reverse=True)\n",
    "        dic={}\n",
    "        for e in hz_prueba:\n",
    "            b=cidma_a[e].value_counts()\n",
    "            dic[e]=b\n",
    "        dic_b={}\n",
    "        hz_prueba_frec_cidma={}\n",
    "        for e in hz_prueba:\n",
    "            if len(dic[e])>1:\n",
    "                hz_prueba_frec_cidma[e]=dic[e][1]\n",
    "            elif len(dic[e])==1:\n",
    "                if dic[e].keys()==0:\n",
    "                    del dic[e]\n",
    "            else:\n",
    "                hz_prueba_frec_cidma[e]=dic[e][1]\n",
    "        hz_prueba_frec_cidma=sorted(hz_prueba_frec_cidma.items(), key=operator.itemgetter(1),reverse=True)\n",
    "        \n",
    "        pregunta=pd.DataFrame({\"Pacientes\":[paciente_indicacion,\"NO\"],\n",
    "                                 \"Normal\":[[normal_cidma,str(round((normal_cidma*100/paciente_indicacion),2))+\" %\"],[\"NO\"]], \n",
    "                             \"No evaluable\":[[no_eva_cidma,str(round((no_eva_cidma*100/paciente_indicacion),2))+\" %\"],[\"NO\"]],\n",
    "                           \"Hz Pruebas\":[[hzgs_P_cidma,str(round((hzgs_P_cidma*100/paciente_indicacion),2))+\" %\"],[\"NO\"]],\n",
    "                             \"Hz Tratamiento\":[[hzgs_T_cidma,str(round((hzgs_T_cidma*100/paciente_indicacion),2))+\" %\"],[\"NO\"]]},index=[\"Cidma\",\"Uruguay\"])\n",
    "        \n",
    "        return (pregunta,\"{} CIDMA hallazgos terapeúticos más frecuentes {}\".format(indicacion,hz_Tta_frec_cidma[0:3]),\n",
    "               \"{} CIDMA hallazgos pruebas complementarias {}\".format(indicacion,hz_prueba_frec_cidma[0:3]),\n",
    "                \"CIDMA pacientes sin hallazgos patológicos con áreas del tracto digestivo no evaluables {}\".format(N_No_eva_cidma),\n",
    "               \"NO Uruguay\",\"No Uruguay\",\"No Uruguay\")\n",
    "    else:\n",
    "        #Número de pacientes con hallazgos para futuras terapías\n",
    "        #CIDMA\n",
    "        cidma_a[\"Hz_Tta\"] = cidma_a[hz_Tta].sum(axis=1)\n",
    "        hzgs_T_cidma=len(cidma_a[cidma_a[\"Hz_Tta\"]>=1])\n",
    "        #Uruguay\n",
    "        uruguay_b[\"Hz_Tta\"] = uruguay_b[hz_Tta].sum(axis=1)\n",
    "        hzgs_T_uruguay=len(uruguay_b[uruguay_b[\"Hz_Tta\"]>=1])\n",
    "\n",
    "        #Número de pacientes con hallazgos para futuros estudios\n",
    "        #CIDMA\n",
    "        cidma_a[\"Hz_Prueba\"] = cidma_a[hz_prueba].sum(axis=1) \n",
    "        hzgs_P_cidma=len(cidma_a[cidma_a[\"Hz_Prueba\"]>=1]) \n",
    "        #Uruguay\n",
    "        uruguay_b[\"Hz_Prueba\"] = uruguay_b[hz_prueba].sum(axis=1) \n",
    "        hzgs_P_uruguay=len(uruguay_b[uruguay_b[\"Hz_Prueba\"]>=1])\n",
    "\n",
    "        #Número de pacientes con hallazgos compatibles con la normalidad\n",
    "        #CIDMA\n",
    "        norml_cidma=cidma_a[(cidma_a[\"Hz_Tta\"]==0)&\n",
    "                               (cidma_a[\"Hz_Prueba\"]==0)]                     \n",
    "        normal_cidma=len(norml_cidma)\n",
    "        #Uruguay\n",
    "        norml_uruguay=uruguay_b[(uruguay_b[\"Hz_Tta\"]==0)&\n",
    "                               (uruguay_b[\"Hz_Prueba\"]==0)]                     \n",
    "        normal_uruguay=len(norml_uruguay)\n",
    "\n",
    "        #Número de pacientes con zonas del tracto GI sin posible evaluación\n",
    "        #CIDMA\n",
    "        no_visi_cidma=[]\n",
    "        No_visi_cidma=[]\n",
    "        for e in no_evaluable:\n",
    "            a=cidma_a[e].isin([1])\n",
    "            for i in a:\n",
    "                if i==1:\n",
    "                    b=cidma_a[e][a].index\n",
    "                    no_visi_cidma.append(b)\n",
    "                elif len(no_visi_cidma)>=1:\n",
    "                    for j in no_visi_cidma:\n",
    "                        for x in j:\n",
    "                            No_visi_cidma.append(x)\n",
    "                elif len(no_visi_cidma)==0:\n",
    "                    No_visi_cidma=[]\n",
    "        NO_VISIBLE_cidma=set(No_visi_cidma)\n",
    "        no_eva_cidma=len(NO_VISIBLE_cidma)  \n",
    "        \n",
    "        #Pacientes sin hallazgos patologicos con zonas del tracto digestivo no evaluables\n",
    "        N_No_eva_cidm=[]\n",
    "        for e in NO_VISIBLE_cidma:\n",
    "            for i in norml_cidma.index:\n",
    "                if e==i:\n",
    "                    N_No_eva_cidm.append(e)\n",
    "        N_No_eva_cidma=len(N_No_eva_cidm)\n",
    "        #Uruguay\n",
    "        no_visi_uruguay=[]\n",
    "        No_visi_uruguay=[]\n",
    "        for e in no_evaluable:\n",
    "            a_uru=uruguay_b[e].isin([1])\n",
    "            for i in a_uru:\n",
    "                if i==1:\n",
    "                    b_uru=uruguay_b[e][a_uru].index\n",
    "                    no_visi_uruguay.append(b_uru)\n",
    "                elif len(no_visi_uruguay)>=1:\n",
    "                    for j in no_visi_uruguay:\n",
    "                        for x in j:\n",
    "                            No_visi_uruguay.append(x)\n",
    "                elif len(no_visi_uruguay)==0:\n",
    "                    No_visi_uruguay=[]\n",
    "        NO_VISIBLE_uruguay=set(No_visi_uruguay)\n",
    "        no_eva_uruguay=len(NO_VISIBLE_uruguay)  \n",
    "        \n",
    "\n",
    "        N_No_eva_urugua=[]\n",
    "        for e in NO_VISIBLE_uruguay:\n",
    "            for i in norml_uruguay.index:\n",
    "                if e==i:\n",
    "                    N_No_eva_urugua.append(e)\n",
    "        N_No_eva_uruguay=len(N_No_eva_urugua)   \n",
    "        \n",
    "        \n",
    "        #Hallazgos tratamientos más frecuentes\n",
    "        #CIDMA\n",
    "        dic={}\n",
    "        for e in hz_Tta:\n",
    "            b=cidma_a[e].value_counts()\n",
    "            dic[e]=b\n",
    "        \n",
    "    \n",
    "        hz_Tta_frec_cidma={}\n",
    "        for e in hz_Tta:\n",
    "            if len(dic[e])>1:\n",
    "                hz_Tta_frec_cidma[e]=dic[e][1]\n",
    "            elif len(dic[e])==1:\n",
    "                if dic[e].keys()==0:\n",
    "                    del dic[e]\n",
    "            else:\n",
    "                hz_Tta_frec_cidma[e]=dic[e][1]\n",
    "        hz_Tta_frec_cidma=sorted(hz_Tta_frec_cidma.items(), key=operator.itemgetter(1),reverse=True)\n",
    "        \n",
    "        #Uruguay\n",
    "        dic_b={}\n",
    "        for e in hz_Tta:\n",
    "            b=uruguay_b[e].value_counts()\n",
    "            dic_b[e]=b\n",
    "        \n",
    "        hz_Tta_frec_uruguay={}\n",
    "        for e in hz_Tta:\n",
    "            if len(dic_b[e])>1:\n",
    "                hz_Tta_frec_uruguay[e]=dic_b[e][1]\n",
    "            elif len(dic_b[e])==1:\n",
    "                if dic_b[e].keys()==0:\n",
    "                    del dic_b[e]\n",
    "            else:\n",
    "                hz_Tta_frec_uruguay[e]=dic[e][1]\n",
    "        hz_Tta_frec_uruguay=sorted(hz_Tta_frec_uruguay.items(), key=operator.itemgetter(1),reverse=True)\n",
    "\n",
    "        #Hallazgos pruebas complementarias mas frecuentes\n",
    "        #CIDMA\n",
    "        dic={}\n",
    "        for e in hz_prueba:\n",
    "            b=cidma_a[e].value_counts()\n",
    "            dic[e]=b\n",
    "        hz_prueba_frec_cidma={}\n",
    "        for e in hz_prueba:\n",
    "            if len(dic[e])>1:\n",
    "                hz_prueba_frec_cidma[e]=dic[e][1]\n",
    "            elif len(dic[e])==1:\n",
    "                if dic[e].keys()==0:\n",
    "                    del dic[e]\n",
    "            else:\n",
    "                hz_prueba_frec_cidma[e]=dic[e][1]\n",
    "        hz_prueba_frec_cidma=sorted(hz_prueba_frec_cidma.items(), key=operator.itemgetter(1),reverse=True)\n",
    "        \n",
    "        #Uruguay\n",
    "        dic_b={}\n",
    "        for e in hz_prueba:\n",
    "            c=uruguay_b[e].value_counts()\n",
    "            dic_b[e]=c \n",
    "        hz_prueba_frec_uruguay={}\n",
    "        for e in hz_prueba:\n",
    "            if len(dic_b[e])>1:\n",
    "                hz_prueba_frec_uruguay[e]=dic_b[e][1]\n",
    "            elif len(dic_b[e])==1:\n",
    "                if dic_b[e].keys()==0:\n",
    "                    del dic_b[e]\n",
    "            else:\n",
    "                hz_prueba_frec_uruguay[e]=dic_b[e][1]\n",
    "        hz_prueba_frec_uruguay=sorted(hz_prueba_frec_uruguay.items(), key=operator.itemgetter(1),reverse=True)\n",
    "\n",
    "\n",
    "        pregunta=pd.DataFrame({\"Pacientes\":[paciente_indicacion,paciente_indicacion_uru],\n",
    "                                 \"Normal\":[[normal_cidma,str(round((normal_cidma*100/paciente_indicacion),2))+\" %\"],[normal_uruguay,str(round((normal_uruguay*100/paciente_indicacion_uru),2))+\" %\"]], \n",
    "                             \"No evaluable\":[[no_eva_cidma,str(round((no_eva_cidma*100/paciente_indicacion),2))+\" %\"],[no_eva_uruguay,str(round((no_eva_uruguay*100/paciente_indicacion_uru),2))+\" %\"]],\n",
    "                           \"Hz Pruebas\":[[hzgs_P_cidma,str(round((hzgs_P_cidma*100/paciente_indicacion),2))+\" %\"],[hzgs_P_uruguay,str(round((hzgs_P_uruguay*100/paciente_indicacion_uru),2))+\" %\"]],\n",
    "                             \"Hz Tratamiento\":[[hzgs_T_cidma,str(round((hzgs_T_cidma*100/paciente_indicacion),2))+\" %\"],[hzgs_T_uruguay,str(round((hzgs_T_uruguay*100/paciente_indicacion_uru),2))+\" %\"]]}\n",
    "                            ,index=[\"Cidma\",\"Uruguay\"])\n",
    "\n",
    "\n",
    "        return (pregunta,\"{} CIDMA hallazgos terapeúticos más frecuentes {}\".format(indicacion,hz_Tta_frec_cidma[0:3]),\n",
    "               \"{} CIDMA hallazgos pruebas complementarias {}\".format(indicacion,hz_prueba_frec_cidma[0:3]), \n",
    "                \"CIDMA pacientes sin hallazgos patológicos con áreas del tracto digestivo no evaluables {}\".format(N_No_eva_cidma),\n",
    "                \"{} Uruguay hallazgos terapeúticos más frecuentes {}\".format(indicacion,hz_Tta_frec_uruguay[0:3]),\n",
    "                \"{} Uruguay hallazgos pruebas complementarias más frecuentes {}\".format(indicacion,hz_prueba_frec_uruguay[0:3]),\n",
    "                \"Uruguay pacientes sin hallazgos patológicos con áreas del tracto digestivo no evaluables {}\".format(N_No_eva_uruguay))\n",
    "    "
   ]
  },
  {
   "cell_type": "code",
   "execution_count": 501,
   "metadata": {},
   "outputs": [
    {
     "name": "stderr",
     "output_type": "stream",
     "text": [
      "/usr/local/Cellar/ipython/7.7.0/libexec/vendor/lib/python3.7/site-packages/ipykernel_launcher.py:158: SettingWithCopyWarning: \n",
      "A value is trying to be set on a copy of a slice from a DataFrame.\n",
      "Try using .loc[row_indexer,col_indexer] = value instead\n",
      "\n",
      "See the caveats in the documentation: http://pandas.pydata.org/pandas-docs/stable/user_guide/indexing.html#returning-a-view-versus-a-copy\n",
      "/usr/local/Cellar/ipython/7.7.0/libexec/vendor/lib/python3.7/site-packages/ipykernel_launcher.py:161: SettingWithCopyWarning: \n",
      "A value is trying to be set on a copy of a slice from a DataFrame.\n",
      "Try using .loc[row_indexer,col_indexer] = value instead\n",
      "\n",
      "See the caveats in the documentation: http://pandas.pydata.org/pandas-docs/stable/user_guide/indexing.html#returning-a-view-versus-a-copy\n",
      "/usr/local/Cellar/ipython/7.7.0/libexec/vendor/lib/python3.7/site-packages/ipykernel_launcher.py:166: SettingWithCopyWarning: \n",
      "A value is trying to be set on a copy of a slice from a DataFrame.\n",
      "Try using .loc[row_indexer,col_indexer] = value instead\n",
      "\n",
      "See the caveats in the documentation: http://pandas.pydata.org/pandas-docs/stable/user_guide/indexing.html#returning-a-view-versus-a-copy\n",
      "/usr/local/Cellar/ipython/7.7.0/libexec/vendor/lib/python3.7/site-packages/ipykernel_launcher.py:169: SettingWithCopyWarning: \n",
      "A value is trying to be set on a copy of a slice from a DataFrame.\n",
      "Try using .loc[row_indexer,col_indexer] = value instead\n",
      "\n",
      "See the caveats in the documentation: http://pandas.pydata.org/pandas-docs/stable/user_guide/indexing.html#returning-a-view-versus-a-copy\n"
     ]
    },
    {
     "data": {
      "text/html": [
       "<div>\n",
       "<style scoped>\n",
       "    .dataframe tbody tr th:only-of-type {\n",
       "        vertical-align: middle;\n",
       "    }\n",
       "\n",
       "    .dataframe tbody tr th {\n",
       "        vertical-align: top;\n",
       "    }\n",
       "\n",
       "    .dataframe thead th {\n",
       "        text-align: right;\n",
       "    }\n",
       "</style>\n",
       "<table border=\"1\" class=\"dataframe\">\n",
       "  <thead>\n",
       "    <tr style=\"text-align: right;\">\n",
       "      <th></th>\n",
       "      <th>Pacientes</th>\n",
       "      <th>Normal</th>\n",
       "      <th>No evaluable</th>\n",
       "      <th>Hz Pruebas</th>\n",
       "      <th>Hz Tratamiento</th>\n",
       "    </tr>\n",
       "  </thead>\n",
       "  <tbody>\n",
       "    <tr>\n",
       "      <th>Cidma</th>\n",
       "      <td>9</td>\n",
       "      <td>[0, 0.0 %]</td>\n",
       "      <td>[2, 22.22 %]</td>\n",
       "      <td>[3, 33.33 %]</td>\n",
       "      <td>[9, 100.0 %]</td>\n",
       "    </tr>\n",
       "    <tr>\n",
       "      <th>Uruguay</th>\n",
       "      <td>14</td>\n",
       "      <td>[1, 7.14 %]</td>\n",
       "      <td>[3, 21.43 %]</td>\n",
       "      <td>[5, 35.71 %]</td>\n",
       "      <td>[11, 78.57 %]</td>\n",
       "    </tr>\n",
       "  </tbody>\n",
       "</table>\n",
       "</div>"
      ],
      "text/plain": [
       "         Pacientes       Normal  No evaluable    Hz Pruebas Hz Tratamiento\n",
       "Cidma            9   [0, 0.0 %]  [2, 22.22 %]  [3, 33.33 %]   [9, 100.0 %]\n",
       "Uruguay         14  [1, 7.14 %]  [3, 21.43 %]  [5, 35.71 %]  [11, 78.57 %]"
      ]
     },
     "metadata": {},
     "output_type": "display_data"
    },
    {
     "name": "stdout",
     "output_type": "stream",
     "text": [
      "HDOO_oculta CIDMA hallazgos terapeúticos más frecuentes [('Hemorroides', 6), ('Diverticulo_col', 6), ('Pólipo_col', 6)]\n",
      "HDOO_oculta CIDMA hallazgos pruebas complementarias [('Estenosis_extr_esof', 2), ('Gastritis_estom', 1), ('Erosiones_íleon', 1)]\n",
      "CIDMA pacientes sin hallazgos patológicos con áreas del tracto digestivo no evaluables 0\n",
      "HDOO_oculta Uruguay hallazgos terapeúticos más frecuentes [('Pólipo_col', 7), ('Diverticulo_col', 4), ('Pólipo_sig', 3)]\n",
      "HDOO_oculta Uruguay hallazgos pruebas complementarias más frecuentes [('Erosiones_íleon', 2), ('Gastritis_estom', 1), ('Erosiones_yey', 1)]\n",
      "Uruguay pacientes sin hallazgos patológicos con áreas del tracto digestivo no evaluables 0\n"
     ]
    },
    {
     "data": {
      "text/html": [
       "<div>\n",
       "<style scoped>\n",
       "    .dataframe tbody tr th:only-of-type {\n",
       "        vertical-align: middle;\n",
       "    }\n",
       "\n",
       "    .dataframe tbody tr th {\n",
       "        vertical-align: top;\n",
       "    }\n",
       "\n",
       "    .dataframe thead th {\n",
       "        text-align: right;\n",
       "    }\n",
       "</style>\n",
       "<table border=\"1\" class=\"dataframe\">\n",
       "  <thead>\n",
       "    <tr style=\"text-align: right;\">\n",
       "      <th></th>\n",
       "      <th>Pacientes</th>\n",
       "      <th>Normal</th>\n",
       "      <th>No evaluable</th>\n",
       "      <th>Hz Pruebas</th>\n",
       "      <th>Hz Tratamiento</th>\n",
       "    </tr>\n",
       "  </thead>\n",
       "  <tbody>\n",
       "    <tr>\n",
       "      <th>Cidma</th>\n",
       "      <td>3</td>\n",
       "      <td>[0, 0.0 %]</td>\n",
       "      <td>[0, 0.0 %]</td>\n",
       "      <td>[2, 66.67 %]</td>\n",
       "      <td>[3, 100.0 %]</td>\n",
       "    </tr>\n",
       "    <tr>\n",
       "      <th>Uruguay</th>\n",
       "      <td>12</td>\n",
       "      <td>[3, 25.0 %]</td>\n",
       "      <td>[4, 33.33 %]</td>\n",
       "      <td>[3, 25.0 %]</td>\n",
       "      <td>[9, 75.0 %]</td>\n",
       "    </tr>\n",
       "  </tbody>\n",
       "</table>\n",
       "</div>"
      ],
      "text/plain": [
       "         Pacientes       Normal  No evaluable    Hz Pruebas Hz Tratamiento\n",
       "Cidma            3   [0, 0.0 %]    [0, 0.0 %]  [2, 66.67 %]   [3, 100.0 %]\n",
       "Uruguay         12  [3, 25.0 %]  [4, 33.33 %]   [3, 25.0 %]    [9, 75.0 %]"
      ]
     },
     "metadata": {},
     "output_type": "display_data"
    },
    {
     "name": "stdout",
     "output_type": "stream",
     "text": [
      "HDOO_mani CIDMA hallazgos terapeúticos más frecuentes [('Erosiones_estom', 2), ('Erosiones_del', 2), ('Diverticulo_col', 2)]\n",
      "HDOO_mani CIDMA hallazgos pruebas complementarias [('Gastritis_estom', 1), ('Erosiones_yey', 1), ('Otros_estom', 1)]\n",
      "CIDMA pacientes sin hallazgos patológicos con áreas del tracto digestivo no evaluables 0\n",
      "HDOO_mani Uruguay hallazgos terapeúticos más frecuentes [('Diverticulo_col', 3), ('Otras_col', 3), ('Telangiectasias_yey', 2)]\n",
      "HDOO_mani Uruguay hallazgos pruebas complementarias más frecuentes [('Trast_tránsito_esof', 1), ('Barret_esof', 1), ('Erosiones_íleon', 1)]\n",
      "Uruguay pacientes sin hallazgos patológicos con áreas del tracto digestivo no evaluables 2\n"
     ]
    },
    {
     "data": {
      "text/html": [
       "<div>\n",
       "<style scoped>\n",
       "    .dataframe tbody tr th:only-of-type {\n",
       "        vertical-align: middle;\n",
       "    }\n",
       "\n",
       "    .dataframe tbody tr th {\n",
       "        vertical-align: top;\n",
       "    }\n",
       "\n",
       "    .dataframe thead th {\n",
       "        text-align: right;\n",
       "    }\n",
       "</style>\n",
       "<table border=\"1\" class=\"dataframe\">\n",
       "  <thead>\n",
       "    <tr style=\"text-align: right;\">\n",
       "      <th></th>\n",
       "      <th>Pacientes</th>\n",
       "      <th>Normal</th>\n",
       "      <th>No evaluable</th>\n",
       "      <th>Hz Pruebas</th>\n",
       "      <th>Hz Tratamiento</th>\n",
       "    </tr>\n",
       "  </thead>\n",
       "  <tbody>\n",
       "    <tr>\n",
       "      <th>Cidma</th>\n",
       "      <td>2</td>\n",
       "      <td>[0, 0.0 %]</td>\n",
       "      <td>[0, 0.0 %]</td>\n",
       "      <td>[1, 50.0 %]</td>\n",
       "      <td>[1, 50.0 %]</td>\n",
       "    </tr>\n",
       "    <tr>\n",
       "      <th>Uruguay</th>\n",
       "      <td>2</td>\n",
       "      <td>[0, 0.0 %]</td>\n",
       "      <td>[0, 0.0 %]</td>\n",
       "      <td>[1, 50.0 %]</td>\n",
       "      <td>[2, 100.0 %]</td>\n",
       "    </tr>\n",
       "  </tbody>\n",
       "</table>\n",
       "</div>"
      ],
      "text/plain": [
       "         Pacientes      Normal No evaluable   Hz Pruebas Hz Tratamiento\n",
       "Cidma            2  [0, 0.0 %]   [0, 0.0 %]  [1, 50.0 %]    [1, 50.0 %]\n",
       "Uruguay          2  [0, 0.0 %]   [0, 0.0 %]  [1, 50.0 %]   [2, 100.0 %]"
      ]
     },
     "metadata": {},
     "output_type": "display_data"
    },
    {
     "name": "stdout",
     "output_type": "stream",
     "text": [
      "Crohn CIDMA hallazgos terapeúticos más frecuentes [('Hemorroides', 1), ('Diverticulo_col', 1), ('Diverticulo_sig', 1)]\n",
      "Crohn CIDMA hallazgos pruebas complementarias [('Gastritis_estom', 1), ('Erosiones_yey', 1), ('Erosiones_col', 1)]\n",
      "CIDMA pacientes sin hallazgos patológicos con áreas del tracto digestivo no evaluables 0\n",
      "Crohn Uruguay hallazgos terapeúticos más frecuentes [('Erosiones_estom', 1)]\n",
      "Crohn Uruguay hallazgos pruebas complementarias más frecuentes [('Erosiones_íleon', 1)]\n",
      "Uruguay pacientes sin hallazgos patológicos con áreas del tracto digestivo no evaluables 0\n"
     ]
    },
    {
     "data": {
      "text/html": [
       "<div>\n",
       "<style scoped>\n",
       "    .dataframe tbody tr th:only-of-type {\n",
       "        vertical-align: middle;\n",
       "    }\n",
       "\n",
       "    .dataframe tbody tr th {\n",
       "        vertical-align: top;\n",
       "    }\n",
       "\n",
       "    .dataframe thead th {\n",
       "        text-align: right;\n",
       "    }\n",
       "</style>\n",
       "<table border=\"1\" class=\"dataframe\">\n",
       "  <thead>\n",
       "    <tr style=\"text-align: right;\">\n",
       "      <th></th>\n",
       "      <th>Pacientes</th>\n",
       "      <th>Normal</th>\n",
       "      <th>No evaluable</th>\n",
       "      <th>Hz Pruebas</th>\n",
       "      <th>Hz Tratamiento</th>\n",
       "    </tr>\n",
       "  </thead>\n",
       "  <tbody>\n",
       "    <tr>\n",
       "      <th>Cidma</th>\n",
       "      <td>1</td>\n",
       "      <td>[0, 0.0 %]</td>\n",
       "      <td>[0, 0.0 %]</td>\n",
       "      <td>[1, 100.0 %]</td>\n",
       "      <td>[1, 100.0 %]</td>\n",
       "    </tr>\n",
       "    <tr>\n",
       "      <th>Uruguay</th>\n",
       "      <td>2</td>\n",
       "      <td>[1, 50.0 %]</td>\n",
       "      <td>[0, 0.0 %]</td>\n",
       "      <td>[0, 0.0 %]</td>\n",
       "      <td>[1, 50.0 %]</td>\n",
       "    </tr>\n",
       "  </tbody>\n",
       "</table>\n",
       "</div>"
      ],
      "text/plain": [
       "         Pacientes       Normal No evaluable    Hz Pruebas Hz Tratamiento\n",
       "Cidma            1   [0, 0.0 %]   [0, 0.0 %]  [1, 100.0 %]   [1, 100.0 %]\n",
       "Uruguay          2  [1, 50.0 %]   [0, 0.0 %]    [0, 0.0 %]    [1, 50.0 %]"
      ]
     },
     "metadata": {},
     "output_type": "display_data"
    },
    {
     "name": "stdout",
     "output_type": "stream",
     "text": [
      "Alt_tránsito CIDMA hallazgos terapeúticos más frecuentes []\n",
      "Alt_tránsito CIDMA hallazgos pruebas complementarias []\n",
      "CIDMA pacientes sin hallazgos patológicos con áreas del tracto digestivo no evaluables 0\n",
      "Alt_tránsito Uruguay hallazgos terapeúticos más frecuentes [('Diverticulo_col', 1), ('Diverticulo_sig', 1)]\n",
      "Alt_tránsito Uruguay hallazgos pruebas complementarias más frecuentes []\n",
      "Uruguay pacientes sin hallazgos patológicos con áreas del tracto digestivo no evaluables 0\n"
     ]
    },
    {
     "data": {
      "text/html": [
       "<div>\n",
       "<style scoped>\n",
       "    .dataframe tbody tr th:only-of-type {\n",
       "        vertical-align: middle;\n",
       "    }\n",
       "\n",
       "    .dataframe tbody tr th {\n",
       "        vertical-align: top;\n",
       "    }\n",
       "\n",
       "    .dataframe thead th {\n",
       "        text-align: right;\n",
       "    }\n",
       "</style>\n",
       "<table border=\"1\" class=\"dataframe\">\n",
       "  <thead>\n",
       "    <tr style=\"text-align: right;\">\n",
       "      <th></th>\n",
       "      <th>Pacientes</th>\n",
       "      <th>Normal</th>\n",
       "      <th>No evaluable</th>\n",
       "      <th>Hz Pruebas</th>\n",
       "      <th>Hz Tratamiento</th>\n",
       "    </tr>\n",
       "  </thead>\n",
       "  <tbody>\n",
       "    <tr>\n",
       "      <th>Cidma</th>\n",
       "      <td>3</td>\n",
       "      <td>[0, 0.0 %]</td>\n",
       "      <td>[1, 33.33 %]</td>\n",
       "      <td>[2, 66.67 %]</td>\n",
       "      <td>[3, 100.0 %]</td>\n",
       "    </tr>\n",
       "    <tr>\n",
       "      <th>Uruguay</th>\n",
       "      <td>22</td>\n",
       "      <td>[3, 13.64 %]</td>\n",
       "      <td>[11, 50.0 %]</td>\n",
       "      <td>[11, 50.0 %]</td>\n",
       "      <td>[16, 72.73 %]</td>\n",
       "    </tr>\n",
       "  </tbody>\n",
       "</table>\n",
       "</div>"
      ],
      "text/plain": [
       "         Pacientes        Normal  No evaluable    Hz Pruebas Hz Tratamiento\n",
       "Cidma            3    [0, 0.0 %]  [1, 33.33 %]  [2, 66.67 %]   [3, 100.0 %]\n",
       "Uruguay         22  [3, 13.64 %]  [11, 50.0 %]  [11, 50.0 %]  [16, 72.73 %]"
      ]
     },
     "metadata": {},
     "output_type": "display_data"
    },
    {
     "name": "stdout",
     "output_type": "stream",
     "text": [
      "Anemia CIDMA hallazgos terapeúticos más frecuentes [('Hemorroides', 2), ('Diverticulo_col', 2), ('Diverticulo_C_izq', 2)]\n",
      "Anemia CIDMA hallazgos pruebas complementarias [('Trast_tránsito_esof', 1), ('Estenosis_extr_esof', 1), ('Gastritis_estom', 1)]\n",
      "CIDMA pacientes sin hallazgos patológicos con áreas del tracto digestivo no evaluables 0\n",
      "Anemia Uruguay hallazgos terapeúticos más frecuentes [('Diverticulo_col', 5), ('Erosiones_estom', 3), ('Erosiones_del', 3)]\n",
      "Anemia Uruguay hallazgos pruebas complementarias más frecuentes [('Erosiones_yey', 5), ('Erosiones_col', 3), ('Gastritis_estom', 2)]\n",
      "Uruguay pacientes sin hallazgos patológicos con áreas del tracto digestivo no evaluables 2\n"
     ]
    },
    {
     "data": {
      "text/html": [
       "<div>\n",
       "<style scoped>\n",
       "    .dataframe tbody tr th:only-of-type {\n",
       "        vertical-align: middle;\n",
       "    }\n",
       "\n",
       "    .dataframe tbody tr th {\n",
       "        vertical-align: top;\n",
       "    }\n",
       "\n",
       "    .dataframe thead th {\n",
       "        text-align: right;\n",
       "    }\n",
       "</style>\n",
       "<table border=\"1\" class=\"dataframe\">\n",
       "  <thead>\n",
       "    <tr style=\"text-align: right;\">\n",
       "      <th></th>\n",
       "      <th>Pacientes</th>\n",
       "      <th>Normal</th>\n",
       "      <th>No evaluable</th>\n",
       "      <th>Hz Pruebas</th>\n",
       "      <th>Hz Tratamiento</th>\n",
       "    </tr>\n",
       "  </thead>\n",
       "  <tbody>\n",
       "    <tr>\n",
       "      <th>Cidma</th>\n",
       "      <td>53</td>\n",
       "      <td>[6, 11.32 %]</td>\n",
       "      <td>[15, 28.3 %]</td>\n",
       "      <td>[33, 62.26 %]</td>\n",
       "      <td>[39, 73.58 %]</td>\n",
       "    </tr>\n",
       "    <tr>\n",
       "      <th>Uruguay</th>\n",
       "      <td>8</td>\n",
       "      <td>[3, 37.5 %]</td>\n",
       "      <td>[1, 12.5 %]</td>\n",
       "      <td>[3, 37.5 %]</td>\n",
       "      <td>[5, 62.5 %]</td>\n",
       "    </tr>\n",
       "  </tbody>\n",
       "</table>\n",
       "</div>"
      ],
      "text/plain": [
       "         Pacientes        Normal  No evaluable     Hz Pruebas Hz Tratamiento\n",
       "Cidma           53  [6, 11.32 %]  [15, 28.3 %]  [33, 62.26 %]  [39, 73.58 %]\n",
       "Uruguay          8   [3, 37.5 %]   [1, 12.5 %]    [3, 37.5 %]    [5, 62.5 %]"
      ]
     },
     "metadata": {},
     "output_type": "display_data"
    },
    {
     "name": "stdout",
     "output_type": "stream",
     "text": [
      "Dolor_abd CIDMA hallazgos terapeúticos más frecuentes [('Diverticulo_col', 16), ('Hernia_hiato_total', 14), ('Hemorroides', 14)]\n",
      "Dolor_abd CIDMA hallazgos pruebas complementarias [('Gastritis_estom', 15), ('Yeyunitis', 5), ('Trast_tránsito_esof', 3)]\n",
      "CIDMA pacientes sin hallazgos patológicos con áreas del tracto digestivo no evaluables 2\n",
      "Dolor_abd Uruguay hallazgos terapeúticos más frecuentes [('Pólipo_col', 4), ('Sigmoiditis', 2), ('Diverticulo_col', 1)]\n",
      "Dolor_abd Uruguay hallazgos pruebas complementarias más frecuentes [('Erosiones_yey', 1), ('Ileitis', 1), ('Erosiones_col', 1)]\n",
      "Uruguay pacientes sin hallazgos patológicos con áreas del tracto digestivo no evaluables 1\n"
     ]
    },
    {
     "name": "stderr",
     "output_type": "stream",
     "text": [
      "/usr/local/Cellar/ipython/7.7.0/libexec/vendor/lib/python3.7/site-packages/ipykernel_launcher.py:87: SettingWithCopyWarning: \n",
      "A value is trying to be set on a copy of a slice from a DataFrame.\n",
      "Try using .loc[row_indexer,col_indexer] = value instead\n",
      "\n",
      "See the caveats in the documentation: http://pandas.pydata.org/pandas-docs/stable/user_guide/indexing.html#returning-a-view-versus-a-copy\n",
      "/usr/local/Cellar/ipython/7.7.0/libexec/vendor/lib/python3.7/site-packages/ipykernel_launcher.py:89: SettingWithCopyWarning: \n",
      "A value is trying to be set on a copy of a slice from a DataFrame.\n",
      "Try using .loc[row_indexer,col_indexer] = value instead\n",
      "\n",
      "See the caveats in the documentation: http://pandas.pydata.org/pandas-docs/stable/user_guide/indexing.html#returning-a-view-versus-a-copy\n"
     ]
    },
    {
     "data": {
      "text/html": [
       "<div>\n",
       "<style scoped>\n",
       "    .dataframe tbody tr th:only-of-type {\n",
       "        vertical-align: middle;\n",
       "    }\n",
       "\n",
       "    .dataframe tbody tr th {\n",
       "        vertical-align: top;\n",
       "    }\n",
       "\n",
       "    .dataframe thead th {\n",
       "        text-align: right;\n",
       "    }\n",
       "</style>\n",
       "<table border=\"1\" class=\"dataframe\">\n",
       "  <thead>\n",
       "    <tr style=\"text-align: right;\">\n",
       "      <th></th>\n",
       "      <th>Pacientes</th>\n",
       "      <th>Normal</th>\n",
       "      <th>No evaluable</th>\n",
       "      <th>Hz Pruebas</th>\n",
       "      <th>Hz Tratamiento</th>\n",
       "    </tr>\n",
       "  </thead>\n",
       "  <tbody>\n",
       "    <tr>\n",
       "      <th>Cidma</th>\n",
       "      <td>6</td>\n",
       "      <td>[0, 0.0 %]</td>\n",
       "      <td>[2, 33.33 %]</td>\n",
       "      <td>[1, 16.67 %]</td>\n",
       "      <td>[6, 100.0 %]</td>\n",
       "    </tr>\n",
       "    <tr>\n",
       "      <th>Uruguay</th>\n",
       "      <td>NO</td>\n",
       "      <td>[NO]</td>\n",
       "      <td>[NO]</td>\n",
       "      <td>[NO]</td>\n",
       "      <td>[NO]</td>\n",
       "    </tr>\n",
       "  </tbody>\n",
       "</table>\n",
       "</div>"
      ],
      "text/plain": [
       "        Pacientes      Normal  No evaluable    Hz Pruebas Hz Tratamiento\n",
       "Cidma           6  [0, 0.0 %]  [2, 33.33 %]  [1, 16.67 %]   [6, 100.0 %]\n",
       "Uruguay        NO        [NO]          [NO]          [NO]           [NO]"
      ]
     },
     "metadata": {},
     "output_type": "display_data"
    },
    {
     "name": "stdout",
     "output_type": "stream",
     "text": [
      "Estreñimiento CIDMA hallazgos terapeúticos más frecuentes [('Hemorroides', 4), ('Hernia_hiato_total', 3), ('Diverticulo_col', 3)]\n",
      "Estreñimiento CIDMA hallazgos pruebas complementarias [('Erosiones_íleon', 1)]\n",
      "CIDMA pacientes sin hallazgos patológicos con áreas del tracto digestivo no evaluables 0\n",
      "NO Uruguay\n",
      "No Uruguay\n",
      "No Uruguay\n"
     ]
    },
    {
     "data": {
      "text/html": [
       "<div>\n",
       "<style scoped>\n",
       "    .dataframe tbody tr th:only-of-type {\n",
       "        vertical-align: middle;\n",
       "    }\n",
       "\n",
       "    .dataframe tbody tr th {\n",
       "        vertical-align: top;\n",
       "    }\n",
       "\n",
       "    .dataframe thead th {\n",
       "        text-align: right;\n",
       "    }\n",
       "</style>\n",
       "<table border=\"1\" class=\"dataframe\">\n",
       "  <thead>\n",
       "    <tr style=\"text-align: right;\">\n",
       "      <th></th>\n",
       "      <th>Pacientes</th>\n",
       "      <th>Normal</th>\n",
       "      <th>No evaluable</th>\n",
       "      <th>Hz Pruebas</th>\n",
       "      <th>Hz Tratamiento</th>\n",
       "    </tr>\n",
       "  </thead>\n",
       "  <tbody>\n",
       "    <tr>\n",
       "      <th>Cidma</th>\n",
       "      <td>31</td>\n",
       "      <td>[4, 12.9 %]</td>\n",
       "      <td>[7, 22.58 %]</td>\n",
       "      <td>[15, 48.39 %]</td>\n",
       "      <td>[21, 67.74 %]</td>\n",
       "    </tr>\n",
       "    <tr>\n",
       "      <th>Uruguay</th>\n",
       "      <td>4</td>\n",
       "      <td>[0, 0.0 %]</td>\n",
       "      <td>[2, 50.0 %]</td>\n",
       "      <td>[3, 75.0 %]</td>\n",
       "      <td>[1, 25.0 %]</td>\n",
       "    </tr>\n",
       "  </tbody>\n",
       "</table>\n",
       "</div>"
      ],
      "text/plain": [
       "         Pacientes       Normal  No evaluable     Hz Pruebas Hz Tratamiento\n",
       "Cidma           31  [4, 12.9 %]  [7, 22.58 %]  [15, 48.39 %]  [21, 67.74 %]\n",
       "Uruguay          4   [0, 0.0 %]   [2, 50.0 %]    [3, 75.0 %]    [1, 25.0 %]"
      ]
     },
     "metadata": {},
     "output_type": "display_data"
    },
    {
     "name": "stdout",
     "output_type": "stream",
     "text": [
      "Diarrea CIDMA hallazgos terapeúticos más frecuentes [('Hernia_hiato_total', 7), ('RGE_esof', 6), ('Otros_del', 5)]\n",
      "Diarrea CIDMA hallazgos pruebas complementarias [('Gastritis_estom', 6), ('Erosiones_col', 3), ('Ileitis', 2)]\n",
      "CIDMA pacientes sin hallazgos patológicos con áreas del tracto digestivo no evaluables 1\n",
      "Diarrea Uruguay hallazgos terapeúticos más frecuentes [('Angiodisplasia_col', 1)]\n",
      "Diarrea Uruguay hallazgos pruebas complementarias más frecuentes [('Yeyunitis', 1), ('Erosiones_yey', 1), ('Erosiones_col', 1)]\n",
      "Uruguay pacientes sin hallazgos patológicos con áreas del tracto digestivo no evaluables 0\n"
     ]
    },
    {
     "data": {
      "text/html": [
       "<div>\n",
       "<style scoped>\n",
       "    .dataframe tbody tr th:only-of-type {\n",
       "        vertical-align: middle;\n",
       "    }\n",
       "\n",
       "    .dataframe tbody tr th {\n",
       "        vertical-align: top;\n",
       "    }\n",
       "\n",
       "    .dataframe thead th {\n",
       "        text-align: right;\n",
       "    }\n",
       "</style>\n",
       "<table border=\"1\" class=\"dataframe\">\n",
       "  <thead>\n",
       "    <tr style=\"text-align: right;\">\n",
       "      <th></th>\n",
       "      <th>Pacientes</th>\n",
       "      <th>Normal</th>\n",
       "      <th>No evaluable</th>\n",
       "      <th>Hz Pruebas</th>\n",
       "      <th>Hz Tratamiento</th>\n",
       "    </tr>\n",
       "  </thead>\n",
       "  <tbody>\n",
       "    <tr>\n",
       "      <th>Cidma</th>\n",
       "      <td>10</td>\n",
       "      <td>[2, 20.0 %]</td>\n",
       "      <td>[2, 20.0 %]</td>\n",
       "      <td>[5, 50.0 %]</td>\n",
       "      <td>[6, 60.0 %]</td>\n",
       "    </tr>\n",
       "    <tr>\n",
       "      <th>Uruguay</th>\n",
       "      <td>NO</td>\n",
       "      <td>[NO]</td>\n",
       "      <td>[NO]</td>\n",
       "      <td>[NO]</td>\n",
       "      <td>[NO]</td>\n",
       "    </tr>\n",
       "  </tbody>\n",
       "</table>\n",
       "</div>"
      ],
      "text/plain": [
       "        Pacientes       Normal No evaluable   Hz Pruebas Hz Tratamiento\n",
       "Cidma          10  [2, 20.0 %]  [2, 20.0 %]  [5, 50.0 %]    [6, 60.0 %]\n",
       "Uruguay        NO         [NO]         [NO]         [NO]           [NO]"
      ]
     },
     "metadata": {},
     "output_type": "display_data"
    },
    {
     "name": "stdout",
     "output_type": "stream",
     "text": [
      "Vómitos CIDMA hallazgos terapeúticos más frecuentes [('Otras_col', 3), ('RGE_esof', 2), ('Otros_del', 2)]\n",
      "Vómitos CIDMA hallazgos pruebas complementarias [('Yeyunitis', 2), ('Gastritis_estom', 1), ('Ileitis', 1)]\n",
      "CIDMA pacientes sin hallazgos patológicos con áreas del tracto digestivo no evaluables 0\n",
      "NO Uruguay\n",
      "No Uruguay\n",
      "No Uruguay\n"
     ]
    },
    {
     "data": {
      "text/html": [
       "<div>\n",
       "<style scoped>\n",
       "    .dataframe tbody tr th:only-of-type {\n",
       "        vertical-align: middle;\n",
       "    }\n",
       "\n",
       "    .dataframe tbody tr th {\n",
       "        vertical-align: top;\n",
       "    }\n",
       "\n",
       "    .dataframe thead th {\n",
       "        text-align: right;\n",
       "    }\n",
       "</style>\n",
       "<table border=\"1\" class=\"dataframe\">\n",
       "  <thead>\n",
       "    <tr style=\"text-align: right;\">\n",
       "      <th></th>\n",
       "      <th>Pacientes</th>\n",
       "      <th>Normal</th>\n",
       "      <th>No evaluable</th>\n",
       "      <th>Hz Pruebas</th>\n",
       "      <th>Hz Tratamiento</th>\n",
       "    </tr>\n",
       "  </thead>\n",
       "  <tbody>\n",
       "    <tr>\n",
       "      <th>Cidma</th>\n",
       "      <td>8</td>\n",
       "      <td>[1, 12.5 %]</td>\n",
       "      <td>[2, 25.0 %]</td>\n",
       "      <td>[5, 62.5 %]</td>\n",
       "      <td>[4, 50.0 %]</td>\n",
       "    </tr>\n",
       "    <tr>\n",
       "      <th>Uruguay</th>\n",
       "      <td>NO</td>\n",
       "      <td>[NO]</td>\n",
       "      <td>[NO]</td>\n",
       "      <td>[NO]</td>\n",
       "      <td>[NO]</td>\n",
       "    </tr>\n",
       "  </tbody>\n",
       "</table>\n",
       "</div>"
      ],
      "text/plain": [
       "        Pacientes       Normal No evaluable   Hz Pruebas Hz Tratamiento\n",
       "Cidma           8  [1, 12.5 %]  [2, 25.0 %]  [5, 62.5 %]    [4, 50.0 %]\n",
       "Uruguay        NO         [NO]         [NO]         [NO]           [NO]"
      ]
     },
     "metadata": {},
     "output_type": "display_data"
    },
    {
     "name": "stdout",
     "output_type": "stream",
     "text": [
      "Pérdida_peso CIDMA hallazgos terapeúticos más frecuentes [('Hernia_hiato_total', 2), ('Hemorroides', 2), ('RGE_esof', 1)]\n",
      "Pérdida_peso CIDMA hallazgos pruebas complementarias [('Trast_tránsito_esof', 1), ('Trast_motilidad_estom', 1), ('Gastritis_estom', 1)]\n",
      "CIDMA pacientes sin hallazgos patológicos con áreas del tracto digestivo no evaluables 0\n",
      "NO Uruguay\n",
      "No Uruguay\n",
      "No Uruguay\n"
     ]
    },
    {
     "data": {
      "text/html": [
       "<div>\n",
       "<style scoped>\n",
       "    .dataframe tbody tr th:only-of-type {\n",
       "        vertical-align: middle;\n",
       "    }\n",
       "\n",
       "    .dataframe tbody tr th {\n",
       "        vertical-align: top;\n",
       "    }\n",
       "\n",
       "    .dataframe thead th {\n",
       "        text-align: right;\n",
       "    }\n",
       "</style>\n",
       "<table border=\"1\" class=\"dataframe\">\n",
       "  <thead>\n",
       "    <tr style=\"text-align: right;\">\n",
       "      <th></th>\n",
       "      <th>Pacientes</th>\n",
       "      <th>Normal</th>\n",
       "      <th>No evaluable</th>\n",
       "      <th>Hz Pruebas</th>\n",
       "      <th>Hz Tratamiento</th>\n",
       "    </tr>\n",
       "  </thead>\n",
       "  <tbody>\n",
       "    <tr>\n",
       "      <th>Cidma</th>\n",
       "      <td>2</td>\n",
       "      <td>[0, 0.0 %]</td>\n",
       "      <td>[0, 0.0 %]</td>\n",
       "      <td>[2, 100.0 %]</td>\n",
       "      <td>[1, 50.0 %]</td>\n",
       "    </tr>\n",
       "    <tr>\n",
       "      <th>Uruguay</th>\n",
       "      <td>3</td>\n",
       "      <td>[1, 33.33 %]</td>\n",
       "      <td>[1, 33.33 %]</td>\n",
       "      <td>[1, 33.33 %]</td>\n",
       "      <td>[2, 66.67 %]</td>\n",
       "    </tr>\n",
       "  </tbody>\n",
       "</table>\n",
       "</div>"
      ],
      "text/plain": [
       "         Pacientes        Normal  No evaluable    Hz Pruebas Hz Tratamiento\n",
       "Cidma            2    [0, 0.0 %]    [0, 0.0 %]  [2, 100.0 %]    [1, 50.0 %]\n",
       "Uruguay          3  [1, 33.33 %]  [1, 33.33 %]  [1, 33.33 %]   [2, 66.67 %]"
      ]
     },
     "metadata": {},
     "output_type": "display_data"
    },
    {
     "name": "stdout",
     "output_type": "stream",
     "text": [
      "EII CIDMA hallazgos terapeúticos más frecuentes [('Pólipo_estom', 1), ('Diverticulo_col', 1)]\n",
      "EII CIDMA hallazgos pruebas complementarias [('Gastritis_estom', 1), ('Ileitis', 1), ('Erosiones_íleon', 1)]\n",
      "CIDMA pacientes sin hallazgos patológicos con áreas del tracto digestivo no evaluables 0\n",
      "EII Uruguay hallazgos terapeúticos más frecuentes [('Hemorroides', 1), ('Sigmoiditis', 1), ('Pólipo_col', 1)]\n",
      "EII Uruguay hallazgos pruebas complementarias más frecuentes [('Erosiones_yey', 1)]\n",
      "Uruguay pacientes sin hallazgos patológicos con áreas del tracto digestivo no evaluables 1\n"
     ]
    },
    {
     "data": {
      "text/html": [
       "<div>\n",
       "<style scoped>\n",
       "    .dataframe tbody tr th:only-of-type {\n",
       "        vertical-align: middle;\n",
       "    }\n",
       "\n",
       "    .dataframe tbody tr th {\n",
       "        vertical-align: top;\n",
       "    }\n",
       "\n",
       "    .dataframe thead th {\n",
       "        text-align: right;\n",
       "    }\n",
       "</style>\n",
       "<table border=\"1\" class=\"dataframe\">\n",
       "  <thead>\n",
       "    <tr style=\"text-align: right;\">\n",
       "      <th></th>\n",
       "      <th>Pacientes</th>\n",
       "      <th>Normal</th>\n",
       "      <th>No evaluable</th>\n",
       "      <th>Hz Pruebas</th>\n",
       "      <th>Hz Tratamiento</th>\n",
       "    </tr>\n",
       "  </thead>\n",
       "  <tbody>\n",
       "    <tr>\n",
       "      <th>Cidma</th>\n",
       "      <td>4</td>\n",
       "      <td>[0, 0.0 %]</td>\n",
       "      <td>[0, 0.0 %]</td>\n",
       "      <td>[3, 75.0 %]</td>\n",
       "      <td>[2, 50.0 %]</td>\n",
       "    </tr>\n",
       "    <tr>\n",
       "      <th>Uruguay</th>\n",
       "      <td>5</td>\n",
       "      <td>[1, 20.0 %]</td>\n",
       "      <td>[1, 20.0 %]</td>\n",
       "      <td>[2, 40.0 %]</td>\n",
       "      <td>[4, 80.0 %]</td>\n",
       "    </tr>\n",
       "  </tbody>\n",
       "</table>\n",
       "</div>"
      ],
      "text/plain": [
       "         Pacientes       Normal No evaluable   Hz Pruebas Hz Tratamiento\n",
       "Cidma            4   [0, 0.0 %]   [0, 0.0 %]  [3, 75.0 %]    [2, 50.0 %]\n",
       "Uruguay          5  [1, 20.0 %]  [1, 20.0 %]  [2, 40.0 %]    [4, 80.0 %]"
      ]
     },
     "metadata": {},
     "output_type": "display_data"
    },
    {
     "name": "stdout",
     "output_type": "stream",
     "text": [
      "Enf_II CIDMA hallazgos terapeúticos más frecuentes [('Diverticulo_col', 2), ('Pólipo_estom', 1), ('Hemorroides', 1)]\n",
      "Enf_II CIDMA hallazgos pruebas complementarias [('Gastritis_estom', 2), ('Erosiones_yey', 1), ('Ileitis', 1)]\n",
      "CIDMA pacientes sin hallazgos patológicos con áreas del tracto digestivo no evaluables 0\n",
      "Enf_II Uruguay hallazgos terapeúticos más frecuentes [('Proctitis', 2), ('Erosiones_estom', 1), ('Hemorroides', 1)]\n",
      "Enf_II Uruguay hallazgos pruebas complementarias más frecuentes [('Erosiones_yey', 1), ('Erosiones_íleon', 1)]\n",
      "Uruguay pacientes sin hallazgos patológicos con áreas del tracto digestivo no evaluables 1\n"
     ]
    },
    {
     "name": "stderr",
     "output_type": "stream",
     "text": [
      "/usr/local/Cellar/ipython/7.7.0/libexec/vendor/lib/python3.7/site-packages/ipykernel_launcher.py:16: SettingWithCopyWarning: \n",
      "A value is trying to be set on a copy of a slice from a DataFrame.\n",
      "Try using .loc[row_indexer,col_indexer] = value instead\n",
      "\n",
      "See the caveats in the documentation: http://pandas.pydata.org/pandas-docs/stable/user_guide/indexing.html#returning-a-view-versus-a-copy\n",
      "  app.launch_new_instance()\n",
      "/usr/local/Cellar/ipython/7.7.0/libexec/vendor/lib/python3.7/site-packages/ipykernel_launcher.py:18: SettingWithCopyWarning: \n",
      "A value is trying to be set on a copy of a slice from a DataFrame.\n",
      "Try using .loc[row_indexer,col_indexer] = value instead\n",
      "\n",
      "See the caveats in the documentation: http://pandas.pydata.org/pandas-docs/stable/user_guide/indexing.html#returning-a-view-versus-a-copy\n"
     ]
    },
    {
     "data": {
      "text/html": [
       "<div>\n",
       "<style scoped>\n",
       "    .dataframe tbody tr th:only-of-type {\n",
       "        vertical-align: middle;\n",
       "    }\n",
       "\n",
       "    .dataframe tbody tr th {\n",
       "        vertical-align: top;\n",
       "    }\n",
       "\n",
       "    .dataframe thead th {\n",
       "        text-align: right;\n",
       "    }\n",
       "</style>\n",
       "<table border=\"1\" class=\"dataframe\">\n",
       "  <thead>\n",
       "    <tr style=\"text-align: right;\">\n",
       "      <th></th>\n",
       "      <th>Pacientes</th>\n",
       "      <th>Normal</th>\n",
       "      <th>No evaluable</th>\n",
       "      <th>Hz Pruebas</th>\n",
       "      <th>Hz Tratamiento</th>\n",
       "    </tr>\n",
       "  </thead>\n",
       "  <tbody>\n",
       "    <tr>\n",
       "      <th>Cidma</th>\n",
       "      <td>NO</td>\n",
       "      <td>[NO]</td>\n",
       "      <td>[NO]</td>\n",
       "      <td>[NO]</td>\n",
       "      <td>[NO]</td>\n",
       "    </tr>\n",
       "    <tr>\n",
       "      <th>Uruguay</th>\n",
       "      <td>10</td>\n",
       "      <td>[5, 50.0 %]</td>\n",
       "      <td>[2, 20.0 %]</td>\n",
       "      <td>[2, 20.0 %]</td>\n",
       "      <td>[5, 50.0 %]</td>\n",
       "    </tr>\n",
       "  </tbody>\n",
       "</table>\n",
       "</div>"
      ],
      "text/plain": [
       "        Pacientes       Normal No evaluable   Hz Pruebas Hz Tratamiento\n",
       "Cidma          NO         [NO]         [NO]         [NO]           [NO]\n",
       "Uruguay        10  [5, 50.0 %]  [2, 20.0 %]  [2, 20.0 %]    [5, 50.0 %]"
      ]
     },
     "metadata": {},
     "output_type": "display_data"
    },
    {
     "name": "stdout",
     "output_type": "stream",
     "text": [
      "Colono_imcp Uruguay hallazgos terapeúticos más frecuentes [('Diverticulo_col', 2), ('Sigmoiditis', 2), ('Pólipo_col', 2)]\n",
      "Colono_imcp Uruguay hallazgos pruebas complementarias [('Erosiones_yey', 1), ('Erosiones_íleon', 1)]\n",
      "Uruguay pacientes sin hallazgos patológicos con áreas del tracto digestivo no evaluables 2\n",
      "No CIDMA\n",
      "No CIDMA\n",
      "No CIDMA\n"
     ]
    },
    {
     "data": {
      "text/html": [
       "<div>\n",
       "<style scoped>\n",
       "    .dataframe tbody tr th:only-of-type {\n",
       "        vertical-align: middle;\n",
       "    }\n",
       "\n",
       "    .dataframe tbody tr th {\n",
       "        vertical-align: top;\n",
       "    }\n",
       "\n",
       "    .dataframe thead th {\n",
       "        text-align: right;\n",
       "    }\n",
       "</style>\n",
       "<table border=\"1\" class=\"dataframe\">\n",
       "  <thead>\n",
       "    <tr style=\"text-align: right;\">\n",
       "      <th></th>\n",
       "      <th>Pacientes</th>\n",
       "      <th>Normal</th>\n",
       "      <th>No evaluable</th>\n",
       "      <th>Hz Pruebas</th>\n",
       "      <th>Hz Tratamiento</th>\n",
       "    </tr>\n",
       "  </thead>\n",
       "  <tbody>\n",
       "    <tr>\n",
       "      <th>Cidma</th>\n",
       "      <td>9</td>\n",
       "      <td>[0, 0.0 %]</td>\n",
       "      <td>[0, 0.0 %]</td>\n",
       "      <td>[4, 44.44 %]</td>\n",
       "      <td>[9, 100.0 %]</td>\n",
       "    </tr>\n",
       "    <tr>\n",
       "      <th>Uruguay</th>\n",
       "      <td>49</td>\n",
       "      <td>[10, 20.41 %]</td>\n",
       "      <td>[8, 16.33 %]</td>\n",
       "      <td>[7, 14.29 %]</td>\n",
       "      <td>[35, 71.43 %]</td>\n",
       "    </tr>\n",
       "  </tbody>\n",
       "</table>\n",
       "</div>"
      ],
      "text/plain": [
       "         Pacientes         Normal  No evaluable    Hz Pruebas Hz Tratamiento\n",
       "Cidma            9     [0, 0.0 %]    [0, 0.0 %]  [4, 44.44 %]   [9, 100.0 %]\n",
       "Uruguay         49  [10, 20.41 %]  [8, 16.33 %]  [7, 14.29 %]  [35, 71.43 %]"
      ]
     },
     "metadata": {},
     "output_type": "display_data"
    },
    {
     "name": "stdout",
     "output_type": "stream",
     "text": [
      "Cribado CIDMA hallazgos terapeúticos más frecuentes [('Diverticulo_col', 7), ('RGE_esof', 5), ('Hernia_hiato_total', 4)]\n",
      "Cribado CIDMA hallazgos pruebas complementarias [('Gastritis_estom', 2), ('Esof_eosinofilica_esof', 1), ('Erosiones_íleon', 1)]\n",
      "CIDMA pacientes sin hallazgos patológicos con áreas del tracto digestivo no evaluables 0\n",
      "Cribado Uruguay hallazgos terapeúticos más frecuentes [('Diverticulo_col', 18), ('Pólipo_col', 13), ('Diverticulo_sig', 12)]\n",
      "Cribado Uruguay hallazgos pruebas complementarias más frecuentes [('Barret_esof', 2), ('Pólipo_íleon', 2), ('Trast_motilidad_estom', 1)]\n",
      "Uruguay pacientes sin hallazgos patológicos con áreas del tracto digestivo no evaluables 4\n"
     ]
    },
    {
     "data": {
      "text/html": [
       "<div>\n",
       "<style scoped>\n",
       "    .dataframe tbody tr th:only-of-type {\n",
       "        vertical-align: middle;\n",
       "    }\n",
       "\n",
       "    .dataframe tbody tr th {\n",
       "        vertical-align: top;\n",
       "    }\n",
       "\n",
       "    .dataframe thead th {\n",
       "        text-align: right;\n",
       "    }\n",
       "</style>\n",
       "<table border=\"1\" class=\"dataframe\">\n",
       "  <thead>\n",
       "    <tr style=\"text-align: right;\">\n",
       "      <th></th>\n",
       "      <th>Pacientes</th>\n",
       "      <th>Normal</th>\n",
       "      <th>No evaluable</th>\n",
       "      <th>Hz Pruebas</th>\n",
       "      <th>Hz Tratamiento</th>\n",
       "    </tr>\n",
       "  </thead>\n",
       "  <tbody>\n",
       "    <tr>\n",
       "      <th>Cidma</th>\n",
       "      <td>8</td>\n",
       "      <td>[0, 0.0 %]</td>\n",
       "      <td>[3, 37.5 %]</td>\n",
       "      <td>[2, 25.0 %]</td>\n",
       "      <td>[7, 87.5 %]</td>\n",
       "    </tr>\n",
       "    <tr>\n",
       "      <th>Uruguay</th>\n",
       "      <td>10</td>\n",
       "      <td>[1, 10.0 %]</td>\n",
       "      <td>[3, 30.0 %]</td>\n",
       "      <td>[2, 20.0 %]</td>\n",
       "      <td>[9, 90.0 %]</td>\n",
       "    </tr>\n",
       "  </tbody>\n",
       "</table>\n",
       "</div>"
      ],
      "text/plain": [
       "         Pacientes       Normal No evaluable   Hz Pruebas Hz Tratamiento\n",
       "Cidma            8   [0, 0.0 %]  [3, 37.5 %]  [2, 25.0 %]    [7, 87.5 %]\n",
       "Uruguay         10  [1, 10.0 %]  [3, 30.0 %]  [2, 20.0 %]    [9, 90.0 %]"
      ]
     },
     "metadata": {},
     "output_type": "display_data"
    },
    {
     "name": "stdout",
     "output_type": "stream",
     "text": [
      "Revisión CIDMA hallazgos terapeúticos más frecuentes [('Hemorroides', 4), ('Diverticulo_col', 4), ('Pólipo_col', 4)]\n",
      "Revisión CIDMA hallazgos pruebas complementarias [('Pólipo_íleon', 2)]\n",
      "CIDMA pacientes sin hallazgos patológicos con áreas del tracto digestivo no evaluables 0\n",
      "Revisión Uruguay hallazgos terapeúticos más frecuentes [('Diverticulo_col', 5), ('Diverticulo_sig', 2), ('Sigmoiditis', 2)]\n",
      "Revisión Uruguay hallazgos pruebas complementarias más frecuentes [('Barret_esof', 1), ('Erosiones_íleon', 1)]\n",
      "Uruguay pacientes sin hallazgos patológicos con áreas del tracto digestivo no evaluables 1\n"
     ]
    },
    {
     "data": {
      "text/html": [
       "<div>\n",
       "<style scoped>\n",
       "    .dataframe tbody tr th:only-of-type {\n",
       "        vertical-align: middle;\n",
       "    }\n",
       "\n",
       "    .dataframe tbody tr th {\n",
       "        vertical-align: top;\n",
       "    }\n",
       "\n",
       "    .dataframe thead th {\n",
       "        text-align: right;\n",
       "    }\n",
       "</style>\n",
       "<table border=\"1\" class=\"dataframe\">\n",
       "  <thead>\n",
       "    <tr style=\"text-align: right;\">\n",
       "      <th></th>\n",
       "      <th>Pacientes</th>\n",
       "      <th>Normal</th>\n",
       "      <th>No evaluable</th>\n",
       "      <th>Hz Pruebas</th>\n",
       "      <th>Hz Tratamiento</th>\n",
       "    </tr>\n",
       "  </thead>\n",
       "  <tbody>\n",
       "    <tr>\n",
       "      <th>Cidma</th>\n",
       "      <td>10</td>\n",
       "      <td>[1, 10.0 %]</td>\n",
       "      <td>[3, 30.0 %]</td>\n",
       "      <td>[5, 50.0 %]</td>\n",
       "      <td>[8, 80.0 %]</td>\n",
       "    </tr>\n",
       "    <tr>\n",
       "      <th>Uruguay</th>\n",
       "      <td>9</td>\n",
       "      <td>[5, 55.56 %]</td>\n",
       "      <td>[1, 11.11 %]</td>\n",
       "      <td>[2, 22.22 %]</td>\n",
       "      <td>[4, 44.44 %]</td>\n",
       "    </tr>\n",
       "  </tbody>\n",
       "</table>\n",
       "</div>"
      ],
      "text/plain": [
       "         Pacientes        Normal  No evaluable    Hz Pruebas Hz Tratamiento\n",
       "Cidma           10   [1, 10.0 %]   [3, 30.0 %]   [5, 50.0 %]    [8, 80.0 %]\n",
       "Uruguay          9  [5, 55.56 %]  [1, 11.11 %]  [2, 22.22 %]   [4, 44.44 %]"
      ]
     },
     "metadata": {},
     "output_type": "display_data"
    },
    {
     "name": "stdout",
     "output_type": "stream",
     "text": [
      "Otros_indica CIDMA hallazgos terapeúticos más frecuentes [('Hernia_hiato_total', 3), ('Enteritis_del', 2), ('Hemorroides', 2)]\n",
      "Otros_indica CIDMA hallazgos pruebas complementarias [('Otros_estom', 3), ('Trast_motilidad_estom', 2), ('Gastritis_estom', 2)]\n",
      "CIDMA pacientes sin hallazgos patológicos con áreas del tracto digestivo no evaluables 1\n",
      "Otros_indica Uruguay hallazgos terapeúticos más frecuentes [('Diverticulo_col', 2), ('Pólipo_estom', 1), ('Pólipo_yey', 1)]\n",
      "Otros_indica Uruguay hallazgos pruebas complementarias más frecuentes [('Erosiones_yey', 1), ('Erosiones_col', 1)]\n",
      "Uruguay pacientes sin hallazgos patológicos con áreas del tracto digestivo no evaluables 1\n"
     ]
    }
   ],
   "source": [
    "#Aplico la función en todas las indicaciones\n",
    "for e in indicacion:\n",
    "    a,b,c,d,e,f,g=porcentajes(e)\n",
    "    display(a)\n",
    "    print(b)\n",
    "    print(c)\n",
    "    print(d)\n",
    "    print(e)\n",
    "    print(f)\n",
    "    print(g)\n",
    "    "
   ]
  },
  {
   "cell_type": "markdown",
   "metadata": {},
   "source": [
    "# Cribado de cáncer colorrectal\n",
    "\n",
    "Al ser una índicación tan dirigida, decido cambiar el analisis para resaltar las variables que indicarián el hallazgo de dicho cáncer"
   ]
  },
  {
   "cell_type": "code",
   "execution_count": 445,
   "metadata": {},
   "outputs": [],
   "source": [
    "cribado=['Pólipo_col',\n",
    " 'Pólipo_C_drch',\n",
    " 'Pólipo_C_asce',\n",
    " 'Pólipo_C_trans',\n",
    " 'Pólipo_C_izq',\n",
    " 'Pólipo_C_desc',\n",
    " 'Pólipo_ciego',\n",
    " 'Pólipo_sig',\n",
    " 'Pólipo_recto']"
   ]
  },
  {
   "cell_type": "code",
   "execution_count": 537,
   "metadata": {
    "scrolled": false
   },
   "outputs": [
    {
     "name": "stderr",
     "output_type": "stream",
     "text": [
      "/usr/local/Cellar/ipython/7.7.0/libexec/vendor/lib/python3.7/site-packages/ipykernel_launcher.py:158: SettingWithCopyWarning: \n",
      "A value is trying to be set on a copy of a slice from a DataFrame.\n",
      "Try using .loc[row_indexer,col_indexer] = value instead\n",
      "\n",
      "See the caveats in the documentation: http://pandas.pydata.org/pandas-docs/stable/user_guide/indexing.html#returning-a-view-versus-a-copy\n",
      "/usr/local/Cellar/ipython/7.7.0/libexec/vendor/lib/python3.7/site-packages/ipykernel_launcher.py:161: SettingWithCopyWarning: \n",
      "A value is trying to be set on a copy of a slice from a DataFrame.\n",
      "Try using .loc[row_indexer,col_indexer] = value instead\n",
      "\n",
      "See the caveats in the documentation: http://pandas.pydata.org/pandas-docs/stable/user_guide/indexing.html#returning-a-view-versus-a-copy\n",
      "/usr/local/Cellar/ipython/7.7.0/libexec/vendor/lib/python3.7/site-packages/ipykernel_launcher.py:166: SettingWithCopyWarning: \n",
      "A value is trying to be set on a copy of a slice from a DataFrame.\n",
      "Try using .loc[row_indexer,col_indexer] = value instead\n",
      "\n",
      "See the caveats in the documentation: http://pandas.pydata.org/pandas-docs/stable/user_guide/indexing.html#returning-a-view-versus-a-copy\n",
      "/usr/local/Cellar/ipython/7.7.0/libexec/vendor/lib/python3.7/site-packages/ipykernel_launcher.py:169: SettingWithCopyWarning: \n",
      "A value is trying to be set on a copy of a slice from a DataFrame.\n",
      "Try using .loc[row_indexer,col_indexer] = value instead\n",
      "\n",
      "See the caveats in the documentation: http://pandas.pydata.org/pandas-docs/stable/user_guide/indexing.html#returning-a-view-versus-a-copy\n"
     ]
    },
    {
     "data": {
      "text/html": [
       "<div>\n",
       "<style scoped>\n",
       "    .dataframe tbody tr th:only-of-type {\n",
       "        vertical-align: middle;\n",
       "    }\n",
       "\n",
       "    .dataframe tbody tr th {\n",
       "        vertical-align: top;\n",
       "    }\n",
       "\n",
       "    .dataframe thead th {\n",
       "        text-align: right;\n",
       "    }\n",
       "</style>\n",
       "<table border=\"1\" class=\"dataframe\">\n",
       "  <thead>\n",
       "    <tr style=\"text-align: right;\">\n",
       "      <th></th>\n",
       "      <th>Pacientes</th>\n",
       "      <th>Normal</th>\n",
       "      <th>No evaluable</th>\n",
       "      <th>Hz Pruebas</th>\n",
       "      <th>Hz Tratamiento</th>\n",
       "    </tr>\n",
       "  </thead>\n",
       "  <tbody>\n",
       "    <tr>\n",
       "      <th>Cidma</th>\n",
       "      <td>9</td>\n",
       "      <td>[0, 0.0 %]</td>\n",
       "      <td>[0, 0.0 %]</td>\n",
       "      <td>[4, 44.44 %]</td>\n",
       "      <td>[9, 100.0 %]</td>\n",
       "    </tr>\n",
       "    <tr>\n",
       "      <th>Uruguay</th>\n",
       "      <td>49</td>\n",
       "      <td>[10, 20.41 %]</td>\n",
       "      <td>[8, 16.33 %]</td>\n",
       "      <td>[7, 14.29 %]</td>\n",
       "      <td>[35, 71.43 %]</td>\n",
       "    </tr>\n",
       "  </tbody>\n",
       "</table>\n",
       "</div>"
      ],
      "text/plain": [
       "         Pacientes         Normal  No evaluable    Hz Pruebas Hz Tratamiento\n",
       "Cidma            9     [0, 0.0 %]    [0, 0.0 %]  [4, 44.44 %]   [9, 100.0 %]\n",
       "Uruguay         49  [10, 20.41 %]  [8, 16.33 %]  [7, 14.29 %]  [35, 71.43 %]"
      ]
     },
     "execution_count": 537,
     "metadata": {},
     "output_type": "execute_result"
    }
   ],
   "source": [
    "a,b,c,d,e,f,g=porcentajes(\"Cribado\")\n",
    "a"
   ]
  },
  {
   "cell_type": "code",
   "execution_count": 456,
   "metadata": {},
   "outputs": [],
   "source": [
    "cidma_cribado = datos[(datos['Médico']==0) & \n",
    "                (datos['Cribado']==1)]"
   ]
  },
  {
   "cell_type": "code",
   "execution_count": 488,
   "metadata": {},
   "outputs": [
    {
     "data": {
      "text/plain": [
       "3"
      ]
     },
     "execution_count": 488,
     "metadata": {},
     "output_type": "execute_result"
    }
   ],
   "source": [
    "#Pacientes de cidma con indicación de cribado con hallazgos de pólipos\n",
    "len(cidma_cribado[cidma_cribado[\"Pólipo_col\"]==1])"
   ]
  },
  {
   "cell_type": "code",
   "execution_count": 503,
   "metadata": {},
   "outputs": [],
   "source": [
    "cidma_polipo=cidma_cribado[cidma_cribado[\"Pólipo_col\"]==1]"
   ]
  },
  {
   "cell_type": "code",
   "execution_count": 504,
   "metadata": {
    "scrolled": true
   },
   "outputs": [
    {
     "data": {
      "text/html": [
       "<div>\n",
       "<style scoped>\n",
       "    .dataframe tbody tr th:only-of-type {\n",
       "        vertical-align: middle;\n",
       "    }\n",
       "\n",
       "    .dataframe tbody tr th {\n",
       "        vertical-align: top;\n",
       "    }\n",
       "\n",
       "    .dataframe thead th {\n",
       "        text-align: right;\n",
       "    }\n",
       "</style>\n",
       "<table border=\"1\" class=\"dataframe\">\n",
       "  <thead>\n",
       "    <tr style=\"text-align: right;\">\n",
       "      <th></th>\n",
       "      <th>Pólipo_col</th>\n",
       "      <th>Pólipo_C_drch</th>\n",
       "      <th>Pólipo_C_asce</th>\n",
       "      <th>Pólipo_C_trans</th>\n",
       "      <th>Pólipo_C_izq</th>\n",
       "      <th>Pólipo_C_desc</th>\n",
       "      <th>Pólipo_ciego</th>\n",
       "      <th>Pólipo_sig</th>\n",
       "      <th>Pólipo_recto</th>\n",
       "    </tr>\n",
       "  </thead>\n",
       "  <tbody>\n",
       "  </tbody>\n",
       "</table>\n",
       "</div>"
      ],
      "text/plain": [
       "Empty DataFrame\n",
       "Columns: [Pólipo_col, Pólipo_C_drch, Pólipo_C_asce, Pólipo_C_trans, Pólipo_C_izq, Pólipo_C_desc, Pólipo_ciego, Pólipo_sig, Pólipo_recto]\n",
       "Index: []"
      ]
     },
     "execution_count": 504,
     "metadata": {},
     "output_type": "execute_result"
    }
   ],
   "source": [
    "#De esos pacientes con pólipos, número con zonas del tracto digestivo no evaluable\n",
    "no_evaluable_polipo_cidma=cidma_polipo[(cidma_polipo['No_evaluable_esof']==1) | (cidma_polipo[\"No_evaluable_estom\"]==1)\n",
    "       | (cidma_polipo['No_evaluable_del']==1) | (cidma_polipo['No_evaluable_col']==1)]\n",
    "no_evaluable_polipo_cidma[cribado]"
   ]
  },
  {
   "cell_type": "markdown",
   "metadata": {},
   "source": [
    "Creo la variable no informado, que agrupa todas las columnas que reflejan ausencia de datos en el informe sobre las\n",
    "distintas zonas gastrointestinales."
   ]
  },
  {
   "cell_type": "code",
   "execution_count": 513,
   "metadata": {},
   "outputs": [],
   "source": [
    "no_informado=['No_informado_esof','No_informado_estom','No_informado_del','No_informado_col']"
   ]
  },
  {
   "cell_type": "code",
   "execution_count": 511,
   "metadata": {},
   "outputs": [
    {
     "data": {
      "text/html": [
       "<div>\n",
       "<style scoped>\n",
       "    .dataframe tbody tr th:only-of-type {\n",
       "        vertical-align: middle;\n",
       "    }\n",
       "\n",
       "    .dataframe tbody tr th {\n",
       "        vertical-align: top;\n",
       "    }\n",
       "\n",
       "    .dataframe thead th {\n",
       "        text-align: right;\n",
       "    }\n",
       "</style>\n",
       "<table border=\"1\" class=\"dataframe\">\n",
       "  <thead>\n",
       "    <tr style=\"text-align: right;\">\n",
       "      <th></th>\n",
       "      <th>No_informado_esof</th>\n",
       "      <th>No_informado_estom</th>\n",
       "      <th>No_informado_del</th>\n",
       "      <th>No_informado_col</th>\n",
       "    </tr>\n",
       "  </thead>\n",
       "  <tbody>\n",
       "    <tr>\n",
       "      <th>92</th>\n",
       "      <td>0</td>\n",
       "      <td>0</td>\n",
       "      <td>0</td>\n",
       "      <td>0</td>\n",
       "    </tr>\n",
       "    <tr>\n",
       "      <th>104</th>\n",
       "      <td>0</td>\n",
       "      <td>0</td>\n",
       "      <td>0</td>\n",
       "      <td>0</td>\n",
       "    </tr>\n",
       "    <tr>\n",
       "      <th>204</th>\n",
       "      <td>0</td>\n",
       "      <td>0</td>\n",
       "      <td>0</td>\n",
       "      <td>0</td>\n",
       "    </tr>\n",
       "  </tbody>\n",
       "</table>\n",
       "</div>"
      ],
      "text/plain": [
       "     No_informado_esof  No_informado_estom  No_informado_del No_informado_col\n",
       "92                   0                   0                 0                0\n",
       "104                  0                   0                 0                0\n",
       "204                  0                   0                 0                0"
      ]
     },
     "execution_count": 511,
     "metadata": {},
     "output_type": "execute_result"
    }
   ],
   "source": [
    "#De esos mismos pacientes, cuales son los que tienen alguna zona GI sin informar\n",
    "cidma_polipo[no_informado]"
   ]
  },
  {
   "cell_type": "code",
   "execution_count": 460,
   "metadata": {},
   "outputs": [],
   "source": [
    "uruguay_cribado = datos[(datos['Médico']==1) & \n",
    "                (datos['Cribado']==1)]"
   ]
  },
  {
   "cell_type": "code",
   "execution_count": 487,
   "metadata": {},
   "outputs": [
    {
     "data": {
      "text/plain": [
       "13"
      ]
     },
     "execution_count": 487,
     "metadata": {},
     "output_type": "execute_result"
    }
   ],
   "source": [
    "#Pacientes del hospital Italiano con indicación de cribado con hallazgos de pólipos\n",
    "len(uruguay_cribado[uruguay_cribado[\"Pólipo_col\"]==1])"
   ]
  },
  {
   "cell_type": "code",
   "execution_count": 505,
   "metadata": {},
   "outputs": [],
   "source": [
    "uruguay_polipo=uruguay_cribado[uruguay_cribado[\"Pólipo_col\"]==1]"
   ]
  },
  {
   "cell_type": "code",
   "execution_count": 506,
   "metadata": {},
   "outputs": [
    {
     "data": {
      "text/html": [
       "<div>\n",
       "<style scoped>\n",
       "    .dataframe tbody tr th:only-of-type {\n",
       "        vertical-align: middle;\n",
       "    }\n",
       "\n",
       "    .dataframe tbody tr th {\n",
       "        vertical-align: top;\n",
       "    }\n",
       "\n",
       "    .dataframe thead th {\n",
       "        text-align: right;\n",
       "    }\n",
       "</style>\n",
       "<table border=\"1\" class=\"dataframe\">\n",
       "  <thead>\n",
       "    <tr style=\"text-align: right;\">\n",
       "      <th></th>\n",
       "      <th>No_evaluable_esof</th>\n",
       "      <th>No_evaluable_estom</th>\n",
       "      <th>No_evaluable_del</th>\n",
       "      <th>No_evaluable_col</th>\n",
       "    </tr>\n",
       "  </thead>\n",
       "  <tbody>\n",
       "  </tbody>\n",
       "</table>\n",
       "</div>"
      ],
      "text/plain": [
       "Empty DataFrame\n",
       "Columns: [No_evaluable_esof, No_evaluable_estom, No_evaluable_del, No_evaluable_col]\n",
       "Index: []"
      ]
     },
     "execution_count": 506,
     "metadata": {},
     "output_type": "execute_result"
    }
   ],
   "source": [
    "#De esos pacientes con pólipos, número con zonas del tracto digestivo no evaluable.\n",
    "no_evaluable_polipo_uru=uruguay_polipo[(uruguay_polipo['No_evaluable_esof']==1) | (uruguay_polipo[\"No_evaluable_estom\"]==1)\n",
    "       | (uruguay_polipo['No_evaluable_del']==1) | (uruguay_polipo['No_evaluable_col']==1)]\n",
    "no_evaluable_polipo_uru[no_evaluable]"
   ]
  },
  {
   "cell_type": "code",
   "execution_count": 514,
   "metadata": {},
   "outputs": [
    {
     "data": {
      "text/html": [
       "<div>\n",
       "<style scoped>\n",
       "    .dataframe tbody tr th:only-of-type {\n",
       "        vertical-align: middle;\n",
       "    }\n",
       "\n",
       "    .dataframe tbody tr th {\n",
       "        vertical-align: top;\n",
       "    }\n",
       "\n",
       "    .dataframe thead th {\n",
       "        text-align: right;\n",
       "    }\n",
       "</style>\n",
       "<table border=\"1\" class=\"dataframe\">\n",
       "  <thead>\n",
       "    <tr style=\"text-align: right;\">\n",
       "      <th></th>\n",
       "      <th>No_informado_esof</th>\n",
       "      <th>No_informado_estom</th>\n",
       "      <th>No_informado_del</th>\n",
       "      <th>No_informado_col</th>\n",
       "    </tr>\n",
       "  </thead>\n",
       "  <tbody>\n",
       "    <tr>\n",
       "      <th>12</th>\n",
       "      <td>1</td>\n",
       "      <td>1</td>\n",
       "      <td>1</td>\n",
       "      <td>0</td>\n",
       "    </tr>\n",
       "    <tr>\n",
       "      <th>19</th>\n",
       "      <td>1</td>\n",
       "      <td>1</td>\n",
       "      <td>0</td>\n",
       "      <td>0</td>\n",
       "    </tr>\n",
       "    <tr>\n",
       "      <th>33</th>\n",
       "      <td>0</td>\n",
       "      <td>1</td>\n",
       "      <td>0</td>\n",
       "      <td>0</td>\n",
       "    </tr>\n",
       "    <tr>\n",
       "      <th>64</th>\n",
       "      <td>1</td>\n",
       "      <td>1</td>\n",
       "      <td>0</td>\n",
       "      <td>0</td>\n",
       "    </tr>\n",
       "    <tr>\n",
       "      <th>76</th>\n",
       "      <td>1</td>\n",
       "      <td>1</td>\n",
       "      <td>0</td>\n",
       "      <td>0</td>\n",
       "    </tr>\n",
       "    <tr>\n",
       "      <th>83</th>\n",
       "      <td>0</td>\n",
       "      <td>1</td>\n",
       "      <td>0</td>\n",
       "      <td>0</td>\n",
       "    </tr>\n",
       "    <tr>\n",
       "      <th>97</th>\n",
       "      <td>0</td>\n",
       "      <td>0</td>\n",
       "      <td>0</td>\n",
       "      <td>0</td>\n",
       "    </tr>\n",
       "    <tr>\n",
       "      <th>101</th>\n",
       "      <td>0</td>\n",
       "      <td>1</td>\n",
       "      <td>0</td>\n",
       "      <td>0</td>\n",
       "    </tr>\n",
       "    <tr>\n",
       "      <th>151</th>\n",
       "      <td>0</td>\n",
       "      <td>0</td>\n",
       "      <td>0</td>\n",
       "      <td>0</td>\n",
       "    </tr>\n",
       "    <tr>\n",
       "      <th>221</th>\n",
       "      <td>1</td>\n",
       "      <td>1</td>\n",
       "      <td>0</td>\n",
       "      <td>0</td>\n",
       "    </tr>\n",
       "    <tr>\n",
       "      <th>230</th>\n",
       "      <td>0</td>\n",
       "      <td>0</td>\n",
       "      <td>0</td>\n",
       "      <td>0</td>\n",
       "    </tr>\n",
       "    <tr>\n",
       "      <th>234</th>\n",
       "      <td>0</td>\n",
       "      <td>1</td>\n",
       "      <td>0</td>\n",
       "      <td>0</td>\n",
       "    </tr>\n",
       "    <tr>\n",
       "      <th>239</th>\n",
       "      <td>1</td>\n",
       "      <td>1</td>\n",
       "      <td>0</td>\n",
       "      <td>0</td>\n",
       "    </tr>\n",
       "  </tbody>\n",
       "</table>\n",
       "</div>"
      ],
      "text/plain": [
       "     No_informado_esof  No_informado_estom  No_informado_del No_informado_col\n",
       "12                   1                   1                 1                0\n",
       "19                   1                   1                 0                0\n",
       "33                   0                   1                 0                0\n",
       "64                   1                   1                 0                0\n",
       "76                   1                   1                 0                0\n",
       "83                   0                   1                 0                0\n",
       "97                   0                   0                 0                0\n",
       "101                  0                   1                 0                0\n",
       "151                  0                   0                 0                0\n",
       "221                  1                   1                 0                0\n",
       "230                  0                   0                 0                0\n",
       "234                  0                   1                 0                0\n",
       "239                  1                   1                 0                0"
      ]
     },
     "execution_count": 514,
     "metadata": {},
     "output_type": "execute_result"
    }
   ],
   "source": [
    "#De esos mismos pacientes, cuales son los que tienen alguna zona GI sin informar\n",
    "uruguay_polipo[no_informado]"
   ]
  },
  {
   "cell_type": "code",
   "execution_count": 541,
   "metadata": {},
   "outputs": [
    {
     "data": {
      "text/html": [
       "<div>\n",
       "<style scoped>\n",
       "    .dataframe tbody tr th:only-of-type {\n",
       "        vertical-align: middle;\n",
       "    }\n",
       "\n",
       "    .dataframe tbody tr th {\n",
       "        vertical-align: top;\n",
       "    }\n",
       "\n",
       "    .dataframe thead th {\n",
       "        text-align: right;\n",
       "    }\n",
       "</style>\n",
       "<table border=\"1\" class=\"dataframe\">\n",
       "  <thead>\n",
       "    <tr style=\"text-align: right;\">\n",
       "      <th></th>\n",
       "      <th>Pacientes</th>\n",
       "      <th>Normal</th>\n",
       "      <th>No evaluable</th>\n",
       "      <th>Hz Pruebas</th>\n",
       "      <th>Hz Tratamiento</th>\n",
       "      <th>Pólipos colón</th>\n",
       "    </tr>\n",
       "  </thead>\n",
       "  <tbody>\n",
       "    <tr>\n",
       "      <th>Cidma</th>\n",
       "      <td>9</td>\n",
       "      <td>[0, 0.0 %]</td>\n",
       "      <td>[0, 0.0 %]</td>\n",
       "      <td>[4, 44.44 %]</td>\n",
       "      <td>[9, 100.0 %]</td>\n",
       "      <td>[3, 33 %]</td>\n",
       "    </tr>\n",
       "    <tr>\n",
       "      <th>Uruguay</th>\n",
       "      <td>49</td>\n",
       "      <td>[10, 20.41 %]</td>\n",
       "      <td>[8, 16.33 %]</td>\n",
       "      <td>[7, 14.29 %]</td>\n",
       "      <td>[35, 71.43 %]</td>\n",
       "      <td>[13, 26 %]</td>\n",
       "    </tr>\n",
       "  </tbody>\n",
       "</table>\n",
       "</div>"
      ],
      "text/plain": [
       "         Pacientes         Normal  No evaluable    Hz Pruebas Hz Tratamiento  \\\n",
       "Cidma            9     [0, 0.0 %]    [0, 0.0 %]  [4, 44.44 %]   [9, 100.0 %]   \n",
       "Uruguay         49  [10, 20.41 %]  [8, 16.33 %]  [7, 14.29 %]  [35, 71.43 %]   \n",
       "\n",
       "        Pólipos colón  \n",
       "Cidma       [3, 33 %]  \n",
       "Uruguay    [13, 26 %]  "
      ]
     },
     "execution_count": 541,
     "metadata": {},
     "output_type": "execute_result"
    }
   ],
   "source": [
    "a[\"Pólipos colón\"]=[[3,(str((3*100//9))+\" %\")],[13,(str((13*100//49))+\" %\")]]\n",
    "a"
   ]
  },
  {
   "cell_type": "markdown",
   "metadata": {},
   "source": [
    "# <font color='blue'>Resultado cribado</font>\n",
    "\n",
    "Como se ve en la tabla resumen, a un 33% de los pacientes que venían por cribado se les detecto pólipos en el colon en CIDMA y a un 26% en el hospital Italiano. Destacando que, en ninguno de los dos centros, dichos pacientes tienen zonas GI no evaluadas. Tan solo detacar que de los 13 pacientes del hospital Italiano con pólipos, solo 2 de ellos tienen informado todo el tracto intestinal, estando el resto con varias zonas GI no informadas, destacando el estómago que no se informa en 11 pacientes. "
   ]
  },
  {
   "cell_type": "code",
   "execution_count": null,
   "metadata": {},
   "outputs": [],
   "source": []
  },
  {
   "cell_type": "code",
   "execution_count": null,
   "metadata": {},
   "outputs": [],
   "source": []
  },
  {
   "cell_type": "code",
   "execution_count": null,
   "metadata": {},
   "outputs": [],
   "source": []
  },
  {
   "cell_type": "code",
   "execution_count": null,
   "metadata": {},
   "outputs": [],
   "source": []
  },
  {
   "cell_type": "code",
   "execution_count": null,
   "metadata": {},
   "outputs": [],
   "source": []
  }
 ],
 "metadata": {
  "kernelspec": {
   "display_name": "Python 3",
   "language": "python",
   "name": "python3"
  },
  "language_info": {
   "codemirror_mode": {
    "name": "ipython",
    "version": 3
   },
   "file_extension": ".py",
   "mimetype": "text/x-python",
   "name": "python",
   "nbconvert_exporter": "python",
   "pygments_lexer": "ipython3",
   "version": "3.7.4"
  }
 },
 "nbformat": 4,
 "nbformat_minor": 2
}
